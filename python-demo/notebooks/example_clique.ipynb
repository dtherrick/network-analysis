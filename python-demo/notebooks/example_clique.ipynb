{
 "cells": [
  {
   "cell_type": "code",
   "execution_count": 1,
   "source": [
    "import os\n",
    "\n",
    "import swat\n",
    "import pandas as pd\n",
    "\n",
    "import networkx as nx\n",
    "\n",
    "from bokeh.io import output_notebook, show\n",
    "from bokeh.layouts import gridplot\n",
    "from bokeh.palettes import Blues8\n",
    "\n",
    "from python_demo.datasets.examples import clique_graph_from_links\n",
    "from python_demo.visualization.bokeh_graphs import plot_cliques, set_node_colors"
   ],
   "outputs": [],
   "metadata": {}
  },
  {
   "cell_type": "code",
   "execution_count": 2,
   "source": [
    "output_notebook()"
   ],
   "outputs": [
    {
     "output_type": "display_data",
     "data": {
      "text/html": [
       "\n",
       "    <div class=\"bk-root\">\n",
       "        <a href=\"https://bokeh.org\" target=\"_blank\" class=\"bk-logo bk-logo-small bk-logo-notebook\"></a>\n",
       "        <span id=\"1002\">Loading BokehJS ...</span>\n",
       "    </div>"
      ]
     },
     "metadata": {}
    },
    {
     "output_type": "display_data",
     "data": {
      "application/javascript": "\n(function(root) {\n  function now() {\n    return new Date();\n  }\n\n  var force = true;\n\n  if (typeof root._bokeh_onload_callbacks === \"undefined\" || force === true) {\n    root._bokeh_onload_callbacks = [];\n    root._bokeh_is_loading = undefined;\n  }\n\n  var JS_MIME_TYPE = 'application/javascript';\n  var HTML_MIME_TYPE = 'text/html';\n  var EXEC_MIME_TYPE = 'application/vnd.bokehjs_exec.v0+json';\n  var CLASS_NAME = 'output_bokeh rendered_html';\n\n  /**\n   * Render data to the DOM node\n   */\n  function render(props, node) {\n    var script = document.createElement(\"script\");\n    node.appendChild(script);\n  }\n\n  /**\n   * Handle when an output is cleared or removed\n   */\n  function handleClearOutput(event, handle) {\n    var cell = handle.cell;\n\n    var id = cell.output_area._bokeh_element_id;\n    var server_id = cell.output_area._bokeh_server_id;\n    // Clean up Bokeh references\n    if (id != null && id in Bokeh.index) {\n      Bokeh.index[id].model.document.clear();\n      delete Bokeh.index[id];\n    }\n\n    if (server_id !== undefined) {\n      // Clean up Bokeh references\n      var cmd = \"from bokeh.io.state import curstate; print(curstate().uuid_to_server['\" + server_id + \"'].get_sessions()[0].document.roots[0]._id)\";\n      cell.notebook.kernel.execute(cmd, {\n        iopub: {\n          output: function(msg) {\n            var id = msg.content.text.trim();\n            if (id in Bokeh.index) {\n              Bokeh.index[id].model.document.clear();\n              delete Bokeh.index[id];\n            }\n          }\n        }\n      });\n      // Destroy server and session\n      var cmd = \"import bokeh.io.notebook as ion; ion.destroy_server('\" + server_id + \"')\";\n      cell.notebook.kernel.execute(cmd);\n    }\n  }\n\n  /**\n   * Handle when a new output is added\n   */\n  function handleAddOutput(event, handle) {\n    var output_area = handle.output_area;\n    var output = handle.output;\n\n    // limit handleAddOutput to display_data with EXEC_MIME_TYPE content only\n    if ((output.output_type != \"display_data\") || (!Object.prototype.hasOwnProperty.call(output.data, EXEC_MIME_TYPE))) {\n      return\n    }\n\n    var toinsert = output_area.element.find(\".\" + CLASS_NAME.split(' ')[0]);\n\n    if (output.metadata[EXEC_MIME_TYPE][\"id\"] !== undefined) {\n      toinsert[toinsert.length - 1].firstChild.textContent = output.data[JS_MIME_TYPE];\n      // store reference to embed id on output_area\n      output_area._bokeh_element_id = output.metadata[EXEC_MIME_TYPE][\"id\"];\n    }\n    if (output.metadata[EXEC_MIME_TYPE][\"server_id\"] !== undefined) {\n      var bk_div = document.createElement(\"div\");\n      bk_div.innerHTML = output.data[HTML_MIME_TYPE];\n      var script_attrs = bk_div.children[0].attributes;\n      for (var i = 0; i < script_attrs.length; i++) {\n        toinsert[toinsert.length - 1].firstChild.setAttribute(script_attrs[i].name, script_attrs[i].value);\n        toinsert[toinsert.length - 1].firstChild.textContent = bk_div.children[0].textContent\n      }\n      // store reference to server id on output_area\n      output_area._bokeh_server_id = output.metadata[EXEC_MIME_TYPE][\"server_id\"];\n    }\n  }\n\n  function register_renderer(events, OutputArea) {\n\n    function append_mime(data, metadata, element) {\n      // create a DOM node to render to\n      var toinsert = this.create_output_subarea(\n        metadata,\n        CLASS_NAME,\n        EXEC_MIME_TYPE\n      );\n      this.keyboard_manager.register_events(toinsert);\n      // Render to node\n      var props = {data: data, metadata: metadata[EXEC_MIME_TYPE]};\n      render(props, toinsert[toinsert.length - 1]);\n      element.append(toinsert);\n      return toinsert\n    }\n\n    /* Handle when an output is cleared or removed */\n    events.on('clear_output.CodeCell', handleClearOutput);\n    events.on('delete.Cell', handleClearOutput);\n\n    /* Handle when a new output is added */\n    events.on('output_added.OutputArea', handleAddOutput);\n\n    /**\n     * Register the mime type and append_mime function with output_area\n     */\n    OutputArea.prototype.register_mime_type(EXEC_MIME_TYPE, append_mime, {\n      /* Is output safe? */\n      safe: true,\n      /* Index of renderer in `output_area.display_order` */\n      index: 0\n    });\n  }\n\n  // register the mime type if in Jupyter Notebook environment and previously unregistered\n  if (root.Jupyter !== undefined) {\n    var events = require('base/js/events');\n    var OutputArea = require('notebook/js/outputarea').OutputArea;\n\n    if (OutputArea.prototype.mime_types().indexOf(EXEC_MIME_TYPE) == -1) {\n      register_renderer(events, OutputArea);\n    }\n  }\n\n  \n  if (typeof (root._bokeh_timeout) === \"undefined\" || force === true) {\n    root._bokeh_timeout = Date.now() + 5000;\n    root._bokeh_failed_load = false;\n  }\n\n  var NB_LOAD_WARNING = {'data': {'text/html':\n     \"<div style='background-color: #fdd'>\\n\"+\n     \"<p>\\n\"+\n     \"BokehJS does not appear to have successfully loaded. If loading BokehJS from CDN, this \\n\"+\n     \"may be due to a slow or bad network connection. Possible fixes:\\n\"+\n     \"</p>\\n\"+\n     \"<ul>\\n\"+\n     \"<li>re-rerun `output_notebook()` to attempt to load from CDN again, or</li>\\n\"+\n     \"<li>use INLINE resources instead, as so:</li>\\n\"+\n     \"</ul>\\n\"+\n     \"<code>\\n\"+\n     \"from bokeh.resources import INLINE\\n\"+\n     \"output_notebook(resources=INLINE)\\n\"+\n     \"</code>\\n\"+\n     \"</div>\"}};\n\n  function display_loaded() {\n    var el = document.getElementById(\"1002\");\n    if (el != null) {\n      el.textContent = \"BokehJS is loading...\";\n    }\n    if (root.Bokeh !== undefined) {\n      if (el != null) {\n        el.textContent = \"BokehJS \" + root.Bokeh.version + \" successfully loaded.\";\n      }\n    } else if (Date.now() < root._bokeh_timeout) {\n      setTimeout(display_loaded, 100)\n    }\n  }\n\n\n  function run_callbacks() {\n    try {\n      root._bokeh_onload_callbacks.forEach(function(callback) {\n        if (callback != null)\n          callback();\n      });\n    } finally {\n      delete root._bokeh_onload_callbacks\n    }\n    console.debug(\"Bokeh: all callbacks have finished\");\n  }\n\n  function load_libs(css_urls, js_urls, callback) {\n    if (css_urls == null) css_urls = [];\n    if (js_urls == null) js_urls = [];\n\n    root._bokeh_onload_callbacks.push(callback);\n    if (root._bokeh_is_loading > 0) {\n      console.debug(\"Bokeh: BokehJS is being loaded, scheduling callback at\", now());\n      return null;\n    }\n    if (js_urls == null || js_urls.length === 0) {\n      run_callbacks();\n      return null;\n    }\n    console.debug(\"Bokeh: BokehJS not loaded, scheduling load and callback at\", now());\n    root._bokeh_is_loading = css_urls.length + js_urls.length;\n\n    function on_load() {\n      root._bokeh_is_loading--;\n      if (root._bokeh_is_loading === 0) {\n        console.debug(\"Bokeh: all BokehJS libraries/stylesheets loaded\");\n        run_callbacks()\n      }\n    }\n\n    function on_error(url) {\n      console.error(\"failed to load \" + url);\n    }\n\n    for (let i = 0; i < css_urls.length; i++) {\n      const url = css_urls[i];\n      const element = document.createElement(\"link\");\n      element.onload = on_load;\n      element.onerror = on_error.bind(null, url);\n      element.rel = \"stylesheet\";\n      element.type = \"text/css\";\n      element.href = url;\n      console.debug(\"Bokeh: injecting link tag for BokehJS stylesheet: \", url);\n      document.body.appendChild(element);\n    }\n\n    const hashes = {\"https://cdn.bokeh.org/bokeh/release/bokeh-2.3.3.min.js\": \"dM3QQsP+wXdHg42wTqW85BjZQdLNNIXqlPw/BgKoExPmTG7ZLML4EGqLMfqHT6ON\", \"https://cdn.bokeh.org/bokeh/release/bokeh-tables-2.3.3.min.js\": \"8x57I4YuIfu8XyZfFo0XVr2WAT8EK4rh/uDe3wF7YuW2FNUSNEpJbsPaB1nJ2fz2\", \"https://cdn.bokeh.org/bokeh/release/bokeh-widgets-2.3.3.min.js\": \"3QTqdz9LyAm2i0sG5XTePsHec3UHWwVsrOL68SYRoAXsafvfAyqtQ+h440+qIBhS\"};\n\n    for (let i = 0; i < js_urls.length; i++) {\n      const url = js_urls[i];\n      const element = document.createElement('script');\n      element.onload = on_load;\n      element.onerror = on_error.bind(null, url);\n      element.async = false;\n      element.src = url;\n      if (url in hashes) {\n        element.crossOrigin = \"anonymous\";\n        element.integrity = \"sha384-\" + hashes[url];\n      }\n      console.debug(\"Bokeh: injecting script tag for BokehJS library: \", url);\n      document.head.appendChild(element);\n    }\n  };\n\n  function inject_raw_css(css) {\n    const element = document.createElement(\"style\");\n    element.appendChild(document.createTextNode(css));\n    document.body.appendChild(element);\n  }\n\n  \n  var js_urls = [\"https://cdn.bokeh.org/bokeh/release/bokeh-2.3.3.min.js\", \"https://cdn.bokeh.org/bokeh/release/bokeh-widgets-2.3.3.min.js\", \"https://cdn.bokeh.org/bokeh/release/bokeh-tables-2.3.3.min.js\"];\n  var css_urls = [];\n  \n\n  var inline_js = [\n    function(Bokeh) {\n      Bokeh.set_log_level(\"info\");\n    },\n    function(Bokeh) {\n    \n    \n    }\n  ];\n\n  function run_inline_js() {\n    \n    if (root.Bokeh !== undefined || force === true) {\n      \n    for (var i = 0; i < inline_js.length; i++) {\n      inline_js[i].call(root, root.Bokeh);\n    }\n    if (force === true) {\n        display_loaded();\n      }} else if (Date.now() < root._bokeh_timeout) {\n      setTimeout(run_inline_js, 100);\n    } else if (!root._bokeh_failed_load) {\n      console.log(\"Bokeh: BokehJS failed to load within specified timeout.\");\n      root._bokeh_failed_load = true;\n    } else if (force !== true) {\n      var cell = $(document.getElementById(\"1002\")).parents('.cell').data().cell;\n      cell.output_area.append_execute_result(NB_LOAD_WARNING)\n    }\n\n  }\n\n  if (root._bokeh_is_loading === 0) {\n    console.debug(\"Bokeh: BokehJS loaded, going straight to plotting\");\n    run_inline_js();\n  } else {\n    load_libs(css_urls, js_urls, function() {\n      console.debug(\"Bokeh: BokehJS plotting callback run at\", now());\n      run_inline_js();\n    });\n  }\n}(window));",
      "application/vnd.bokehjs_load.v0+json": ""
     },
     "metadata": {}
    }
   ],
   "metadata": {}
  },
  {
   "cell_type": "code",
   "execution_count": 3,
   "source": [
    "host = os.environ['CAS_HOST']\n",
    "port = int(os.environ['CAS_PORT'])\n",
    "print(f\"{host}:{port}\")"
   ],
   "outputs": [
    {
     "output_type": "stream",
     "name": "stdout",
     "text": [
      "rdcgrd113.unx.sas.com:23404\n"
     ]
    }
   ],
   "metadata": {}
  },
  {
   "cell_type": "code",
   "execution_count": 4,
   "source": [
    "dfLinkSetIn = clique_graph_from_links()"
   ],
   "outputs": [],
   "metadata": {}
  },
  {
   "cell_type": "code",
   "execution_count": 5,
   "source": [
    "conn = swat.CAS(host, port)"
   ],
   "outputs": [],
   "metadata": {}
  },
  {
   "cell_type": "code",
   "execution_count": 6,
   "source": [
    "_ = conn.loadactionset('network')\n",
    "_ = conn.loadactionset('fedsql')"
   ],
   "outputs": [
    {
     "output_type": "stream",
     "name": "stdout",
     "text": [
      "NOTE: Added action set 'network'.\n",
      "NOTE: Added action set 'fedsql'.\n"
     ]
    }
   ],
   "metadata": {}
  },
  {
   "cell_type": "code",
   "execution_count": 7,
   "source": [
    "_ = conn.upload(dfLinkSetIn, casout=dict(name='LinkSetIn', caslib='CASUSER(daherr)'))"
   ],
   "outputs": [
    {
     "output_type": "stream",
     "name": "stdout",
     "text": [
      "NOTE: Cloud Analytic Services made the uploaded file available as table LINKSETIN in caslib CASUSER(daherr).\n",
      "NOTE: The table LINKSETIN has been created in caslib CASUSER(daherr) from binary data uploaded to Cloud Analytic Services.\n"
     ]
    }
   ],
   "metadata": {}
  },
  {
   "cell_type": "code",
   "execution_count": 8,
   "source": [
    "conn.network.clique(links=dict(name='LinkSetIn', \n",
    "                               caslib='CASUSER(daherr)'),\n",
    "                    outnodes=dict(name='nodeSetOut', \n",
    "                                  caslib='CASUSER(daherr)'), \n",
    "                    out=dict(name='cliques', \n",
    "                             caslib='CASUSER(daherr)'), \n",
    "                    maxcliques='ALL')"
   ],
   "outputs": [
    {
     "output_type": "stream",
     "name": "stdout",
     "text": [
      "NOTE: The number of nodes in the input graph is 10.\n",
      "NOTE: The number of links in the input graph is 19.\n",
      "NOTE: Processing clique enumeration using 32 threads across 1 machines.\n",
      "NOTE: The algorithm found 4 maximal cliques.\n",
      "NOTE: Processing clique enumeration used 0.00 (cpu: 0.01) seconds.\n"
     ]
    },
    {
     "output_type": "execute_result",
     "data": {
      "text/plain": [
       "[OutputCasTables]\n",
       "\n",
       "             casLib        Name Label  Rows  Columns                                          casTable\n",
       " 0  CASUSER(daherr)  nodeSetOut          10        1  CASTable('nodeSetOut', caslib='CASUSER(daherr)')\n",
       " 1  CASUSER(daherr)     cliques          14        2     CASTable('cliques', caslib='CASUSER(daherr)')\n",
       "\n",
       "[ProblemSummary]\n",
       "\n",
       " Problem Summary\n",
       " \n",
       "             Name1           Label1       cValue1  nValue1\n",
       " 0        numNodes  Number of Nodes            10     10.0\n",
       " 1        numLinks  Number of Links            19     19.0\n",
       " 2  graphDirection  Graph Direction    Undirected      NaN\n",
       "\n",
       "[SolutionSummary]\n",
       "\n",
       " Solution Summary\n",
       " \n",
       "          Name1             Label1       cValue1   nValue1\n",
       " 0  problemType       Problem Type        Clique       NaN\n",
       " 1       status    Solution Status            OK       NaN\n",
       " 2   numCliques  Number of Cliques             4  4.000000\n",
       " 3      cpuTime           CPU Time          0.01  0.010000\n",
       " 4     realTime          Real Time          0.00  0.003351\n",
       "\n",
       "[numCliques]\n",
       "\n",
       " 4\n",
       "\n",
       "[solutionStatus]\n",
       "\n",
       " 'OK'\n",
       "\n",
       "[solutionStatusCode]\n",
       "\n",
       " 0\n",
       "\n",
       "+ Elapsed: 0.00875s, user: 0.006s, sys: 0.014s, mem: 47.7mb"
      ],
      "text/html": [
       "<div class=\"cas-results-key\"><b>&#167; OutputCasTables</b></div>\n",
       "<div class=\"cas-results-body\">\n",
       "<div>\n",
       "<style scoped>\n",
       "    .dataframe tbody tr th:only-of-type {\n",
       "        vertical-align: middle;\n",
       "    }\n",
       "\n",
       "    .dataframe tbody tr th {\n",
       "        vertical-align: top;\n",
       "    }\n",
       "\n",
       "    .dataframe thead th {\n",
       "        text-align: right;\n",
       "    }\n",
       "</style>\n",
       "<table border=\"1\" class=\"dataframe\">\n",
       "  <thead>\n",
       "    <tr style=\"text-align: right;\">\n",
       "      <th title=\"\"></th>\n",
       "      <th title=\"CAS Library\">casLib</th>\n",
       "      <th title=\"Name\">Name</th>\n",
       "      <th title=\"Label\">Label</th>\n",
       "      <th title=\"Number of Rows\">Rows</th>\n",
       "      <th title=\"Number of Columns\">Columns</th>\n",
       "      <th title=\"Table\">casTable</th>\n",
       "    </tr>\n",
       "  </thead>\n",
       "  <tbody>\n",
       "    <tr>\n",
       "      <td>0</td>\n",
       "      <td>CASUSER(daherr)</td>\n",
       "      <td>nodeSetOut</td>\n",
       "      <td></td>\n",
       "      <td>10</td>\n",
       "      <td>1</td>\n",
       "      <td>CASTable('nodeSetOut', caslib='CASUSER(daherr)')</td>\n",
       "    </tr>\n",
       "    <tr>\n",
       "      <td>1</td>\n",
       "      <td>CASUSER(daherr)</td>\n",
       "      <td>cliques</td>\n",
       "      <td></td>\n",
       "      <td>14</td>\n",
       "      <td>2</td>\n",
       "      <td>CASTable('cliques', caslib='CASUSER(daherr)')</td>\n",
       "    </tr>\n",
       "  </tbody>\n",
       "</table>\n",
       "</div>\n",
       "</div>\n",
       "<div class=\"cas-results-key\"><hr/><b>&#167; ProblemSummary</b></div>\n",
       "<div class=\"cas-results-body\">\n",
       "<div>\n",
       "<style scoped>\n",
       "    .dataframe tbody tr th:only-of-type {\n",
       "        vertical-align: middle;\n",
       "    }\n",
       "\n",
       "    .dataframe tbody tr th {\n",
       "        vertical-align: top;\n",
       "    }\n",
       "\n",
       "    .dataframe thead th {\n",
       "        text-align: right;\n",
       "    }\n",
       "</style>\n",
       "<table border=\"1\" class=\"dataframe\"><caption>Problem Summary</caption>\n",
       "  <thead>\n",
       "    <tr style=\"text-align: right;\">\n",
       "      <th title=\"\"></th>\n",
       "      <th title=\"Name1\">Name1</th>\n",
       "      <th title=\"Label1\">Label1</th>\n",
       "      <th title=\"cValue1\">cValue1</th>\n",
       "      <th title=\"nValue1\">nValue1</th>\n",
       "    </tr>\n",
       "  </thead>\n",
       "  <tbody>\n",
       "    <tr>\n",
       "      <td>0</td>\n",
       "      <td>numNodes</td>\n",
       "      <td>Number of Nodes</td>\n",
       "      <td>10</td>\n",
       "      <td>10.0</td>\n",
       "    </tr>\n",
       "    <tr>\n",
       "      <td>1</td>\n",
       "      <td>numLinks</td>\n",
       "      <td>Number of Links</td>\n",
       "      <td>19</td>\n",
       "      <td>19.0</td>\n",
       "    </tr>\n",
       "    <tr>\n",
       "      <td>2</td>\n",
       "      <td>graphDirection</td>\n",
       "      <td>Graph Direction</td>\n",
       "      <td>Undirected</td>\n",
       "      <td>NaN</td>\n",
       "    </tr>\n",
       "  </tbody>\n",
       "</table>\n",
       "</div>\n",
       "</div>\n",
       "<div class=\"cas-results-key\"><hr/><b>&#167; SolutionSummary</b></div>\n",
       "<div class=\"cas-results-body\">\n",
       "<div>\n",
       "<style scoped>\n",
       "    .dataframe tbody tr th:only-of-type {\n",
       "        vertical-align: middle;\n",
       "    }\n",
       "\n",
       "    .dataframe tbody tr th {\n",
       "        vertical-align: top;\n",
       "    }\n",
       "\n",
       "    .dataframe thead th {\n",
       "        text-align: right;\n",
       "    }\n",
       "</style>\n",
       "<table border=\"1\" class=\"dataframe\"><caption>Solution Summary</caption>\n",
       "  <thead>\n",
       "    <tr style=\"text-align: right;\">\n",
       "      <th title=\"\"></th>\n",
       "      <th title=\"Name1\">Name1</th>\n",
       "      <th title=\"Label1\">Label1</th>\n",
       "      <th title=\"cValue1\">cValue1</th>\n",
       "      <th title=\"nValue1\">nValue1</th>\n",
       "    </tr>\n",
       "  </thead>\n",
       "  <tbody>\n",
       "    <tr>\n",
       "      <td>0</td>\n",
       "      <td>problemType</td>\n",
       "      <td>Problem Type</td>\n",
       "      <td>Clique</td>\n",
       "      <td>NaN</td>\n",
       "    </tr>\n",
       "    <tr>\n",
       "      <td>1</td>\n",
       "      <td>status</td>\n",
       "      <td>Solution Status</td>\n",
       "      <td>OK</td>\n",
       "      <td>NaN</td>\n",
       "    </tr>\n",
       "    <tr>\n",
       "      <td>2</td>\n",
       "      <td>numCliques</td>\n",
       "      <td>Number of Cliques</td>\n",
       "      <td>4</td>\n",
       "      <td>4.000000</td>\n",
       "    </tr>\n",
       "    <tr>\n",
       "      <td>3</td>\n",
       "      <td>cpuTime</td>\n",
       "      <td>CPU Time</td>\n",
       "      <td>0.01</td>\n",
       "      <td>0.010000</td>\n",
       "    </tr>\n",
       "    <tr>\n",
       "      <td>4</td>\n",
       "      <td>realTime</td>\n",
       "      <td>Real Time</td>\n",
       "      <td>0.00</td>\n",
       "      <td>0.003351</td>\n",
       "    </tr>\n",
       "  </tbody>\n",
       "</table>\n",
       "</div>\n",
       "</div>\n",
       "<div class=\"cas-results-key\"><hr/><b>&#167; numCliques</b></div>\n",
       "<div class=\"cas-results-body\">\n",
       "<div>4</div>\n",
       "</div>\n",
       "<div class=\"cas-results-key\"><hr/><b>&#167; solutionStatus</b></div>\n",
       "<div class=\"cas-results-body\">\n",
       "<div>OK</div>\n",
       "</div>\n",
       "<div class=\"cas-results-key\"><hr/><b>&#167; solutionStatusCode</b></div>\n",
       "<div class=\"cas-results-body\">\n",
       "<div>0</div>\n",
       "</div>\n",
       "<div class=\"cas-output-area\"></div>\n",
       "<p class=\"cas-results-performance\"><small><span class=\"cas-elapsed\">elapsed 0.00875s</span> &#183; <span class=\"cas-user\">user 0.006s</span> &#183; <span class=\"cas-sys\">sys 0.014s</span> &#183; <span class=\"cas-memory\">mem 47.7MB</span></small></p>"
      ]
     },
     "metadata": {},
     "execution_count": 8
    }
   ],
   "metadata": {
    "tags": []
   }
  },
  {
   "cell_type": "code",
   "execution_count": 9,
   "source": [
    "conn.fedsql.execdirect(query=\"create table cliqueSizes as select clique, count(*) from cliques group by clique\")"
   ],
   "outputs": [
    {
     "output_type": "stream",
     "name": "stdout",
     "text": [
      "NOTE: Table CLIQUESIZES was created in caslib CASUSER(daherr) with 4 rows returned.\n"
     ]
    },
    {
     "output_type": "execute_result",
     "data": {
      "text/plain": [
       "+ Elapsed: 0.0569s, user: 0.118s, sys: 0.105s, mem: 117mb"
      ],
      "text/html": [
       "<div class=\"cas-output-area\"></div>\n",
       "<p class=\"cas-results-performance\"><small><span class=\"cas-elapsed\">elapsed 0.0569s</span> &#183; <span class=\"cas-user\">user 0.118s</span> &#183; <span class=\"cas-sys\">sys 0.105s</span> &#183; <span class=\"cas-memory\">mem 117MB</span></small></p>"
      ]
     },
     "metadata": {},
     "execution_count": 9
    }
   ],
   "metadata": {}
  },
  {
   "cell_type": "code",
   "execution_count": 10,
   "source": [
    "conn.fetch(table=dict(name='cliqueSizes', caslib='CASUSER(daherr)'))"
   ],
   "outputs": [
    {
     "output_type": "execute_result",
     "data": {
      "text/plain": [
       "[Fetch]\n",
       "\n",
       " Selected Rows from Table CLIQUESIZES\n",
       " \n",
       "    clique  COUNT\n",
       " 0     3.0      2\n",
       " 1     2.0      3\n",
       " 2     1.0      4\n",
       " 3     0.0      5\n",
       "\n",
       "+ Elapsed: 0.000774s, mem: 0.967mb"
      ],
      "text/html": [
       "<div class=\"cas-results-key\"><b>&#167; Fetch</b></div>\n",
       "<div class=\"cas-results-body\">\n",
       "<div>\n",
       "<style scoped>\n",
       "    .dataframe tbody tr th:only-of-type {\n",
       "        vertical-align: middle;\n",
       "    }\n",
       "\n",
       "    .dataframe tbody tr th {\n",
       "        vertical-align: top;\n",
       "    }\n",
       "\n",
       "    .dataframe thead th {\n",
       "        text-align: right;\n",
       "    }\n",
       "</style>\n",
       "<table border=\"1\" class=\"dataframe\"><caption>Selected Rows from Table CLIQUESIZES</caption>\n",
       "  <thead>\n",
       "    <tr style=\"text-align: right;\">\n",
       "      <th title=\"\"></th>\n",
       "      <th title=\"clique\">clique</th>\n",
       "      <th title=\"COUNT\">COUNT</th>\n",
       "    </tr>\n",
       "  </thead>\n",
       "  <tbody>\n",
       "    <tr>\n",
       "      <td>0</td>\n",
       "      <td>3.0</td>\n",
       "      <td>2</td>\n",
       "    </tr>\n",
       "    <tr>\n",
       "      <td>1</td>\n",
       "      <td>2.0</td>\n",
       "      <td>3</td>\n",
       "    </tr>\n",
       "    <tr>\n",
       "      <td>2</td>\n",
       "      <td>1.0</td>\n",
       "      <td>4</td>\n",
       "    </tr>\n",
       "    <tr>\n",
       "      <td>3</td>\n",
       "      <td>0.0</td>\n",
       "      <td>5</td>\n",
       "    </tr>\n",
       "  </tbody>\n",
       "</table>\n",
       "</div>\n",
       "</div>\n",
       "<div class=\"cas-output-area\"></div>\n",
       "<p class=\"cas-results-performance\"><small><span class=\"cas-elapsed\">elapsed 0.000774s</span> &#183; <span class=\"cas-memory\">mem 0.967MB</span></small></p>"
      ]
     },
     "metadata": {},
     "execution_count": 10
    }
   ],
   "metadata": {}
  },
  {
   "cell_type": "markdown",
   "source": [
    "We have the information we want now, so let's get the tables from CAS to our local notebook, and prep everything for plotting."
   ],
   "metadata": {}
  },
  {
   "cell_type": "code",
   "execution_count": 22,
   "source": [
    "clique_count = list(conn.CASTable('cliqueSizes').to_dict()['clique'].keys())\n",
    "print(clique_count)"
   ],
   "outputs": [
    {
     "output_type": "stream",
     "name": "stdout",
     "text": [
      "[0, 1, 2, 3]\n"
     ]
    }
   ],
   "metadata": {}
  },
  {
   "cell_type": "code",
   "execution_count": 11,
   "source": [
    "clique_list = conn.CASTable('cliques').to_dict(orient='records')"
   ],
   "outputs": [],
   "metadata": {}
  },
  {
   "cell_type": "code",
   "execution_count": 12,
   "source": [
    "G = nx.from_pandas_edgelist(dfLinkSetIn, 'from', 'to')"
   ],
   "outputs": [],
   "metadata": {}
  },
  {
   "cell_type": "code",
   "execution_count": 13,
   "source": [
    "for i in clique_list:\n",
    "    node = int(i['node'])\n",
    "    if 'clique' not in G.nodes[node]:\n",
    "        G.nodes[node]['clique'] = [int(i['clique'])]\n",
    "    else:\n",
    "        G.nodes[node]['clique'].append(int(i['clique']))"
   ],
   "outputs": [],
   "metadata": {}
  },
  {
   "cell_type": "code",
   "execution_count": 14,
   "source": [
    "#Choose a title!\n",
    "title = 'Example Cliques'\n",
    "\n",
    "#Establish which categories will appear when hovering over each node\n",
    "HOVER_TOOLTIPS = [(\"node\", \"@index\"), (\"Clique\", \"@clique\")]\n",
    "\n",
    "plot = plot_cliques(G, title, HOVER_TOOLTIPS)\n",
    "\n",
    "show(plot)\n"
   ],
   "outputs": [
    {
     "output_type": "display_data",
     "data": {
      "text/html": [
       "\n",
       "\n",
       "\n",
       "\n",
       "\n",
       "\n",
       "  <div class=\"bk-root\" id=\"434a2d3b-5142-44e2-8bf4-1e1699305f7b\" data-root-id=\"1004\"></div>\n"
      ]
     },
     "metadata": {}
    },
    {
     "output_type": "display_data",
     "data": {
      "application/vnd.bokehjs_exec.v0+json": "",
      "application/javascript": "(function(root) {\n  function embed_document(root) {\n    \n  var docs_json = {\"0e7f28a0-e1f5-47cf-8cbb-34cddf8c134c\":{\"defs\":[],\"roots\":{\"references\":[{\"attributes\":{\"renderers\":[{\"id\":\"1007\"}],\"title\":\"Example Cliques\",\"toolbar\":{\"id\":\"1040\"},\"x_range\":{\"id\":\"1003\"},\"x_scale\":{\"id\":\"1041\"},\"y_range\":{\"id\":\"1043\"},\"y_scale\":{\"id\":\"1044\"}},\"id\":\"1004\",\"type\":\"Plot\"},{\"attributes\":{\"data_source\":{\"id\":\"1009\"},\"glyph\":{\"id\":\"1017\"},\"hover_glyph\":{\"id\":\"1027\"},\"muted_glyph\":null,\"view\":{\"id\":\"1011\"}},\"id\":\"1010\",\"type\":\"GlyphRenderer\"},{\"attributes\":{\"edge_renderer\":{\"id\":\"1014\"},\"inspection_policy\":{\"id\":\"1037\"},\"layout_provider\":{\"id\":\"1016\"},\"node_renderer\":{\"id\":\"1010\"},\"selection_policy\":{\"id\":\"1053\"}},\"id\":\"1007\",\"type\":\"GraphRenderer\"},{\"attributes\":{},\"id\":\"1041\",\"type\":\"LinearScale\"},{\"attributes\":{\"line_alpha\":{\"value\":0.5},\"line_width\":{\"value\":2}},\"id\":\"1022\",\"type\":\"MultiLine\"},{\"attributes\":{\"source\":{\"id\":\"1013\"}},\"id\":\"1015\",\"type\":\"CDSView\"},{\"attributes\":{\"data\":{\"clique\":[[0,1],[0],[0,1,2],[0],[0],[1],[1],[2],[2,3],[3]],\"index\":[0,1,2,3,4,5,6,7,8,9]},\"selected\":{\"id\":\"1054\"},\"selection_policy\":{\"id\":\"1055\"}},\"id\":\"1009\",\"type\":\"ColumnDataSource\"},{\"attributes\":{\"line_color\":{\"value\":\"#abdda4\"},\"line_width\":{\"value\":4}},\"id\":\"1032\",\"type\":\"MultiLine\"},{\"attributes\":{},\"id\":\"1044\",\"type\":\"LinearScale\"},{\"attributes\":{\"end\":10.1,\"start\":-10.1},\"id\":\"1003\",\"type\":\"Range1d\"},{\"attributes\":{\"data\":{\"end\":[1,2,3,4,5,6,2,3,4,3,4,5,6,7,8,4,6,8,9],\"start\":[0,0,0,0,0,0,1,1,1,2,2,2,2,2,2,3,5,7,8]},\"selected\":{\"id\":\"1056\"},\"selection_policy\":{\"id\":\"1057\"}},\"id\":\"1013\",\"type\":\"ColumnDataSource\"},{\"attributes\":{},\"id\":\"1037\",\"type\":\"NodesAndLinkedEdges\"},{\"attributes\":{},\"id\":\"1054\",\"type\":\"Selection\"},{\"attributes\":{\"fill_color\":{\"value\":\"skyblue\"},\"size\":{\"value\":25}},\"id\":\"1017\",\"type\":\"Circle\"},{\"attributes\":{\"callback\":null,\"tooltips\":[[\"node\",\"@index\"],[\"Clique\",\"@clique\"]]},\"id\":\"1039\",\"type\":\"HoverTool\"},{\"attributes\":{},\"id\":\"1055\",\"type\":\"UnionRenderers\"},{\"attributes\":{\"fill_color\":{\"value\":\"#abdda4\"},\"size\":{\"value\":25}},\"id\":\"1027\",\"type\":\"Circle\"},{\"attributes\":{},\"id\":\"1057\",\"type\":\"UnionRenderers\"},{\"attributes\":{\"active_multi\":null,\"tools\":[{\"id\":\"1039\"}]},\"id\":\"1040\",\"type\":\"Toolbar\"},{\"attributes\":{},\"id\":\"1056\",\"type\":\"Selection\"},{\"attributes\":{\"data_source\":{\"id\":\"1013\"},\"glyph\":{\"id\":\"1022\"},\"hover_glyph\":{\"id\":\"1032\"},\"muted_glyph\":null,\"view\":{\"id\":\"1015\"}},\"id\":\"1014\",\"type\":\"GlyphRenderer\"},{\"attributes\":{},\"id\":\"1053\",\"type\":\"NodesOnly\"},{\"attributes\":{\"source\":{\"id\":\"1009\"}},\"id\":\"1011\",\"type\":\"CDSView\"},{\"attributes\":{},\"id\":\"1043\",\"type\":\"DataRange1d\"},{\"attributes\":{\"graph_layout\":{\"0\":[3.2202784760660275,-3.2413184857441366],\"1\":[-0.6069875954486629,-6.4207375049652],\"2\":[0.6077429536975013,-0.2519724333161307],\"3\":[2.025281720039353,-6.28540943408283],\"4\":[-1.4899147441095661,-4.048435735331556],\"5\":[6.973759506950758,-1.4834362839142161],\"6\":[5.685357655642722,1.3187965396748422],\"7\":[-1.2366671274497167,5.650780313532865],\"8\":[-5.178850845388427,5.388975771033328],\"9\":[-10.0,9.372757253113035]}},\"id\":\"1016\",\"type\":\"StaticLayoutProvider\"}],\"root_ids\":[\"1004\"]},\"title\":\"Bokeh Application\",\"version\":\"2.3.3\"}};\n  var render_items = [{\"docid\":\"0e7f28a0-e1f5-47cf-8cbb-34cddf8c134c\",\"root_ids\":[\"1004\"],\"roots\":{\"1004\":\"434a2d3b-5142-44e2-8bf4-1e1699305f7b\"}}];\n  root.Bokeh.embed.embed_items_notebook(docs_json, render_items);\n\n  }\n  if (root.Bokeh !== undefined) {\n    embed_document(root);\n  } else {\n    var attempts = 0;\n    var timer = setInterval(function(root) {\n      if (root.Bokeh !== undefined) {\n        clearInterval(timer);\n        embed_document(root);\n      } else {\n        attempts++;\n        if (attempts > 100) {\n          clearInterval(timer);\n          console.log(\"Bokeh: ERROR: Unable to run BokehJS code because BokehJS library is missing\");\n        }\n      }\n    }, 10, root)\n  }\n})(window);"
     },
     "metadata": {
      "application/vnd.bokehjs_exec.v0+json": {
       "id": "1004"
      }
     }
    }
   ],
   "metadata": {}
  },
  {
   "cell_type": "code",
   "execution_count": 23,
   "source": [
    "# let's highlight the various cliques in this network.\n",
    "palette = Blues8\n",
    "attr_name = 'clique'\n",
    "attr_for_highlight = 'highlight'\n",
    "plot_list = []\n",
    "\n",
    "for i in clique_count:\n",
    "    title = f\"Clique {i}\"\n",
    "    set_node_colors(G, i, attr_name, palette)\n",
    "    plot_list.append(plot_cliques(G, title, HOVER_TOOLTIPS, attr_for_highlight))\n",
    "\n",
    "columns = int(len(plot_list) / 2)\n",
    "grid = gridplot(plot_list, ncols=columns)\n",
    "show(grid)"
   ],
   "outputs": [
    {
     "output_type": "display_data",
     "data": {
      "text/html": [
       "\n",
       "\n",
       "\n",
       "\n",
       "\n",
       "\n",
       "  <div class=\"bk-root\" id=\"982b31e0-6a66-433f-aa17-156b57dd4820\" data-root-id=\"6741\"></div>\n"
      ]
     },
     "metadata": {}
    },
    {
     "output_type": "display_data",
     "data": {
      "application/vnd.bokehjs_exec.v0+json": "",
      "application/javascript": "(function(root) {\n  function embed_document(root) {\n    \n  var docs_json = {\"6f2b37ab-ae07-4fb3-b4a5-e3fdbcc108b6\":{\"defs\":[],\"roots\":{\"references\":[{\"attributes\":{\"children\":[{\"id\":\"6740\"},{\"id\":\"6738\"}]},\"id\":\"6741\",\"type\":\"Column\"},{\"attributes\":{},\"id\":\"6666\",\"type\":\"LinearScale\"},{\"attributes\":{\"data_source\":{\"id\":\"6634\"},\"glyph\":{\"id\":\"6642\"},\"hover_glyph\":{\"id\":\"6652\"},\"muted_glyph\":null,\"view\":{\"id\":\"6636\"}},\"id\":\"6635\",\"type\":\"GlyphRenderer\"},{\"attributes\":{\"callback\":null,\"tooltips\":[[\"node\",\"@index\"],[\"Clique\",\"@clique\"]]},\"id\":\"6626\",\"type\":\"HoverTool\"},{\"attributes\":{\"end\":10.1,\"start\":-10.1},\"id\":\"6514\",\"type\":\"Range1d\"},{\"attributes\":{\"renderers\":[{\"id\":\"6556\"}],\"title\":\"Clique 1\",\"toolbar\":{\"id\":\"6589\"},\"toolbar_location\":null,\"x_range\":{\"id\":\"6552\"},\"x_scale\":{\"id\":\"6684\"},\"y_range\":{\"id\":\"6686\"},\"y_scale\":{\"id\":\"6687\"}},\"id\":\"6553\",\"type\":\"Plot\"},{\"attributes\":{\"line_alpha\":{\"value\":0.5},\"line_width\":{\"value\":2}},\"id\":\"6647\",\"type\":\"MultiLine\"},{\"attributes\":{\"fill_color\":{\"field\":\"highlight\"},\"size\":{\"value\":25}},\"id\":\"6528\",\"type\":\"Circle\"},{\"attributes\":{\"fill_color\":{\"field\":\"highlight\"},\"size\":{\"value\":25}},\"id\":\"6566\",\"type\":\"Circle\"},{\"attributes\":{\"data_source\":{\"id\":\"6558\"},\"glyph\":{\"id\":\"6566\"},\"hover_glyph\":{\"id\":\"6576\"},\"muted_glyph\":null,\"view\":{\"id\":\"6560\"}},\"id\":\"6559\",\"type\":\"GlyphRenderer\"},{\"attributes\":{},\"id\":\"6681\",\"type\":\"Selection\"},{\"attributes\":{\"end\":10.1,\"start\":-10.1},\"id\":\"6628\",\"type\":\"Range1d\"},{\"attributes\":{},\"id\":\"6717\",\"type\":\"Selection\"},{\"attributes\":{},\"id\":\"6705\",\"type\":\"LinearScale\"},{\"attributes\":{\"fill_color\":{\"field\":\"highlight\"},\"size\":{\"value\":25}},\"id\":\"6604\",\"type\":\"Circle\"},{\"attributes\":{},\"id\":\"6716\",\"type\":\"UnionRenderers\"},{\"attributes\":{\"callback\":null,\"tooltips\":[[\"node\",\"@index\"],[\"Clique\",\"@clique\"]]},\"id\":\"6550\",\"type\":\"HoverTool\"},{\"attributes\":{},\"id\":\"6699\",\"type\":\"Selection\"},{\"attributes\":{},\"id\":\"6696\",\"type\":\"NodesOnly\"},{\"attributes\":{},\"id\":\"6548\",\"type\":\"NodesAndLinkedEdges\"},{\"attributes\":{},\"id\":\"6715\",\"type\":\"Selection\"},{\"attributes\":{\"edge_renderer\":{\"id\":\"6639\"},\"inspection_policy\":{\"id\":\"6662\"},\"layout_provider\":{\"id\":\"6641\"},\"node_renderer\":{\"id\":\"6635\"},\"selection_policy\":{\"id\":\"6732\"}},\"id\":\"6632\",\"type\":\"GraphRenderer\"},{\"attributes\":{\"active_multi\":null,\"tools\":[{\"id\":\"6550\"}]},\"id\":\"6551\",\"type\":\"Toolbar\"},{\"attributes\":{},\"id\":\"6720\",\"type\":\"LinearScale\"},{\"attributes\":{},\"id\":\"6682\",\"type\":\"UnionRenderers\"},{\"attributes\":{\"data\":{\"clique\":[[0,1],[0],[0,1,2],[0],[0],[1],[1],[2],[2,3],[3]],\"highlight\":[\"#084594\",\"#deebf7\",\"#084594\",\"#deebf7\",\"#deebf7\",\"#084594\",\"#084594\",\"#deebf7\",\"#deebf7\",\"#deebf7\"],\"index\":[0,1,2,3,4,5,6,7,8,9]},\"selected\":{\"id\":\"6697\"},\"selection_policy\":{\"id\":\"6698\"}},\"id\":\"6558\",\"type\":\"ColumnDataSource\"},{\"attributes\":{\"data\":{\"end\":[1,2,3,4,5,6,2,3,4,3,4,5,6,7,8,4,6,8,9],\"start\":[0,0,0,0,0,0,1,1,1,2,2,2,2,2,2,3,5,7,8]},\"selected\":{\"id\":\"6735\"},\"selection_policy\":{\"id\":\"6736\"}},\"id\":\"6638\",\"type\":\"ColumnDataSource\"},{\"attributes\":{\"line_alpha\":{\"value\":0.5},\"line_width\":{\"value\":2}},\"id\":\"6571\",\"type\":\"MultiLine\"},{\"attributes\":{\"graph_layout\":{\"0\":[3.2202784760660275,-3.2413184857441366],\"1\":[-0.6069875954486629,-6.4207375049652],\"2\":[0.6077429536975013,-0.2519724333161307],\"3\":[2.025281720039353,-6.28540943408283],\"4\":[-1.4899147441095661,-4.048435735331556],\"5\":[6.973759506950758,-1.4834362839142161],\"6\":[5.685357655642722,1.3187965396748422],\"7\":[-1.2366671274497167,5.650780313532865],\"8\":[-5.178850845388427,5.388975771033328],\"9\":[-10.0,9.372757253113035]}},\"id\":\"6641\",\"type\":\"StaticLayoutProvider\"},{\"attributes\":{\"renderers\":[{\"id\":\"6632\"}],\"title\":\"Clique 3\",\"toolbar\":{\"id\":\"6665\"},\"toolbar_location\":null,\"x_range\":{\"id\":\"6628\"},\"x_scale\":{\"id\":\"6720\"},\"y_range\":{\"id\":\"6722\"},\"y_scale\":{\"id\":\"6723\"}},\"id\":\"6629\",\"type\":\"Plot\"},{\"attributes\":{\"edge_renderer\":{\"id\":\"6563\"},\"inspection_policy\":{\"id\":\"6586\"},\"layout_provider\":{\"id\":\"6565\"},\"node_renderer\":{\"id\":\"6559\"},\"selection_policy\":{\"id\":\"6696\"}},\"id\":\"6556\",\"type\":\"GraphRenderer\"},{\"attributes\":{},\"id\":\"6686\",\"type\":\"DataRange1d\"},{\"attributes\":{},\"id\":\"6702\",\"type\":\"LinearScale\"},{\"attributes\":{},\"id\":\"6700\",\"type\":\"UnionRenderers\"},{\"attributes\":{\"active_multi\":null,\"tools\":[{\"id\":\"6626\"}]},\"id\":\"6627\",\"type\":\"Toolbar\"},{\"attributes\":{},\"id\":\"6718\",\"type\":\"UnionRenderers\"},{\"attributes\":{\"callback\":null,\"tooltips\":[[\"node\",\"@index\"],[\"Clique\",\"@clique\"]]},\"id\":\"6664\",\"type\":\"HoverTool\"},{\"attributes\":{},\"id\":\"6698\",\"type\":\"UnionRenderers\"},{\"attributes\":{},\"id\":\"6662\",\"type\":\"NodesAndLinkedEdges\"},{\"attributes\":{\"active_multi\":null,\"tools\":[{\"id\":\"6664\"}]},\"id\":\"6665\",\"type\":\"Toolbar\"},{\"attributes\":{\"end\":10.1,\"start\":-10.1},\"id\":\"6590\",\"type\":\"Range1d\"},{\"attributes\":{},\"id\":\"6714\",\"type\":\"NodesOnly\"},{\"attributes\":{},\"id\":\"6722\",\"type\":\"DataRange1d\"},{\"attributes\":{},\"id\":\"6684\",\"type\":\"LinearScale\"},{\"attributes\":{\"source\":{\"id\":\"6634\"}},\"id\":\"6636\",\"type\":\"CDSView\"},{\"attributes\":{\"toolbar\":{\"id\":\"6739\"},\"toolbar_location\":\"above\"},\"id\":\"6740\",\"type\":\"ToolbarBox\"},{\"attributes\":{},\"id\":\"6704\",\"type\":\"DataRange1d\"},{\"attributes\":{\"data\":{\"clique\":[[0,1],[0],[0,1,2],[0],[0],[1],[1],[2],[2,3],[3]],\"highlight\":[\"#deebf7\",\"#deebf7\",\"#084594\",\"#deebf7\",\"#deebf7\",\"#deebf7\",\"#deebf7\",\"#084594\",\"#084594\",\"#deebf7\"],\"index\":[0,1,2,3,4,5,6,7,8,9]},\"selected\":{\"id\":\"6715\"},\"selection_policy\":{\"id\":\"6716\"}},\"id\":\"6596\",\"type\":\"ColumnDataSource\"},{\"attributes\":{},\"id\":\"6680\",\"type\":\"UnionRenderers\"},{\"attributes\":{\"fill_color\":{\"field\":\"highlight\"},\"size\":{\"value\":25}},\"id\":\"6642\",\"type\":\"Circle\"},{\"attributes\":{\"line_color\":{\"value\":\"#abdda4\"},\"line_width\":{\"value\":4}},\"id\":\"6657\",\"type\":\"MultiLine\"},{\"attributes\":{\"toolbars\":[{\"id\":\"6551\"},{\"id\":\"6589\"},{\"id\":\"6627\"},{\"id\":\"6665\"}],\"tools\":[{\"id\":\"6550\"},{\"id\":\"6588\"},{\"id\":\"6626\"},{\"id\":\"6664\"}]},\"id\":\"6739\",\"type\":\"ProxyToolbar\"},{\"attributes\":{},\"id\":\"6697\",\"type\":\"Selection\"},{\"attributes\":{\"data_source\":{\"id\":\"6638\"},\"glyph\":{\"id\":\"6647\"},\"hover_glyph\":{\"id\":\"6657\"},\"muted_glyph\":null,\"view\":{\"id\":\"6640\"}},\"id\":\"6639\",\"type\":\"GlyphRenderer\"},{\"attributes\":{\"data\":{\"clique\":[[0,1],[0],[0,1,2],[0],[0],[1],[1],[2],[2,3],[3]],\"highlight\":[\"#deebf7\",\"#deebf7\",\"#deebf7\",\"#deebf7\",\"#deebf7\",\"#deebf7\",\"#deebf7\",\"#deebf7\",\"#084594\",\"#084594\"],\"index\":[0,1,2,3,4,5,6,7,8,9]},\"selected\":{\"id\":\"6733\"},\"selection_policy\":{\"id\":\"6734\"}},\"id\":\"6634\",\"type\":\"ColumnDataSource\"},{\"attributes\":{\"fill_color\":{\"value\":\"#abdda4\"},\"size\":{\"value\":25}},\"id\":\"6576\",\"type\":\"Circle\"},{\"attributes\":{\"source\":{\"id\":\"6638\"}},\"id\":\"6640\",\"type\":\"CDSView\"},{\"attributes\":{\"graph_layout\":{\"0\":[3.2202784760660275,-3.2413184857441366],\"1\":[-0.6069875954486629,-6.4207375049652],\"2\":[0.6077429536975013,-0.2519724333161307],\"3\":[2.025281720039353,-6.28540943408283],\"4\":[-1.4899147441095661,-4.048435735331556],\"5\":[6.973759506950758,-1.4834362839142161],\"6\":[5.685357655642722,1.3187965396748422],\"7\":[-1.2366671274497167,5.650780313532865],\"8\":[-5.178850845388427,5.388975771033328],\"9\":[-10.0,9.372757253113035]}},\"id\":\"6565\",\"type\":\"StaticLayoutProvider\"},{\"attributes\":{\"data_source\":{\"id\":\"6596\"},\"glyph\":{\"id\":\"6604\"},\"hover_glyph\":{\"id\":\"6614\"},\"muted_glyph\":null,\"view\":{\"id\":\"6598\"}},\"id\":\"6597\",\"type\":\"GlyphRenderer\"},{\"attributes\":{\"source\":{\"id\":\"6562\"}},\"id\":\"6564\",\"type\":\"CDSView\"},{\"attributes\":{\"active_multi\":null,\"tools\":[{\"id\":\"6588\"}]},\"id\":\"6589\",\"type\":\"Toolbar\"},{\"attributes\":{\"graph_layout\":{\"0\":[3.2202784760660275,-3.2413184857441366],\"1\":[-0.6069875954486629,-6.4207375049652],\"2\":[0.6077429536975013,-0.2519724333161307],\"3\":[2.025281720039353,-6.28540943408283],\"4\":[-1.4899147441095661,-4.048435735331556],\"5\":[6.973759506950758,-1.4834362839142161],\"6\":[5.685357655642722,1.3187965396748422],\"7\":[-1.2366671274497167,5.650780313532865],\"8\":[-5.178850845388427,5.388975771033328],\"9\":[-10.0,9.372757253113035]}},\"id\":\"6603\",\"type\":\"StaticLayoutProvider\"},{\"attributes\":{},\"id\":\"6624\",\"type\":\"NodesAndLinkedEdges\"},{\"attributes\":{},\"id\":\"6734\",\"type\":\"UnionRenderers\"},{\"attributes\":{\"callback\":null,\"tooltips\":[[\"node\",\"@index\"],[\"Clique\",\"@clique\"]]},\"id\":\"6588\",\"type\":\"HoverTool\"},{\"attributes\":{\"line_alpha\":{\"value\":0.5},\"line_width\":{\"value\":2}},\"id\":\"6609\",\"type\":\"MultiLine\"},{\"attributes\":{\"data\":{\"end\":[1,2,3,4,5,6,2,3,4,3,4,5,6,7,8,4,6,8,9],\"start\":[0,0,0,0,0,0,1,1,1,2,2,2,2,2,2,3,5,7,8]},\"selected\":{\"id\":\"6681\"},\"selection_policy\":{\"id\":\"6682\"}},\"id\":\"6524\",\"type\":\"ColumnDataSource\"},{\"attributes\":{\"data\":{\"clique\":[[0,1],[0],[0,1,2],[0],[0],[1],[1],[2],[2,3],[3]],\"highlight\":[\"#084594\",\"#084594\",\"#084594\",\"#084594\",\"#084594\",\"#deebf7\",\"#deebf7\",\"#deebf7\",\"#deebf7\",\"#deebf7\"],\"index\":[0,1,2,3,4,5,6,7,8,9]},\"selected\":{\"id\":\"6679\"},\"selection_policy\":{\"id\":\"6680\"}},\"id\":\"6520\",\"type\":\"ColumnDataSource\"},{\"attributes\":{},\"id\":\"6668\",\"type\":\"DataRange1d\"},{\"attributes\":{},\"id\":\"6723\",\"type\":\"LinearScale\"},{\"attributes\":{},\"id\":\"6678\",\"type\":\"NodesOnly\"},{\"attributes\":{\"source\":{\"id\":\"6600\"}},\"id\":\"6602\",\"type\":\"CDSView\"},{\"attributes\":{\"line_color\":{\"value\":\"#abdda4\"},\"line_width\":{\"value\":4}},\"id\":\"6543\",\"type\":\"MultiLine\"},{\"attributes\":{},\"id\":\"6679\",\"type\":\"Selection\"},{\"attributes\":{\"data\":{\"end\":[1,2,3,4,5,6,2,3,4,3,4,5,6,7,8,4,6,8,9],\"start\":[0,0,0,0,0,0,1,1,1,2,2,2,2,2,2,3,5,7,8]},\"selected\":{\"id\":\"6717\"},\"selection_policy\":{\"id\":\"6718\"}},\"id\":\"6600\",\"type\":\"ColumnDataSource\"},{\"attributes\":{\"graph_layout\":{\"0\":[3.2202784760660275,-3.2413184857441366],\"1\":[-0.6069875954486629,-6.4207375049652],\"2\":[0.6077429536975013,-0.2519724333161307],\"3\":[2.025281720039353,-6.28540943408283],\"4\":[-1.4899147441095661,-4.048435735331556],\"5\":[6.973759506950758,-1.4834362839142161],\"6\":[5.685357655642722,1.3187965396748422],\"7\":[-1.2366671274497167,5.650780313532865],\"8\":[-5.178850845388427,5.388975771033328],\"9\":[-10.0,9.372757253113035]}},\"id\":\"6527\",\"type\":\"StaticLayoutProvider\"},{\"attributes\":{\"source\":{\"id\":\"6596\"}},\"id\":\"6598\",\"type\":\"CDSView\"},{\"attributes\":{\"data_source\":{\"id\":\"6600\"},\"glyph\":{\"id\":\"6609\"},\"hover_glyph\":{\"id\":\"6619\"},\"muted_glyph\":null,\"view\":{\"id\":\"6602\"}},\"id\":\"6601\",\"type\":\"GlyphRenderer\"},{\"attributes\":{\"line_alpha\":{\"value\":0.5},\"line_width\":{\"value\":2}},\"id\":\"6533\",\"type\":\"MultiLine\"},{\"attributes\":{\"data_source\":{\"id\":\"6524\"},\"glyph\":{\"id\":\"6533\"},\"hover_glyph\":{\"id\":\"6543\"},\"muted_glyph\":null,\"view\":{\"id\":\"6526\"}},\"id\":\"6525\",\"type\":\"GlyphRenderer\"},{\"attributes\":{\"edge_renderer\":{\"id\":\"6525\"},\"inspection_policy\":{\"id\":\"6548\"},\"layout_provider\":{\"id\":\"6527\"},\"node_renderer\":{\"id\":\"6521\"},\"selection_policy\":{\"id\":\"6678\"}},\"id\":\"6518\",\"type\":\"GraphRenderer\"},{\"attributes\":{},\"id\":\"6733\",\"type\":\"Selection\"},{\"attributes\":{\"source\":{\"id\":\"6524\"}},\"id\":\"6526\",\"type\":\"CDSView\"},{\"attributes\":{\"data\":{\"end\":[1,2,3,4,5,6,2,3,4,3,4,5,6,7,8,4,6,8,9],\"start\":[0,0,0,0,0,0,1,1,1,2,2,2,2,2,2,3,5,7,8]},\"selected\":{\"id\":\"6699\"},\"selection_policy\":{\"id\":\"6700\"}},\"id\":\"6562\",\"type\":\"ColumnDataSource\"},{\"attributes\":{\"renderers\":[{\"id\":\"6594\"}],\"title\":\"Clique 2\",\"toolbar\":{\"id\":\"6627\"},\"toolbar_location\":null,\"x_range\":{\"id\":\"6590\"},\"x_scale\":{\"id\":\"6702\"},\"y_range\":{\"id\":\"6704\"},\"y_scale\":{\"id\":\"6705\"}},\"id\":\"6591\",\"type\":\"Plot\"},{\"attributes\":{},\"id\":\"6669\",\"type\":\"LinearScale\"},{\"attributes\":{\"fill_color\":{\"value\":\"#abdda4\"},\"size\":{\"value\":25}},\"id\":\"6652\",\"type\":\"Circle\"},{\"attributes\":{\"fill_color\":{\"value\":\"#abdda4\"},\"size\":{\"value\":25}},\"id\":\"6614\",\"type\":\"Circle\"},{\"attributes\":{},\"id\":\"6586\",\"type\":\"NodesAndLinkedEdges\"},{\"attributes\":{\"edge_renderer\":{\"id\":\"6601\"},\"inspection_policy\":{\"id\":\"6624\"},\"layout_provider\":{\"id\":\"6603\"},\"node_renderer\":{\"id\":\"6597\"},\"selection_policy\":{\"id\":\"6714\"}},\"id\":\"6594\",\"type\":\"GraphRenderer\"},{\"attributes\":{\"renderers\":[{\"id\":\"6518\"}],\"title\":\"Clique 0\",\"toolbar\":{\"id\":\"6551\"},\"toolbar_location\":null,\"x_range\":{\"id\":\"6514\"},\"x_scale\":{\"id\":\"6666\"},\"y_range\":{\"id\":\"6668\"},\"y_scale\":{\"id\":\"6669\"}},\"id\":\"6515\",\"type\":\"Plot\"},{\"attributes\":{},\"id\":\"6687\",\"type\":\"LinearScale\"},{\"attributes\":{},\"id\":\"6735\",\"type\":\"Selection\"},{\"attributes\":{\"end\":10.1,\"start\":-10.1},\"id\":\"6552\",\"type\":\"Range1d\"},{\"attributes\":{},\"id\":\"6732\",\"type\":\"NodesOnly\"},{\"attributes\":{\"data_source\":{\"id\":\"6562\"},\"glyph\":{\"id\":\"6571\"},\"hover_glyph\":{\"id\":\"6581\"},\"muted_glyph\":null,\"view\":{\"id\":\"6564\"}},\"id\":\"6563\",\"type\":\"GlyphRenderer\"},{\"attributes\":{},\"id\":\"6736\",\"type\":\"UnionRenderers\"},{\"attributes\":{\"line_color\":{\"value\":\"#abdda4\"},\"line_width\":{\"value\":4}},\"id\":\"6619\",\"type\":\"MultiLine\"},{\"attributes\":{\"source\":{\"id\":\"6558\"}},\"id\":\"6560\",\"type\":\"CDSView\"},{\"attributes\":{\"children\":[[{\"id\":\"6515\"},0,0],[{\"id\":\"6553\"},0,1],[{\"id\":\"6591\"},1,0],[{\"id\":\"6629\"},1,1]]},\"id\":\"6738\",\"type\":\"GridBox\"},{\"attributes\":{\"fill_color\":{\"value\":\"#abdda4\"},\"size\":{\"value\":25}},\"id\":\"6538\",\"type\":\"Circle\"},{\"attributes\":{\"data_source\":{\"id\":\"6520\"},\"glyph\":{\"id\":\"6528\"},\"hover_glyph\":{\"id\":\"6538\"},\"muted_glyph\":null,\"view\":{\"id\":\"6522\"}},\"id\":\"6521\",\"type\":\"GlyphRenderer\"},{\"attributes\":{\"source\":{\"id\":\"6520\"}},\"id\":\"6522\",\"type\":\"CDSView\"},{\"attributes\":{\"line_color\":{\"value\":\"#abdda4\"},\"line_width\":{\"value\":4}},\"id\":\"6581\",\"type\":\"MultiLine\"}],\"root_ids\":[\"6741\"]},\"title\":\"Bokeh Application\",\"version\":\"2.3.3\"}};\n  var render_items = [{\"docid\":\"6f2b37ab-ae07-4fb3-b4a5-e3fdbcc108b6\",\"root_ids\":[\"6741\"],\"roots\":{\"6741\":\"982b31e0-6a66-433f-aa17-156b57dd4820\"}}];\n  root.Bokeh.embed.embed_items_notebook(docs_json, render_items);\n\n  }\n  if (root.Bokeh !== undefined) {\n    embed_document(root);\n  } else {\n    var attempts = 0;\n    var timer = setInterval(function(root) {\n      if (root.Bokeh !== undefined) {\n        clearInterval(timer);\n        embed_document(root);\n      } else {\n        attempts++;\n        if (attempts > 100) {\n          clearInterval(timer);\n          console.log(\"Bokeh: ERROR: Unable to run BokehJS code because BokehJS library is missing\");\n        }\n      }\n    }, 10, root)\n  }\n})(window);"
     },
     "metadata": {
      "application/vnd.bokehjs_exec.v0+json": {
       "id": "6741"
      }
     }
    }
   ],
   "metadata": {}
  },
  {
   "cell_type": "code",
   "execution_count": null,
   "source": [
    "conn.droptable(name='LinkSetIn', caslib='CASUSER(daherr)', quiet=True)\n",
    "conn.droptable(name='nodeSetOut', caslib='CASUSER(daherr)', quiet=True)\n",
    "conn.droptable(name='cliques', caslib='CASUSER(daherr)', quiet=True)"
   ],
   "outputs": [],
   "metadata": {}
  },
  {
   "cell_type": "code",
   "execution_count": null,
   "source": [
    "conn.close()"
   ],
   "outputs": [],
   "metadata": {}
  },
  {
   "cell_type": "code",
   "execution_count": null,
   "source": [],
   "outputs": [],
   "metadata": {}
  }
 ],
 "metadata": {
  "kernelspec": {
   "display_name": "Python 3 (ipykernel)",
   "language": "python",
   "name": "python3"
  },
  "language_info": {
   "codemirror_mode": {
    "name": "ipython",
    "version": 3
   },
   "file_extension": ".py",
   "mimetype": "text/x-python",
   "name": "python",
   "nbconvert_exporter": "python",
   "pygments_lexer": "ipython3",
   "version": "3.8.9"
  }
 },
 "nbformat": 4,
 "nbformat_minor": 5
}