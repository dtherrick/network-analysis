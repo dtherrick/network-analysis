{
 "cells": [
  {
   "cell_type": "markdown",
   "id": "de673794-75c8-4a47-9e19-9f30dc6e8163",
   "metadata": {},
   "source": [
    "# Clique Detection Using the `NETWORK` Actionset in SAS Viya and Python"
   ]
  },
  {
   "cell_type": "markdown",
   "id": "88cfbcb9-9c94-4152-93d4-de4be0984f5a",
   "metadata": {},
   "source": [
    "In this demonstration, we load a small representative graph, use our CAS server to calculate the maximal cliques in a graph.\n",
    "\n",
    "Recall that a clique of graph G is an induced subgraph that is a complete graph. Every node in a clique is connected to every other node in that clique. A maximal clique is a clique that is not a subset of the nodes of any larger clique. That is, it is a set C of nodes such that every pair of nodes in C is connected by a link and every node not in C is missing a link to at least one node in C.\n",
    "\n",
    "In the graph G below, we expect to find *four* cliques.\n",
    "\n",
    "----------------\n",
    "\n",
    "The basic flow of this notebook is as follows:\n",
    "1. Load the sample graph into a Pandas DataFrame as a set of links that represent the total graph. \n",
    "2. Connect to our CAS server and load the actionsets we require.\n",
    "3. Upload our sample graph to our CAS server.\n",
    "4. Execute the clique detection and output results into CAS tables.\n",
    "5. Do required data manipulation to render the network graphs that show each clique.\n",
    "6. Prepare and display the network plots showing the cliques.\n",
    "\n",
    "----------------\n",
    "__Prepared by:__\n",
    "Damian Herrick (damian.herrick@sas.com)"
   ]
  },
  {
   "cell_type": "markdown",
   "id": "bc322515-fd11-4b89-aafd-310d31778e8f",
   "metadata": {},
   "source": [
    "#### Imports\n",
    "\n",
    "Our imports are broken out as follows:\n",
    "\n",
    "| Module        | Description                                                                        |\n",
    "|:--------------|:----------------------------------------------------------------------------------:|\n",
    "| `os`          | Allows access to environment variables.                                            |\n",
    "| `swat`        | SAS Python module that orchestrates communicatoin with a CAS server.               |\n",
    "| `pandas`      | Data management module we use for preparation of local data.                       |\n",
    "| `networkx`    | Used to manage graph data structures when plotting.                                |\n",
    "| `bokeh`       | Module used to generate interactive plots of graphs.                               |\n",
    "| `python_demo` | Custom module written for these examples that handles datasets and visualizations. |"
   ]
  },
  {
   "cell_type": "code",
   "execution_count": 1,
   "id": "8e03b08f",
   "metadata": {},
   "outputs": [],
   "source": [
    "import os\n",
    "\n",
    "import swat\n",
    "import pandas as pd\n",
    "\n",
    "import networkx as nx\n",
    "\n",
    "from bokeh.io import output_notebook, show\n",
    "from bokeh.layouts import gridplot\n",
    "from bokeh.palettes import Blues8\n",
    "\n",
    "\n",
    "from python_demo.datasets.examples import clique_graph_from_links\n",
    "from python_demo.visualization.bokeh_graphs import set_node_colors, render_plot"
   ]
  },
  {
   "cell_type": "markdown",
   "id": "42648761-5206-4f12-86e8-a36384b362db",
   "metadata": {},
   "source": [
    "The call to `output_notebook` is required by `bokeh` to render plots inside Jupyter Notebooks."
   ]
  },
  {
   "cell_type": "code",
   "execution_count": 2,
   "id": "c154167c",
   "metadata": {},
   "outputs": [
    {
     "data": {
      "text/html": [
       "\n",
       "    <div class=\"bk-root\">\n",
       "        <a href=\"https://bokeh.org\" target=\"_blank\" class=\"bk-logo bk-logo-small bk-logo-notebook\"></a>\n",
       "        <span id=\"1002\">Loading BokehJS ...</span>\n",
       "    </div>"
      ]
     },
     "metadata": {},
     "output_type": "display_data"
    },
    {
     "data": {
      "application/javascript": [
       "\n",
       "(function(root) {\n",
       "  function now() {\n",
       "    return new Date();\n",
       "  }\n",
       "\n",
       "  var force = true;\n",
       "\n",
       "  if (typeof root._bokeh_onload_callbacks === \"undefined\" || force === true) {\n",
       "    root._bokeh_onload_callbacks = [];\n",
       "    root._bokeh_is_loading = undefined;\n",
       "  }\n",
       "\n",
       "  var JS_MIME_TYPE = 'application/javascript';\n",
       "  var HTML_MIME_TYPE = 'text/html';\n",
       "  var EXEC_MIME_TYPE = 'application/vnd.bokehjs_exec.v0+json';\n",
       "  var CLASS_NAME = 'output_bokeh rendered_html';\n",
       "\n",
       "  /**\n",
       "   * Render data to the DOM node\n",
       "   */\n",
       "  function render(props, node) {\n",
       "    var script = document.createElement(\"script\");\n",
       "    node.appendChild(script);\n",
       "  }\n",
       "\n",
       "  /**\n",
       "   * Handle when an output is cleared or removed\n",
       "   */\n",
       "  function handleClearOutput(event, handle) {\n",
       "    var cell = handle.cell;\n",
       "\n",
       "    var id = cell.output_area._bokeh_element_id;\n",
       "    var server_id = cell.output_area._bokeh_server_id;\n",
       "    // Clean up Bokeh references\n",
       "    if (id != null && id in Bokeh.index) {\n",
       "      Bokeh.index[id].model.document.clear();\n",
       "      delete Bokeh.index[id];\n",
       "    }\n",
       "\n",
       "    if (server_id !== undefined) {\n",
       "      // Clean up Bokeh references\n",
       "      var cmd = \"from bokeh.io.state import curstate; print(curstate().uuid_to_server['\" + server_id + \"'].get_sessions()[0].document.roots[0]._id)\";\n",
       "      cell.notebook.kernel.execute(cmd, {\n",
       "        iopub: {\n",
       "          output: function(msg) {\n",
       "            var id = msg.content.text.trim();\n",
       "            if (id in Bokeh.index) {\n",
       "              Bokeh.index[id].model.document.clear();\n",
       "              delete Bokeh.index[id];\n",
       "            }\n",
       "          }\n",
       "        }\n",
       "      });\n",
       "      // Destroy server and session\n",
       "      var cmd = \"import bokeh.io.notebook as ion; ion.destroy_server('\" + server_id + \"')\";\n",
       "      cell.notebook.kernel.execute(cmd);\n",
       "    }\n",
       "  }\n",
       "\n",
       "  /**\n",
       "   * Handle when a new output is added\n",
       "   */\n",
       "  function handleAddOutput(event, handle) {\n",
       "    var output_area = handle.output_area;\n",
       "    var output = handle.output;\n",
       "\n",
       "    // limit handleAddOutput to display_data with EXEC_MIME_TYPE content only\n",
       "    if ((output.output_type != \"display_data\") || (!Object.prototype.hasOwnProperty.call(output.data, EXEC_MIME_TYPE))) {\n",
       "      return\n",
       "    }\n",
       "\n",
       "    var toinsert = output_area.element.find(\".\" + CLASS_NAME.split(' ')[0]);\n",
       "\n",
       "    if (output.metadata[EXEC_MIME_TYPE][\"id\"] !== undefined) {\n",
       "      toinsert[toinsert.length - 1].firstChild.textContent = output.data[JS_MIME_TYPE];\n",
       "      // store reference to embed id on output_area\n",
       "      output_area._bokeh_element_id = output.metadata[EXEC_MIME_TYPE][\"id\"];\n",
       "    }\n",
       "    if (output.metadata[EXEC_MIME_TYPE][\"server_id\"] !== undefined) {\n",
       "      var bk_div = document.createElement(\"div\");\n",
       "      bk_div.innerHTML = output.data[HTML_MIME_TYPE];\n",
       "      var script_attrs = bk_div.children[0].attributes;\n",
       "      for (var i = 0; i < script_attrs.length; i++) {\n",
       "        toinsert[toinsert.length - 1].firstChild.setAttribute(script_attrs[i].name, script_attrs[i].value);\n",
       "        toinsert[toinsert.length - 1].firstChild.textContent = bk_div.children[0].textContent\n",
       "      }\n",
       "      // store reference to server id on output_area\n",
       "      output_area._bokeh_server_id = output.metadata[EXEC_MIME_TYPE][\"server_id\"];\n",
       "    }\n",
       "  }\n",
       "\n",
       "  function register_renderer(events, OutputArea) {\n",
       "\n",
       "    function append_mime(data, metadata, element) {\n",
       "      // create a DOM node to render to\n",
       "      var toinsert = this.create_output_subarea(\n",
       "        metadata,\n",
       "        CLASS_NAME,\n",
       "        EXEC_MIME_TYPE\n",
       "      );\n",
       "      this.keyboard_manager.register_events(toinsert);\n",
       "      // Render to node\n",
       "      var props = {data: data, metadata: metadata[EXEC_MIME_TYPE]};\n",
       "      render(props, toinsert[toinsert.length - 1]);\n",
       "      element.append(toinsert);\n",
       "      return toinsert\n",
       "    }\n",
       "\n",
       "    /* Handle when an output is cleared or removed */\n",
       "    events.on('clear_output.CodeCell', handleClearOutput);\n",
       "    events.on('delete.Cell', handleClearOutput);\n",
       "\n",
       "    /* Handle when a new output is added */\n",
       "    events.on('output_added.OutputArea', handleAddOutput);\n",
       "\n",
       "    /**\n",
       "     * Register the mime type and append_mime function with output_area\n",
       "     */\n",
       "    OutputArea.prototype.register_mime_type(EXEC_MIME_TYPE, append_mime, {\n",
       "      /* Is output safe? */\n",
       "      safe: true,\n",
       "      /* Index of renderer in `output_area.display_order` */\n",
       "      index: 0\n",
       "    });\n",
       "  }\n",
       "\n",
       "  // register the mime type if in Jupyter Notebook environment and previously unregistered\n",
       "  if (root.Jupyter !== undefined) {\n",
       "    var events = require('base/js/events');\n",
       "    var OutputArea = require('notebook/js/outputarea').OutputArea;\n",
       "\n",
       "    if (OutputArea.prototype.mime_types().indexOf(EXEC_MIME_TYPE) == -1) {\n",
       "      register_renderer(events, OutputArea);\n",
       "    }\n",
       "  }\n",
       "\n",
       "  \n",
       "  if (typeof (root._bokeh_timeout) === \"undefined\" || force === true) {\n",
       "    root._bokeh_timeout = Date.now() + 5000;\n",
       "    root._bokeh_failed_load = false;\n",
       "  }\n",
       "\n",
       "  var NB_LOAD_WARNING = {'data': {'text/html':\n",
       "     \"<div style='background-color: #fdd'>\\n\"+\n",
       "     \"<p>\\n\"+\n",
       "     \"BokehJS does not appear to have successfully loaded. If loading BokehJS from CDN, this \\n\"+\n",
       "     \"may be due to a slow or bad network connection. Possible fixes:\\n\"+\n",
       "     \"</p>\\n\"+\n",
       "     \"<ul>\\n\"+\n",
       "     \"<li>re-rerun `output_notebook()` to attempt to load from CDN again, or</li>\\n\"+\n",
       "     \"<li>use INLINE resources instead, as so:</li>\\n\"+\n",
       "     \"</ul>\\n\"+\n",
       "     \"<code>\\n\"+\n",
       "     \"from bokeh.resources import INLINE\\n\"+\n",
       "     \"output_notebook(resources=INLINE)\\n\"+\n",
       "     \"</code>\\n\"+\n",
       "     \"</div>\"}};\n",
       "\n",
       "  function display_loaded() {\n",
       "    var el = document.getElementById(\"1002\");\n",
       "    if (el != null) {\n",
       "      el.textContent = \"BokehJS is loading...\";\n",
       "    }\n",
       "    if (root.Bokeh !== undefined) {\n",
       "      if (el != null) {\n",
       "        el.textContent = \"BokehJS \" + root.Bokeh.version + \" successfully loaded.\";\n",
       "      }\n",
       "    } else if (Date.now() < root._bokeh_timeout) {\n",
       "      setTimeout(display_loaded, 100)\n",
       "    }\n",
       "  }\n",
       "\n",
       "\n",
       "  function run_callbacks() {\n",
       "    try {\n",
       "      root._bokeh_onload_callbacks.forEach(function(callback) {\n",
       "        if (callback != null)\n",
       "          callback();\n",
       "      });\n",
       "    } finally {\n",
       "      delete root._bokeh_onload_callbacks\n",
       "    }\n",
       "    console.debug(\"Bokeh: all callbacks have finished\");\n",
       "  }\n",
       "\n",
       "  function load_libs(css_urls, js_urls, callback) {\n",
       "    if (css_urls == null) css_urls = [];\n",
       "    if (js_urls == null) js_urls = [];\n",
       "\n",
       "    root._bokeh_onload_callbacks.push(callback);\n",
       "    if (root._bokeh_is_loading > 0) {\n",
       "      console.debug(\"Bokeh: BokehJS is being loaded, scheduling callback at\", now());\n",
       "      return null;\n",
       "    }\n",
       "    if (js_urls == null || js_urls.length === 0) {\n",
       "      run_callbacks();\n",
       "      return null;\n",
       "    }\n",
       "    console.debug(\"Bokeh: BokehJS not loaded, scheduling load and callback at\", now());\n",
       "    root._bokeh_is_loading = css_urls.length + js_urls.length;\n",
       "\n",
       "    function on_load() {\n",
       "      root._bokeh_is_loading--;\n",
       "      if (root._bokeh_is_loading === 0) {\n",
       "        console.debug(\"Bokeh: all BokehJS libraries/stylesheets loaded\");\n",
       "        run_callbacks()\n",
       "      }\n",
       "    }\n",
       "\n",
       "    function on_error(url) {\n",
       "      console.error(\"failed to load \" + url);\n",
       "    }\n",
       "\n",
       "    for (let i = 0; i < css_urls.length; i++) {\n",
       "      const url = css_urls[i];\n",
       "      const element = document.createElement(\"link\");\n",
       "      element.onload = on_load;\n",
       "      element.onerror = on_error.bind(null, url);\n",
       "      element.rel = \"stylesheet\";\n",
       "      element.type = \"text/css\";\n",
       "      element.href = url;\n",
       "      console.debug(\"Bokeh: injecting link tag for BokehJS stylesheet: \", url);\n",
       "      document.body.appendChild(element);\n",
       "    }\n",
       "\n",
       "    const hashes = {\"https://cdn.bokeh.org/bokeh/release/bokeh-2.3.3.min.js\": \"dM3QQsP+wXdHg42wTqW85BjZQdLNNIXqlPw/BgKoExPmTG7ZLML4EGqLMfqHT6ON\", \"https://cdn.bokeh.org/bokeh/release/bokeh-tables-2.3.3.min.js\": \"8x57I4YuIfu8XyZfFo0XVr2WAT8EK4rh/uDe3wF7YuW2FNUSNEpJbsPaB1nJ2fz2\", \"https://cdn.bokeh.org/bokeh/release/bokeh-widgets-2.3.3.min.js\": \"3QTqdz9LyAm2i0sG5XTePsHec3UHWwVsrOL68SYRoAXsafvfAyqtQ+h440+qIBhS\"};\n",
       "\n",
       "    for (let i = 0; i < js_urls.length; i++) {\n",
       "      const url = js_urls[i];\n",
       "      const element = document.createElement('script');\n",
       "      element.onload = on_load;\n",
       "      element.onerror = on_error.bind(null, url);\n",
       "      element.async = false;\n",
       "      element.src = url;\n",
       "      if (url in hashes) {\n",
       "        element.crossOrigin = \"anonymous\";\n",
       "        element.integrity = \"sha384-\" + hashes[url];\n",
       "      }\n",
       "      console.debug(\"Bokeh: injecting script tag for BokehJS library: \", url);\n",
       "      document.head.appendChild(element);\n",
       "    }\n",
       "  };\n",
       "\n",
       "  function inject_raw_css(css) {\n",
       "    const element = document.createElement(\"style\");\n",
       "    element.appendChild(document.createTextNode(css));\n",
       "    document.body.appendChild(element);\n",
       "  }\n",
       "\n",
       "  \n",
       "  var js_urls = [\"https://cdn.bokeh.org/bokeh/release/bokeh-2.3.3.min.js\", \"https://cdn.bokeh.org/bokeh/release/bokeh-widgets-2.3.3.min.js\", \"https://cdn.bokeh.org/bokeh/release/bokeh-tables-2.3.3.min.js\"];\n",
       "  var css_urls = [];\n",
       "  \n",
       "\n",
       "  var inline_js = [\n",
       "    function(Bokeh) {\n",
       "      Bokeh.set_log_level(\"info\");\n",
       "    },\n",
       "    function(Bokeh) {\n",
       "    \n",
       "    \n",
       "    }\n",
       "  ];\n",
       "\n",
       "  function run_inline_js() {\n",
       "    \n",
       "    if (root.Bokeh !== undefined || force === true) {\n",
       "      \n",
       "    for (var i = 0; i < inline_js.length; i++) {\n",
       "      inline_js[i].call(root, root.Bokeh);\n",
       "    }\n",
       "    if (force === true) {\n",
       "        display_loaded();\n",
       "      }} else if (Date.now() < root._bokeh_timeout) {\n",
       "      setTimeout(run_inline_js, 100);\n",
       "    } else if (!root._bokeh_failed_load) {\n",
       "      console.log(\"Bokeh: BokehJS failed to load within specified timeout.\");\n",
       "      root._bokeh_failed_load = true;\n",
       "    } else if (force !== true) {\n",
       "      var cell = $(document.getElementById(\"1002\")).parents('.cell').data().cell;\n",
       "      cell.output_area.append_execute_result(NB_LOAD_WARNING)\n",
       "    }\n",
       "\n",
       "  }\n",
       "\n",
       "  if (root._bokeh_is_loading === 0) {\n",
       "    console.debug(\"Bokeh: BokehJS loaded, going straight to plotting\");\n",
       "    run_inline_js();\n",
       "  } else {\n",
       "    load_libs(css_urls, js_urls, function() {\n",
       "      console.debug(\"Bokeh: BokehJS plotting callback run at\", now());\n",
       "      run_inline_js();\n",
       "    });\n",
       "  }\n",
       "}(window));"
      ],
      "application/vnd.bokehjs_load.v0+json": "\n(function(root) {\n  function now() {\n    return new Date();\n  }\n\n  var force = true;\n\n  if (typeof root._bokeh_onload_callbacks === \"undefined\" || force === true) {\n    root._bokeh_onload_callbacks = [];\n    root._bokeh_is_loading = undefined;\n  }\n\n  \n\n  \n  if (typeof (root._bokeh_timeout) === \"undefined\" || force === true) {\n    root._bokeh_timeout = Date.now() + 5000;\n    root._bokeh_failed_load = false;\n  }\n\n  var NB_LOAD_WARNING = {'data': {'text/html':\n     \"<div style='background-color: #fdd'>\\n\"+\n     \"<p>\\n\"+\n     \"BokehJS does not appear to have successfully loaded. If loading BokehJS from CDN, this \\n\"+\n     \"may be due to a slow or bad network connection. Possible fixes:\\n\"+\n     \"</p>\\n\"+\n     \"<ul>\\n\"+\n     \"<li>re-rerun `output_notebook()` to attempt to load from CDN again, or</li>\\n\"+\n     \"<li>use INLINE resources instead, as so:</li>\\n\"+\n     \"</ul>\\n\"+\n     \"<code>\\n\"+\n     \"from bokeh.resources import INLINE\\n\"+\n     \"output_notebook(resources=INLINE)\\n\"+\n     \"</code>\\n\"+\n     \"</div>\"}};\n\n  function display_loaded() {\n    var el = document.getElementById(\"1002\");\n    if (el != null) {\n      el.textContent = \"BokehJS is loading...\";\n    }\n    if (root.Bokeh !== undefined) {\n      if (el != null) {\n        el.textContent = \"BokehJS \" + root.Bokeh.version + \" successfully loaded.\";\n      }\n    } else if (Date.now() < root._bokeh_timeout) {\n      setTimeout(display_loaded, 100)\n    }\n  }\n\n\n  function run_callbacks() {\n    try {\n      root._bokeh_onload_callbacks.forEach(function(callback) {\n        if (callback != null)\n          callback();\n      });\n    } finally {\n      delete root._bokeh_onload_callbacks\n    }\n    console.debug(\"Bokeh: all callbacks have finished\");\n  }\n\n  function load_libs(css_urls, js_urls, callback) {\n    if (css_urls == null) css_urls = [];\n    if (js_urls == null) js_urls = [];\n\n    root._bokeh_onload_callbacks.push(callback);\n    if (root._bokeh_is_loading > 0) {\n      console.debug(\"Bokeh: BokehJS is being loaded, scheduling callback at\", now());\n      return null;\n    }\n    if (js_urls == null || js_urls.length === 0) {\n      run_callbacks();\n      return null;\n    }\n    console.debug(\"Bokeh: BokehJS not loaded, scheduling load and callback at\", now());\n    root._bokeh_is_loading = css_urls.length + js_urls.length;\n\n    function on_load() {\n      root._bokeh_is_loading--;\n      if (root._bokeh_is_loading === 0) {\n        console.debug(\"Bokeh: all BokehJS libraries/stylesheets loaded\");\n        run_callbacks()\n      }\n    }\n\n    function on_error(url) {\n      console.error(\"failed to load \" + url);\n    }\n\n    for (let i = 0; i < css_urls.length; i++) {\n      const url = css_urls[i];\n      const element = document.createElement(\"link\");\n      element.onload = on_load;\n      element.onerror = on_error.bind(null, url);\n      element.rel = \"stylesheet\";\n      element.type = \"text/css\";\n      element.href = url;\n      console.debug(\"Bokeh: injecting link tag for BokehJS stylesheet: \", url);\n      document.body.appendChild(element);\n    }\n\n    const hashes = {\"https://cdn.bokeh.org/bokeh/release/bokeh-2.3.3.min.js\": \"dM3QQsP+wXdHg42wTqW85BjZQdLNNIXqlPw/BgKoExPmTG7ZLML4EGqLMfqHT6ON\", \"https://cdn.bokeh.org/bokeh/release/bokeh-tables-2.3.3.min.js\": \"8x57I4YuIfu8XyZfFo0XVr2WAT8EK4rh/uDe3wF7YuW2FNUSNEpJbsPaB1nJ2fz2\", \"https://cdn.bokeh.org/bokeh/release/bokeh-widgets-2.3.3.min.js\": \"3QTqdz9LyAm2i0sG5XTePsHec3UHWwVsrOL68SYRoAXsafvfAyqtQ+h440+qIBhS\"};\n\n    for (let i = 0; i < js_urls.length; i++) {\n      const url = js_urls[i];\n      const element = document.createElement('script');\n      element.onload = on_load;\n      element.onerror = on_error.bind(null, url);\n      element.async = false;\n      element.src = url;\n      if (url in hashes) {\n        element.crossOrigin = \"anonymous\";\n        element.integrity = \"sha384-\" + hashes[url];\n      }\n      console.debug(\"Bokeh: injecting script tag for BokehJS library: \", url);\n      document.head.appendChild(element);\n    }\n  };\n\n  function inject_raw_css(css) {\n    const element = document.createElement(\"style\");\n    element.appendChild(document.createTextNode(css));\n    document.body.appendChild(element);\n  }\n\n  \n  var js_urls = [\"https://cdn.bokeh.org/bokeh/release/bokeh-2.3.3.min.js\", \"https://cdn.bokeh.org/bokeh/release/bokeh-widgets-2.3.3.min.js\", \"https://cdn.bokeh.org/bokeh/release/bokeh-tables-2.3.3.min.js\"];\n  var css_urls = [];\n  \n\n  var inline_js = [\n    function(Bokeh) {\n      Bokeh.set_log_level(\"info\");\n    },\n    function(Bokeh) {\n    \n    \n    }\n  ];\n\n  function run_inline_js() {\n    \n    if (root.Bokeh !== undefined || force === true) {\n      \n    for (var i = 0; i < inline_js.length; i++) {\n      inline_js[i].call(root, root.Bokeh);\n    }\n    if (force === true) {\n        display_loaded();\n      }} else if (Date.now() < root._bokeh_timeout) {\n      setTimeout(run_inline_js, 100);\n    } else if (!root._bokeh_failed_load) {\n      console.log(\"Bokeh: BokehJS failed to load within specified timeout.\");\n      root._bokeh_failed_load = true;\n    } else if (force !== true) {\n      var cell = $(document.getElementById(\"1002\")).parents('.cell').data().cell;\n      cell.output_area.append_execute_result(NB_LOAD_WARNING)\n    }\n\n  }\n\n  if (root._bokeh_is_loading === 0) {\n    console.debug(\"Bokeh: BokehJS loaded, going straight to plotting\");\n    run_inline_js();\n  } else {\n    load_libs(css_urls, js_urls, function() {\n      console.debug(\"Bokeh: BokehJS plotting callback run at\", now());\n      run_inline_js();\n    });\n  }\n}(window));"
     },
     "metadata": {},
     "output_type": "display_data"
    }
   ],
   "source": [
    "output_notebook()"
   ]
  },
  {
   "cell_type": "markdown",
   "id": "5905c7a8-058f-4ae6-a11d-5c9f47f57bd4",
   "metadata": {},
   "source": [
    "### Step 1: Get the edge list for the sample graph."
   ]
  },
  {
   "cell_type": "code",
   "execution_count": 3,
   "id": "47c1e5e1",
   "metadata": {},
   "outputs": [],
   "source": [
    "dfLinkSetIn = clique_graph_from_links()"
   ]
  },
  {
   "cell_type": "code",
   "execution_count": 4,
   "id": "76cedb1d",
   "metadata": {},
   "outputs": [],
   "source": [
    "G = nx.from_pandas_edgelist(dfLinkSetIn, 'from', 'to')"
   ]
  },
  {
   "cell_type": "markdown",
   "id": "0af08963-bb05-4d7a-9ca2-8962cdd8b539",
   "metadata": {},
   "source": [
    "Let's see what the graph looks like before we start looking for cliques."
   ]
  },
  {
   "cell_type": "code",
   "execution_count": 5,
   "id": "3755144a",
   "metadata": {},
   "outputs": [
    {
     "data": {
      "text/html": [
       "\n",
       "\n",
       "\n",
       "\n",
       "\n",
       "\n",
       "  <div class=\"bk-root\" id=\"31134d53-56ab-452e-98b7-60eeb6339338\" data-root-id=\"1004\"></div>\n"
      ]
     },
     "metadata": {},
     "output_type": "display_data"
    },
    {
     "data": {
      "application/javascript": [
       "(function(root) {\n",
       "  function embed_document(root) {\n",
       "    \n",
       "  var docs_json = {\"1721a628-2863-46a3-9bce-a4dfbc729cb6\":{\"defs\":[],\"roots\":{\"references\":[{\"attributes\":{\"renderers\":[{\"id\":\"1007\"},{\"id\":\"1042\"}],\"title\":\"Sample Graph Used for Maximal Clique Detection\",\"toolbar\":{\"id\":\"1040\"},\"x_range\":{\"id\":\"1003\"},\"x_scale\":{\"id\":\"1044\"},\"y_range\":{\"id\":\"1047\"},\"y_scale\":{\"id\":\"1045\"}},\"id\":\"1004\",\"type\":\"Plot\"},{\"attributes\":{},\"id\":\"1059\",\"type\":\"UnionRenderers\"},{\"attributes\":{},\"id\":\"1044\",\"type\":\"LinearScale\"},{\"attributes\":{},\"id\":\"1045\",\"type\":\"LinearScale\"},{\"attributes\":{},\"id\":\"1047\",\"type\":\"DataRange1d\"},{\"attributes\":{},\"id\":\"1060\",\"type\":\"Selection\"},{\"attributes\":{\"data\":{\"name\":[0,1,2,3,4,5,6,7,8,9],\"x\":[5.025110883829013,7.381914236978649,2.392591227715627,6.828799998119717,5.143954368150991,3.801270500767021,1.585805662128429,-0.7321152140170328,-3.4273316636724216,-8.0],\"y\":[2.106035551009846,0.6574120505094389,0.18869162933392528,-1.7014873572113585,-1.0642170755007134,5.037697601957711,4.185004643665932,-3.3988769156785366,-2.190272107333343,-3.819988020752905]},\"selected\":{\"id\":\"1058\"},\"selection_policy\":{\"id\":\"1057\"}},\"id\":\"1041\",\"type\":\"ColumnDataSource\"},{\"attributes\":{\"active_multi\":null,\"tools\":[{\"id\":\"1039\"}]},\"id\":\"1040\",\"type\":\"Toolbar\"},{\"attributes\":{},\"id\":\"1037\",\"type\":\"NodesAndLinkedEdges\"},{\"attributes\":{\"callback\":null,\"tooltips\":[[\"Node\",\"@index\"]]},\"id\":\"1039\",\"type\":\"HoverTool\"},{\"attributes\":{\"data\":{\"index\":[0,1,2,3,4,5,6,7,8,9]},\"selected\":{\"id\":\"1060\"},\"selection_policy\":{\"id\":\"1059\"}},\"id\":\"1009\",\"type\":\"ColumnDataSource\"},{\"attributes\":{},\"id\":\"1062\",\"type\":\"Selection\"},{\"attributes\":{\"end\":10.1,\"start\":-10.1},\"id\":\"1003\",\"type\":\"Range1d\"},{\"attributes\":{},\"id\":\"1061\",\"type\":\"UnionRenderers\"},{\"attributes\":{},\"id\":\"1048\",\"type\":\"NodesOnly\"},{\"attributes\":{\"fill_color\":{\"value\":\"#f7fbff\"},\"size\":{\"value\":40}},\"id\":\"1017\",\"type\":\"Circle\"},{\"attributes\":{\"data_source\":{\"id\":\"1009\"},\"glyph\":{\"id\":\"1017\"},\"hover_glyph\":{\"id\":\"1027\"},\"muted_glyph\":null,\"view\":{\"id\":\"1011\"}},\"id\":\"1010\",\"type\":\"GlyphRenderer\"},{\"attributes\":{\"data\":{\"end\":[1,2,3,4,5,6,2,3,4,3,4,5,6,7,8,4,6,8,9],\"start\":[0,0,0,0,0,0,1,1,1,2,2,2,2,2,2,3,5,7,8]},\"selected\":{\"id\":\"1062\"},\"selection_policy\":{\"id\":\"1061\"}},\"id\":\"1013\",\"type\":\"ColumnDataSource\"},{\"attributes\":{\"source\":{\"id\":\"1009\"}},\"id\":\"1011\",\"type\":\"CDSView\"},{\"attributes\":{\"edge_renderer\":{\"id\":\"1014\"},\"inspection_policy\":{\"id\":\"1037\"},\"layout_provider\":{\"id\":\"1016\"},\"node_renderer\":{\"id\":\"1010\"},\"selection_policy\":{\"id\":\"1048\"}},\"id\":\"1007\",\"type\":\"GraphRenderer\"},{\"attributes\":{\"data_source\":{\"id\":\"1013\"},\"glyph\":{\"id\":\"1022\"},\"hover_glyph\":{\"id\":\"1032\"},\"muted_glyph\":null,\"view\":{\"id\":\"1015\"}},\"id\":\"1014\",\"type\":\"GlyphRenderer\"},{\"attributes\":{\"fill_color\":{\"value\":\"#abdda4\"},\"size\":{\"value\":40}},\"id\":\"1027\",\"type\":\"Circle\"},{\"attributes\":{},\"id\":\"1057\",\"type\":\"UnionRenderers\"},{\"attributes\":{\"graph_layout\":{\"0\":[5.025110883829013,2.106035551009846],\"1\":[7.381914236978649,0.6574120505094389],\"2\":[2.392591227715627,0.18869162933392528],\"3\":[6.828799998119717,-1.7014873572113585],\"4\":[5.143954368150991,-1.0642170755007134],\"5\":[3.801270500767021,5.037697601957711],\"6\":[1.585805662128429,4.185004643665932],\"7\":[-0.7321152140170328,-3.3988769156785366],\"8\":[-3.4273316636724216,-2.190272107333343],\"9\":[-8.0,-3.819988020752905]}},\"id\":\"1016\",\"type\":\"StaticLayoutProvider\"},{\"attributes\":{},\"id\":\"1058\",\"type\":\"Selection\"},{\"attributes\":{\"source\":{\"id\":\"1013\"}},\"id\":\"1015\",\"type\":\"CDSView\"},{\"attributes\":{\"line_color\":{\"value\":\"#abdda4\"},\"line_width\":{\"value\":4}},\"id\":\"1032\",\"type\":\"MultiLine\"},{\"attributes\":{\"line_alpha\":{\"value\":0.5},\"line_width\":{\"value\":2}},\"id\":\"1022\",\"type\":\"MultiLine\"},{\"attributes\":{\"background_fill_color\":{\"value\":\"#f7fbff\"},\"source\":{\"id\":\"1041\"},\"text\":{\"field\":\"name\"},\"text_font_size\":{\"value\":\"13px\"},\"x\":{\"field\":\"x\"},\"x_offset\":{\"value\":-5},\"y\":{\"field\":\"y\"},\"y_offset\":{\"value\":-5}},\"id\":\"1042\",\"type\":\"LabelSet\"}],\"root_ids\":[\"1004\"]},\"title\":\"Bokeh Application\",\"version\":\"2.3.3\"}};\n",
       "  var render_items = [{\"docid\":\"1721a628-2863-46a3-9bce-a4dfbc729cb6\",\"root_ids\":[\"1004\"],\"roots\":{\"1004\":\"31134d53-56ab-452e-98b7-60eeb6339338\"}}];\n",
       "  root.Bokeh.embed.embed_items_notebook(docs_json, render_items);\n",
       "\n",
       "  }\n",
       "  if (root.Bokeh !== undefined) {\n",
       "    embed_document(root);\n",
       "  } else {\n",
       "    var attempts = 0;\n",
       "    var timer = setInterval(function(root) {\n",
       "      if (root.Bokeh !== undefined) {\n",
       "        clearInterval(timer);\n",
       "        embed_document(root);\n",
       "      } else {\n",
       "        attempts++;\n",
       "        if (attempts > 100) {\n",
       "          clearInterval(timer);\n",
       "          console.log(\"Bokeh: ERROR: Unable to run BokehJS code because BokehJS library is missing\");\n",
       "        }\n",
       "      }\n",
       "    }, 10, root)\n",
       "  }\n",
       "})(window);"
      ],
      "application/vnd.bokehjs_exec.v0+json": ""
     },
     "metadata": {
      "application/vnd.bokehjs_exec.v0+json": {
       "id": "1004"
      }
     },
     "output_type": "display_data"
    }
   ],
   "source": [
    "# Choose a title\n",
    "title = 'Sample Graph Used for Maximal Clique Detection'\n",
    "\n",
    "# Define the label for the nodes.\n",
    "hover = [(\"Node\", \"@index\")]\n",
    "\n",
    "# How big are the nodes?\n",
    "nodeSize = 40\n",
    "\n",
    "# send to the utility function to generate the plot.\n",
    "plot = render_plot(G, title, hover, nodeSize)\n",
    "\n",
    "# display the graph\n",
    "show(plot)"
   ]
  },
  {
   "cell_type": "markdown",
   "id": "0843cd5b-4ec8-4ecd-ad35-73d279423b61",
   "metadata": {},
   "source": [
    "### Step 2: Connect to CAS, load the actionsets we'll need, and upload our graph to the CAS server."
   ]
  },
  {
   "cell_type": "code",
   "execution_count": 6,
   "id": "44f577bf",
   "metadata": {},
   "outputs": [
    {
     "name": "stdout",
     "output_type": "stream",
     "text": [
      "rdcgrd113.unx.sas.com:23404\n"
     ]
    }
   ],
   "source": [
    "host = os.environ['CAS_HOST']\n",
    "port = int(os.environ['CAS_PORT'])\n",
    "print(f\"{host}:{port}\")"
   ]
  },
  {
   "cell_type": "code",
   "execution_count": 7,
   "id": "c7fb02c3-e5e1-448b-adfb-59bf877081fd",
   "metadata": {},
   "outputs": [
    {
     "name": "stdout",
     "output_type": "stream",
     "text": [
      "NOTE: Added action set 'network'.\n",
      "NOTE: Added action set 'fedsql'.\n"
     ]
    }
   ],
   "source": [
    "# Connect to the server\n",
    "conn = swat.CAS(host, port)\n",
    "\n",
    "# Load the actionsets we need\n",
    "_ = conn.loadactionset('network')\n",
    "_ = conn.loadactionset('fedsql')"
   ]
  },
  {
   "cell_type": "markdown",
   "id": "99a1afc3-69e0-4918-8c65-cb00c84f4dc7",
   "metadata": {},
   "source": [
    "Before we load the data, we should verify which caslib is active. Since we just connected and have not specified, the active library should map to our user ID.\n",
    "\n",
    "Only one caslib can be active at a time. As long as we are happy with the active caslib, we do not need to reference the caslib in subsequent calls to CAS through `swat` methods. Note that this is slightly different from the corrresponding CASL calls we reference."
   ]
  },
  {
   "cell_type": "code",
   "execution_count": 8,
   "id": "c160e339-3db9-4711-bdea-436a261a3c0a",
   "metadata": {},
   "outputs": [
    {
     "data": {
      "text/html": [
       "<div class=\"cas-results-key\"><b>&#167; caslib</b></div>\n",
       "<div class=\"cas-results-body\">\n",
       "<div>CASUSER(daherr)</div>\n",
       "</div>\n",
       "<div class=\"cas-output-area\"></div>\n",
       "<p class=\"cas-results-performance\"><small><span class=\"cas-elapsed\">elapsed 0.000177s</span> &#183; <span class=\"cas-memory\">mem 0.203MB</span></small></p>"
      ],
      "text/plain": [
       "[caslib]\n",
       "\n",
       " 'CASUSER(daherr)'\n",
       "\n",
       "+ Elapsed: 0.000177s, mem: 0.203mb"
      ]
     },
     "execution_count": 8,
     "metadata": {},
     "output_type": "execute_result"
    }
   ],
   "source": [
    "conn.getsessopt('caslib')"
   ]
  },
  {
   "cell_type": "code",
   "execution_count": 9,
   "id": "291db96a",
   "metadata": {},
   "outputs": [
    {
     "name": "stdout",
     "output_type": "stream",
     "text": [
      "NOTE: Cloud Analytic Services made the uploaded file available as table LINKSETIN in caslib CASUSER(daherr).\n",
      "NOTE: The table LINKSETIN has been created in caslib CASUSER(daherr) from binary data uploaded to Cloud Analytic Services.\n"
     ]
    }
   ],
   "source": [
    "# Upload the local data into CAS.\n",
    "_ = conn.upload(dfLinkSetIn, casout=dict(name='LinkSetIn'))"
   ]
  },
  {
   "cell_type": "markdown",
   "id": "f08a0217-cd8d-4166-93a1-aa71363de472",
   "metadata": {},
   "source": [
    "### Step 3: Calculate the maximal cliques in our graph using the `network` actionset."
   ]
  },
  {
   "cell_type": "markdown",
   "id": "09206df6-a2ce-4907-b00e-4647996d0b1b",
   "metadata": {},
   "source": [
    "Since we've loaded our actionset, we can reference it using dot notation from our `connection` object.\n",
    "\n",
    "Note that the Python code below is equivalent to this block of CASL:\n",
    "```\n",
    "proc network\n",
    "   links         = mycas.LinkSetIn\n",
    "   outNodes      = mycas.NodeSetOut;\n",
    "   clique\n",
    "      out        = mycas.Cliques\n",
    "      maxCliques = all;\n",
    "run;\n",
    "```"
   ]
  },
  {
   "cell_type": "code",
   "execution_count": 10,
   "id": "830a289b",
   "metadata": {
    "tags": []
   },
   "outputs": [
    {
     "name": "stdout",
     "output_type": "stream",
     "text": [
      "NOTE: The number of nodes in the input graph is 10.\n",
      "NOTE: The number of links in the input graph is 19.\n",
      "NOTE: Processing clique enumeration using 32 threads across 1 machines.\n",
      "NOTE: The algorithm found 4 maximal cliques.\n",
      "NOTE: Processing clique enumeration used 0.00 (cpu: 0.00) seconds.\n"
     ]
    },
    {
     "data": {
      "text/html": [
       "<div class=\"cas-results-key\"><b>&#167; OutputCasTables</b></div>\n",
       "<div class=\"cas-results-body\">\n",
       "<div>\n",
       "<style scoped>\n",
       "    .dataframe tbody tr th:only-of-type {\n",
       "        vertical-align: middle;\n",
       "    }\n",
       "\n",
       "    .dataframe tbody tr th {\n",
       "        vertical-align: top;\n",
       "    }\n",
       "\n",
       "    .dataframe thead th {\n",
       "        text-align: right;\n",
       "    }\n",
       "</style>\n",
       "<table border=\"1\" class=\"dataframe\">\n",
       "  <thead>\n",
       "    <tr style=\"text-align: right;\">\n",
       "      <th title=\"\"></th>\n",
       "      <th title=\"CAS Library\">casLib</th>\n",
       "      <th title=\"Name\">Name</th>\n",
       "      <th title=\"Label\">Label</th>\n",
       "      <th title=\"Number of Rows\">Rows</th>\n",
       "      <th title=\"Number of Columns\">Columns</th>\n",
       "      <th title=\"Table\">casTable</th>\n",
       "    </tr>\n",
       "  </thead>\n",
       "  <tbody>\n",
       "    <tr>\n",
       "      <td>0</td>\n",
       "      <td>CASUSER(daherr)</td>\n",
       "      <td>nodeSetOut</td>\n",
       "      <td></td>\n",
       "      <td>10</td>\n",
       "      <td>1</td>\n",
       "      <td>CASTable('nodeSetOut', caslib='CASUSER(daherr)')</td>\n",
       "    </tr>\n",
       "    <tr>\n",
       "      <td>1</td>\n",
       "      <td>CASUSER(daherr)</td>\n",
       "      <td>cliques</td>\n",
       "      <td></td>\n",
       "      <td>14</td>\n",
       "      <td>2</td>\n",
       "      <td>CASTable('cliques', caslib='CASUSER(daherr)')</td>\n",
       "    </tr>\n",
       "  </tbody>\n",
       "</table>\n",
       "</div>\n",
       "</div>\n",
       "<div class=\"cas-results-key\"><hr/><b>&#167; ProblemSummary</b></div>\n",
       "<div class=\"cas-results-body\">\n",
       "<div>\n",
       "<style scoped>\n",
       "    .dataframe tbody tr th:only-of-type {\n",
       "        vertical-align: middle;\n",
       "    }\n",
       "\n",
       "    .dataframe tbody tr th {\n",
       "        vertical-align: top;\n",
       "    }\n",
       "\n",
       "    .dataframe thead th {\n",
       "        text-align: right;\n",
       "    }\n",
       "</style>\n",
       "<table border=\"1\" class=\"dataframe\"><caption>Problem Summary</caption>\n",
       "  <thead>\n",
       "    <tr style=\"text-align: right;\">\n",
       "      <th title=\"\"></th>\n",
       "      <th title=\"Name1\">Name1</th>\n",
       "      <th title=\"Label1\">Label1</th>\n",
       "      <th title=\"cValue1\">cValue1</th>\n",
       "      <th title=\"nValue1\">nValue1</th>\n",
       "    </tr>\n",
       "  </thead>\n",
       "  <tbody>\n",
       "    <tr>\n",
       "      <td>0</td>\n",
       "      <td>numNodes</td>\n",
       "      <td>Number of Nodes</td>\n",
       "      <td>10</td>\n",
       "      <td>10.0</td>\n",
       "    </tr>\n",
       "    <tr>\n",
       "      <td>1</td>\n",
       "      <td>numLinks</td>\n",
       "      <td>Number of Links</td>\n",
       "      <td>19</td>\n",
       "      <td>19.0</td>\n",
       "    </tr>\n",
       "    <tr>\n",
       "      <td>2</td>\n",
       "      <td>graphDirection</td>\n",
       "      <td>Graph Direction</td>\n",
       "      <td>Undirected</td>\n",
       "      <td>NaN</td>\n",
       "    </tr>\n",
       "  </tbody>\n",
       "</table>\n",
       "</div>\n",
       "</div>\n",
       "<div class=\"cas-results-key\"><hr/><b>&#167; SolutionSummary</b></div>\n",
       "<div class=\"cas-results-body\">\n",
       "<div>\n",
       "<style scoped>\n",
       "    .dataframe tbody tr th:only-of-type {\n",
       "        vertical-align: middle;\n",
       "    }\n",
       "\n",
       "    .dataframe tbody tr th {\n",
       "        vertical-align: top;\n",
       "    }\n",
       "\n",
       "    .dataframe thead th {\n",
       "        text-align: right;\n",
       "    }\n",
       "</style>\n",
       "<table border=\"1\" class=\"dataframe\"><caption>Solution Summary</caption>\n",
       "  <thead>\n",
       "    <tr style=\"text-align: right;\">\n",
       "      <th title=\"\"></th>\n",
       "      <th title=\"Name1\">Name1</th>\n",
       "      <th title=\"Label1\">Label1</th>\n",
       "      <th title=\"cValue1\">cValue1</th>\n",
       "      <th title=\"nValue1\">nValue1</th>\n",
       "    </tr>\n",
       "  </thead>\n",
       "  <tbody>\n",
       "    <tr>\n",
       "      <td>0</td>\n",
       "      <td>problemType</td>\n",
       "      <td>Problem Type</td>\n",
       "      <td>Clique</td>\n",
       "      <td>NaN</td>\n",
       "    </tr>\n",
       "    <tr>\n",
       "      <td>1</td>\n",
       "      <td>status</td>\n",
       "      <td>Solution Status</td>\n",
       "      <td>OK</td>\n",
       "      <td>NaN</td>\n",
       "    </tr>\n",
       "    <tr>\n",
       "      <td>2</td>\n",
       "      <td>numCliques</td>\n",
       "      <td>Number of Cliques</td>\n",
       "      <td>4</td>\n",
       "      <td>4.000000</td>\n",
       "    </tr>\n",
       "    <tr>\n",
       "      <td>3</td>\n",
       "      <td>cpuTime</td>\n",
       "      <td>CPU Time</td>\n",
       "      <td>0.00</td>\n",
       "      <td>0.000000</td>\n",
       "    </tr>\n",
       "    <tr>\n",
       "      <td>4</td>\n",
       "      <td>realTime</td>\n",
       "      <td>Real Time</td>\n",
       "      <td>0.00</td>\n",
       "      <td>0.003425</td>\n",
       "    </tr>\n",
       "  </tbody>\n",
       "</table>\n",
       "</div>\n",
       "</div>\n",
       "<div class=\"cas-results-key\"><hr/><b>&#167; numCliques</b></div>\n",
       "<div class=\"cas-results-body\">\n",
       "<div>4</div>\n",
       "</div>\n",
       "<div class=\"cas-results-key\"><hr/><b>&#167; solutionStatus</b></div>\n",
       "<div class=\"cas-results-body\">\n",
       "<div>OK</div>\n",
       "</div>\n",
       "<div class=\"cas-results-key\"><hr/><b>&#167; solutionStatusCode</b></div>\n",
       "<div class=\"cas-results-body\">\n",
       "<div>0</div>\n",
       "</div>\n",
       "<div class=\"cas-output-area\"></div>\n",
       "<p class=\"cas-results-performance\"><small><span class=\"cas-elapsed\">elapsed 0.00898s</span> &#183; <span class=\"cas-user\">user 0.004s</span> &#183; <span class=\"cas-sys\">sys 0.018s</span> &#183; <span class=\"cas-memory\">mem 47.7MB</span></small></p>"
      ],
      "text/plain": [
       "[OutputCasTables]\n",
       "\n",
       "             casLib        Name Label  Rows  Columns                                          casTable\n",
       " 0  CASUSER(daherr)  nodeSetOut          10        1  CASTable('nodeSetOut', caslib='CASUSER(daherr)')\n",
       " 1  CASUSER(daherr)     cliques          14        2     CASTable('cliques', caslib='CASUSER(daherr)')\n",
       "\n",
       "[ProblemSummary]\n",
       "\n",
       " Problem Summary\n",
       " \n",
       "             Name1           Label1       cValue1  nValue1\n",
       " 0        numNodes  Number of Nodes            10     10.0\n",
       " 1        numLinks  Number of Links            19     19.0\n",
       " 2  graphDirection  Graph Direction    Undirected      NaN\n",
       "\n",
       "[SolutionSummary]\n",
       "\n",
       " Solution Summary\n",
       " \n",
       "          Name1             Label1       cValue1   nValue1\n",
       " 0  problemType       Problem Type        Clique       NaN\n",
       " 1       status    Solution Status            OK       NaN\n",
       " 2   numCliques  Number of Cliques             4  4.000000\n",
       " 3      cpuTime           CPU Time          0.00  0.000000\n",
       " 4     realTime          Real Time          0.00  0.003425\n",
       "\n",
       "[numCliques]\n",
       "\n",
       " 4\n",
       "\n",
       "[solutionStatus]\n",
       "\n",
       " 'OK'\n",
       "\n",
       "[solutionStatusCode]\n",
       "\n",
       " 0\n",
       "\n",
       "+ Elapsed: 0.00898s, user: 0.004s, sys: 0.018s, mem: 47.7mb"
      ]
     },
     "execution_count": 10,
     "metadata": {},
     "output_type": "execute_result"
    }
   ],
   "source": [
    "conn.network.clique(links=dict(name='LinkSetIn'),\n",
    "                    outnodes=dict(name='nodeSetOut'), \n",
    "                    out=dict(name='cliques',), \n",
    "                    maxcliques='ALL')"
   ]
  },
  {
   "cell_type": "markdown",
   "id": "0e71e26b-6b51-41ca-82a2-17e638c4c604",
   "metadata": {},
   "source": [
    "### Step 4: Gather the results from CAS and prepare the data for plotting."
   ]
  },
  {
   "cell_type": "markdown",
   "id": "30eefd14-77cc-431a-a087-a8c2c08da053",
   "metadata": {},
   "source": [
    "Initially, we want to get a summary couont of the cliques. Since the `clique` action doesn't provide a summary of total cliques, and nodes associated with each, so we use a simple `fedsql` groupby call to generate that table."
   ]
  },
  {
   "cell_type": "code",
   "execution_count": 11,
   "id": "cb2dfd28",
   "metadata": {},
   "outputs": [
    {
     "name": "stdout",
     "output_type": "stream",
     "text": [
      "NOTE: Table CLIQUESIZES was created in caslib CASUSER(daherr) with 4 rows returned.\n"
     ]
    },
    {
     "data": {
      "text/html": [
       "<div class=\"cas-output-area\"></div>\n",
       "<p class=\"cas-results-performance\"><small><span class=\"cas-elapsed\">elapsed 0.0561s</span> &#183; <span class=\"cas-user\">user 0.11s</span> &#183; <span class=\"cas-sys\">sys 0.114s</span> &#183; <span class=\"cas-memory\">mem 118MB</span></small></p>"
      ],
      "text/plain": [
       "+ Elapsed: 0.0561s, user: 0.11s, sys: 0.114s, mem: 118mb"
      ]
     },
     "execution_count": 11,
     "metadata": {},
     "output_type": "execute_result"
    }
   ],
   "source": [
    "conn.fedsql.execdirect(query=\"create table cliqueSizes as select clique, count(*) from cliques group by clique\")"
   ]
  },
  {
   "cell_type": "markdown",
   "id": "e072d45a-2a75-4562-8fef-91b2891ef96d",
   "metadata": {},
   "source": [
    "If we want to see the contents of that table, we simply use the `fetch` action provided by `swat` to pull data locally and display in our notebook.\n",
    "\n",
    "The output table confirms that the `network.clique` action found four cliques in our graph."
   ]
  },
  {
   "cell_type": "code",
   "execution_count": 12,
   "id": "81be775d",
   "metadata": {
    "tags": []
   },
   "outputs": [
    {
     "data": {
      "text/html": [
       "<div class=\"cas-results-key\"><b>&#167; Fetch</b></div>\n",
       "<div class=\"cas-results-body\">\n",
       "<div>\n",
       "<style scoped>\n",
       "    .dataframe tbody tr th:only-of-type {\n",
       "        vertical-align: middle;\n",
       "    }\n",
       "\n",
       "    .dataframe tbody tr th {\n",
       "        vertical-align: top;\n",
       "    }\n",
       "\n",
       "    .dataframe thead th {\n",
       "        text-align: right;\n",
       "    }\n",
       "</style>\n",
       "<table border=\"1\" class=\"dataframe\"><caption>Selected Rows from Table CLIQUESIZES</caption>\n",
       "  <thead>\n",
       "    <tr style=\"text-align: right;\">\n",
       "      <th title=\"\"></th>\n",
       "      <th title=\"clique\">clique</th>\n",
       "      <th title=\"COUNT\">COUNT</th>\n",
       "    </tr>\n",
       "  </thead>\n",
       "  <tbody>\n",
       "    <tr>\n",
       "      <td>0</td>\n",
       "      <td>0.0</td>\n",
       "      <td>5</td>\n",
       "    </tr>\n",
       "    <tr>\n",
       "      <td>1</td>\n",
       "      <td>1.0</td>\n",
       "      <td>4</td>\n",
       "    </tr>\n",
       "    <tr>\n",
       "      <td>2</td>\n",
       "      <td>2.0</td>\n",
       "      <td>3</td>\n",
       "    </tr>\n",
       "    <tr>\n",
       "      <td>3</td>\n",
       "      <td>3.0</td>\n",
       "      <td>2</td>\n",
       "    </tr>\n",
       "  </tbody>\n",
       "</table>\n",
       "</div>\n",
       "</div>\n",
       "<div class=\"cas-output-area\"></div>\n",
       "<p class=\"cas-results-performance\"><small><span class=\"cas-elapsed\">elapsed 0.00101s</span> &#183; <span class=\"cas-memory\">mem 5.49MB</span></small></p>"
      ],
      "text/plain": [
       "[Fetch]\n",
       "\n",
       " Selected Rows from Table CLIQUESIZES\n",
       " \n",
       "    clique  COUNT\n",
       " 0     0.0      5\n",
       " 1     1.0      4\n",
       " 2     2.0      3\n",
       " 3     3.0      2\n",
       "\n",
       "+ Elapsed: 0.00101s, mem: 5.49mb"
      ]
     },
     "execution_count": 12,
     "metadata": {},
     "output_type": "execute_result"
    }
   ],
   "source": [
    "conn.fetch(table=dict(name='cliqueSizes'), \n",
    "           sortby=[{'name':'clique', \n",
    "                    'order':'ascending'}\n",
    "                  ]\n",
    "          )"
   ]
  },
  {
   "cell_type": "markdown",
   "id": "dfc43a20",
   "metadata": {},
   "source": [
    "CAS has calculated all of the information we need, so let's get anything remote back down to our local machine.\n",
    "\n",
    "Once we have it all we can prepare our plots.\n",
    "\n",
    "Our end product is a 2x2 grid of network plots, each one highlighting a particular clique. We have the following tables in CAS:\n",
    "\n",
    "| Table | Description |\n",
    "|-------|-------------|\n",
    "| `LinkSetIn` | The initial link set that defines our graph. |\n",
    "| `NodeSetOut` | A simple table of nodes. |\n",
    "| `cliques` | A results table that highlights which nodes belong to which cliques. Note this only shows nodes the __belong__ to a clique; nodes outside the clique are not shown |\n",
    "| `cliqueSizes` | The summary table that shows the count of nodes in a particular clique. Useful to get a list of total cliques. |\n",
    "\n",
    "For this exercise, we will use the `networkx` `Graph` that we created earlier. Thus we do not need the `LinkSetIn` or `NodeSetOut` tables.\n",
    "\n",
    "We need to fetch the `cliques` and `cliqueSizes` tables from CAS, and we'll manipulate them so we can add both clique membership and preferred coloring as node attributes to our graph.\n",
    "\n",
    "We fetch the `nodeSetOut` table and convert it to a list of nodes for simplicity.\n",
    "\n",
    "All of this will be used to create mapping dictionaries with node as a key, and the value represents an attribute. Once the mapping dictionaries are ready they are easily added to our `Graph` with the `set_node_attributes` method."
   ]
  },
  {
   "cell_type": "markdown",
   "id": "e3d8fb5c-0c20-4d7e-9739-7f4e4e951c49",
   "metadata": {},
   "source": [
    "----------------------------\n",
    "`clique_count` : We need the clique count list later when we iterate over cliques to highlight each clique in a separate plot. Let's generate this list by making a `CASTable` object, that we then convert to a dictionary. That dictionary has two keys: `clique` and `COUNT`; our list is the keys in the `clique` dictionary."
   ]
  },
  {
   "cell_type": "code",
   "execution_count": 13,
   "id": "020fe29e",
   "metadata": {},
   "outputs": [],
   "source": [
    "clique_count = list(conn.CASTable('cliqueSizes').to_dict()['clique'].keys())"
   ]
  },
  {
   "cell_type": "markdown",
   "id": "40018aab-b007-437f-8709-76713a03aedb",
   "metadata": {},
   "source": [
    "`clique_list`: Now we do the same for the clique list, but we orient the resulting dictionary as `records` per Pandas. This gives us a JSON-like list of dictionaries. This list will then be used later to create our mapping dictionaries."
   ]
  },
  {
   "cell_type": "code",
   "execution_count": 14,
   "id": "5297fc86",
   "metadata": {},
   "outputs": [],
   "source": [
    "clique_list = conn.CASTable('cliques').to_dict(orient='records')"
   ]
  },
  {
   "cell_type": "markdown",
   "id": "30843201-0b92-4fff-b353-244475c0ceae",
   "metadata": {},
   "source": [
    "### Step 5: Create base maps used to guide the individual plot generation.\n",
    "\n",
    "We'll leverage a few Python conveniences over the next few cells - particularly comprehensions and easy list creation.\n",
    "\n",
    "The results are:\n",
    "`clique_map`: a dictionary keyed by node label, with all `False` values.\n",
    "`highlight_map`: a dictionary keyed by node label, with the lightest color in the `Blues8` palette.\n",
    "\n",
    "When we are creating the attributes for a given clique, member nodes will be assigned `True` in the `clique_map`, and a darker color from the `Blues8` palette."
   ]
  },
  {
   "cell_type": "code",
   "execution_count": 15,
   "id": "ac35a932-e0a6-467c-b1b3-32f71a1211c2",
   "metadata": {},
   "outputs": [],
   "source": [
    "node_list = [int(x) for x in list(conn.CASTable('nodeSetOut')['node'])]\n",
    "base_clique = [False]*len(node_list)\n",
    "base_highlight = [Blues8[-1]]*len(node_list)\n",
    "\n",
    "clique_map = dict(zip(node_list, base_clique))\n",
    "highlight_map = dict(zip(node_list, base_highlight))"
   ]
  },
  {
   "cell_type": "markdown",
   "id": "d6dc4742-d97b-4cbd-923a-9e1e1341fad7",
   "metadata": {},
   "source": [
    "### Step 6: Assemble and Display the Plots\n",
    "\n",
    "We iterate over clique count, assigning attributes to the network that guide hover labeling and node shading."
   ]
  },
  {
   "cell_type": "code",
   "execution_count": 16,
   "id": "8aa04b7a",
   "metadata": {},
   "outputs": [
    {
     "data": {
      "text/html": [
       "\n",
       "\n",
       "\n",
       "\n",
       "\n",
       "\n",
       "  <div class=\"bk-root\" id=\"a1b62ccc-9d5a-452a-b342-d090d0190444\" data-root-id=\"1428\"></div>\n"
      ]
     },
     "metadata": {},
     "output_type": "display_data"
    },
    {
     "data": {
      "application/javascript": [
       "(function(root) {\n",
       "  function embed_document(root) {\n",
       "    \n",
       "  var docs_json = {\"c1c0bcdd-3f3b-40b7-94eb-7073e46bd0ac\":{\"defs\":[],\"roots\":{\"references\":[{\"attributes\":{\"children\":[{\"id\":\"1427\"},{\"id\":\"1425\"}]},\"id\":\"1428\",\"type\":\"Column\"},{\"attributes\":{\"line_alpha\":{\"value\":0.5},\"line_width\":{\"value\":2}},\"id\":\"1200\",\"type\":\"MultiLine\"},{\"attributes\":{},\"id\":\"1378\",\"type\":\"UnionRenderers\"},{\"attributes\":{},\"id\":\"1363\",\"type\":\"Selection\"},{\"attributes\":{},\"id\":\"1379\",\"type\":\"Selection\"},{\"attributes\":{},\"id\":\"1380\",\"type\":\"UnionRenderers\"},{\"attributes\":{\"callback\":null,\"tooltips\":[[\"Node\",\"@index\"],[\"Clique\",\"@clique\"]]},\"id\":\"1217\",\"type\":\"HoverTool\"},{\"attributes\":{},\"id\":\"1362\",\"type\":\"UnionRenderers\"},{\"attributes\":{},\"id\":\"1349\",\"type\":\"NodesOnly\"},{\"attributes\":{\"edge_renderer\":{\"id\":\"1192\"},\"inspection_policy\":{\"id\":\"1215\"},\"layout_provider\":{\"id\":\"1194\"},\"node_renderer\":{\"id\":\"1188\"},\"selection_policy\":{\"id\":\"1349\"}},\"id\":\"1185\",\"type\":\"GraphRenderer\"},{\"attributes\":{},\"id\":\"1383\",\"type\":\"Selection\"},{\"attributes\":{},\"id\":\"1382\",\"type\":\"UnionRenderers\"},{\"attributes\":{\"active_multi\":null,\"tools\":[{\"id\":\"1217\"}]},\"id\":\"1218\",\"type\":\"Toolbar\"},{\"attributes\":{\"fill_color\":{\"value\":\"#abdda4\"},\"size\":{\"value\":40}},\"id\":\"1246\",\"type\":\"Circle\"},{\"attributes\":{\"data_source\":{\"id\":\"1228\"},\"glyph\":{\"id\":\"1236\"},\"hover_glyph\":{\"id\":\"1246\"},\"muted_glyph\":null,\"view\":{\"id\":\"1230\"}},\"id\":\"1229\",\"type\":\"GlyphRenderer\"},{\"attributes\":{},\"id\":\"1365\",\"type\":\"LinearScale\"},{\"attributes\":{},\"id\":\"1366\",\"type\":\"LinearScale\"},{\"attributes\":{},\"id\":\"1361\",\"type\":\"Selection\"},{\"attributes\":{},\"id\":\"1368\",\"type\":\"DataRange1d\"},{\"attributes\":{\"fill_color\":{\"field\":\"highlight\"},\"size\":{\"value\":40}},\"id\":\"1236\",\"type\":\"Circle\"},{\"attributes\":{\"source\":{\"id\":\"1314\"}},\"id\":\"1316\",\"type\":\"CDSView\"},{\"attributes\":{},\"id\":\"1385\",\"type\":\"LinearScale\"},{\"attributes\":{\"data\":{\"name\":[0,1,2,3,4,5,6,7,8,9],\"x\":[5.025110883829013,7.381914236978649,2.392591227715627,6.828799998119717,5.143954368150991,3.801270500767021,1.585805662128429,-0.7321152140170328,-3.4273316636724216,-8.0],\"y\":[2.106035551009846,0.6574120505094389,0.18869162933392528,-1.7014873572113585,-1.0642170755007134,5.037697601957711,4.185004643665932,-3.3988769156785366,-2.190272107333343,-3.819988020752905]},\"selected\":{\"id\":\"1359\"},\"selection_policy\":{\"id\":\"1358\"}},\"id\":\"1219\",\"type\":\"ColumnDataSource\"},{\"attributes\":{},\"id\":\"1386\",\"type\":\"LinearScale\"},{\"attributes\":{\"graph_layout\":{\"0\":[5.025110883829013,2.106035551009846],\"1\":[7.381914236978649,0.6574120505094389],\"2\":[2.392591227715627,0.18869162933392528],\"3\":[6.828799998119717,-1.7014873572113585],\"4\":[5.143954368150991,-1.0642170755007134],\"5\":[3.801270500767021,5.037697601957711],\"6\":[1.585805662128429,4.185004643665932],\"7\":[-0.7321152140170328,-3.3988769156785366],\"8\":[-3.4273316636724216,-2.190272107333343],\"9\":[-8.0,-3.819988020752905]}},\"id\":\"1235\",\"type\":\"StaticLayoutProvider\"},{\"attributes\":{\"renderers\":[{\"id\":\"1226\"},{\"id\":\"1261\"}],\"title\":\"Clique 1\",\"toolbar\":{\"id\":\"1259\"},\"toolbar_location\":null,\"x_range\":{\"id\":\"1222\"},\"x_scale\":{\"id\":\"1365\"},\"y_range\":{\"id\":\"1368\"},\"y_scale\":{\"id\":\"1366\"}},\"id\":\"1223\",\"type\":\"Plot\"},{\"attributes\":{\"fill_color\":{\"field\":\"highlight\"},\"size\":{\"value\":40}},\"id\":\"1195\",\"type\":\"Circle\"},{\"attributes\":{},\"id\":\"1346\",\"type\":\"LinearScale\"},{\"attributes\":{},\"id\":\"1388\",\"type\":\"DataRange1d\"},{\"attributes\":{\"data\":{\"clique\":[true,false,true,false,false,true,true,false,false,false],\"highlight\":[\"#9ecae1\",\"#f7fbff\",\"#9ecae1\",\"#f7fbff\",\"#f7fbff\",\"#9ecae1\",\"#9ecae1\",\"#f7fbff\",\"#f7fbff\",\"#f7fbff\"],\"index\":[0,1,2,3,4,5,6,7,8,9]},\"selected\":{\"id\":\"1381\"},\"selection_policy\":{\"id\":\"1380\"}},\"id\":\"1228\",\"type\":\"ColumnDataSource\"},{\"attributes\":{},\"id\":\"1358\",\"type\":\"UnionRenderers\"},{\"attributes\":{},\"id\":\"1369\",\"type\":\"NodesOnly\"},{\"attributes\":{\"data_source\":{\"id\":\"1232\"},\"glyph\":{\"id\":\"1241\"},\"hover_glyph\":{\"id\":\"1251\"},\"muted_glyph\":null,\"view\":{\"id\":\"1234\"}},\"id\":\"1233\",\"type\":\"GlyphRenderer\"},{\"attributes\":{\"data\":{\"end\":[1,2,3,4,5,6,2,3,4,3,4,5,6,7,8,4,6,8,9],\"start\":[0,0,0,0,0,0,1,1,1,2,2,2,2,2,2,3,5,7,8]},\"selected\":{\"id\":\"1383\"},\"selection_policy\":{\"id\":\"1382\"}},\"id\":\"1232\",\"type\":\"ColumnDataSource\"},{\"attributes\":{\"line_alpha\":{\"value\":0.5},\"line_width\":{\"value\":2}},\"id\":\"1241\",\"type\":\"MultiLine\"},{\"attributes\":{\"line_color\":{\"value\":\"#abdda4\"},\"line_width\":{\"value\":4}},\"id\":\"1251\",\"type\":\"MultiLine\"},{\"attributes\":{\"fill_color\":{\"value\":\"#abdda4\"},\"size\":{\"value\":40}},\"id\":\"1205\",\"type\":\"Circle\"},{\"attributes\":{\"end\":10.1,\"start\":-10.1},\"id\":\"1222\",\"type\":\"Range1d\"},{\"attributes\":{\"edge_renderer\":{\"id\":\"1233\"},\"inspection_policy\":{\"id\":\"1256\"},\"layout_provider\":{\"id\":\"1235\"},\"node_renderer\":{\"id\":\"1229\"},\"selection_policy\":{\"id\":\"1369\"}},\"id\":\"1226\",\"type\":\"GraphRenderer\"},{\"attributes\":{},\"id\":\"1345\",\"type\":\"LinearScale\"},{\"attributes\":{},\"id\":\"1389\",\"type\":\"NodesOnly\"},{\"attributes\":{\"background_fill_color\":{\"field\":\"highlight\"},\"source\":{\"id\":\"1219\"},\"text\":{\"field\":\"name\"},\"text_font_size\":{\"value\":\"13px\"},\"x\":{\"field\":\"x\"},\"x_offset\":{\"value\":-5},\"y\":{\"field\":\"y\"},\"y_offset\":{\"value\":-5}},\"id\":\"1220\",\"type\":\"LabelSet\"},{\"attributes\":{},\"id\":\"1348\",\"type\":\"DataRange1d\"},{\"attributes\":{\"data\":{\"name\":[0,1,2,3,4,5,6,7,8,9],\"x\":[5.025110883829013,7.381914236978649,2.392591227715627,6.828799998119717,5.143954368150991,3.801270500767021,1.585805662128429,-0.7321152140170328,-3.4273316636724216,-8.0],\"y\":[2.106035551009846,0.6574120505094389,0.18869162933392528,-1.7014873572113585,-1.0642170755007134,5.037697601957711,4.185004643665932,-3.3988769156785366,-2.190272107333343,-3.819988020752905]},\"selected\":{\"id\":\"1379\"},\"selection_policy\":{\"id\":\"1378\"}},\"id\":\"1260\",\"type\":\"ColumnDataSource\"},{\"attributes\":{},\"id\":\"1359\",\"type\":\"Selection\"},{\"attributes\":{\"renderers\":[{\"id\":\"1185\"},{\"id\":\"1220\"}],\"title\":\"Clique 0\",\"toolbar\":{\"id\":\"1218\"},\"toolbar_location\":null,\"x_range\":{\"id\":\"1181\"},\"x_scale\":{\"id\":\"1345\"},\"y_range\":{\"id\":\"1348\"},\"y_scale\":{\"id\":\"1346\"}},\"id\":\"1182\",\"type\":\"Plot\"},{\"attributes\":{\"source\":{\"id\":\"1232\"}},\"id\":\"1234\",\"type\":\"CDSView\"},{\"attributes\":{\"source\":{\"id\":\"1228\"}},\"id\":\"1230\",\"type\":\"CDSView\"},{\"attributes\":{\"end\":10.1,\"start\":-10.1},\"id\":\"1181\",\"type\":\"Range1d\"},{\"attributes\":{\"data_source\":{\"id\":\"1187\"},\"glyph\":{\"id\":\"1195\"},\"hover_glyph\":{\"id\":\"1205\"},\"muted_glyph\":null,\"view\":{\"id\":\"1189\"}},\"id\":\"1188\",\"type\":\"GlyphRenderer\"},{\"attributes\":{\"source\":{\"id\":\"1191\"}},\"id\":\"1193\",\"type\":\"CDSView\"},{\"attributes\":{\"data\":{\"clique\":[true,true,true,true,true,false,false,false,false,false],\"highlight\":[\"#9ecae1\",\"#9ecae1\",\"#9ecae1\",\"#9ecae1\",\"#9ecae1\",\"#f7fbff\",\"#f7fbff\",\"#f7fbff\",\"#f7fbff\",\"#f7fbff\"],\"index\":[0,1,2,3,4,5,6,7,8,9]},\"selected\":{\"id\":\"1361\"},\"selection_policy\":{\"id\":\"1360\"}},\"id\":\"1187\",\"type\":\"ColumnDataSource\"},{\"attributes\":{\"source\":{\"id\":\"1187\"}},\"id\":\"1189\",\"type\":\"CDSView\"},{\"attributes\":{\"data_source\":{\"id\":\"1191\"},\"glyph\":{\"id\":\"1200\"},\"hover_glyph\":{\"id\":\"1210\"},\"muted_glyph\":null,\"view\":{\"id\":\"1193\"}},\"id\":\"1192\",\"type\":\"GlyphRenderer\"},{\"attributes\":{},\"id\":\"1381\",\"type\":\"Selection\"},{\"attributes\":{},\"id\":\"1409\",\"type\":\"NodesOnly\"},{\"attributes\":{\"active_multi\":null,\"tools\":[{\"id\":\"1258\"}]},\"id\":\"1259\",\"type\":\"Toolbar\"},{\"attributes\":{},\"id\":\"1398\",\"type\":\"UnionRenderers\"},{\"attributes\":{},\"id\":\"1399\",\"type\":\"Selection\"},{\"attributes\":{},\"id\":\"1256\",\"type\":\"NodesAndLinkedEdges\"},{\"attributes\":{\"toolbars\":[{\"id\":\"1218\"},{\"id\":\"1259\"},{\"id\":\"1300\"},{\"id\":\"1341\"}],\"tools\":[{\"id\":\"1217\"},{\"id\":\"1258\"},{\"id\":\"1299\"},{\"id\":\"1340\"}]},\"id\":\"1426\",\"type\":\"ProxyToolbar\"},{\"attributes\":{\"active_multi\":null,\"tools\":[{\"id\":\"1340\"}]},\"id\":\"1341\",\"type\":\"Toolbar\"},{\"attributes\":{\"background_fill_color\":{\"field\":\"highlight\"},\"source\":{\"id\":\"1260\"},\"text\":{\"field\":\"name\"},\"text_font_size\":{\"value\":\"13px\"},\"x\":{\"field\":\"x\"},\"x_offset\":{\"value\":-5},\"y\":{\"field\":\"y\"},\"y_offset\":{\"value\":-5}},\"id\":\"1261\",\"type\":\"LabelSet\"},{\"attributes\":{},\"id\":\"1400\",\"type\":\"UnionRenderers\"},{\"attributes\":{\"children\":[[{\"id\":\"1182\"},0,0],[{\"id\":\"1223\"},0,1],[{\"id\":\"1264\"},1,0],[{\"id\":\"1305\"},1,1]]},\"id\":\"1425\",\"type\":\"GridBox\"},{\"attributes\":{\"graph_layout\":{\"0\":[5.025110883829013,2.106035551009846],\"1\":[7.381914236978649,0.6574120505094389],\"2\":[2.392591227715627,0.18869162933392528],\"3\":[6.828799998119717,-1.7014873572113585],\"4\":[5.143954368150991,-1.0642170755007134],\"5\":[3.801270500767021,5.037697601957711],\"6\":[1.585805662128429,4.185004643665932],\"7\":[-0.7321152140170328,-3.3988769156785366],\"8\":[-3.4273316636724216,-2.190272107333343],\"9\":[-8.0,-3.819988020752905]}},\"id\":\"1194\",\"type\":\"StaticLayoutProvider\"},{\"attributes\":{\"callback\":null,\"tooltips\":[[\"Node\",\"@index\"],[\"Clique\",\"@clique\"]]},\"id\":\"1258\",\"type\":\"HoverTool\"},{\"attributes\":{\"data\":{\"name\":[0,1,2,3,4,5,6,7,8,9],\"x\":[5.025110883829013,7.381914236978649,2.392591227715627,6.828799998119717,5.143954368150991,3.801270500767021,1.585805662128429,-0.7321152140170328,-3.4273316636724216,-8.0],\"y\":[2.106035551009846,0.6574120505094389,0.18869162933392528,-1.7014873572113585,-1.0642170755007134,5.037697601957711,4.185004643665932,-3.3988769156785366,-2.190272107333343,-3.819988020752905]},\"selected\":{\"id\":\"1399\"},\"selection_policy\":{\"id\":\"1398\"}},\"id\":\"1301\",\"type\":\"ColumnDataSource\"},{\"attributes\":{\"callback\":null,\"tooltips\":[[\"Node\",\"@index\"],[\"Clique\",\"@clique\"]]},\"id\":\"1340\",\"type\":\"HoverTool\"},{\"attributes\":{\"renderers\":[{\"id\":\"1267\"},{\"id\":\"1302\"}],\"title\":\"Clique 2\",\"toolbar\":{\"id\":\"1300\"},\"toolbar_location\":null,\"x_range\":{\"id\":\"1263\"},\"x_scale\":{\"id\":\"1385\"},\"y_range\":{\"id\":\"1388\"},\"y_scale\":{\"id\":\"1386\"}},\"id\":\"1264\",\"type\":\"Plot\"},{\"attributes\":{},\"id\":\"1401\",\"type\":\"Selection\"},{\"attributes\":{\"fill_color\":{\"field\":\"highlight\"},\"size\":{\"value\":40}},\"id\":\"1277\",\"type\":\"Circle\"},{\"attributes\":{\"line_color\":{\"value\":\"#abdda4\"},\"line_width\":{\"value\":4}},\"id\":\"1210\",\"type\":\"MultiLine\"},{\"attributes\":{\"edge_renderer\":{\"id\":\"1274\"},\"inspection_policy\":{\"id\":\"1297\"},\"layout_provider\":{\"id\":\"1276\"},\"node_renderer\":{\"id\":\"1270\"},\"selection_policy\":{\"id\":\"1389\"}},\"id\":\"1267\",\"type\":\"GraphRenderer\"},{\"attributes\":{\"data\":{\"clique\":[false,false,true,false,false,false,false,true,true,false],\"highlight\":[\"#f7fbff\",\"#f7fbff\",\"#9ecae1\",\"#f7fbff\",\"#f7fbff\",\"#f7fbff\",\"#f7fbff\",\"#9ecae1\",\"#9ecae1\",\"#f7fbff\"],\"index\":[0,1,2,3,4,5,6,7,8,9]},\"selected\":{\"id\":\"1401\"},\"selection_policy\":{\"id\":\"1400\"}},\"id\":\"1269\",\"type\":\"ColumnDataSource\"},{\"attributes\":{\"toolbar\":{\"id\":\"1426\"},\"toolbar_location\":\"above\"},\"id\":\"1427\",\"type\":\"ToolbarBox\"},{\"attributes\":{\"data\":{\"end\":[1,2,3,4,5,6,2,3,4,3,4,5,6,7,8,4,6,8,9],\"start\":[0,0,0,0,0,0,1,1,1,2,2,2,2,2,2,3,5,7,8]},\"selected\":{\"id\":\"1403\"},\"selection_policy\":{\"id\":\"1402\"}},\"id\":\"1273\",\"type\":\"ColumnDataSource\"},{\"attributes\":{},\"id\":\"1418\",\"type\":\"UnionRenderers\"},{\"attributes\":{\"end\":10.1,\"start\":-10.1},\"id\":\"1263\",\"type\":\"Range1d\"},{\"attributes\":{\"data\":{\"end\":[1,2,3,4,5,6,2,3,4,3,4,5,6,7,8,4,6,8,9],\"start\":[0,0,0,0,0,0,1,1,1,2,2,2,2,2,2,3,5,7,8]},\"selected\":{\"id\":\"1363\"},\"selection_policy\":{\"id\":\"1362\"}},\"id\":\"1191\",\"type\":\"ColumnDataSource\"},{\"attributes\":{\"background_fill_color\":{\"field\":\"highlight\"},\"source\":{\"id\":\"1301\"},\"text\":{\"field\":\"name\"},\"text_font_size\":{\"value\":\"13px\"},\"x\":{\"field\":\"x\"},\"x_offset\":{\"value\":-5},\"y\":{\"field\":\"y\"},\"y_offset\":{\"value\":-5}},\"id\":\"1302\",\"type\":\"LabelSet\"},{\"attributes\":{},\"id\":\"1419\",\"type\":\"Selection\"},{\"attributes\":{\"data_source\":{\"id\":\"1269\"},\"glyph\":{\"id\":\"1277\"},\"hover_glyph\":{\"id\":\"1287\"},\"muted_glyph\":null,\"view\":{\"id\":\"1271\"}},\"id\":\"1270\",\"type\":\"GlyphRenderer\"},{\"attributes\":{\"source\":{\"id\":\"1269\"}},\"id\":\"1271\",\"type\":\"CDSView\"},{\"attributes\":{},\"id\":\"1360\",\"type\":\"UnionRenderers\"},{\"attributes\":{\"graph_layout\":{\"0\":[5.025110883829013,2.106035551009846],\"1\":[7.381914236978649,0.6574120505094389],\"2\":[2.392591227715627,0.18869162933392528],\"3\":[6.828799998119717,-1.7014873572113585],\"4\":[5.143954368150991,-1.0642170755007134],\"5\":[3.801270500767021,5.037697601957711],\"6\":[1.585805662128429,4.185004643665932],\"7\":[-0.7321152140170328,-3.3988769156785366],\"8\":[-3.4273316636724216,-2.190272107333343],\"9\":[-8.0,-3.819988020752905]}},\"id\":\"1276\",\"type\":\"StaticLayoutProvider\"},{\"attributes\":{\"data_source\":{\"id\":\"1273\"},\"glyph\":{\"id\":\"1282\"},\"hover_glyph\":{\"id\":\"1292\"},\"muted_glyph\":null,\"view\":{\"id\":\"1275\"}},\"id\":\"1274\",\"type\":\"GlyphRenderer\"},{\"attributes\":{},\"id\":\"1403\",\"type\":\"Selection\"},{\"attributes\":{\"source\":{\"id\":\"1273\"}},\"id\":\"1275\",\"type\":\"CDSView\"},{\"attributes\":{},\"id\":\"1402\",\"type\":\"UnionRenderers\"},{\"attributes\":{},\"id\":\"1420\",\"type\":\"UnionRenderers\"},{\"attributes\":{\"line_color\":{\"value\":\"#abdda4\"},\"line_width\":{\"value\":4}},\"id\":\"1333\",\"type\":\"MultiLine\"},{\"attributes\":{},\"id\":\"1421\",\"type\":\"Selection\"},{\"attributes\":{\"line_alpha\":{\"value\":0.5},\"line_width\":{\"value\":2}},\"id\":\"1282\",\"type\":\"MultiLine\"},{\"attributes\":{},\"id\":\"1338\",\"type\":\"NodesAndLinkedEdges\"},{\"attributes\":{\"fill_color\":{\"value\":\"#abdda4\"},\"size\":{\"value\":40}},\"id\":\"1287\",\"type\":\"Circle\"},{\"attributes\":{\"line_color\":{\"value\":\"#abdda4\"},\"line_width\":{\"value\":4}},\"id\":\"1292\",\"type\":\"MultiLine\"},{\"attributes\":{},\"id\":\"1297\",\"type\":\"NodesAndLinkedEdges\"},{\"attributes\":{\"callback\":null,\"tooltips\":[[\"Node\",\"@index\"],[\"Clique\",\"@clique\"]]},\"id\":\"1299\",\"type\":\"HoverTool\"},{\"attributes\":{\"active_multi\":null,\"tools\":[{\"id\":\"1299\"}]},\"id\":\"1300\",\"type\":\"Toolbar\"},{\"attributes\":{},\"id\":\"1215\",\"type\":\"NodesAndLinkedEdges\"},{\"attributes\":{\"data\":{\"name\":[0,1,2,3,4,5,6,7,8,9],\"x\":[5.025110883829013,7.381914236978649,2.392591227715627,6.828799998119717,5.143954368150991,3.801270500767021,1.585805662128429,-0.7321152140170328,-3.4273316636724216,-8.0],\"y\":[2.106035551009846,0.6574120505094389,0.18869162933392528,-1.7014873572113585,-1.0642170755007134,5.037697601957711,4.185004643665932,-3.3988769156785366,-2.190272107333343,-3.819988020752905]},\"selected\":{\"id\":\"1419\"},\"selection_policy\":{\"id\":\"1418\"}},\"id\":\"1342\",\"type\":\"ColumnDataSource\"},{\"attributes\":{},\"id\":\"1423\",\"type\":\"Selection\"},{\"attributes\":{},\"id\":\"1422\",\"type\":\"UnionRenderers\"},{\"attributes\":{\"renderers\":[{\"id\":\"1308\"},{\"id\":\"1343\"}],\"title\":\"Clique 3\",\"toolbar\":{\"id\":\"1341\"},\"toolbar_location\":null,\"x_range\":{\"id\":\"1304\"},\"x_scale\":{\"id\":\"1405\"},\"y_range\":{\"id\":\"1408\"},\"y_scale\":{\"id\":\"1406\"}},\"id\":\"1305\",\"type\":\"Plot\"},{\"attributes\":{\"fill_color\":{\"field\":\"highlight\"},\"size\":{\"value\":40}},\"id\":\"1318\",\"type\":\"Circle\"},{\"attributes\":{\"fill_color\":{\"value\":\"#abdda4\"},\"size\":{\"value\":40}},\"id\":\"1328\",\"type\":\"Circle\"},{\"attributes\":{\"edge_renderer\":{\"id\":\"1315\"},\"inspection_policy\":{\"id\":\"1338\"},\"layout_provider\":{\"id\":\"1317\"},\"node_renderer\":{\"id\":\"1311\"},\"selection_policy\":{\"id\":\"1409\"}},\"id\":\"1308\",\"type\":\"GraphRenderer\"},{\"attributes\":{\"data\":{\"clique\":[false,false,false,false,false,false,false,false,true,true],\"highlight\":[\"#f7fbff\",\"#f7fbff\",\"#f7fbff\",\"#f7fbff\",\"#f7fbff\",\"#f7fbff\",\"#f7fbff\",\"#f7fbff\",\"#9ecae1\",\"#9ecae1\"],\"index\":[0,1,2,3,4,5,6,7,8,9]},\"selected\":{\"id\":\"1421\"},\"selection_policy\":{\"id\":\"1420\"}},\"id\":\"1310\",\"type\":\"ColumnDataSource\"},{\"attributes\":{},\"id\":\"1405\",\"type\":\"LinearScale\"},{\"attributes\":{\"data\":{\"end\":[1,2,3,4,5,6,2,3,4,3,4,5,6,7,8,4,6,8,9],\"start\":[0,0,0,0,0,0,1,1,1,2,2,2,2,2,2,3,5,7,8]},\"selected\":{\"id\":\"1423\"},\"selection_policy\":{\"id\":\"1422\"}},\"id\":\"1314\",\"type\":\"ColumnDataSource\"},{\"attributes\":{\"end\":10.1,\"start\":-10.1},\"id\":\"1304\",\"type\":\"Range1d\"},{\"attributes\":{\"background_fill_color\":{\"field\":\"highlight\"},\"source\":{\"id\":\"1342\"},\"text\":{\"field\":\"name\"},\"text_font_size\":{\"value\":\"13px\"},\"x\":{\"field\":\"x\"},\"x_offset\":{\"value\":-5},\"y\":{\"field\":\"y\"},\"y_offset\":{\"value\":-5}},\"id\":\"1343\",\"type\":\"LabelSet\"},{\"attributes\":{},\"id\":\"1406\",\"type\":\"LinearScale\"},{\"attributes\":{\"data_source\":{\"id\":\"1310\"},\"glyph\":{\"id\":\"1318\"},\"hover_glyph\":{\"id\":\"1328\"},\"muted_glyph\":null,\"view\":{\"id\":\"1312\"}},\"id\":\"1311\",\"type\":\"GlyphRenderer\"},{\"attributes\":{\"source\":{\"id\":\"1310\"}},\"id\":\"1312\",\"type\":\"CDSView\"},{\"attributes\":{\"data_source\":{\"id\":\"1314\"},\"glyph\":{\"id\":\"1323\"},\"hover_glyph\":{\"id\":\"1333\"},\"muted_glyph\":null,\"view\":{\"id\":\"1316\"}},\"id\":\"1315\",\"type\":\"GlyphRenderer\"},{\"attributes\":{\"graph_layout\":{\"0\":[5.025110883829013,2.106035551009846],\"1\":[7.381914236978649,0.6574120505094389],\"2\":[2.392591227715627,0.18869162933392528],\"3\":[6.828799998119717,-1.7014873572113585],\"4\":[5.143954368150991,-1.0642170755007134],\"5\":[3.801270500767021,5.037697601957711],\"6\":[1.585805662128429,4.185004643665932],\"7\":[-0.7321152140170328,-3.3988769156785366],\"8\":[-3.4273316636724216,-2.190272107333343],\"9\":[-8.0,-3.819988020752905]}},\"id\":\"1317\",\"type\":\"StaticLayoutProvider\"},{\"attributes\":{},\"id\":\"1408\",\"type\":\"DataRange1d\"},{\"attributes\":{\"line_alpha\":{\"value\":0.5},\"line_width\":{\"value\":2}},\"id\":\"1323\",\"type\":\"MultiLine\"}],\"root_ids\":[\"1428\"]},\"title\":\"Bokeh Application\",\"version\":\"2.3.3\"}};\n",
       "  var render_items = [{\"docid\":\"c1c0bcdd-3f3b-40b7-94eb-7073e46bd0ac\",\"root_ids\":[\"1428\"],\"roots\":{\"1428\":\"a1b62ccc-9d5a-452a-b342-d090d0190444\"}}];\n",
       "  root.Bokeh.embed.embed_items_notebook(docs_json, render_items);\n",
       "\n",
       "  }\n",
       "  if (root.Bokeh !== undefined) {\n",
       "    embed_document(root);\n",
       "  } else {\n",
       "    var attempts = 0;\n",
       "    var timer = setInterval(function(root) {\n",
       "      if (root.Bokeh !== undefined) {\n",
       "        clearInterval(timer);\n",
       "        embed_document(root);\n",
       "      } else {\n",
       "        attempts++;\n",
       "        if (attempts > 100) {\n",
       "          clearInterval(timer);\n",
       "          console.log(\"Bokeh: ERROR: Unable to run BokehJS code because BokehJS library is missing\");\n",
       "        }\n",
       "      }\n",
       "    }, 10, root)\n",
       "  }\n",
       "})(window);"
      ],
      "application/vnd.bokehjs_exec.v0+json": ""
     },
     "metadata": {
      "application/vnd.bokehjs_exec.v0+json": {
       "id": "1428"
      }
     },
     "output_type": "display_data"
    }
   ],
   "source": [
    "# node size should be common over all plots.\n",
    "nodeSize = 40\n",
    "\n",
    "# initialize our plot container.\n",
    "plot_list = []\n",
    "\n",
    "# iterate over each of the cliques, and highlight (darken) the clique\n",
    "for i in clique_count:\n",
    "    # create a list of only the nodes that are members of the clique.\n",
    "    subnode_list = [item['node'] for item in clique_list if item['clique'] == i]\n",
    "    # create a clique and highlight map\n",
    "    this_clique_map = {k:True if k in subnode_list else v for k,v in clique_map.items()}\n",
    "    this_highlight_map = {k:Blues8[-4] if k in subnode_list else v for k,v in highlight_map.items()}\n",
    "    # set our node attributes.\n",
    "    nx.set_node_attributes(G, this_highlight_map, 'highlight')\n",
    "    nx.set_node_attributes(G, this_clique_map, 'clique')\n",
    "    # set the title and hover plot values.\n",
    "    title = f\"Clique {i}\"\n",
    "    hover = [(\"Node\", \"@index\"), (\"Clique\", \"@clique\")]\n",
    "    # render the plot and add it to the list\n",
    "    plot_list.append(render_plot(G, title, hover, node_size=nodeSize, node_color='highlight'))\n",
    "\n",
    "# now we know the length of the list, define how many columns we want, make our grid, and finally show it.\n",
    "columns = int(len(plot_list) / 2)\n",
    "grid = gridplot(plot_list, ncols=columns)\n",
    "show(grid)"
   ]
  },
  {
   "cell_type": "markdown",
   "id": "738da507-526e-444c-80cc-96738490ce5a",
   "metadata": {},
   "source": [
    "### Step 7: Clean up everything. \n",
    "\n",
    "Drop all the tables we created, and close our connection."
   ]
  },
  {
   "cell_type": "code",
   "execution_count": 17,
   "id": "7f7cf035",
   "metadata": {},
   "outputs": [
    {
     "data": {
      "text/html": [
       "<div class=\"cas-output-area\"></div>\n",
       "<p class=\"cas-results-performance\"><small><span class=\"cas-elapsed\">elapsed 0.000343s</span> &#183; <span class=\"cas-memory\">mem 0.273MB</span></small></p>"
      ],
      "text/plain": [
       "+ Elapsed: 0.000343s, mem: 0.273mb"
      ]
     },
     "execution_count": 17,
     "metadata": {},
     "output_type": "execute_result"
    }
   ],
   "source": [
    "conn.droptable(name='LinkSetIn', quiet=True)\n",
    "conn.droptable(name='nodeSetOut', quiet=True)\n",
    "conn.droptable(name='cliques', quiet=True)\n",
    "conn.droptable(name='cliqueSizes', quiet=True)"
   ]
  },
  {
   "cell_type": "code",
   "execution_count": 18,
   "id": "469d90d2",
   "metadata": {},
   "outputs": [],
   "source": [
    "conn.close()"
   ]
  },
  {
   "cell_type": "code",
   "execution_count": null,
   "id": "1cc8b748-af71-42e4-8a96-671fb0dd4c66",
   "metadata": {},
   "outputs": [],
   "source": []
  }
 ],
 "metadata": {
  "kernelspec": {
   "display_name": "Python 3 (ipykernel)",
   "language": "python",
   "name": "python3"
  },
  "language_info": {
   "codemirror_mode": {
    "name": "ipython",
    "version": 3
   },
   "file_extension": ".py",
   "mimetype": "text/x-python",
   "name": "python",
   "nbconvert_exporter": "python",
   "pygments_lexer": "ipython3",
   "version": "3.8.9"
  }
 },
 "nbformat": 4,
 "nbformat_minor": 5
}
