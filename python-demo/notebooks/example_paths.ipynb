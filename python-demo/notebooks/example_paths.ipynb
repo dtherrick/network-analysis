{
 "cells": [
  {
   "cell_type": "code",
   "execution_count": null,
   "id": "ce080ca8-34bb-4ebd-b4a1-fd501eaacbd2",
   "metadata": {},
   "outputs": [],
   "source": [
    "import os\n",
    "import swat\n",
    "import pandas as pd\n",
    "\n",
    "import networkx as nx\n",
    "\n",
    "from bokeh.io import output_notebook, show\n",
    "from bokeh.layouts import gridplot\n",
    "from bokeh.palettes import Blues8\n",
    "\n",
    "from python_demo.datasets.examples import paths_graph_from_links\n",
    "from python_demo.visualization.bokeh_graphs import render_plot"
   ]
  },
  {
   "cell_type": "code",
   "execution_count": null,
   "id": "f8eb8d4c-c8b6-44cb-ba4f-d03d395a7bb2",
   "metadata": {},
   "outputs": [],
   "source": [
    "output_notebook()"
   ]
  },
  {
   "cell_type": "code",
   "execution_count": null,
   "id": "ac55939c-a688-4751-97e4-8f9a3fa44aec",
   "metadata": {},
   "outputs": [],
   "source": [
    "host = os.environ['CAS_HOST']\n",
    "port = int(os.environ['CAS_PORT'])\n",
    "print(f\"{host}:{port}\")"
   ]
  },
  {
   "cell_type": "code",
   "execution_count": null,
   "id": "5a4dc9bb-e1f6-4c57-93e0-9c1d213c48a9",
   "metadata": {},
   "outputs": [],
   "source": [
    "dfLinkSetIn = paths_graph_from_links()"
   ]
  },
  {
   "cell_type": "code",
   "execution_count": null,
   "id": "0ee52942-03e7-4415-9589-e1c6d8c0cc44",
   "metadata": {},
   "outputs": [],
   "source": [
    "G = nx.from_pandas_edgelist(dfLinkSetIn, 'from', 'to', edge_attr=['weight'], create_using=nx.DiGraph)\n",
    "\n",
    "title = 'Sample Directed Graph for Path Enumeration'\n",
    "hover = [('Node', '@index')]\n",
    "nodeSize = 40\n",
    "\n",
    "plot = render_plot(G, title, hover, nodeSize)\n",
    "show(plot)"
   ]
  },
  {
   "cell_type": "code",
   "execution_count": null,
   "id": "8076ebb1-880e-4a9c-8256-351c7aae55f9",
   "metadata": {},
   "outputs": [],
   "source": [
    "conn = swat.CAS(host, port)"
   ]
  },
  {
   "cell_type": "code",
   "execution_count": null,
   "id": "3a49fd4e-fc1a-4796-9b60-fcd61a9f62b7",
   "metadata": {},
   "outputs": [],
   "source": [
    "_ = conn.loadactionset(\"network\")"
   ]
  },
  {
   "cell_type": "code",
   "execution_count": null,
   "id": "3d52c485-87f1-433f-a489-db9a8ae0cb41",
   "metadata": {},
   "outputs": [],
   "source": [
    "conn.caslibinfo('CASUSER(daherr)')"
   ]
  },
  {
   "cell_type": "code",
   "execution_count": null,
   "id": "33e8ad4f-9e70-47a7-bcea-a8edbf8fede9",
   "metadata": {},
   "outputs": [],
   "source": [
    "_ = conn.upload(dfLinkSetIn, casout=dict(name='LinkSetIn'))"
   ]
  },
  {
   "cell_type": "markdown",
   "id": "c89a9af1-7841-45a3-962d-8cd8b3f32baf",
   "metadata": {},
   "source": [
    "```\n",
    "proc network\n",
    "   direction         = directed\n",
    "   links             = mycas.LinkSetIn\n",
    "   outNodes          = mycas.NodeSetIn;\n",
    "   path\n",
    "      source         = D\n",
    "      sink           = A\n",
    "      maxLinkWeight  = 10\n",
    "      outPathsLinks  = mycas.PathLinks\n",
    "      outPathsNodes  = mycas.PathNodes;\n",
    "run;\n",
    "```"
   ]
  },
  {
   "cell_type": "code",
   "execution_count": null,
   "id": "c71e263a-b728-4cec-813a-32844c2f194e",
   "metadata": {},
   "outputs": [],
   "source": [
    "conn.network.path(links=dict(name='LinkSetIn'), \n",
    "                  outnodes=dict(name='NodeSetOut'), \n",
    "                  direction='directed', \n",
    "                  source='D', \n",
    "                  sink='A', \n",
    "                  maxlinkweight=10, \n",
    "                  outpaths=dict(name='PathLinks'), \n",
    "                  outpathsnodes=dict(name='PathNodes'))"
   ]
  },
  {
   "cell_type": "code",
   "execution_count": null,
   "id": "a824d2ab-d259-43fc-a820-c9e82bc72987",
   "metadata": {},
   "outputs": [],
   "source": [
    "conn.fetch(table=dict(name='PathLinks'))"
   ]
  },
  {
   "cell_type": "code",
   "execution_count": null,
   "id": "45f37367-5213-4f79-91ed-f1867e3f8084",
   "metadata": {},
   "outputs": [],
   "source": [
    "conn.fetch(table=dict(name='PathNodes'))"
   ]
  },
  {
   "cell_type": "code",
   "execution_count": null,
   "id": "ecf9a444-0a4b-461c-bc68-dc3f3889122e",
   "metadata": {},
   "outputs": [],
   "source": [
    "conn.fetch(table=dict(name='NodeSetOut'))"
   ]
  },
  {
   "cell_type": "code",
   "execution_count": null,
   "id": "2422f229-4edc-46b4-b07a-3de5ea9b4d4b",
   "metadata": {},
   "outputs": [],
   "source": []
  }
 ],
 "metadata": {
  "kernelspec": {
   "display_name": "Python 3 (ipykernel)",
   "language": "python",
   "name": "python3"
  },
  "language_info": {
   "codemirror_mode": {
    "name": "ipython",
    "version": 3
   },
   "file_extension": ".py",
   "mimetype": "text/x-python",
   "name": "python",
   "nbconvert_exporter": "python",
   "pygments_lexer": "ipython3",
   "version": "3.8.9"
  }
 },
 "nbformat": 4,
 "nbformat_minor": 5
}
