{
 "cells": [
  {
   "cell_type": "markdown",
   "metadata": {},
   "source": [
    "# Zachary's Karate Club Community Detection Using the `NETWORK` Actionset in SAS Viya and Python"
   ]
  },
  {
   "cell_type": "markdown",
   "metadata": {},
   "source": [
    "In this example, we load the Zachary's Karate Club graph into CAS, and show how to detect communities using the network actionset. \n",
    "\n",
    "his example uses Zachary’s Karate Club data (<a href=\"https://go.documentation.sas.com/?docsetId=casmlnetwork&docsetTarget=casmlnetwork_network_references.htm&docsetVersion=8.5&locale=en&showBanner=walkup#casmlnetwork_networkzach_w77\">Zachary 1977</a>), which describes social network friendships between 34 members of a karate club at a US university in the 1970s. This is one of the standard publicly available data tables for testing community detection algorithms. It contains 34 nodes and 78 links. The graph is shown below.\n",
    "\n",
    "----------------\n",
    "\n",
    "The basic flow of this notebook is as follows:\n",
    "1. Load the sample graph into a Pandas DataFrame as a set of links that represent the total graph. \n",
    "2. Connect to our CAS server and load the actionsets we require.\n",
    "3. Upload our sample graph to our CAS server.\n",
    "4. Execute the community detection without fixed nodes using two resolutions (0.5 and 1.0).\n",
    "5. Prepare and display the network plots showing the cliques.\n",
    "\n",
    "----------------\n",
    "__Prepared by:__\n",
    "Damian Herrick (<i class=\"fa fa-github\" aria-hidden=\"true\"></i>: [dtherrick](www.github.com/dtherrick))"
   ]
  },
  {
   "cell_type": "markdown",
   "metadata": {},
   "source": [
    "## Imports\n",
    "\n",
    "Our imports are broken out as follows:\n",
    "\n",
    "| Module           | Method            | Description                                                                        |\n",
    "|:-----------------|:-----------------:|:----------------------------------------------------------------------------------:|\n",
    "| `os`             | all               | Allows access to environment variables.                                            |\n",
    "| `sys`            | all               | Used to update our system path so Python can import our custom utility functions.  |\n",
    "| `swat`           | all               | SAS Python module that orchestrates communicatoin with a CAS server.               |\n",
    "| `pandas`         | all               | Data management module we use for preparation of local data.                       |\n",
    "| `networkx`       | all               | Used to manage graph data structures when plotting.                                |\n",
    "| `bokeh.io`       | `output_notebook` | Utility function that allows rendering of Bokeh plots in Jupyter                   |\n",
    "| `bokeh.io`       | `show`            | Utility function that displays Bokeh plots                                         |\n",
    "| `bokeh.layouts`  | `gridplot`        | Utility function that arranges Bokeh plots in a multi-plot grid                    |\n",
    "| `bokeh.palettes` | `Spectral8`       | Eight-color palette used to differentiate node types.                              |\n",
    "| `bokehvis`       | all               | Custom module written to simplify plot rendering with Bokeh                        |"
   ]
  },
  {
   "cell_type": "code",
   "execution_count": 1,
   "metadata": {
    "ExecuteTime": {
     "end_time": "2021-11-09T22:05:13.721989Z",
     "start_time": "2021-11-09T22:05:12.647643Z"
    }
   },
   "outputs": [],
   "source": [
    "import os\n",
    "import sys\n",
    "\n",
    "import swat\n",
    "import pandas as pd\n",
    "import networkx as nx\n",
    "from bokeh.io import output_notebook, show\n",
    "from bokeh.layouts import gridplot\n",
    "from bokeh.palettes import Spectral8\n",
    "\n",
    "sys.path.append(os.path.join(os.path.dirname(os.getcwd()),r\"../../common/python\"))\n",
    "import bokehvis as vis\n",
    "\n",
    "# tell our notebook we want to output with Bokeh\n",
    "output_notebook()"
   ]
  },
  {
   "cell_type": "markdown",
   "metadata": {},
   "source": [
    "## Prepare the sample graph. \n",
    "* We pass a set of links, and a set of nodes. Nodes are passed this time because we define fix groups for later calculation on load."
   ]
  },
  {
   "cell_type": "code",
   "execution_count": 3,
   "metadata": {
    "ExecuteTime": {
     "end_time": "2021-11-09T22:05:16.030131Z",
     "start_time": "2021-11-09T22:05:16.021184Z"
    }
   },
   "outputs": [],
   "source": [
    "colNames = [\"from\", \"to\"]\n",
    "links = [\n",
    "    (0, 9), (0, 10), (0, 14), (0, 15), (0, 16), (0, 19), (0, 20), (0, 21), (0, 33),\n",
    "    (0, 23), (0, 24), (0, 27), (0, 28), (0, 29), (0, 30), (0, 31), (0, 32),\n",
    "    (2, 1),\n",
    "    (3, 1), (3, 2),\n",
    "    (4, 1), (4, 2), (4, 3),\n",
    "    (5, 1),\n",
    "    (6, 1),\n",
    "    (7, 1), (7, 5), (7, 6),\n",
    "    (8, 1), (8, 2), (8, 3), (8, 4),\n",
    "    (9, 1), (9, 3),\n",
    "    (10, 3),\n",
    "    (11, 1), (11, 5), (11, 6),\n",
    "    (12, 1),\n",
    "    (13, 1), (13, 4),\n",
    "    (14, 1), (14, 2), (14, 3), (14, 4),\n",
    "    (17, 6), (17, 7),\n",
    "    (18, 1), (18, 2),\n",
    "    (20, 1), (20, 2),\n",
    "    (22, 1), (22, 2),\n",
    "    (26, 24), (26, 25),\n",
    "    (28, 3), (28, 24), (28, 25),\n",
    "    (29, 3),\n",
    "    (30, 24), (30, 27),\n",
    "    (31, 2), (31, 9),\n",
    "    (32, 1), (32, 25), (32, 26), (32, 29),\n",
    "    (33, 3), (33, 9), (33, 15), (33, 16), (33, 19), (33, 21), (33, 23), (33, 24), (33, 30), (33, 31), (33, 32),\n",
    "]\n",
    "dfLinkSetIn = pd.DataFrame(links, columns=colNames)"
   ]
  },
  {
   "cell_type": "markdown",
   "metadata": {},
   "source": [
    "Let's start by looking at the basic network itself.\n",
    "\n",
    "We create a `networkx` graph and pass it to our `bokeh` helper function to create the initial plot."
   ]
  },
  {
   "cell_type": "code",
   "execution_count": 7,
   "metadata": {
    "ExecuteTime": {
     "end_time": "2021-11-09T22:07:32.111083Z",
     "start_time": "2021-11-09T22:07:32.033462Z"
    }
   },
   "outputs": [
    {
     "data": {
      "text/html": [
       "\n",
       "\n",
       "\n",
       "\n",
       "\n",
       "\n",
       "  <div class=\"bk-root\" id=\"9315430d-59f4-46f7-ab83-80f27d02a63f\" data-root-id=\"1595\"></div>\n"
      ]
     },
     "metadata": {},
     "output_type": "display_data"
    },
    {
     "data": {
      "application/javascript": [
       "(function(root) {\n",
       "  function embed_document(root) {\n",
       "    \n",
       "  var docs_json = {\"1b8001ee-6ae3-4fbb-a7f4-173c09d1511f\":{\"defs\":[],\"roots\":{\"references\":[{\"attributes\":{\"renderers\":[{\"id\":\"1598\"},{\"id\":\"1633\"}],\"title\":\"Zachary's Karate Club\",\"toolbar\":{\"id\":\"1631\"},\"width\":1200,\"x_range\":{\"id\":\"1594\"},\"x_scale\":{\"id\":\"1695\"},\"y_range\":{\"id\":\"1693\"},\"y_scale\":{\"id\":\"1694\"}},\"id\":\"1595\",\"type\":\"Plot\"},{\"attributes\":{},\"id\":\"1709\",\"type\":\"Selection\"},{\"attributes\":{\"fill_color\":{\"value\":\"#abdda4\"},\"size\":{\"value\":25}},\"id\":\"1618\",\"type\":\"Circle\"},{\"attributes\":{},\"id\":\"1710\",\"type\":\"UnionRenderers\"},{\"attributes\":{\"fill_color\":{\"value\":\"#f7fbff\"},\"size\":{\"value\":25}},\"id\":\"1608\",\"type\":\"Circle\"},{\"attributes\":{\"data\":{\"index\":[0,9,10,14,15,16,19,20,21,33,23,24,27,28,29,30,31,32,2,1,3,4,5,6,7,8,11,12,13,17,18,22,26,25]},\"selected\":{\"id\":\"1709\"},\"selection_policy\":{\"id\":\"1710\"}},\"id\":\"1600\",\"type\":\"ColumnDataSource\"},{\"attributes\":{},\"id\":\"1694\",\"type\":\"LinearScale\"},{\"attributes\":{},\"id\":\"1695\",\"type\":\"LinearScale\"},{\"attributes\":{\"background_fill_color\":{\"value\":\"#f7fbff\"},\"source\":{\"id\":\"1632\"},\"text\":{\"field\":\"name\"},\"text_font_size\":{\"value\":\"10px\"},\"x\":{\"field\":\"x\"},\"x_offset\":{\"value\":-3},\"y\":{\"field\":\"y\"},\"y_offset\":{\"value\":-5.0}},\"id\":\"1633\",\"type\":\"LabelSet\"},{\"attributes\":{\"callback\":null,\"tooltips\":[[\"Node\",\"@index\"]]},\"id\":\"1630\",\"type\":\"HoverTool\"},{\"attributes\":{\"data\":{\"end\":[9,10,14,15,16,19,20,21,33,23,24,27,28,29,30,31,32,1,3,31,33,3,1,2,3,4,33,33,33,1,2,33,3,23,24,30,31,32,26,28,30,30,3,25,3,32,2,1,25,26,1,3,4,8,18,22,3,4,5,6,7,8,11,12,13,18,22,4,8,8,13,7,11,7,11,17,17,25],\"start\":[0,0,0,0,0,0,0,0,0,0,0,0,0,0,0,0,0,9,9,9,9,10,14,14,14,14,15,16,19,20,20,21,33,33,33,33,33,33,24,24,24,27,28,28,29,29,31,32,32,32,2,2,2,2,2,2,1,1,1,1,1,1,1,1,1,1,1,3,3,4,4,5,5,6,6,6,7,26]},\"selected\":{\"id\":\"1707\"},\"selection_policy\":{\"id\":\"1708\"}},\"id\":\"1604\",\"type\":\"ColumnDataSource\"},{\"attributes\":{\"edge_renderer\":{\"id\":\"1605\"},\"inspection_policy\":{\"id\":\"1628\"},\"layout_provider\":{\"id\":\"1607\"},\"node_renderer\":{\"id\":\"1601\"},\"selection_policy\":{\"id\":\"1700\"}},\"id\":\"1598\",\"type\":\"GraphRenderer\"},{\"attributes\":{\"active_multi\":null,\"tools\":[{\"id\":\"1630\"}]},\"id\":\"1631\",\"type\":\"Toolbar\"},{\"attributes\":{\"end\":10.1,\"start\":-10.1},\"id\":\"1594\",\"type\":\"Range1d\"},{\"attributes\":{},\"id\":\"1628\",\"type\":\"NodesAndLinkedEdges\"},{\"attributes\":{},\"id\":\"1693\",\"type\":\"DataRange1d\"},{\"attributes\":{},\"id\":\"1705\",\"type\":\"Selection\"},{\"attributes\":{\"data\":{\"name\":[0,9,10,14,15,16,19,20,21,33,23,24,27,28,29,30,31,32,2,1,3,4,5,6,7,8,11,12,13,17,18,22,26,25],\"x\":[-2.7562102883767614,-0.05519358299160917,-2.186847823970466,1.759769978777224,-6.37350099994015,-4.283791257516951,-5.573114082018968,1.1233073191693388,-6.093465641563147,-3.496066909499713,-5.306905598823685,-5.394571416600154,-2.1315325535032046,-4.410808033069048,-3.030238997172414,-3.270433248921917,0.12675286146644088,-3.123098246194106,3.2167809878801936,3.602038771389236,-0.07000417040367476,3.8832606376096868,4.451994853048913,6.327535492987039,5.030533941800095,2.293085195093805,6.241547061152567,8.130818924546519,7.225276461103575,7.0180985493182675,6.054403192086738,6.245625581233751,-7.759834967709604,-7.415211990387819],\"y\":[2.5137283086071998,1.4142574257175478,-1.7913696999152675,1.008509941504014,3.2937072761597244,6.3028861073305,5.614927551093324,0.07919454199812466,1.6289749026584115,3.0123941321158565,0.11756327990321569,3.8743328911433674,7.237659056503888,1.1248400320175251,-1.0823343052393586,5.642865873439532,3.345776087264644,0.05560214980877718,0.5382200393338047,-2.2805873398300363,-0.2637762371097435,-0.6587960223034457,-5.964634540777214,-6.91366613983849,-7.422687530369455,-1.938090558888038,-5.290537496735332,-3.574401830537642,-1.3263887433044776,-10.0,-0.8499130978463758,0.8501017859760995,1.7987191435787198,-0.09707698345936645]},\"selected\":{\"id\":\"1705\"},\"selection_policy\":{\"id\":\"1706\"}},\"id\":\"1632\",\"type\":\"ColumnDataSource\"},{\"attributes\":{},\"id\":\"1706\",\"type\":\"UnionRenderers\"},{\"attributes\":{\"data_source\":{\"id\":\"1604\"},\"glyph\":{\"id\":\"1613\"},\"hover_glyph\":{\"id\":\"1623\"},\"muted_glyph\":null,\"view\":{\"id\":\"1606\"}},\"id\":\"1605\",\"type\":\"GlyphRenderer\"},{\"attributes\":{\"line_color\":{\"value\":\"#abdda4\"},\"line_width\":{\"value\":4.0}},\"id\":\"1623\",\"type\":\"MultiLine\"},{\"attributes\":{\"graph_layout\":{\"0\":[-2.7562102883767614,2.5137283086071998],\"1\":[3.602038771389236,-2.2805873398300363],\"10\":[-2.186847823970466,-1.7913696999152675],\"11\":[6.241547061152567,-5.290537496735332],\"12\":[8.130818924546519,-3.574401830537642],\"13\":[7.225276461103575,-1.3263887433044776],\"14\":[1.759769978777224,1.008509941504014],\"15\":[-6.37350099994015,3.2937072761597244],\"16\":[-4.283791257516951,6.3028861073305],\"17\":[7.0180985493182675,-10.0],\"18\":[6.054403192086738,-0.8499130978463758],\"19\":[-5.573114082018968,5.614927551093324],\"2\":[3.2167809878801936,0.5382200393338047],\"20\":[1.1233073191693388,0.07919454199812466],\"21\":[-6.093465641563147,1.6289749026584115],\"22\":[6.245625581233751,0.8501017859760995],\"23\":[-5.306905598823685,0.11756327990321569],\"24\":[-5.394571416600154,3.8743328911433674],\"25\":[-7.415211990387819,-0.09707698345936645],\"26\":[-7.759834967709604,1.7987191435787198],\"27\":[-2.1315325535032046,7.237659056503888],\"28\":[-4.410808033069048,1.1248400320175251],\"29\":[-3.030238997172414,-1.0823343052393586],\"3\":[-0.07000417040367476,-0.2637762371097435],\"30\":[-3.270433248921917,5.642865873439532],\"31\":[0.12675286146644088,3.345776087264644],\"32\":[-3.123098246194106,0.05560214980877718],\"33\":[-3.496066909499713,3.0123941321158565],\"4\":[3.8832606376096868,-0.6587960223034457],\"5\":[4.451994853048913,-5.964634540777214],\"6\":[6.327535492987039,-6.91366613983849],\"7\":[5.030533941800095,-7.422687530369455],\"8\":[2.293085195093805,-1.938090558888038],\"9\":[-0.05519358299160917,1.4142574257175478]}},\"id\":\"1607\",\"type\":\"StaticLayoutProvider\"},{\"attributes\":{},\"id\":\"1707\",\"type\":\"Selection\"},{\"attributes\":{\"source\":{\"id\":\"1604\"}},\"id\":\"1606\",\"type\":\"CDSView\"},{\"attributes\":{},\"id\":\"1708\",\"type\":\"UnionRenderers\"},{\"attributes\":{\"line_alpha\":{\"value\":0.5},\"line_width\":{\"value\":2.0}},\"id\":\"1613\",\"type\":\"MultiLine\"},{\"attributes\":{},\"id\":\"1700\",\"type\":\"NodesOnly\"},{\"attributes\":{\"data_source\":{\"id\":\"1600\"},\"glyph\":{\"id\":\"1608\"},\"hover_glyph\":{\"id\":\"1618\"},\"muted_glyph\":null,\"view\":{\"id\":\"1602\"}},\"id\":\"1601\",\"type\":\"GlyphRenderer\"},{\"attributes\":{\"source\":{\"id\":\"1600\"}},\"id\":\"1602\",\"type\":\"CDSView\"}],\"root_ids\":[\"1595\"]},\"title\":\"Bokeh Application\",\"version\":\"2.3.3\"}};\n",
       "  var render_items = [{\"docid\":\"1b8001ee-6ae3-4fbb-a7f4-173c09d1511f\",\"root_ids\":[\"1595\"],\"roots\":{\"1595\":\"9315430d-59f4-46f7-ab83-80f27d02a63f\"}}];\n",
       "  root.Bokeh.embed.embed_items_notebook(docs_json, render_items);\n",
       "\n",
       "  }\n",
       "  if (root.Bokeh !== undefined) {\n",
       "    embed_document(root);\n",
       "  } else {\n",
       "    var attempts = 0;\n",
       "    var timer = setInterval(function(root) {\n",
       "      if (root.Bokeh !== undefined) {\n",
       "        clearInterval(timer);\n",
       "        embed_document(root);\n",
       "      } else {\n",
       "        attempts++;\n",
       "        if (attempts > 100) {\n",
       "          clearInterval(timer);\n",
       "          console.log(\"Bokeh: ERROR: Unable to run BokehJS code because BokehJS library is missing\");\n",
       "        }\n",
       "      }\n",
       "    }, 10, root)\n",
       "  }\n",
       "})(window);"
      ],
      "application/vnd.bokehjs_exec.v0+json": ""
     },
     "metadata": {
      "application/vnd.bokehjs_exec.v0+json": {
       "id": "1595"
      }
     },
     "output_type": "display_data"
    }
   ],
   "source": [
    "G_comm = nx.from_pandas_edgelist(dfLinkSetIn, 'from', 'to')\n",
    "\n",
    "title = \"Zachary's Karate Club\"\n",
    "hover = [('Node', '@index')]\n",
    "nodeSize = 25\n",
    "\n",
    "#plot = vis.render_plot(G_comm, title, hover, nodeSize, width=1200)\n",
    "\n",
    "plot = vis.render_plot(graph=G_comm, title=title, hover_tooltips=hover, node_size=nodeSize, width=1200, label_font_size=\"10px\", label_x_offset=-3)\n",
    "\n",
    "show(plot)"
   ]
  },
  {
   "cell_type": "markdown",
   "metadata": {},
   "source": [
    "## Connect to CAS, load the actionsets we'll need, and upload our graph to the CAS server."
   ]
  },
  {
   "cell_type": "code",
   "execution_count": 8,
   "metadata": {
    "ExecuteTime": {
     "end_time": "2021-11-09T22:07:38.279958Z",
     "start_time": "2021-11-09T22:07:38.276941Z"
    }
   },
   "outputs": [],
   "source": [
    "host = os.environ['CAS_HOST_ORGRD']\n",
    "port = int(os.environ['CAS_PORT'])"
   ]
  },
  {
   "cell_type": "code",
   "execution_count": 9,
   "metadata": {
    "ExecuteTime": {
     "end_time": "2021-11-09T22:07:55.503524Z",
     "start_time": "2021-11-09T22:07:39.939312Z"
    }
   },
   "outputs": [
    {
     "name": "stdout",
     "output_type": "stream",
     "text": [
      "NOTE: Added action set 'network'.\n"
     ]
    }
   ],
   "source": [
    "conn = swat.CAS(host, port)\n",
    "\n",
    "_ = conn.loadactionset(\"network\")"
   ]
  },
  {
   "cell_type": "markdown",
   "metadata": {},
   "source": [
    "### Upload the local dataframe into CAS"
   ]
  },
  {
   "cell_type": "code",
   "execution_count": 10,
   "metadata": {
    "ExecuteTime": {
     "end_time": "2021-11-09T22:07:55.615804Z",
     "start_time": "2021-11-09T22:07:55.505456Z"
    }
   },
   "outputs": [
    {
     "name": "stdout",
     "output_type": "stream",
     "text": [
      "NOTE: Cloud Analytic Services made the uploaded file available as table LINKSETIN in caslib CASUSERHDFS(daherr).\n",
      "NOTE: The table LINKSETIN has been created in caslib CASUSERHDFS(daherr) from binary data uploaded to Cloud Analytic Services.\n"
     ]
    }
   ],
   "source": [
    "_ = conn.upload(dfLinkSetIn, casout=dict(name='LinkSetIn'))"
   ]
  },
  {
   "cell_type": "markdown",
   "metadata": {},
   "source": [
    "### Step 3: Calculate the communities (without fixed groups) in our graph using the `network` actionset."
   ]
  },
  {
   "cell_type": "markdown",
   "metadata": {},
   "source": [
    "Since we've loaded our actionset, we can reference it using dot notation from our connection object.\n",
    "\n",
    "We use detection at two resolutions: 0.5 and 1.0\n",
    "\n",
    "Note that the Python code below is equivalent to this block of CASL:\n",
    "```\n",
    "proc network\n",
    "   links              = mycas.LinkSetIn\n",
    "   outNodes           = mycas.NodeSetOut;\n",
    "   community\n",
    "      resolutionList  = 1.0 0.5\n",
    "      outLevel        = mycas.CommLevelOut\n",
    "      outCommunity    = mycas.CommOut\n",
    "      outOverlap      = mycas.CommOverlapOut\n",
    "      outCommLinks    = mycas.CommLinksOut;\n",
    "run;\n",
    "```"
   ]
  },
  {
   "cell_type": "code",
   "execution_count": 11,
   "metadata": {
    "ExecuteTime": {
     "end_time": "2021-11-09T22:08:00.702879Z",
     "start_time": "2021-11-09T22:08:00.380397Z"
    }
   },
   "outputs": [
    {
     "name": "stdout",
     "output_type": "stream",
     "text": [
      "NOTE: The number of nodes in the input graph is 34.\n",
      "NOTE: The number of links in the input graph is 78.\n",
      "NOTE: Processing community detection using 1 threads across 1 machines.\n",
      "NOTE: At resolution=1, the community algorithm found 4 communities with modularity=0.418803.\n",
      "NOTE: At resolution=0.5, the community algorithm found 2 communities with modularity=0.371795.\n",
      "NOTE: Processing community detection used 0.00 (cpu: 0.00) seconds.\n"
     ]
    },
    {
     "data": {
      "text/html": [
       "<div class=\"cas-results-key\"><b>&#167; OutputCasTables</b></div>\n",
       "<div class=\"cas-results-body\">\n",
       "<div>\n",
       "<style scoped>\n",
       "    .dataframe tbody tr th:only-of-type {\n",
       "        vertical-align: middle;\n",
       "    }\n",
       "\n",
       "    .dataframe tbody tr th {\n",
       "        vertical-align: top;\n",
       "    }\n",
       "\n",
       "    .dataframe thead th {\n",
       "        text-align: right;\n",
       "    }\n",
       "</style>\n",
       "<table border=\"1\" class=\"dataframe\">\n",
       "  <thead>\n",
       "    <tr style=\"text-align: right;\">\n",
       "      <th title=\"\"></th>\n",
       "      <th title=\"CAS Library\">casLib</th>\n",
       "      <th title=\"Name\">Name</th>\n",
       "      <th title=\"Label\">Label</th>\n",
       "      <th title=\"Number of Rows\">Rows</th>\n",
       "      <th title=\"Number of Columns\">Columns</th>\n",
       "      <th title=\"Table\">casTable</th>\n",
       "    </tr>\n",
       "  </thead>\n",
       "  <tbody>\n",
       "    <tr>\n",
       "      <td>0</td>\n",
       "      <td>CASUSERHDFS(daherr)</td>\n",
       "      <td>nodeSetOut</td>\n",
       "      <td></td>\n",
       "      <td>34</td>\n",
       "      <td>3</td>\n",
       "      <td>CASTable('nodeSetOut', caslib='CASUSERHDFS(dah...</td>\n",
       "    </tr>\n",
       "    <tr>\n",
       "      <td>1</td>\n",
       "      <td>CASUSERHDFS(daherr)</td>\n",
       "      <td>CommLinksOut</td>\n",
       "      <td></td>\n",
       "      <td>5</td>\n",
       "      <td>5</td>\n",
       "      <td>CASTable('CommLinksOut', caslib='CASUSERHDFS(d...</td>\n",
       "    </tr>\n",
       "    <tr>\n",
       "      <td>2</td>\n",
       "      <td>CASUSERHDFS(daherr)</td>\n",
       "      <td>CommOut</td>\n",
       "      <td></td>\n",
       "      <td>6</td>\n",
       "      <td>9</td>\n",
       "      <td>CASTable('CommOut', caslib='CASUSERHDFS(daherr)')</td>\n",
       "    </tr>\n",
       "    <tr>\n",
       "      <td>3</td>\n",
       "      <td>CASUSERHDFS(daherr)</td>\n",
       "      <td>CommLevelOut</td>\n",
       "      <td></td>\n",
       "      <td>2</td>\n",
       "      <td>4</td>\n",
       "      <td>CASTable('CommLevelOut', caslib='CASUSERHDFS(d...</td>\n",
       "    </tr>\n",
       "    <tr>\n",
       "      <td>4</td>\n",
       "      <td>CASUSERHDFS(daherr)</td>\n",
       "      <td>CommOverlapOut</td>\n",
       "      <td></td>\n",
       "      <td>47</td>\n",
       "      <td>3</td>\n",
       "      <td>CASTable('CommOverlapOut', caslib='CASUSERHDFS...</td>\n",
       "    </tr>\n",
       "  </tbody>\n",
       "</table>\n",
       "</div>\n",
       "</div>\n",
       "<div class=\"cas-results-key\"><hr/><b>&#167; ProblemSummary</b></div>\n",
       "<div class=\"cas-results-body\">\n",
       "<div>\n",
       "<style scoped>\n",
       "    .dataframe tbody tr th:only-of-type {\n",
       "        vertical-align: middle;\n",
       "    }\n",
       "\n",
       "    .dataframe tbody tr th {\n",
       "        vertical-align: top;\n",
       "    }\n",
       "\n",
       "    .dataframe thead th {\n",
       "        text-align: right;\n",
       "    }\n",
       "</style>\n",
       "<table border=\"1\" class=\"dataframe\"><caption>Problem Summary</caption>\n",
       "  <thead>\n",
       "    <tr style=\"text-align: right;\">\n",
       "      <th title=\"\"></th>\n",
       "      <th title=\"Name1\">Name1</th>\n",
       "      <th title=\"Label1\">Label1</th>\n",
       "      <th title=\"cValue1\">cValue1</th>\n",
       "      <th title=\"nValue1\">nValue1</th>\n",
       "    </tr>\n",
       "  </thead>\n",
       "  <tbody>\n",
       "    <tr>\n",
       "      <td>0</td>\n",
       "      <td>numNodes</td>\n",
       "      <td>Number of Nodes</td>\n",
       "      <td>34</td>\n",
       "      <td>34.0</td>\n",
       "    </tr>\n",
       "    <tr>\n",
       "      <td>1</td>\n",
       "      <td>numLinks</td>\n",
       "      <td>Number of Links</td>\n",
       "      <td>78</td>\n",
       "      <td>78.0</td>\n",
       "    </tr>\n",
       "    <tr>\n",
       "      <td>2</td>\n",
       "      <td>graphDirection</td>\n",
       "      <td>Graph Direction</td>\n",
       "      <td>Undirected</td>\n",
       "      <td>NaN</td>\n",
       "    </tr>\n",
       "  </tbody>\n",
       "</table>\n",
       "</div>\n",
       "</div>\n",
       "<div class=\"cas-results-key\"><hr/><b>&#167; SolutionSummary</b></div>\n",
       "<div class=\"cas-results-body\">\n",
       "<div>\n",
       "<style scoped>\n",
       "    .dataframe tbody tr th:only-of-type {\n",
       "        vertical-align: middle;\n",
       "    }\n",
       "\n",
       "    .dataframe tbody tr th {\n",
       "        vertical-align: top;\n",
       "    }\n",
       "\n",
       "    .dataframe thead th {\n",
       "        text-align: right;\n",
       "    }\n",
       "</style>\n",
       "<table border=\"1\" class=\"dataframe\"><caption>Solution Summary</caption>\n",
       "  <thead>\n",
       "    <tr style=\"text-align: right;\">\n",
       "      <th title=\"\"></th>\n",
       "      <th title=\"Name1\">Name1</th>\n",
       "      <th title=\"Label1\">Label1</th>\n",
       "      <th title=\"cValue1\">cValue1</th>\n",
       "      <th title=\"nValue1\">nValue1</th>\n",
       "    </tr>\n",
       "  </thead>\n",
       "  <tbody>\n",
       "    <tr>\n",
       "      <td>0</td>\n",
       "      <td>problemType</td>\n",
       "      <td>Problem Type</td>\n",
       "      <td>Community Detection</td>\n",
       "      <td>NaN</td>\n",
       "    </tr>\n",
       "    <tr>\n",
       "      <td>1</td>\n",
       "      <td>status</td>\n",
       "      <td>Solution Status</td>\n",
       "      <td>OK</td>\n",
       "      <td>NaN</td>\n",
       "    </tr>\n",
       "    <tr>\n",
       "      <td>2</td>\n",
       "      <td>cpuTime</td>\n",
       "      <td>CPU Time</td>\n",
       "      <td>0.00</td>\n",
       "      <td>0.000000</td>\n",
       "    </tr>\n",
       "    <tr>\n",
       "      <td>3</td>\n",
       "      <td>realTime</td>\n",
       "      <td>Real Time</td>\n",
       "      <td>0.00</td>\n",
       "      <td>0.000208</td>\n",
       "    </tr>\n",
       "  </tbody>\n",
       "</table>\n",
       "</div>\n",
       "</div>\n",
       "<div class=\"cas-results-key\"><hr/><b>&#167; solutionStatus</b></div>\n",
       "<div class=\"cas-results-body\">\n",
       "<div>OK</div>\n",
       "</div>\n",
       "<div class=\"cas-results-key\"><hr/><b>&#167; solutionStatusCode</b></div>\n",
       "<div class=\"cas-results-body\">\n",
       "<div>0</div>\n",
       "</div>\n",
       "<div class=\"cas-output-area\"></div>\n",
       "<p class=\"cas-results-performance\"><small><span class=\"cas-elapsed\">elapsed 0.199s</span> &#183; <span class=\"cas-user\">user 0.082s</span> &#183; <span class=\"cas-sys\">sys 0.148s</span> &#183; <span class=\"cas-memory\">mem 91.9MB</span></small></p>"
      ],
      "text/plain": [
       "[OutputCasTables]\n",
       "\n",
       "                 casLib            Name Label  Rows  Columns                                           casTable\n",
       " 0  CASUSERHDFS(daherr)      nodeSetOut          34        3  CASTable('nodeSetOut', caslib='CASUSERHDFS(dah...\n",
       " 1  CASUSERHDFS(daherr)    CommLinksOut           5        5  CASTable('CommLinksOut', caslib='CASUSERHDFS(d...\n",
       " 2  CASUSERHDFS(daherr)         CommOut           6        9  CASTable('CommOut', caslib='CASUSERHDFS(daherr)')\n",
       " 3  CASUSERHDFS(daherr)    CommLevelOut           2        4  CASTable('CommLevelOut', caslib='CASUSERHDFS(d...\n",
       " 4  CASUSERHDFS(daherr)  CommOverlapOut          47        3  CASTable('CommOverlapOut', caslib='CASUSERHDFS...\n",
       "\n",
       "[ProblemSummary]\n",
       "\n",
       " Problem Summary\n",
       " \n",
       "             Name1           Label1       cValue1  nValue1\n",
       " 0        numNodes  Number of Nodes            34     34.0\n",
       " 1        numLinks  Number of Links            78     78.0\n",
       " 2  graphDirection  Graph Direction    Undirected      NaN\n",
       "\n",
       "[SolutionSummary]\n",
       "\n",
       " Solution Summary\n",
       " \n",
       "          Name1           Label1              cValue1   nValue1\n",
       " 0  problemType     Problem Type  Community Detection       NaN\n",
       " 1       status  Solution Status                   OK       NaN\n",
       " 2      cpuTime         CPU Time                 0.00  0.000000\n",
       " 3     realTime        Real Time                 0.00  0.000208\n",
       "\n",
       "[solutionStatus]\n",
       "\n",
       " 'OK'\n",
       "\n",
       "[solutionStatusCode]\n",
       "\n",
       " 0\n",
       "\n",
       "+ Elapsed: 0.199s, user: 0.082s, sys: 0.148s, mem: 91.9mb"
      ]
     },
     "execution_count": 11,
     "metadata": {},
     "output_type": "execute_result"
    }
   ],
   "source": [
    "conn.network.community(links=dict(name='LinkSetIn'),\n",
    "                       outnodes=dict(name='nodeSetOut'),\n",
    "                       outLevel=dict(name='CommLevelOut'),\n",
    "                       outCommunity=dict(name='CommOut'),   \n",
    "                       outOverlap=dict(name='CommOverlapOut'),     \n",
    "                       outCommLinks=dict(name='CommLinksOut'),\n",
    "                       resolutionList=[0.5, 1]\n",
    " )"
   ]
  },
  {
   "cell_type": "markdown",
   "metadata": {},
   "source": [
    "### Step 4: Get the community results from CAS and prepare data for plotting\n",
    "\n",
    "------\n",
    "In this step we fetch the node results from CAS, then add community assignments and node fill color as node attributes in our `networkx` graph.\n",
    "\n",
    "| Table      | Description                                               |\n",
    "|------------|-----------------------------------------------------------|\n",
    "| `NodeSetA` | Results and community labels for resolutions 0.5 and 1.0. |\n",
    "\n",
    "| Attribute Label   | Description                          |\n",
    "|-------------------|--------------------------------------|\n",
    "| `community_0`     | Community assignment, resolution 1.0 |\n",
    "| `community_1`     | Community assignment, resolution 0.5 |"
   ]
  },
  {
   "cell_type": "code",
   "execution_count": 12,
   "metadata": {
    "ExecuteTime": {
     "end_time": "2021-11-09T22:08:15.933729Z",
     "start_time": "2021-11-09T22:08:08.233596Z"
    }
   },
   "outputs": [],
   "source": [
    "# pull the node set locally so we can plot\n",
    "comm_nodes_cas = conn.CASTable('NodeSetOut').to_dict(orient='index')\n",
    "\n",
    "# make our mapping dictionaries that allow us to assign attributes\n",
    "comm_nodes_0 = {v['node']:v['community_0'] for v in comm_nodes_cas.values()}\n",
    "comm_nodes_1 = {v['node']:v['community_1'] for v in comm_nodes_cas.values()}\n",
    "\n",
    "# set the attributes\n",
    "nx.set_node_attributes(G_comm, comm_nodes_0, 'community_0')\n",
    "nx.set_node_attributes(G_comm, comm_nodes_1, 'community_1')\n",
    "\n",
    "# Assign the fill colors for the nodes.\n",
    "for node in G_comm.nodes:\n",
    "    G_comm.nodes[node]['highlight_0'] = Spectral8[int(G_comm.nodes[node]['community_0'])]\n",
    "    G_comm.nodes[node]['highlight_1'] = Spectral8[int(G_comm.nodes[node]['community_1'])]"
   ]
  },
  {
   "cell_type": "markdown",
   "metadata": {},
   "source": [
    "### Create and display the plots"
   ]
  },
  {
   "cell_type": "code",
   "execution_count": 14,
   "metadata": {
    "ExecuteTime": {
     "end_time": "2021-11-09T22:09:00.960039Z",
     "start_time": "2021-11-09T22:09:00.917603Z"
    }
   },
   "outputs": [],
   "source": [
    "title_0 = 'Community Detection Example 1: Resolution 1'\n",
    "hover_0 = [('Node', '@index'), ('Community', '@community_0')]\n",
    "\n",
    "title_1 = 'Community Detection Example 2: Resolution 0.5'\n",
    "hover_1 = [('Node', '@index'), ('Community', '@community_1')]\n",
    "\n",
    "# render the plots.\n",
    "# reminder - we set nodeSize earlier in the notebook. Its value is 40.\n",
    "plot_0 = vis.render_plot(graph=G_comm, title=title_0, hover_tooltips=hover_0, node_size=nodeSize, node_color='highlight_0', width=1200)\n",
    "plot_1 = vis.render_plot(graph=G_comm, title=title_1, hover_tooltips=hover_1, node_size=nodeSize, node_color='highlight_1', width=1200)"
   ]
  },
  {
   "cell_type": "code",
   "execution_count": 15,
   "metadata": {
    "ExecuteTime": {
     "end_time": "2021-11-09T22:09:02.717044Z",
     "start_time": "2021-11-09T22:09:02.635404Z"
    }
   },
   "outputs": [
    {
     "data": {
      "text/html": [
       "\n",
       "\n",
       "\n",
       "\n",
       "\n",
       "\n",
       "  <div class=\"bk-root\" id=\"2f0dc11c-d5bb-4f72-b430-282777290bff\" data-root-id=\"1954\"></div>\n"
      ]
     },
     "metadata": {},
     "output_type": "display_data"
    },
    {
     "data": {
      "application/javascript": [
       "(function(root) {\n",
       "  function embed_document(root) {\n",
       "    \n",
       "  var docs_json = {\"09800c08-875f-4bb8-8eee-4fc7978fa158\":{\"defs\":[],\"roots\":{\"references\":[{\"attributes\":{\"children\":[{\"id\":\"1953\"},{\"id\":\"1951\"}]},\"id\":\"1954\",\"type\":\"Column\"},{\"attributes\":{},\"id\":\"1934\",\"type\":\"LinearScale\"},{\"attributes\":{},\"id\":\"1946\",\"type\":\"Selection\"},{\"attributes\":{\"source\":{\"id\":\"1880\"}},\"id\":\"1882\",\"type\":\"CDSView\"},{\"attributes\":{},\"id\":\"1928\",\"type\":\"Selection\"},{\"attributes\":{\"children\":[[{\"id\":\"1830\"},0,0],[{\"id\":\"1871\"},1,0]]},\"id\":\"1951\",\"type\":\"GridBox\"},{\"attributes\":{\"data\":{\"name\":[0,9,10,14,15,16,19,20,21,33,23,24,27,28,29,30,31,32,2,1,3,4,5,6,7,8,11,12,13,17,18,22,26,25],\"x\":[-2.7562102883767614,-0.05519358299160917,-2.186847823970466,1.759769978777224,-6.37350099994015,-4.283791257516951,-5.573114082018968,1.1233073191693388,-6.093465641563147,-3.496066909499713,-5.306905598823685,-5.394571416600154,-2.1315325535032046,-4.410808033069048,-3.030238997172414,-3.270433248921917,0.12675286146644088,-3.123098246194106,3.2167809878801936,3.602038771389236,-0.07000417040367476,3.8832606376096868,4.451994853048913,6.327535492987039,5.030533941800095,2.293085195093805,6.241547061152567,8.130818924546519,7.225276461103575,7.0180985493182675,6.054403192086738,6.245625581233751,-7.759834967709604,-7.415211990387819],\"y\":[2.5137283086071998,1.4142574257175478,-1.7913696999152675,1.008509941504014,3.2937072761597244,6.3028861073305,5.614927551093324,0.07919454199812466,1.6289749026584115,3.0123941321158565,0.11756327990321569,3.8743328911433674,7.237659056503888,1.1248400320175251,-1.0823343052393586,5.642865873439532,3.345776087264644,0.05560214980877718,0.5382200393338047,-2.2805873398300363,-0.2637762371097435,-0.6587960223034457,-5.964634540777214,-6.91366613983849,-7.422687530369455,-1.938090558888038,-5.290537496735332,-3.574401830537642,-1.3263887433044776,-10.0,-0.8499130978463758,0.8501017859760995,1.7987191435787198,-0.09707698345936645]},\"selected\":{\"id\":\"1944\"},\"selection_policy\":{\"id\":\"1945\"}},\"id\":\"1908\",\"type\":\"ColumnDataSource\"},{\"attributes\":{\"data_source\":{\"id\":\"1880\"},\"glyph\":{\"id\":\"1889\"},\"hover_glyph\":{\"id\":\"1899\"},\"muted_glyph\":null,\"view\":{\"id\":\"1882\"}},\"id\":\"1881\",\"type\":\"GlyphRenderer\"},{\"attributes\":{\"data\":{\"end\":[9,10,14,15,16,19,20,21,33,23,24,27,28,29,30,31,32,1,3,31,33,3,1,2,3,4,33,33,33,1,2,33,3,23,24,30,31,32,26,28,30,30,3,25,3,32,2,1,25,26,1,3,4,8,18,22,3,4,5,6,7,8,11,12,13,18,22,4,8,8,13,7,11,7,11,17,17,25],\"start\":[0,0,0,0,0,0,0,0,0,0,0,0,0,0,0,0,0,9,9,9,9,10,14,14,14,14,15,16,19,20,20,21,33,33,33,33,33,33,24,24,24,27,28,28,29,29,31,32,32,32,2,2,2,2,2,2,1,1,1,1,1,1,1,1,1,1,1,3,3,4,4,5,5,6,6,6,7,26]},\"selected\":{\"id\":\"1946\"},\"selection_policy\":{\"id\":\"1947\"}},\"id\":\"1880\",\"type\":\"ColumnDataSource\"},{\"attributes\":{\"data\":{\"community_0\":[0.0,0.0,1.0,1.0,0.0,0.0,0.0,1.0,0.0,0.0,0.0,3.0,0.0,3.0,3.0,0.0,0.0,3.0,1.0,1.0,1.0,1.0,2.0,2.0,2.0,1.0,2.0,1.0,1.0,2.0,1.0,1.0,3.0,3.0],\"community_1\":[0.0,0.0,1.0,1.0,0.0,0.0,0.0,1.0,0.0,0.0,0.0,0.0,0.0,0.0,0.0,0.0,0.0,0.0,1.0,1.0,1.0,1.0,1.0,1.0,1.0,1.0,1.0,1.0,1.0,1.0,1.0,1.0,0.0,0.0],\"highlight_0\":[\"#3288bd\",\"#3288bd\",\"#66c2a5\",\"#66c2a5\",\"#3288bd\",\"#3288bd\",\"#3288bd\",\"#66c2a5\",\"#3288bd\",\"#3288bd\",\"#3288bd\",\"#e6f598\",\"#3288bd\",\"#e6f598\",\"#e6f598\",\"#3288bd\",\"#3288bd\",\"#e6f598\",\"#66c2a5\",\"#66c2a5\",\"#66c2a5\",\"#66c2a5\",\"#abdda4\",\"#abdda4\",\"#abdda4\",\"#66c2a5\",\"#abdda4\",\"#66c2a5\",\"#66c2a5\",\"#abdda4\",\"#66c2a5\",\"#66c2a5\",\"#e6f598\",\"#e6f598\"],\"highlight_1\":[\"#3288bd\",\"#3288bd\",\"#66c2a5\",\"#66c2a5\",\"#3288bd\",\"#3288bd\",\"#3288bd\",\"#66c2a5\",\"#3288bd\",\"#3288bd\",\"#3288bd\",\"#3288bd\",\"#3288bd\",\"#3288bd\",\"#3288bd\",\"#3288bd\",\"#3288bd\",\"#3288bd\",\"#66c2a5\",\"#66c2a5\",\"#66c2a5\",\"#66c2a5\",\"#66c2a5\",\"#66c2a5\",\"#66c2a5\",\"#66c2a5\",\"#66c2a5\",\"#66c2a5\",\"#66c2a5\",\"#66c2a5\",\"#66c2a5\",\"#66c2a5\",\"#3288bd\",\"#3288bd\"],\"index\":[0,9,10,14,15,16,19,20,21,33,23,24,27,28,29,30,31,32,2,1,3,4,5,6,7,8,11,12,13,17,18,22,26,25]},\"selected\":{\"id\":\"1928\"},\"selection_policy\":{\"id\":\"1929\"}},\"id\":\"1835\",\"type\":\"ColumnDataSource\"},{\"attributes\":{},\"id\":\"1927\",\"type\":\"UnionRenderers\"},{\"attributes\":{\"data\":{\"community_0\":[0.0,0.0,1.0,1.0,0.0,0.0,0.0,1.0,0.0,0.0,0.0,3.0,0.0,3.0,3.0,0.0,0.0,3.0,1.0,1.0,1.0,1.0,2.0,2.0,2.0,1.0,2.0,1.0,1.0,2.0,1.0,1.0,3.0,3.0],\"community_1\":[0.0,0.0,1.0,1.0,0.0,0.0,0.0,1.0,0.0,0.0,0.0,0.0,0.0,0.0,0.0,0.0,0.0,0.0,1.0,1.0,1.0,1.0,1.0,1.0,1.0,1.0,1.0,1.0,1.0,1.0,1.0,1.0,0.0,0.0],\"highlight_0\":[\"#3288bd\",\"#3288bd\",\"#66c2a5\",\"#66c2a5\",\"#3288bd\",\"#3288bd\",\"#3288bd\",\"#66c2a5\",\"#3288bd\",\"#3288bd\",\"#3288bd\",\"#e6f598\",\"#3288bd\",\"#e6f598\",\"#e6f598\",\"#3288bd\",\"#3288bd\",\"#e6f598\",\"#66c2a5\",\"#66c2a5\",\"#66c2a5\",\"#66c2a5\",\"#abdda4\",\"#abdda4\",\"#abdda4\",\"#66c2a5\",\"#abdda4\",\"#66c2a5\",\"#66c2a5\",\"#abdda4\",\"#66c2a5\",\"#66c2a5\",\"#e6f598\",\"#e6f598\"],\"highlight_1\":[\"#3288bd\",\"#3288bd\",\"#66c2a5\",\"#66c2a5\",\"#3288bd\",\"#3288bd\",\"#3288bd\",\"#66c2a5\",\"#3288bd\",\"#3288bd\",\"#3288bd\",\"#3288bd\",\"#3288bd\",\"#3288bd\",\"#3288bd\",\"#3288bd\",\"#3288bd\",\"#3288bd\",\"#66c2a5\",\"#66c2a5\",\"#66c2a5\",\"#66c2a5\",\"#66c2a5\",\"#66c2a5\",\"#66c2a5\",\"#66c2a5\",\"#66c2a5\",\"#66c2a5\",\"#66c2a5\",\"#66c2a5\",\"#66c2a5\",\"#66c2a5\",\"#3288bd\",\"#3288bd\"],\"index\":[0,9,10,14,15,16,19,20,21,33,23,24,27,28,29,30,31,32,2,1,3,4,5,6,7,8,11,12,13,17,18,22,26,25]},\"selected\":{\"id\":\"1948\"},\"selection_policy\":{\"id\":\"1949\"}},\"id\":\"1876\",\"type\":\"ColumnDataSource\"},{\"attributes\":{},\"id\":\"1944\",\"type\":\"Selection\"},{\"attributes\":{},\"id\":\"1948\",\"type\":\"Selection\"},{\"attributes\":{\"end\":10.1,\"start\":-10.1},\"id\":\"1829\",\"type\":\"Range1d\"},{\"attributes\":{},\"id\":\"1947\",\"type\":\"UnionRenderers\"},{\"attributes\":{\"toolbar\":{\"id\":\"1952\"},\"toolbar_location\":\"above\"},\"id\":\"1953\",\"type\":\"ToolbarBox\"},{\"attributes\":{\"data\":{\"end\":[9,10,14,15,16,19,20,21,33,23,24,27,28,29,30,31,32,1,3,31,33,3,1,2,3,4,33,33,33,1,2,33,3,23,24,30,31,32,26,28,30,30,3,25,3,32,2,1,25,26,1,3,4,8,18,22,3,4,5,6,7,8,11,12,13,18,22,4,8,8,13,7,11,7,11,17,17,25],\"start\":[0,0,0,0,0,0,0,0,0,0,0,0,0,0,0,0,0,9,9,9,9,10,14,14,14,14,15,16,19,20,20,21,33,33,33,33,33,33,24,24,24,27,28,28,29,29,31,32,32,32,2,2,2,2,2,2,1,1,1,1,1,1,1,1,1,1,1,3,3,4,4,5,5,6,6,6,7,26]},\"selected\":{\"id\":\"1926\"},\"selection_policy\":{\"id\":\"1927\"}},\"id\":\"1839\",\"type\":\"ColumnDataSource\"},{\"attributes\":{\"source\":{\"id\":\"1839\"}},\"id\":\"1841\",\"type\":\"CDSView\"},{\"attributes\":{\"callback\":null,\"tooltips\":[[\"Node\",\"@index\"],[\"Community\",\"@community_0\"]]},\"id\":\"1865\",\"type\":\"HoverTool\"},{\"attributes\":{},\"id\":\"1926\",\"type\":\"Selection\"},{\"attributes\":{},\"id\":\"1919\",\"type\":\"NodesOnly\"},{\"attributes\":{},\"id\":\"1925\",\"type\":\"UnionRenderers\"},{\"attributes\":{\"edge_renderer\":{\"id\":\"1840\"},\"inspection_policy\":{\"id\":\"1863\"},\"layout_provider\":{\"id\":\"1842\"},\"node_renderer\":{\"id\":\"1836\"},\"selection_policy\":{\"id\":\"1919\"}},\"id\":\"1833\",\"type\":\"GraphRenderer\"},{\"attributes\":{\"active_multi\":null,\"tools\":[{\"id\":\"1865\"}]},\"id\":\"1866\",\"type\":\"Toolbar\"},{\"attributes\":{\"fill_color\":{\"field\":\"highlight_1\"},\"size\":{\"value\":25}},\"id\":\"1884\",\"type\":\"Circle\"},{\"attributes\":{},\"id\":\"1913\",\"type\":\"LinearScale\"},{\"attributes\":{\"fill_color\":{\"field\":\"highlight_0\"},\"size\":{\"value\":25}},\"id\":\"1843\",\"type\":\"Circle\"},{\"attributes\":{\"source\":{\"id\":\"1835\"}},\"id\":\"1837\",\"type\":\"CDSView\"},{\"attributes\":{\"data\":{\"name\":[0,9,10,14,15,16,19,20,21,33,23,24,27,28,29,30,31,32,2,1,3,4,5,6,7,8,11,12,13,17,18,22,26,25],\"x\":[-2.7562102883767614,-0.05519358299160917,-2.186847823970466,1.759769978777224,-6.37350099994015,-4.283791257516951,-5.573114082018968,1.1233073191693388,-6.093465641563147,-3.496066909499713,-5.306905598823685,-5.394571416600154,-2.1315325535032046,-4.410808033069048,-3.030238997172414,-3.270433248921917,0.12675286146644088,-3.123098246194106,3.2167809878801936,3.602038771389236,-0.07000417040367476,3.8832606376096868,4.451994853048913,6.327535492987039,5.030533941800095,2.293085195093805,6.241547061152567,8.130818924546519,7.225276461103575,7.0180985493182675,6.054403192086738,6.245625581233751,-7.759834967709604,-7.415211990387819],\"y\":[2.5137283086071998,1.4142574257175478,-1.7913696999152675,1.008509941504014,3.2937072761597244,6.3028861073305,5.614927551093324,0.07919454199812466,1.6289749026584115,3.0123941321158565,0.11756327990321569,3.8743328911433674,7.237659056503888,1.1248400320175251,-1.0823343052393586,5.642865873439532,3.345776087264644,0.05560214980877718,0.5382200393338047,-2.2805873398300363,-0.2637762371097435,-0.6587960223034457,-5.964634540777214,-6.91366613983849,-7.422687530369455,-1.938090558888038,-5.290537496735332,-3.574401830537642,-1.3263887433044776,-10.0,-0.8499130978463758,0.8501017859760995,1.7987191435787198,-0.09707698345936645]},\"selected\":{\"id\":\"1924\"},\"selection_policy\":{\"id\":\"1925\"}},\"id\":\"1867\",\"type\":\"ColumnDataSource\"},{\"attributes\":{},\"id\":\"1939\",\"type\":\"NodesOnly\"},{\"attributes\":{\"data_source\":{\"id\":\"1876\"},\"glyph\":{\"id\":\"1884\"},\"hover_glyph\":{\"id\":\"1894\"},\"muted_glyph\":null,\"view\":{\"id\":\"1878\"}},\"id\":\"1877\",\"type\":\"GlyphRenderer\"},{\"attributes\":{\"line_alpha\":{\"value\":0.5},\"line_width\":{\"value\":2.0}},\"id\":\"1889\",\"type\":\"MultiLine\"},{\"attributes\":{},\"id\":\"1945\",\"type\":\"UnionRenderers\"},{\"attributes\":{},\"id\":\"1932\",\"type\":\"DataRange1d\"},{\"attributes\":{},\"id\":\"1904\",\"type\":\"NodesAndLinkedEdges\"},{\"attributes\":{},\"id\":\"1933\",\"type\":\"LinearScale\"},{\"attributes\":{},\"id\":\"1863\",\"type\":\"NodesAndLinkedEdges\"},{\"attributes\":{\"graph_layout\":{\"0\":[-2.7562102883767614,2.5137283086071998],\"1\":[3.602038771389236,-2.2805873398300363],\"10\":[-2.186847823970466,-1.7913696999152675],\"11\":[6.241547061152567,-5.290537496735332],\"12\":[8.130818924546519,-3.574401830537642],\"13\":[7.225276461103575,-1.3263887433044776],\"14\":[1.759769978777224,1.008509941504014],\"15\":[-6.37350099994015,3.2937072761597244],\"16\":[-4.283791257516951,6.3028861073305],\"17\":[7.0180985493182675,-10.0],\"18\":[6.054403192086738,-0.8499130978463758],\"19\":[-5.573114082018968,5.614927551093324],\"2\":[3.2167809878801936,0.5382200393338047],\"20\":[1.1233073191693388,0.07919454199812466],\"21\":[-6.093465641563147,1.6289749026584115],\"22\":[6.245625581233751,0.8501017859760995],\"23\":[-5.306905598823685,0.11756327990321569],\"24\":[-5.394571416600154,3.8743328911433674],\"25\":[-7.415211990387819,-0.09707698345936645],\"26\":[-7.759834967709604,1.7987191435787198],\"27\":[-2.1315325535032046,7.237659056503888],\"28\":[-4.410808033069048,1.1248400320175251],\"29\":[-3.030238997172414,-1.0823343052393586],\"3\":[-0.07000417040367476,-0.2637762371097435],\"30\":[-3.270433248921917,5.642865873439532],\"31\":[0.12675286146644088,3.345776087264644],\"32\":[-3.123098246194106,0.05560214980877718],\"33\":[-3.496066909499713,3.0123941321158565],\"4\":[3.8832606376096868,-0.6587960223034457],\"5\":[4.451994853048913,-5.964634540777214],\"6\":[6.327535492987039,-6.91366613983849],\"7\":[5.030533941800095,-7.422687530369455],\"8\":[2.293085195093805,-1.938090558888038],\"9\":[-0.05519358299160917,1.4142574257175478]}},\"id\":\"1883\",\"type\":\"StaticLayoutProvider\"},{\"attributes\":{\"renderers\":[{\"id\":\"1833\"},{\"id\":\"1868\"}],\"title\":\"Community Detection Example 1: Resolution 1\",\"toolbar\":{\"id\":\"1866\"},\"toolbar_location\":null,\"width\":1200,\"x_range\":{\"id\":\"1829\"},\"x_scale\":{\"id\":\"1914\"},\"y_range\":{\"id\":\"1912\"},\"y_scale\":{\"id\":\"1913\"}},\"id\":\"1830\",\"type\":\"Plot\"},{\"attributes\":{\"data_source\":{\"id\":\"1839\"},\"glyph\":{\"id\":\"1848\"},\"hover_glyph\":{\"id\":\"1858\"},\"muted_glyph\":null,\"view\":{\"id\":\"1841\"}},\"id\":\"1840\",\"type\":\"GlyphRenderer\"},{\"attributes\":{},\"id\":\"1929\",\"type\":\"UnionRenderers\"},{\"attributes\":{\"source\":{\"id\":\"1876\"}},\"id\":\"1878\",\"type\":\"CDSView\"},{\"attributes\":{\"toolbars\":[{\"id\":\"1866\"},{\"id\":\"1907\"}],\"tools\":[{\"id\":\"1865\"},{\"id\":\"1906\"}]},\"id\":\"1952\",\"type\":\"ProxyToolbar\"},{\"attributes\":{\"fill_color\":{\"value\":\"#abdda4\"},\"size\":{\"value\":25}},\"id\":\"1894\",\"type\":\"Circle\"},{\"attributes\":{\"line_color\":{\"value\":\"#abdda4\"},\"line_width\":{\"value\":4.0}},\"id\":\"1899\",\"type\":\"MultiLine\"},{\"attributes\":{\"fill_color\":{\"value\":\"#abdda4\"},\"size\":{\"value\":25}},\"id\":\"1853\",\"type\":\"Circle\"},{\"attributes\":{\"graph_layout\":{\"0\":[-2.7562102883767614,2.5137283086071998],\"1\":[3.602038771389236,-2.2805873398300363],\"10\":[-2.186847823970466,-1.7913696999152675],\"11\":[6.241547061152567,-5.290537496735332],\"12\":[8.130818924546519,-3.574401830537642],\"13\":[7.225276461103575,-1.3263887433044776],\"14\":[1.759769978777224,1.008509941504014],\"15\":[-6.37350099994015,3.2937072761597244],\"16\":[-4.283791257516951,6.3028861073305],\"17\":[7.0180985493182675,-10.0],\"18\":[6.054403192086738,-0.8499130978463758],\"19\":[-5.573114082018968,5.614927551093324],\"2\":[3.2167809878801936,0.5382200393338047],\"20\":[1.1233073191693388,0.07919454199812466],\"21\":[-6.093465641563147,1.6289749026584115],\"22\":[6.245625581233751,0.8501017859760995],\"23\":[-5.306905598823685,0.11756327990321569],\"24\":[-5.394571416600154,3.8743328911433674],\"25\":[-7.415211990387819,-0.09707698345936645],\"26\":[-7.759834967709604,1.7987191435787198],\"27\":[-2.1315325535032046,7.237659056503888],\"28\":[-4.410808033069048,1.1248400320175251],\"29\":[-3.030238997172414,-1.0823343052393586],\"3\":[-0.07000417040367476,-0.2637762371097435],\"30\":[-3.270433248921917,5.642865873439532],\"31\":[0.12675286146644088,3.345776087264644],\"32\":[-3.123098246194106,0.05560214980877718],\"33\":[-3.496066909499713,3.0123941321158565],\"4\":[3.8832606376096868,-0.6587960223034457],\"5\":[4.451994853048913,-5.964634540777214],\"6\":[6.327535492987039,-6.91366613983849],\"7\":[5.030533941800095,-7.422687530369455],\"8\":[2.293085195093805,-1.938090558888038],\"9\":[-0.05519358299160917,1.4142574257175478]}},\"id\":\"1842\",\"type\":\"StaticLayoutProvider\"},{\"attributes\":{},\"id\":\"1914\",\"type\":\"LinearScale\"},{\"attributes\":{},\"id\":\"1924\",\"type\":\"Selection\"},{\"attributes\":{\"renderers\":[{\"id\":\"1874\"},{\"id\":\"1909\"}],\"title\":\"Community Detection Example 2: Resolution 0.5\",\"toolbar\":{\"id\":\"1907\"},\"toolbar_location\":null,\"width\":1200,\"x_range\":{\"id\":\"1870\"},\"x_scale\":{\"id\":\"1934\"},\"y_range\":{\"id\":\"1932\"},\"y_scale\":{\"id\":\"1933\"}},\"id\":\"1871\",\"type\":\"Plot\"},{\"attributes\":{\"background_fill_color\":{\"field\":\"highlight_0\"},\"source\":{\"id\":\"1867\"},\"text\":{\"field\":\"name\"},\"text_font_size\":{\"value\":\"13px\"},\"x\":{\"field\":\"x\"},\"x_offset\":{\"value\":-5.0},\"y\":{\"field\":\"y\"},\"y_offset\":{\"value\":-5.0}},\"id\":\"1868\",\"type\":\"LabelSet\"},{\"attributes\":{\"end\":10.1,\"start\":-10.1},\"id\":\"1870\",\"type\":\"Range1d\"},{\"attributes\":{\"edge_renderer\":{\"id\":\"1881\"},\"inspection_policy\":{\"id\":\"1904\"},\"layout_provider\":{\"id\":\"1883\"},\"node_renderer\":{\"id\":\"1877\"},\"selection_policy\":{\"id\":\"1939\"}},\"id\":\"1874\",\"type\":\"GraphRenderer\"},{\"attributes\":{\"data_source\":{\"id\":\"1835\"},\"glyph\":{\"id\":\"1843\"},\"hover_glyph\":{\"id\":\"1853\"},\"muted_glyph\":null,\"view\":{\"id\":\"1837\"}},\"id\":\"1836\",\"type\":\"GlyphRenderer\"},{\"attributes\":{\"line_color\":{\"value\":\"#abdda4\"},\"line_width\":{\"value\":4.0}},\"id\":\"1858\",\"type\":\"MultiLine\"},{\"attributes\":{\"active_multi\":null,\"tools\":[{\"id\":\"1906\"}]},\"id\":\"1907\",\"type\":\"Toolbar\"},{\"attributes\":{\"line_alpha\":{\"value\":0.5},\"line_width\":{\"value\":2.0}},\"id\":\"1848\",\"type\":\"MultiLine\"},{\"attributes\":{},\"id\":\"1949\",\"type\":\"UnionRenderers\"},{\"attributes\":{\"background_fill_color\":{\"field\":\"highlight_1\"},\"source\":{\"id\":\"1908\"},\"text\":{\"field\":\"name\"},\"text_font_size\":{\"value\":\"13px\"},\"x\":{\"field\":\"x\"},\"x_offset\":{\"value\":-5.0},\"y\":{\"field\":\"y\"},\"y_offset\":{\"value\":-5.0}},\"id\":\"1909\",\"type\":\"LabelSet\"},{\"attributes\":{},\"id\":\"1912\",\"type\":\"DataRange1d\"},{\"attributes\":{\"callback\":null,\"tooltips\":[[\"Node\",\"@index\"],[\"Community\",\"@community_1\"]]},\"id\":\"1906\",\"type\":\"HoverTool\"}],\"root_ids\":[\"1954\"]},\"title\":\"Bokeh Application\",\"version\":\"2.3.3\"}};\n",
       "  var render_items = [{\"docid\":\"09800c08-875f-4bb8-8eee-4fc7978fa158\",\"root_ids\":[\"1954\"],\"roots\":{\"1954\":\"2f0dc11c-d5bb-4f72-b430-282777290bff\"}}];\n",
       "  root.Bokeh.embed.embed_items_notebook(docs_json, render_items);\n",
       "\n",
       "  }\n",
       "  if (root.Bokeh !== undefined) {\n",
       "    embed_document(root);\n",
       "  } else {\n",
       "    var attempts = 0;\n",
       "    var timer = setInterval(function(root) {\n",
       "      if (root.Bokeh !== undefined) {\n",
       "        clearInterval(timer);\n",
       "        embed_document(root);\n",
       "      } else {\n",
       "        attempts++;\n",
       "        if (attempts > 100) {\n",
       "          clearInterval(timer);\n",
       "          console.log(\"Bokeh: ERROR: Unable to run BokehJS code because BokehJS library is missing\");\n",
       "        }\n",
       "      }\n",
       "    }, 10, root)\n",
       "  }\n",
       "})(window);"
      ],
      "application/vnd.bokehjs_exec.v0+json": ""
     },
     "metadata": {
      "application/vnd.bokehjs_exec.v0+json": {
       "id": "1954"
      }
     },
     "output_type": "display_data"
    }
   ],
   "source": [
    "grid = gridplot([plot_0, plot_1], ncols=1)\n",
    "show(grid)"
   ]
  },
  {
   "cell_type": "markdown",
   "metadata": {},
   "source": [
    "## Clean up everything. \n",
    "\n",
    "Make sure we know what tables we created, drop them, and close our connection.\n",
    "(This is probably overkill, since everything in this session is ephemeral anyway, but good practice nonetheless."
   ]
  },
  {
   "cell_type": "code",
   "execution_count": 16,
   "metadata": {
    "ExecuteTime": {
     "end_time": "2021-11-09T22:09:12.464198Z",
     "start_time": "2021-11-09T22:09:12.188656Z"
    }
   },
   "outputs": [],
   "source": [
    "table_list = conn.tableinfo()[\"TableInfo\"][\"Name\"].to_list()\n",
    "\n",
    "for table in table_list:\n",
    "    conn.droptable(name=table, quiet=True)\n",
    "\n",
    "conn.close()"
   ]
  }
 ],
 "metadata": {
  "kernelspec": {
   "display_name": "Python 3 (ipykernel)",
   "language": "python",
   "name": "python3"
  },
  "language_info": {
   "codemirror_mode": {
    "name": "ipython",
    "version": 3
   },
   "file_extension": ".py",
   "mimetype": "text/x-python",
   "name": "python",
   "nbconvert_exporter": "python",
   "pygments_lexer": "ipython3",
   "version": "3.8.12"
  },
  "toc": {
   "base_numbering": 1,
   "nav_menu": {},
   "number_sections": true,
   "sideBar": true,
   "skip_h1_title": false,
   "title_cell": "Table of Contents",
   "title_sidebar": "Contents",
   "toc_cell": false,
   "toc_position": {},
   "toc_section_display": true,
   "toc_window_display": false
  }
 },
 "nbformat": 4,
 "nbformat_minor": 4
}
