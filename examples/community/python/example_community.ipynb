{
 "cells": [
  {
   "cell_type": "markdown",
   "metadata": {},
   "source": [
    "# Community Detection Using the `NETWORK` Actionset in SAS Viya and Python"
   ]
  },
  {
   "cell_type": "markdown",
   "metadata": {},
   "source": [
    "In this example, we load a small sample undirected graph into CAS, and show how to detect communities using the network actionset. We demonstrate how resolution and fixed nodes affect the community detection as well.\n",
    "\n",
    "----------------\n",
    "\n",
    "The basic flow of this notebook is as follows:\n",
    "1. Load the sample graph into a Pandas DataFrame as a set of links that represent the total graph. \n",
    "2. Connect to our CAS server and load the actionsets we require.\n",
    "3. Upload our sample graph to our CAS server.\n",
    "4. Execute the community detection without fixed nodes using two resolutions (0.5 and 1.0).\n",
    "5. Execute the community detection with fixed nodes.\n",
    "6. Prepare and display the network plots showing the cliques.\n",
    "\n",
    "----------------\n",
    "__Prepared by:__\n",
    "Damian Herrick (<i class=\"fa fa-github\" aria-hidden=\"true\"></i>: [dtherrick](www.github.com/dtherrick))"
   ]
  },
  {
   "cell_type": "markdown",
   "metadata": {},
   "source": [
    "## Imports\n",
    "\n",
    "Our imports are broken out as follows:\n",
    "\n",
    "| Module           | Method            | Description                                                                        |\n",
    "|:-----------------|:-----------------:|:----------------------------------------------------------------------------------:|\n",
    "| `os`             | all               | Allows access to environment variables.                                            |\n",
    "| `sys`            | all               | Used to update our system path so Python can import our custom utility functions.  |\n",
    "| `swat`           | all               | SAS Python module that orchestrates communicatoin with a CAS server.               |\n",
    "| `pandas`         | all               | Data management module we use for preparation of local data.                       |\n",
    "| `networkx`       | all               | Used to manage graph data structures when plotting.                                |\n",
    "| `bokeh.io`       | `output_notebook` | Utility function that allows rendering of Bokeh plots in Jupyter                   |\n",
    "| `bokeh.io`       | `show`            | Utility function that displays Bokeh plots                                         |\n",
    "| `bokeh.layouts`  | `gridplot`        | Utility function that arranges Bokeh plots in a multi-plot grid                    |\n",
    "| `bokeh.palettes` | `Spectral8`       | Eight-color palette used to differentiate node types.                              |\n",
    "| `bokehvis`       | all               | Custom module written to simplify plot rendering with Bokeh                        |"
   ]
  },
  {
   "cell_type": "code",
   "execution_count": 1,
   "metadata": {
    "ExecuteTime": {
     "end_time": "2021-11-09T22:09:48.481953Z",
     "start_time": "2021-11-09T22:09:47.140268Z"
    }
   },
   "outputs": [],
   "source": [
    "import os\n",
    "import sys\n",
    "\n",
    "import swat\n",
    "import pandas as pd\n",
    "import networkx as nx\n",
    "from bokeh.io import output_notebook, show\n",
    "from bokeh.layouts import gridplot\n",
    "from bokeh.palettes import Spectral8\n",
    "\n",
    "sys.path.append(os.path.join(os.path.dirname(os.getcwd()),r\"../../common/python\"))\n",
    "import bokehvis as vis\n",
    "\n",
    "# tell our notebook we want to output with Bokeh\n",
    "output_notebook()"
   ]
  },
  {
   "cell_type": "markdown",
   "metadata": {},
   "source": [
    "## Prepare the sample graph. \n",
    "* We pass a set of links, and a set of nodes. Nodes are passed this time because we define fix groups for later calculation on load."
   ]
  },
  {
   "cell_type": "code",
   "execution_count": 3,
   "metadata": {
    "ExecuteTime": {
     "end_time": "2021-11-09T22:09:51.690496Z",
     "start_time": "2021-11-09T22:09:51.684051Z"
    }
   },
   "outputs": [],
   "source": [
    "colNames = [\"from\", \"to\"]\n",
    "links = [\n",
    "    (\"A\", \"B\"),\n",
    "    (\"A\", \"F\"),\n",
    "    (\"A\", \"G\"),\n",
    "    (\"B\", \"C\"),\n",
    "    (\"B\", \"D\"),\n",
    "    (\"B\", \"E\"),\n",
    "    (\"C\", \"D\"),\n",
    "    (\"E\", \"F\"),\n",
    "    (\"G\", \"I\"),\n",
    "    (\"G\", \"H\"),\n",
    "    (\"H\", \"I\"),\n",
    "]\n",
    "\n",
    "dfLinkSetIn = pd.DataFrame(links, columns=colNames)\n",
    "\n",
    "colNames = [\"node\", \"fixGroup\"]\n",
    "nodes = [(\"A\", 1), (\"B\", 1), (\"C\", 2), (\"D\", 2), (\"H\", 3), (\"I\", 3)]\n",
    "\n",
    "dfNodeSetIn = pd.DataFrame(nodes, columns=colNames)"
   ]
  },
  {
   "cell_type": "markdown",
   "metadata": {},
   "source": [
    "Let's start by looking at the basic network itself.\n",
    "\n",
    "We create a `networkx` graph and pass it to our `bokeh` helper function to create the initial plot."
   ]
  },
  {
   "cell_type": "code",
   "execution_count": 4,
   "metadata": {
    "ExecuteTime": {
     "end_time": "2021-11-09T22:10:17.430973Z",
     "start_time": "2021-11-09T22:10:17.377392Z"
    }
   },
   "outputs": [
    {
     "data": {
      "text/html": [
       "\n",
       "\n",
       "\n",
       "\n",
       "\n",
       "\n",
       "  <div class=\"bk-root\" id=\"163b089d-f8f8-44b8-b826-480c045e55f0\" data-root-id=\"1004\"></div>\n"
      ]
     },
     "metadata": {},
     "output_type": "display_data"
    },
    {
     "data": {
      "application/javascript": [
       "(function(root) {\n",
       "  function embed_document(root) {\n",
       "    \n",
       "  var docs_json = {\"5d250014-825c-4757-b3fd-e84a01440fab\":{\"defs\":[],\"roots\":{\"references\":[{\"attributes\":{\"renderers\":[{\"id\":\"1007\"},{\"id\":\"1042\"}],\"title\":\"Sample Undirected Graph for Community Detection\",\"toolbar\":{\"id\":\"1040\"},\"x_range\":{\"id\":\"1003\"},\"x_scale\":{\"id\":\"1047\"},\"y_range\":{\"id\":\"1045\"},\"y_scale\":{\"id\":\"1044\"}},\"id\":\"1004\",\"type\":\"Plot\"},{\"attributes\":{},\"id\":\"1061\",\"type\":\"Selection\"},{\"attributes\":{\"graph_layout\":{\"A\":[0.7166431967531526,-0.4374293100659478],\"B\":[-2.7155851066863392,4.144626683345237],\"C\":[-6.820521774493867,5.192152365000552],\"D\":[-5.478452095147554,7.439849619568275],\"E\":[0.9424059055422214,5.77563092462037],\"F\":[2.968171456057755,2.9229184888230653],\"G\":[2.606644645662539,-5.894220069827531],\"H\":[2.638071052130237,-10.0],\"I\":[5.14262272018185,-9.143528701464021]}},\"id\":\"1016\",\"type\":\"StaticLayoutProvider\"},{\"attributes\":{\"callback\":null,\"tooltips\":[[\"Node\",\"@index\"]]},\"id\":\"1039\",\"type\":\"HoverTool\"},{\"attributes\":{\"line_alpha\":{\"value\":0.5},\"line_width\":{\"value\":2.0}},\"id\":\"1022\",\"type\":\"MultiLine\"},{\"attributes\":{\"data_source\":{\"id\":\"1013\"},\"glyph\":{\"id\":\"1022\"},\"hover_glyph\":{\"id\":\"1032\"},\"muted_glyph\":null,\"view\":{\"id\":\"1015\"}},\"id\":\"1014\",\"type\":\"GlyphRenderer\"},{\"attributes\":{},\"id\":\"1062\",\"type\":\"UnionRenderers\"},{\"attributes\":{\"source\":{\"id\":\"1009\"}},\"id\":\"1011\",\"type\":\"CDSView\"},{\"attributes\":{\"source\":{\"id\":\"1013\"}},\"id\":\"1015\",\"type\":\"CDSView\"},{\"attributes\":{\"line_color\":{\"value\":\"#abdda4\"},\"line_width\":{\"value\":4.0}},\"id\":\"1032\",\"type\":\"MultiLine\"},{\"attributes\":{},\"id\":\"1057\",\"type\":\"Selection\"},{\"attributes\":{\"fill_color\":{\"value\":\"#abdda4\"},\"size\":{\"value\":25}},\"id\":\"1027\",\"type\":\"Circle\"},{\"attributes\":{\"fill_color\":{\"value\":\"#f7fbff\"},\"size\":{\"value\":25}},\"id\":\"1017\",\"type\":\"Circle\"},{\"attributes\":{\"data\":{\"name\":[\"A\",\"B\",\"F\",\"G\",\"C\",\"D\",\"E\",\"I\",\"H\"],\"x\":[0.7166431967531526,-2.7155851066863392,2.968171456057755,2.606644645662539,-6.820521774493867,-5.478452095147554,0.9424059055422214,5.14262272018185,2.638071052130237],\"y\":[-0.4374293100659478,4.144626683345237,2.9229184888230653,-5.894220069827531,5.192152365000552,7.439849619568275,5.77563092462037,-9.143528701464021,-10.0]},\"selected\":{\"id\":\"1057\"},\"selection_policy\":{\"id\":\"1058\"}},\"id\":\"1041\",\"type\":\"ColumnDataSource\"},{\"attributes\":{\"data\":{\"index\":[\"A\",\"B\",\"F\",\"G\",\"C\",\"D\",\"E\",\"I\",\"H\"]},\"selected\":{\"id\":\"1059\"},\"selection_policy\":{\"id\":\"1060\"}},\"id\":\"1009\",\"type\":\"ColumnDataSource\"},{\"attributes\":{},\"id\":\"1044\",\"type\":\"LinearScale\"},{\"attributes\":{\"edge_renderer\":{\"id\":\"1014\"},\"inspection_policy\":{\"id\":\"1037\"},\"layout_provider\":{\"id\":\"1016\"},\"node_renderer\":{\"id\":\"1010\"},\"selection_policy\":{\"id\":\"1048\"}},\"id\":\"1007\",\"type\":\"GraphRenderer\"},{\"attributes\":{},\"id\":\"1058\",\"type\":\"UnionRenderers\"},{\"attributes\":{\"data_source\":{\"id\":\"1009\"},\"glyph\":{\"id\":\"1017\"},\"hover_glyph\":{\"id\":\"1027\"},\"muted_glyph\":null,\"view\":{\"id\":\"1011\"}},\"id\":\"1010\",\"type\":\"GlyphRenderer\"},{\"attributes\":{\"background_fill_color\":{\"value\":\"#f7fbff\"},\"source\":{\"id\":\"1041\"},\"text\":{\"field\":\"name\"},\"text_font_size\":{\"value\":\"13px\"},\"x\":{\"field\":\"x\"},\"x_offset\":{\"value\":-5.0},\"y\":{\"field\":\"y\"},\"y_offset\":{\"value\":-5.0}},\"id\":\"1042\",\"type\":\"LabelSet\"},{\"attributes\":{\"active_multi\":null,\"tools\":[{\"id\":\"1039\"}]},\"id\":\"1040\",\"type\":\"Toolbar\"},{\"attributes\":{},\"id\":\"1059\",\"type\":\"Selection\"},{\"attributes\":{\"data\":{\"end\":[\"B\",\"F\",\"G\",\"C\",\"D\",\"E\",\"E\",\"I\",\"H\",\"D\",\"H\"],\"start\":[\"A\",\"A\",\"A\",\"B\",\"B\",\"B\",\"F\",\"G\",\"G\",\"C\",\"I\"]},\"selected\":{\"id\":\"1061\"},\"selection_policy\":{\"id\":\"1062\"}},\"id\":\"1013\",\"type\":\"ColumnDataSource\"},{\"attributes\":{},\"id\":\"1060\",\"type\":\"UnionRenderers\"},{\"attributes\":{\"end\":10.1,\"start\":-10.1},\"id\":\"1003\",\"type\":\"Range1d\"},{\"attributes\":{},\"id\":\"1045\",\"type\":\"DataRange1d\"},{\"attributes\":{},\"id\":\"1047\",\"type\":\"LinearScale\"},{\"attributes\":{},\"id\":\"1037\",\"type\":\"NodesAndLinkedEdges\"},{\"attributes\":{},\"id\":\"1048\",\"type\":\"NodesOnly\"}],\"root_ids\":[\"1004\"]},\"title\":\"Bokeh Application\",\"version\":\"2.3.3\"}};\n",
       "  var render_items = [{\"docid\":\"5d250014-825c-4757-b3fd-e84a01440fab\",\"root_ids\":[\"1004\"],\"roots\":{\"1004\":\"163b089d-f8f8-44b8-b826-480c045e55f0\"}}];\n",
       "  root.Bokeh.embed.embed_items_notebook(docs_json, render_items);\n",
       "\n",
       "  }\n",
       "  if (root.Bokeh !== undefined) {\n",
       "    embed_document(root);\n",
       "  } else {\n",
       "    var attempts = 0;\n",
       "    var timer = setInterval(function(root) {\n",
       "      if (root.Bokeh !== undefined) {\n",
       "        clearInterval(timer);\n",
       "        embed_document(root);\n",
       "      } else {\n",
       "        attempts++;\n",
       "        if (attempts > 100) {\n",
       "          clearInterval(timer);\n",
       "          console.log(\"Bokeh: ERROR: Unable to run BokehJS code because BokehJS library is missing\");\n",
       "        }\n",
       "      }\n",
       "    }, 10, root)\n",
       "  }\n",
       "})(window);"
      ],
      "application/vnd.bokehjs_exec.v0+json": ""
     },
     "metadata": {
      "application/vnd.bokehjs_exec.v0+json": {
       "id": "1004"
      }
     },
     "output_type": "display_data"
    }
   ],
   "source": [
    "G_comm = nx.from_pandas_edgelist(dfLinkSetIn, 'from', 'to')\n",
    "\n",
    "title = 'Sample Undirected Graph for Community Detection'\n",
    "hover = [('Node', '@index')]\n",
    "nodeSize = 25\n",
    "\n",
    "plot = vis.render_plot(graph=G_comm, title=title, hover_tooltips=hover, node_size=nodeSize)\n",
    "show(plot)"
   ]
  },
  {
   "cell_type": "markdown",
   "metadata": {},
   "source": [
    "## Connect to CAS, load the actionsets we'll need, and upload our graph to the CAS server."
   ]
  },
  {
   "cell_type": "code",
   "execution_count": 5,
   "metadata": {
    "ExecuteTime": {
     "end_time": "2021-11-09T22:10:37.322847Z",
     "start_time": "2021-11-09T22:10:22.339598Z"
    }
   },
   "outputs": [
    {
     "name": "stdout",
     "output_type": "stream",
     "text": [
      "NOTE: Added action set 'network'.\n"
     ]
    }
   ],
   "source": [
    "host = os.environ['CAS_HOST_ORGRD']\n",
    "port = int(os.environ['CAS_PORT'])\n",
    "\n",
    "conn = swat.CAS(host, port)\n",
    "\n",
    "_ = conn.loadactionset(\"network\")"
   ]
  },
  {
   "cell_type": "markdown",
   "metadata": {},
   "source": [
    "### Upload the local dataframes into CAS"
   ]
  },
  {
   "cell_type": "code",
   "execution_count": 6,
   "metadata": {
    "ExecuteTime": {
     "end_time": "2021-11-09T22:10:37.735659Z",
     "start_time": "2021-11-09T22:10:37.325074Z"
    }
   },
   "outputs": [
    {
     "data": {
      "text/html": [
       "<div class=\"cas-output-area\"></div>\n",
       "<p class=\"cas-results-performance\"><small><span class=\"cas-elapsed\">elapsed 0.00545s</span> &#183; <span class=\"cas-user\">user 0.007s</span> &#183; <span class=\"cas-sys\">sys 0.008s</span> &#183; <span class=\"cas-memory\">mem 1.57MB</span></small></p>"
      ],
      "text/plain": [
       "+ Elapsed: 0.00545s, user: 0.007s, sys: 0.008s, mem: 1.57mb"
      ]
     },
     "execution_count": 6,
     "metadata": {},
     "output_type": "execute_result"
    }
   ],
   "source": [
    "conn.setsessopt(messageLevel=\"ERROR\")\n",
    "_ = conn.upload(dfLinkSetIn, casout=dict(name='LinkSetIn'))\n",
    "_ = conn.upload(dfNodeSetIn, casout=dict(name='NodeSetIn'))\n",
    "conn.setsessopt(messageLevel=\"DEFAULT\")"
   ]
  },
  {
   "cell_type": "markdown",
   "metadata": {},
   "source": [
    "### Calculate the communities (without fixed groups) in our graph using the `network` actionset."
   ]
  },
  {
   "cell_type": "markdown",
   "metadata": {},
   "source": [
    "Since we've loaded our actionset, we can reference it using dot notation from our connection object.\n",
    "\n",
    "We expect that resolution of 0.5 will detect two communities; resolution of 1.0 will detect three communities.\n",
    "\n",
    "Note that the Python code below is equivalent to this block of CASL:\n",
    "```\n",
    "proc network\n",
    "   links              = mycas.LinkSetIn\n",
    "   outNodes           = mycas.NodeSetOut;\n",
    "   community\n",
    "      resolutionList  = 1.0 0.5\n",
    "      outLevel        = mycas.CommLevelOut\n",
    "      outCommunity    = mycas.CommOut\n",
    "      outOverlap      = mycas.CommOverlapOut\n",
    "      outCommLinks    = mycas.CommLinksOut;\n",
    "run;\n",
    "```"
   ]
  },
  {
   "cell_type": "code",
   "execution_count": 7,
   "metadata": {
    "ExecuteTime": {
     "end_time": "2021-11-09T22:10:37.904665Z",
     "start_time": "2021-11-09T22:10:37.738077Z"
    }
   },
   "outputs": [
    {
     "name": "stdout",
     "output_type": "stream",
     "text": [
      "NOTE: The number of nodes in the input graph is 9.\n",
      "NOTE: The number of links in the input graph is 11.\n",
      "NOTE: Processing community detection using 1 threads across 1 machines.\n",
      "NOTE: At resolution=1, the community algorithm found 3 communities with modularity=0.392562.\n",
      "NOTE: At resolution=0.5, the community algorithm found 2 communities with modularity=0.342975.\n",
      "NOTE: Processing community detection used 0.00 (cpu: 0.00) seconds.\n"
     ]
    },
    {
     "data": {
      "text/html": [
       "<div class=\"cas-results-key\"><b>&#167; OutputCasTables</b></div>\n",
       "<div class=\"cas-results-body\">\n",
       "<div>\n",
       "<style scoped>\n",
       "    .dataframe tbody tr th:only-of-type {\n",
       "        vertical-align: middle;\n",
       "    }\n",
       "\n",
       "    .dataframe tbody tr th {\n",
       "        vertical-align: top;\n",
       "    }\n",
       "\n",
       "    .dataframe thead th {\n",
       "        text-align: right;\n",
       "    }\n",
       "</style>\n",
       "<table border=\"1\" class=\"dataframe\">\n",
       "  <thead>\n",
       "    <tr style=\"text-align: right;\">\n",
       "      <th title=\"\"></th>\n",
       "      <th title=\"CAS Library\">casLib</th>\n",
       "      <th title=\"Name\">Name</th>\n",
       "      <th title=\"Label\">Label</th>\n",
       "      <th title=\"Number of Rows\">Rows</th>\n",
       "      <th title=\"Number of Columns\">Columns</th>\n",
       "      <th title=\"Table\">casTable</th>\n",
       "    </tr>\n",
       "  </thead>\n",
       "  <tbody>\n",
       "    <tr>\n",
       "      <td>0</td>\n",
       "      <td>CASUSERHDFS(daherr)</td>\n",
       "      <td>nodeSetOutA</td>\n",
       "      <td></td>\n",
       "      <td>9</td>\n",
       "      <td>3</td>\n",
       "      <td>CASTable('nodeSetOutA', caslib='CASUSERHDFS(da...</td>\n",
       "    </tr>\n",
       "    <tr>\n",
       "      <td>1</td>\n",
       "      <td>CASUSERHDFS(daherr)</td>\n",
       "      <td>CommLinksOut</td>\n",
       "      <td></td>\n",
       "      <td>3</td>\n",
       "      <td>5</td>\n",
       "      <td>CASTable('CommLinksOut', caslib='CASUSERHDFS(d...</td>\n",
       "    </tr>\n",
       "    <tr>\n",
       "      <td>2</td>\n",
       "      <td>CASUSERHDFS(daherr)</td>\n",
       "      <td>CommOut</td>\n",
       "      <td></td>\n",
       "      <td>5</td>\n",
       "      <td>9</td>\n",
       "      <td>CASTable('CommOut', caslib='CASUSERHDFS(daherr)')</td>\n",
       "    </tr>\n",
       "    <tr>\n",
       "      <td>3</td>\n",
       "      <td>CASUSERHDFS(daherr)</td>\n",
       "      <td>CommLevelOut</td>\n",
       "      <td></td>\n",
       "      <td>2</td>\n",
       "      <td>4</td>\n",
       "      <td>CASTable('CommLevelOut', caslib='CASUSERHDFS(d...</td>\n",
       "    </tr>\n",
       "    <tr>\n",
       "      <td>4</td>\n",
       "      <td>CASUSERHDFS(daherr)</td>\n",
       "      <td>CommOverlapOut</td>\n",
       "      <td></td>\n",
       "      <td>11</td>\n",
       "      <td>3</td>\n",
       "      <td>CASTable('CommOverlapOut', caslib='CASUSERHDFS...</td>\n",
       "    </tr>\n",
       "  </tbody>\n",
       "</table>\n",
       "</div>\n",
       "</div>\n",
       "<div class=\"cas-results-key\"><hr/><b>&#167; ProblemSummary</b></div>\n",
       "<div class=\"cas-results-body\">\n",
       "<div>\n",
       "<style scoped>\n",
       "    .dataframe tbody tr th:only-of-type {\n",
       "        vertical-align: middle;\n",
       "    }\n",
       "\n",
       "    .dataframe tbody tr th {\n",
       "        vertical-align: top;\n",
       "    }\n",
       "\n",
       "    .dataframe thead th {\n",
       "        text-align: right;\n",
       "    }\n",
       "</style>\n",
       "<table border=\"1\" class=\"dataframe\"><caption>Problem Summary</caption>\n",
       "  <thead>\n",
       "    <tr style=\"text-align: right;\">\n",
       "      <th title=\"\"></th>\n",
       "      <th title=\"Name1\">Name1</th>\n",
       "      <th title=\"Label1\">Label1</th>\n",
       "      <th title=\"cValue1\">cValue1</th>\n",
       "      <th title=\"nValue1\">nValue1</th>\n",
       "    </tr>\n",
       "  </thead>\n",
       "  <tbody>\n",
       "    <tr>\n",
       "      <td>0</td>\n",
       "      <td>numNodes</td>\n",
       "      <td>Number of Nodes</td>\n",
       "      <td>9</td>\n",
       "      <td>9.0</td>\n",
       "    </tr>\n",
       "    <tr>\n",
       "      <td>1</td>\n",
       "      <td>numLinks</td>\n",
       "      <td>Number of Links</td>\n",
       "      <td>11</td>\n",
       "      <td>11.0</td>\n",
       "    </tr>\n",
       "    <tr>\n",
       "      <td>2</td>\n",
       "      <td>graphDirection</td>\n",
       "      <td>Graph Direction</td>\n",
       "      <td>Undirected</td>\n",
       "      <td>NaN</td>\n",
       "    </tr>\n",
       "  </tbody>\n",
       "</table>\n",
       "</div>\n",
       "</div>\n",
       "<div class=\"cas-results-key\"><hr/><b>&#167; SolutionSummary</b></div>\n",
       "<div class=\"cas-results-body\">\n",
       "<div>\n",
       "<style scoped>\n",
       "    .dataframe tbody tr th:only-of-type {\n",
       "        vertical-align: middle;\n",
       "    }\n",
       "\n",
       "    .dataframe tbody tr th {\n",
       "        vertical-align: top;\n",
       "    }\n",
       "\n",
       "    .dataframe thead th {\n",
       "        text-align: right;\n",
       "    }\n",
       "</style>\n",
       "<table border=\"1\" class=\"dataframe\"><caption>Solution Summary</caption>\n",
       "  <thead>\n",
       "    <tr style=\"text-align: right;\">\n",
       "      <th title=\"\"></th>\n",
       "      <th title=\"Name1\">Name1</th>\n",
       "      <th title=\"Label1\">Label1</th>\n",
       "      <th title=\"cValue1\">cValue1</th>\n",
       "      <th title=\"nValue1\">nValue1</th>\n",
       "    </tr>\n",
       "  </thead>\n",
       "  <tbody>\n",
       "    <tr>\n",
       "      <td>0</td>\n",
       "      <td>problemType</td>\n",
       "      <td>Problem Type</td>\n",
       "      <td>Community Detection</td>\n",
       "      <td>NaN</td>\n",
       "    </tr>\n",
       "    <tr>\n",
       "      <td>1</td>\n",
       "      <td>status</td>\n",
       "      <td>Solution Status</td>\n",
       "      <td>OK</td>\n",
       "      <td>NaN</td>\n",
       "    </tr>\n",
       "    <tr>\n",
       "      <td>2</td>\n",
       "      <td>cpuTime</td>\n",
       "      <td>CPU Time</td>\n",
       "      <td>0.00</td>\n",
       "      <td>0.00000</td>\n",
       "    </tr>\n",
       "    <tr>\n",
       "      <td>3</td>\n",
       "      <td>realTime</td>\n",
       "      <td>Real Time</td>\n",
       "      <td>0.00</td>\n",
       "      <td>0.00016</td>\n",
       "    </tr>\n",
       "  </tbody>\n",
       "</table>\n",
       "</div>\n",
       "</div>\n",
       "<div class=\"cas-results-key\"><hr/><b>&#167; solutionStatus</b></div>\n",
       "<div class=\"cas-results-body\">\n",
       "<div>OK</div>\n",
       "</div>\n",
       "<div class=\"cas-results-key\"><hr/><b>&#167; solutionStatusCode</b></div>\n",
       "<div class=\"cas-results-body\">\n",
       "<div>0</div>\n",
       "</div>\n",
       "<div class=\"cas-output-area\"></div>\n",
       "<p class=\"cas-results-performance\"><small><span class=\"cas-elapsed\">elapsed 0.0668s</span> &#183; <span class=\"cas-user\">user 0.089s</span> &#183; <span class=\"cas-sys\">sys 0.134s</span> &#183; <span class=\"cas-memory\">mem 102MB</span></small></p>"
      ],
      "text/plain": [
       "[OutputCasTables]\n",
       "\n",
       "                 casLib            Name Label  Rows  Columns                                           casTable\n",
       " 0  CASUSERHDFS(daherr)     nodeSetOutA           9        3  CASTable('nodeSetOutA', caslib='CASUSERHDFS(da...\n",
       " 1  CASUSERHDFS(daherr)    CommLinksOut           3        5  CASTable('CommLinksOut', caslib='CASUSERHDFS(d...\n",
       " 2  CASUSERHDFS(daherr)         CommOut           5        9  CASTable('CommOut', caslib='CASUSERHDFS(daherr)')\n",
       " 3  CASUSERHDFS(daherr)    CommLevelOut           2        4  CASTable('CommLevelOut', caslib='CASUSERHDFS(d...\n",
       " 4  CASUSERHDFS(daherr)  CommOverlapOut          11        3  CASTable('CommOverlapOut', caslib='CASUSERHDFS...\n",
       "\n",
       "[ProblemSummary]\n",
       "\n",
       " Problem Summary\n",
       " \n",
       "             Name1           Label1       cValue1  nValue1\n",
       " 0        numNodes  Number of Nodes             9      9.0\n",
       " 1        numLinks  Number of Links            11     11.0\n",
       " 2  graphDirection  Graph Direction    Undirected      NaN\n",
       "\n",
       "[SolutionSummary]\n",
       "\n",
       " Solution Summary\n",
       " \n",
       "          Name1           Label1              cValue1  nValue1\n",
       " 0  problemType     Problem Type  Community Detection      NaN\n",
       " 1       status  Solution Status                   OK      NaN\n",
       " 2      cpuTime         CPU Time                 0.00  0.00000\n",
       " 3     realTime        Real Time                 0.00  0.00016\n",
       "\n",
       "[solutionStatus]\n",
       "\n",
       " 'OK'\n",
       "\n",
       "[solutionStatusCode]\n",
       "\n",
       " 0\n",
       "\n",
       "+ Elapsed: 0.0668s, user: 0.089s, sys: 0.134s, mem: 102mb"
      ]
     },
     "execution_count": 7,
     "metadata": {},
     "output_type": "execute_result"
    }
   ],
   "source": [
    "conn.network.community(links=dict(name='LinkSetIn'),\n",
    "                       outnodes=dict(name='nodeSetOutA'),\n",
    "                       outLevel=dict(name='CommLevelOut'),\n",
    "                       outCommunity=dict(name='CommOut'),   \n",
    "                       outOverlap=dict(name='CommOverlapOut'),     \n",
    "                       outCommLinks=dict(name='CommLinksOut'),\n",
    "                       resolutionList=[0.5, 1]\n",
    " )"
   ]
  },
  {
   "cell_type": "markdown",
   "metadata": {},
   "source": [
    "### Calculate the communities (with fixed groups) in our graph using the `network` actionset."
   ]
  },
  {
   "cell_type": "markdown",
   "metadata": {},
   "source": [
    "Using fixed node groups, we expect to find three communities.\n",
    "\n",
    "The Python code in the subsequent block is equivalent to this block of CASL:\n",
    "```\n",
    "proc network\n",
    "   nodes             = mycas.NodeSetIn\n",
    "   links             = mycas.LinkSetIn\n",
    "   outNodes          = mycas.NodeSetOut;\n",
    "   community\n",
    "      resolutionList = 1.0\n",
    "      fix            = fixGroup;\n",
    "run;\n",
    "```"
   ]
  },
  {
   "cell_type": "code",
   "execution_count": 8,
   "metadata": {
    "ExecuteTime": {
     "end_time": "2021-11-09T22:10:38.037777Z",
     "start_time": "2021-11-09T22:10:37.907028Z"
    }
   },
   "outputs": [
    {
     "name": "stdout",
     "output_type": "stream",
     "text": [
      "NOTE: The number of nodes in the input graph is 9.\n",
      "NOTE: The number of links in the input graph is 11.\n",
      "NOTE: Processing community detection using 1 threads across 1 machines.\n",
      "NOTE: At resolution=1, the community algorithm found 3 communities with modularity=0.342975.\n",
      "NOTE: Processing community detection used 0.00 (cpu: 0.00) seconds.\n"
     ]
    },
    {
     "data": {
      "text/html": [
       "<div class=\"cas-results-key\"><b>&#167; OutputCasTables</b></div>\n",
       "<div class=\"cas-results-body\">\n",
       "<div>\n",
       "<style scoped>\n",
       "    .dataframe tbody tr th:only-of-type {\n",
       "        vertical-align: middle;\n",
       "    }\n",
       "\n",
       "    .dataframe tbody tr th {\n",
       "        vertical-align: top;\n",
       "    }\n",
       "\n",
       "    .dataframe thead th {\n",
       "        text-align: right;\n",
       "    }\n",
       "</style>\n",
       "<table border=\"1\" class=\"dataframe\">\n",
       "  <thead>\n",
       "    <tr style=\"text-align: right;\">\n",
       "      <th title=\"\"></th>\n",
       "      <th title=\"CAS Library\">casLib</th>\n",
       "      <th title=\"Name\">Name</th>\n",
       "      <th title=\"Label\">Label</th>\n",
       "      <th title=\"Number of Rows\">Rows</th>\n",
       "      <th title=\"Number of Columns\">Columns</th>\n",
       "      <th title=\"Table\">casTable</th>\n",
       "    </tr>\n",
       "  </thead>\n",
       "  <tbody>\n",
       "    <tr>\n",
       "      <td>0</td>\n",
       "      <td>CASUSERHDFS(daherr)</td>\n",
       "      <td>NodeSetOutB</td>\n",
       "      <td></td>\n",
       "      <td>9</td>\n",
       "      <td>2</td>\n",
       "      <td>CASTable('NodeSetOutB', caslib='CASUSERHDFS(da...</td>\n",
       "    </tr>\n",
       "  </tbody>\n",
       "</table>\n",
       "</div>\n",
       "</div>\n",
       "<div class=\"cas-results-key\"><hr/><b>&#167; ProblemSummary</b></div>\n",
       "<div class=\"cas-results-body\">\n",
       "<div>\n",
       "<style scoped>\n",
       "    .dataframe tbody tr th:only-of-type {\n",
       "        vertical-align: middle;\n",
       "    }\n",
       "\n",
       "    .dataframe tbody tr th {\n",
       "        vertical-align: top;\n",
       "    }\n",
       "\n",
       "    .dataframe thead th {\n",
       "        text-align: right;\n",
       "    }\n",
       "</style>\n",
       "<table border=\"1\" class=\"dataframe\"><caption>Problem Summary</caption>\n",
       "  <thead>\n",
       "    <tr style=\"text-align: right;\">\n",
       "      <th title=\"\"></th>\n",
       "      <th title=\"Name1\">Name1</th>\n",
       "      <th title=\"Label1\">Label1</th>\n",
       "      <th title=\"cValue1\">cValue1</th>\n",
       "      <th title=\"nValue1\">nValue1</th>\n",
       "    </tr>\n",
       "  </thead>\n",
       "  <tbody>\n",
       "    <tr>\n",
       "      <td>0</td>\n",
       "      <td>numNodes</td>\n",
       "      <td>Number of Nodes</td>\n",
       "      <td>9</td>\n",
       "      <td>9.0</td>\n",
       "    </tr>\n",
       "    <tr>\n",
       "      <td>1</td>\n",
       "      <td>numLinks</td>\n",
       "      <td>Number of Links</td>\n",
       "      <td>11</td>\n",
       "      <td>11.0</td>\n",
       "    </tr>\n",
       "    <tr>\n",
       "      <td>2</td>\n",
       "      <td>graphDirection</td>\n",
       "      <td>Graph Direction</td>\n",
       "      <td>Undirected</td>\n",
       "      <td>NaN</td>\n",
       "    </tr>\n",
       "  </tbody>\n",
       "</table>\n",
       "</div>\n",
       "</div>\n",
       "<div class=\"cas-results-key\"><hr/><b>&#167; SolutionSummary</b></div>\n",
       "<div class=\"cas-results-body\">\n",
       "<div>\n",
       "<style scoped>\n",
       "    .dataframe tbody tr th:only-of-type {\n",
       "        vertical-align: middle;\n",
       "    }\n",
       "\n",
       "    .dataframe tbody tr th {\n",
       "        vertical-align: top;\n",
       "    }\n",
       "\n",
       "    .dataframe thead th {\n",
       "        text-align: right;\n",
       "    }\n",
       "</style>\n",
       "<table border=\"1\" class=\"dataframe\"><caption>Solution Summary</caption>\n",
       "  <thead>\n",
       "    <tr style=\"text-align: right;\">\n",
       "      <th title=\"\"></th>\n",
       "      <th title=\"Name1\">Name1</th>\n",
       "      <th title=\"Label1\">Label1</th>\n",
       "      <th title=\"cValue1\">cValue1</th>\n",
       "      <th title=\"nValue1\">nValue1</th>\n",
       "    </tr>\n",
       "  </thead>\n",
       "  <tbody>\n",
       "    <tr>\n",
       "      <td>0</td>\n",
       "      <td>problemType</td>\n",
       "      <td>Problem Type</td>\n",
       "      <td>Community Detection</td>\n",
       "      <td>NaN</td>\n",
       "    </tr>\n",
       "    <tr>\n",
       "      <td>1</td>\n",
       "      <td>status</td>\n",
       "      <td>Solution Status</td>\n",
       "      <td>OK</td>\n",
       "      <td>NaN</td>\n",
       "    </tr>\n",
       "    <tr>\n",
       "      <td>2</td>\n",
       "      <td>cpuTime</td>\n",
       "      <td>CPU Time</td>\n",
       "      <td>0.00</td>\n",
       "      <td>0.000000</td>\n",
       "    </tr>\n",
       "    <tr>\n",
       "      <td>3</td>\n",
       "      <td>realTime</td>\n",
       "      <td>Real Time</td>\n",
       "      <td>0.00</td>\n",
       "      <td>0.000122</td>\n",
       "    </tr>\n",
       "  </tbody>\n",
       "</table>\n",
       "</div>\n",
       "</div>\n",
       "<div class=\"cas-results-key\"><hr/><b>&#167; solutionStatus</b></div>\n",
       "<div class=\"cas-results-body\">\n",
       "<div>OK</div>\n",
       "</div>\n",
       "<div class=\"cas-results-key\"><hr/><b>&#167; solutionStatusCode</b></div>\n",
       "<div class=\"cas-results-body\">\n",
       "<div>0</div>\n",
       "</div>\n",
       "<div class=\"cas-output-area\"></div>\n",
       "<p class=\"cas-results-performance\"><small><span class=\"cas-elapsed\">elapsed 0.0436s</span> &#183; <span class=\"cas-user\">user 0.047s</span> &#183; <span class=\"cas-sys\">sys 0.093s</span> &#183; <span class=\"cas-memory\">mem 70.1MB</span></small></p>"
      ],
      "text/plain": [
       "[OutputCasTables]\n",
       "\n",
       "                 casLib         Name Label  Rows  Columns                                           casTable\n",
       " 0  CASUSERHDFS(daherr)  NodeSetOutB           9        2  CASTable('NodeSetOutB', caslib='CASUSERHDFS(da...\n",
       "\n",
       "[ProblemSummary]\n",
       "\n",
       " Problem Summary\n",
       " \n",
       "             Name1           Label1       cValue1  nValue1\n",
       " 0        numNodes  Number of Nodes             9      9.0\n",
       " 1        numLinks  Number of Links            11     11.0\n",
       " 2  graphDirection  Graph Direction    Undirected      NaN\n",
       "\n",
       "[SolutionSummary]\n",
       "\n",
       " Solution Summary\n",
       " \n",
       "          Name1           Label1              cValue1   nValue1\n",
       " 0  problemType     Problem Type  Community Detection       NaN\n",
       " 1       status  Solution Status                   OK       NaN\n",
       " 2      cpuTime         CPU Time                 0.00  0.000000\n",
       " 3     realTime        Real Time                 0.00  0.000122\n",
       "\n",
       "[solutionStatus]\n",
       "\n",
       " 'OK'\n",
       "\n",
       "[solutionStatusCode]\n",
       "\n",
       " 0\n",
       "\n",
       "+ Elapsed: 0.0436s, user: 0.047s, sys: 0.093s, mem: 70.1mb"
      ]
     },
     "execution_count": 8,
     "metadata": {},
     "output_type": "execute_result"
    }
   ],
   "source": [
    "conn.network.community(nodes=dict(name='NodeSetIn'),\n",
    "                       links=dict(name='LinkSetIn'),\n",
    "                       outnodes=dict(name='NodeSetOutB'),\n",
    "                       resolutionList=[1.0],\n",
    "                       fix='fixGroup')"
   ]
  },
  {
   "cell_type": "markdown",
   "metadata": {},
   "source": [
    "### Get the community results from CAS and prepare data for plotting\n",
    "\n",
    "------\n",
    "In this step we fetch the node results from CAS, then add community assignments and node fill color as node attributes in our `networkx` graph.\n",
    "Since we do the same thing for each of the three communities, we'll combine into a single cell. If we're doing this in production we'd probably make a helper method.\n",
    "\n",
    "| Table      | Description                                                                                 |\n",
    "|------------|---------------------------------------------------------------------------------------------|\n",
    "| `NodeSetA` | Results and community labels for the non-fixed group calculations, resolutions 0.5 and 1.0. |\n",
    "| `NodeSetB` | Results and community labels for the fixed group calculation at resolution 1.0              |\n",
    "\n",
    "| Attribute Label   | Description                                               |\n",
    "|-------------------|-----------------------------------------------------------|\n",
    "| `community_0`     | Community assignment for non-fixed groups, resolution 1.0 |\n",
    "| `community_1`     | Community assignment for non-fixed groups, resolution 0.5 |\n",
    "| `community_fixed` | Community assignment for fixed groups, resolution 1.0     |"
   ]
  },
  {
   "cell_type": "code",
   "execution_count": 9,
   "metadata": {
    "ExecuteTime": {
     "end_time": "2021-11-09T22:10:45.824069Z",
     "start_time": "2021-11-09T22:10:38.039419Z"
    }
   },
   "outputs": [],
   "source": [
    "# pull the node set locally so we can plot\n",
    "comm_nodes_cas = conn.CASTable('NodeSetOutA').to_dict(orient='index')\n",
    "comm_fixed_nodes_cas = conn.CASTable('NodeSetOutB').to_dict(orient='index')\n",
    "\n",
    "# make our mapping dictionaries that allow us to assign attributes\n",
    "comm_nodes_0 = {v['node']:v['community_0'] for v in comm_nodes_cas.values()}\n",
    "comm_nodes_1 = {v['node']:v['community_1'] for v in comm_nodes_cas.values()}\n",
    "comm_fixed_nodes = {v['node']:v['community_0'] for v in comm_fixed_nodes_cas.values()}\n",
    "\n",
    "# set the attributes\n",
    "nx.set_node_attributes(G_comm, comm_nodes_0, 'community_0')\n",
    "nx.set_node_attributes(G_comm, comm_nodes_1, 'community_1')\n",
    "nx.set_node_attributes(G_comm, comm_fixed_nodes, 'community_fixed')\n",
    "\n",
    "# Assign the fill colors for the nodes.\n",
    "for node in G_comm.nodes:\n",
    "    G_comm.nodes[node]['highlight_0'] = Spectral8[int(G_comm.nodes[node]['community_0'])]\n",
    "    G_comm.nodes[node]['highlight_1'] = Spectral8[int(G_comm.nodes[node]['community_1'])]\n",
    "    G_comm.nodes[node]['highlight_fixed'] = Spectral8[int(G_comm.nodes[node]['community_fixed'])]"
   ]
  },
  {
   "cell_type": "markdown",
   "metadata": {},
   "source": [
    "### Create the three plots and display them"
   ]
  },
  {
   "cell_type": "code",
   "execution_count": 10,
   "metadata": {
    "ExecuteTime": {
     "end_time": "2021-11-09T22:11:32.906380Z",
     "start_time": "2021-11-09T22:11:32.672370Z"
    }
   },
   "outputs": [
    {
     "data": {
      "text/html": [
       "\n",
       "\n",
       "\n",
       "\n",
       "\n",
       "\n",
       "  <div class=\"bk-root\" id=\"f19f2350-8d9d-4b39-ae1a-ede409b5707a\" data-root-id=\"1367\"></div>\n"
      ]
     },
     "metadata": {},
     "output_type": "display_data"
    },
    {
     "data": {
      "application/javascript": [
       "(function(root) {\n",
       "  function embed_document(root) {\n",
       "    \n",
       "  var docs_json = {\"bdaf082c-aa87-413c-837a-e99230797846\":{\"defs\":[],\"roots\":{\"references\":[{\"attributes\":{\"children\":[{\"id\":\"1366\"},{\"id\":\"1364\"}]},\"id\":\"1367\",\"type\":\"Column\"},{\"attributes\":{},\"id\":\"1337\",\"type\":\"Selection\"},{\"attributes\":{\"line_alpha\":{\"value\":0.5},\"line_width\":{\"value\":2.0}},\"id\":\"1200\",\"type\":\"MultiLine\"},{\"attributes\":{},\"id\":\"1342\",\"type\":\"UnionRenderers\"},{\"attributes\":{},\"id\":\"1304\",\"type\":\"LinearScale\"},{\"attributes\":{},\"id\":\"1361\",\"type\":\"Selection\"},{\"attributes\":{},\"id\":\"1215\",\"type\":\"NodesAndLinkedEdges\"},{\"attributes\":{\"end\":10.1,\"start\":-10.1},\"id\":\"1222\",\"type\":\"Range1d\"},{\"attributes\":{},\"id\":\"1256\",\"type\":\"NodesAndLinkedEdges\"},{\"attributes\":{\"callback\":null,\"tooltips\":[[\"Node\",\"@index\"],[\"Community\",\"@community_1\"]]},\"id\":\"1258\",\"type\":\"HoverTool\"},{\"attributes\":{},\"id\":\"1362\",\"type\":\"UnionRenderers\"},{\"attributes\":{},\"id\":\"1305\",\"type\":\"DataRange1d\"},{\"attributes\":{},\"id\":\"1319\",\"type\":\"Selection\"},{\"attributes\":{\"active_multi\":null,\"tools\":[{\"id\":\"1258\"}]},\"id\":\"1259\",\"type\":\"Toolbar\"},{\"attributes\":{\"line_color\":{\"value\":\"#abdda4\"},\"line_width\":{\"value\":4.0}},\"id\":\"1210\",\"type\":\"MultiLine\"},{\"attributes\":{\"toolbars\":[{\"id\":\"1218\"},{\"id\":\"1259\"},{\"id\":\"1300\"}],\"tools\":[{\"id\":\"1217\"},{\"id\":\"1258\"},{\"id\":\"1299\"}]},\"id\":\"1365\",\"type\":\"ProxyToolbar\"},{\"attributes\":{},\"id\":\"1297\",\"type\":\"NodesAndLinkedEdges\"},{\"attributes\":{\"callback\":null,\"tooltips\":[[\"Node\",\"@index\"],[\"Community\",\"@community_fixed\"]]},\"id\":\"1299\",\"type\":\"HoverTool\"},{\"attributes\":{},\"id\":\"1324\",\"type\":\"LinearScale\"},{\"attributes\":{\"fill_color\":{\"field\":\"highlight_fixed\"},\"size\":{\"value\":25}},\"id\":\"1277\",\"type\":\"Circle\"},{\"attributes\":{\"renderers\":[{\"id\":\"1185\"},{\"id\":\"1220\"}],\"title\":\"Community Detection Example 1: Resolution 1\",\"toolbar\":{\"id\":\"1218\"},\"toolbar_location\":null,\"x_range\":{\"id\":\"1181\"},\"x_scale\":{\"id\":\"1307\"},\"y_range\":{\"id\":\"1305\"},\"y_scale\":{\"id\":\"1304\"}},\"id\":\"1182\",\"type\":\"Plot\"},{\"attributes\":{},\"id\":\"1341\",\"type\":\"Selection\"},{\"attributes\":{},\"id\":\"1340\",\"type\":\"UnionRenderers\"},{\"attributes\":{\"fill_color\":{\"field\":\"highlight_0\"},\"size\":{\"value\":25}},\"id\":\"1195\",\"type\":\"Circle\"},{\"attributes\":{\"source\":{\"id\":\"1187\"}},\"id\":\"1189\",\"type\":\"CDSView\"},{\"attributes\":{\"fill_color\":{\"value\":\"#abdda4\"},\"size\":{\"value\":25}},\"id\":\"1287\",\"type\":\"Circle\"},{\"attributes\":{\"data\":{\"community_0\":[0.0,1.0,0.0,2.0,1.0,1.0,0.0,2.0,2.0],\"community_1\":[0.0,0.0,0.0,1.0,0.0,0.0,0.0,1.0,1.0],\"community_fixed\":[0.0,0.0,0.0,1.0,2.0,2.0,0.0,1.0,1.0],\"highlight_0\":[\"#3288bd\",\"#66c2a5\",\"#3288bd\",\"#abdda4\",\"#66c2a5\",\"#66c2a5\",\"#3288bd\",\"#abdda4\",\"#abdda4\"],\"highlight_1\":[\"#3288bd\",\"#3288bd\",\"#3288bd\",\"#66c2a5\",\"#3288bd\",\"#3288bd\",\"#3288bd\",\"#66c2a5\",\"#66c2a5\"],\"highlight_fixed\":[\"#3288bd\",\"#3288bd\",\"#3288bd\",\"#66c2a5\",\"#abdda4\",\"#abdda4\",\"#3288bd\",\"#66c2a5\",\"#66c2a5\"],\"index\":[\"A\",\"B\",\"F\",\"G\",\"C\",\"D\",\"E\",\"I\",\"H\"]},\"selected\":{\"id\":\"1319\"},\"selection_policy\":{\"id\":\"1320\"}},\"id\":\"1187\",\"type\":\"ColumnDataSource\"},{\"attributes\":{},\"id\":\"1357\",\"type\":\"Selection\"},{\"attributes\":{},\"id\":\"1308\",\"type\":\"NodesOnly\"},{\"attributes\":{\"data\":{\"name\":[\"A\",\"B\",\"F\",\"G\",\"C\",\"D\",\"E\",\"I\",\"H\"],\"x\":[0.7166431967531526,-2.7155851066863392,2.968171456057755,2.606644645662539,-6.820521774493867,-5.478452095147554,0.9424059055422214,5.14262272018185,2.638071052130237],\"y\":[-0.4374293100659478,4.144626683345237,2.9229184888230653,-5.894220069827531,5.192152365000552,7.439849619568275,5.77563092462037,-9.143528701464021,-10.0]},\"selected\":{\"id\":\"1317\"},\"selection_policy\":{\"id\":\"1318\"}},\"id\":\"1219\",\"type\":\"ColumnDataSource\"},{\"attributes\":{\"toolbar\":{\"id\":\"1365\"},\"toolbar_location\":\"above\"},\"id\":\"1366\",\"type\":\"ToolbarBox\"},{\"attributes\":{\"data\":{\"end\":[\"B\",\"F\",\"G\",\"C\",\"D\",\"E\",\"E\",\"I\",\"H\",\"D\",\"H\"],\"start\":[\"A\",\"A\",\"A\",\"B\",\"B\",\"B\",\"F\",\"G\",\"G\",\"C\",\"I\"]},\"selected\":{\"id\":\"1321\"},\"selection_policy\":{\"id\":\"1322\"}},\"id\":\"1191\",\"type\":\"ColumnDataSource\"},{\"attributes\":{\"source\":{\"id\":\"1273\"}},\"id\":\"1275\",\"type\":\"CDSView\"},{\"attributes\":{\"data_source\":{\"id\":\"1187\"},\"glyph\":{\"id\":\"1195\"},\"hover_glyph\":{\"id\":\"1205\"},\"muted_glyph\":null,\"view\":{\"id\":\"1189\"}},\"id\":\"1188\",\"type\":\"GlyphRenderer\"},{\"attributes\":{\"end\":10.1,\"start\":-10.1},\"id\":\"1181\",\"type\":\"Range1d\"},{\"attributes\":{\"edge_renderer\":{\"id\":\"1192\"},\"inspection_policy\":{\"id\":\"1215\"},\"layout_provider\":{\"id\":\"1194\"},\"node_renderer\":{\"id\":\"1188\"},\"selection_policy\":{\"id\":\"1308\"}},\"id\":\"1185\",\"type\":\"GraphRenderer\"},{\"attributes\":{\"fill_color\":{\"field\":\"highlight_1\"},\"size\":{\"value\":25}},\"id\":\"1236\",\"type\":\"Circle\"},{\"attributes\":{\"background_fill_color\":{\"field\":\"highlight_1\"},\"source\":{\"id\":\"1260\"},\"text\":{\"field\":\"name\"},\"text_font_size\":{\"value\":\"13px\"},\"x\":{\"field\":\"x\"},\"x_offset\":{\"value\":-5.0},\"y\":{\"field\":\"y\"},\"y_offset\":{\"value\":-5.0}},\"id\":\"1261\",\"type\":\"LabelSet\"},{\"attributes\":{\"fill_color\":{\"value\":\"#abdda4\"},\"size\":{\"value\":25}},\"id\":\"1205\",\"type\":\"Circle\"},{\"attributes\":{},\"id\":\"1344\",\"type\":\"LinearScale\"},{\"attributes\":{\"data_source\":{\"id\":\"1273\"},\"glyph\":{\"id\":\"1282\"},\"hover_glyph\":{\"id\":\"1292\"},\"muted_glyph\":null,\"view\":{\"id\":\"1275\"}},\"id\":\"1274\",\"type\":\"GlyphRenderer\"},{\"attributes\":{\"edge_renderer\":{\"id\":\"1274\"},\"inspection_policy\":{\"id\":\"1297\"},\"layout_provider\":{\"id\":\"1276\"},\"node_renderer\":{\"id\":\"1270\"},\"selection_policy\":{\"id\":\"1348\"}},\"id\":\"1267\",\"type\":\"GraphRenderer\"},{\"attributes\":{\"graph_layout\":{\"A\":[0.7166431967531526,-0.4374293100659478],\"B\":[-2.7155851066863392,4.144626683345237],\"C\":[-6.820521774493867,5.192152365000552],\"D\":[-5.478452095147554,7.439849619568275],\"E\":[0.9424059055422214,5.77563092462037],\"F\":[2.968171456057755,2.9229184888230653],\"G\":[2.606644645662539,-5.894220069827531],\"H\":[2.638071052130237,-10.0],\"I\":[5.14262272018185,-9.143528701464021]}},\"id\":\"1276\",\"type\":\"StaticLayoutProvider\"},{\"attributes\":{},\"id\":\"1320\",\"type\":\"UnionRenderers\"},{\"attributes\":{},\"id\":\"1321\",\"type\":\"Selection\"},{\"attributes\":{\"active_multi\":null,\"tools\":[{\"id\":\"1299\"}]},\"id\":\"1300\",\"type\":\"Toolbar\"},{\"attributes\":{\"line_alpha\":{\"value\":0.5},\"line_width\":{\"value\":2.0}},\"id\":\"1241\",\"type\":\"MultiLine\"},{\"attributes\":{},\"id\":\"1339\",\"type\":\"Selection\"},{\"attributes\":{},\"id\":\"1318\",\"type\":\"UnionRenderers\"},{\"attributes\":{},\"id\":\"1322\",\"type\":\"UnionRenderers\"},{\"attributes\":{\"data_source\":{\"id\":\"1191\"},\"glyph\":{\"id\":\"1200\"},\"hover_glyph\":{\"id\":\"1210\"},\"muted_glyph\":null,\"view\":{\"id\":\"1193\"}},\"id\":\"1192\",\"type\":\"GlyphRenderer\"},{\"attributes\":{\"data\":{\"community_0\":[0.0,1.0,0.0,2.0,1.0,1.0,0.0,2.0,2.0],\"community_1\":[0.0,0.0,0.0,1.0,0.0,0.0,0.0,1.0,1.0],\"community_fixed\":[0.0,0.0,0.0,1.0,2.0,2.0,0.0,1.0,1.0],\"highlight_0\":[\"#3288bd\",\"#66c2a5\",\"#3288bd\",\"#abdda4\",\"#66c2a5\",\"#66c2a5\",\"#3288bd\",\"#abdda4\",\"#abdda4\"],\"highlight_1\":[\"#3288bd\",\"#3288bd\",\"#3288bd\",\"#66c2a5\",\"#3288bd\",\"#3288bd\",\"#3288bd\",\"#66c2a5\",\"#66c2a5\"],\"highlight_fixed\":[\"#3288bd\",\"#3288bd\",\"#3288bd\",\"#66c2a5\",\"#abdda4\",\"#abdda4\",\"#3288bd\",\"#66c2a5\",\"#66c2a5\"],\"index\":[\"A\",\"B\",\"F\",\"G\",\"C\",\"D\",\"E\",\"I\",\"H\"]},\"selected\":{\"id\":\"1359\"},\"selection_policy\":{\"id\":\"1360\"}},\"id\":\"1269\",\"type\":\"ColumnDataSource\"},{\"attributes\":{\"data\":{\"end\":[\"B\",\"F\",\"G\",\"C\",\"D\",\"E\",\"E\",\"I\",\"H\",\"D\",\"H\"],\"start\":[\"A\",\"A\",\"A\",\"B\",\"B\",\"B\",\"F\",\"G\",\"G\",\"C\",\"I\"]},\"selected\":{\"id\":\"1361\"},\"selection_policy\":{\"id\":\"1362\"}},\"id\":\"1273\",\"type\":\"ColumnDataSource\"},{\"attributes\":{\"data_source\":{\"id\":\"1228\"},\"glyph\":{\"id\":\"1236\"},\"hover_glyph\":{\"id\":\"1246\"},\"muted_glyph\":null,\"view\":{\"id\":\"1230\"}},\"id\":\"1229\",\"type\":\"GlyphRenderer\"},{\"attributes\":{\"data\":{\"name\":[\"A\",\"B\",\"F\",\"G\",\"C\",\"D\",\"E\",\"I\",\"H\"],\"x\":[0.7166431967531526,-2.7155851066863392,2.968171456057755,2.606644645662539,-6.820521774493867,-5.478452095147554,0.9424059055422214,5.14262272018185,2.638071052130237],\"y\":[-0.4374293100659478,4.144626683345237,2.9229184888230653,-5.894220069827531,5.192152365000552,7.439849619568275,5.77563092462037,-9.143528701464021,-10.0]},\"selected\":{\"id\":\"1357\"},\"selection_policy\":{\"id\":\"1358\"}},\"id\":\"1301\",\"type\":\"ColumnDataSource\"},{\"attributes\":{\"fill_color\":{\"value\":\"#abdda4\"},\"size\":{\"value\":25}},\"id\":\"1246\",\"type\":\"Circle\"},{\"attributes\":{\"line_alpha\":{\"value\":0.5},\"line_width\":{\"value\":2.0}},\"id\":\"1282\",\"type\":\"MultiLine\"},{\"attributes\":{\"source\":{\"id\":\"1191\"}},\"id\":\"1193\",\"type\":\"CDSView\"},{\"attributes\":{\"line_color\":{\"value\":\"#abdda4\"},\"line_width\":{\"value\":4.0}},\"id\":\"1292\",\"type\":\"MultiLine\"},{\"attributes\":{\"end\":10.1,\"start\":-10.1},\"id\":\"1263\",\"type\":\"Range1d\"},{\"attributes\":{},\"id\":\"1317\",\"type\":\"Selection\"},{\"attributes\":{\"background_fill_color\":{\"field\":\"highlight_0\"},\"source\":{\"id\":\"1219\"},\"text\":{\"field\":\"name\"},\"text_font_size\":{\"value\":\"13px\"},\"x\":{\"field\":\"x\"},\"x_offset\":{\"value\":-5.0},\"y\":{\"field\":\"y\"},\"y_offset\":{\"value\":-5.0}},\"id\":\"1220\",\"type\":\"LabelSet\"},{\"attributes\":{\"line_color\":{\"value\":\"#abdda4\"},\"line_width\":{\"value\":4.0}},\"id\":\"1251\",\"type\":\"MultiLine\"},{\"attributes\":{\"source\":{\"id\":\"1269\"}},\"id\":\"1271\",\"type\":\"CDSView\"},{\"attributes\":{},\"id\":\"1307\",\"type\":\"LinearScale\"},{\"attributes\":{\"renderers\":[{\"id\":\"1267\"},{\"id\":\"1302\"}],\"title\":\"Community Detection Example 3: Fixed Nodes\",\"toolbar\":{\"id\":\"1300\"},\"toolbar_location\":null,\"x_range\":{\"id\":\"1263\"},\"x_scale\":{\"id\":\"1347\"},\"y_range\":{\"id\":\"1345\"},\"y_scale\":{\"id\":\"1344\"}},\"id\":\"1264\",\"type\":\"Plot\"},{\"attributes\":{\"graph_layout\":{\"A\":[0.7166431967531526,-0.4374293100659478],\"B\":[-2.7155851066863392,4.144626683345237],\"C\":[-6.820521774493867,5.192152365000552],\"D\":[-5.478452095147554,7.439849619568275],\"E\":[0.9424059055422214,5.77563092462037],\"F\":[2.968171456057755,2.9229184888230653],\"G\":[2.606644645662539,-5.894220069827531],\"H\":[2.638071052130237,-10.0],\"I\":[5.14262272018185,-9.143528701464021]}},\"id\":\"1194\",\"type\":\"StaticLayoutProvider\"},{\"attributes\":{\"data_source\":{\"id\":\"1232\"},\"glyph\":{\"id\":\"1241\"},\"hover_glyph\":{\"id\":\"1251\"},\"muted_glyph\":null,\"view\":{\"id\":\"1234\"}},\"id\":\"1233\",\"type\":\"GlyphRenderer\"},{\"attributes\":{},\"id\":\"1360\",\"type\":\"UnionRenderers\"},{\"attributes\":{\"edge_renderer\":{\"id\":\"1233\"},\"inspection_policy\":{\"id\":\"1256\"},\"layout_provider\":{\"id\":\"1235\"},\"node_renderer\":{\"id\":\"1229\"},\"selection_policy\":{\"id\":\"1328\"}},\"id\":\"1226\",\"type\":\"GraphRenderer\"},{\"attributes\":{},\"id\":\"1338\",\"type\":\"UnionRenderers\"},{\"attributes\":{\"children\":[[{\"id\":\"1182\"},0,0],[{\"id\":\"1223\"},0,1],[{\"id\":\"1264\"},1,0]]},\"id\":\"1364\",\"type\":\"GridBox\"},{\"attributes\":{\"callback\":null,\"tooltips\":[[\"Node\",\"@index\"],[\"Community\",\"@community_0\"]]},\"id\":\"1217\",\"type\":\"HoverTool\"},{\"attributes\":{\"data_source\":{\"id\":\"1269\"},\"glyph\":{\"id\":\"1277\"},\"hover_glyph\":{\"id\":\"1287\"},\"muted_glyph\":null,\"view\":{\"id\":\"1271\"}},\"id\":\"1270\",\"type\":\"GlyphRenderer\"},{\"attributes\":{\"renderers\":[{\"id\":\"1226\"},{\"id\":\"1261\"}],\"title\":\"Community Detection Example 2: Resolution 0.5\",\"toolbar\":{\"id\":\"1259\"},\"toolbar_location\":null,\"x_range\":{\"id\":\"1222\"},\"x_scale\":{\"id\":\"1327\"},\"y_range\":{\"id\":\"1325\"},\"y_scale\":{\"id\":\"1324\"}},\"id\":\"1223\",\"type\":\"Plot\"},{\"attributes\":{\"background_fill_color\":{\"field\":\"highlight_fixed\"},\"source\":{\"id\":\"1301\"},\"text\":{\"field\":\"name\"},\"text_font_size\":{\"value\":\"13px\"},\"x\":{\"field\":\"x\"},\"x_offset\":{\"value\":-5.0},\"y\":{\"field\":\"y\"},\"y_offset\":{\"value\":-5.0}},\"id\":\"1302\",\"type\":\"LabelSet\"},{\"attributes\":{},\"id\":\"1345\",\"type\":\"DataRange1d\"},{\"attributes\":{\"data\":{\"community_0\":[0.0,1.0,0.0,2.0,1.0,1.0,0.0,2.0,2.0],\"community_1\":[0.0,0.0,0.0,1.0,0.0,0.0,0.0,1.0,1.0],\"community_fixed\":[0.0,0.0,0.0,1.0,2.0,2.0,0.0,1.0,1.0],\"highlight_0\":[\"#3288bd\",\"#66c2a5\",\"#3288bd\",\"#abdda4\",\"#66c2a5\",\"#66c2a5\",\"#3288bd\",\"#abdda4\",\"#abdda4\"],\"highlight_1\":[\"#3288bd\",\"#3288bd\",\"#3288bd\",\"#66c2a5\",\"#3288bd\",\"#3288bd\",\"#3288bd\",\"#66c2a5\",\"#66c2a5\"],\"highlight_fixed\":[\"#3288bd\",\"#3288bd\",\"#3288bd\",\"#66c2a5\",\"#abdda4\",\"#abdda4\",\"#3288bd\",\"#66c2a5\",\"#66c2a5\"],\"index\":[\"A\",\"B\",\"F\",\"G\",\"C\",\"D\",\"E\",\"I\",\"H\"]},\"selected\":{\"id\":\"1339\"},\"selection_policy\":{\"id\":\"1340\"}},\"id\":\"1228\",\"type\":\"ColumnDataSource\"},{\"attributes\":{},\"id\":\"1328\",\"type\":\"NodesOnly\"},{\"attributes\":{\"source\":{\"id\":\"1228\"}},\"id\":\"1230\",\"type\":\"CDSView\"},{\"attributes\":{},\"id\":\"1347\",\"type\":\"LinearScale\"},{\"attributes\":{\"active_multi\":null,\"tools\":[{\"id\":\"1217\"}]},\"id\":\"1218\",\"type\":\"Toolbar\"},{\"attributes\":{\"data\":{\"end\":[\"B\",\"F\",\"G\",\"C\",\"D\",\"E\",\"E\",\"I\",\"H\",\"D\",\"H\"],\"start\":[\"A\",\"A\",\"A\",\"B\",\"B\",\"B\",\"F\",\"G\",\"G\",\"C\",\"I\"]},\"selected\":{\"id\":\"1341\"},\"selection_policy\":{\"id\":\"1342\"}},\"id\":\"1232\",\"type\":\"ColumnDataSource\"},{\"attributes\":{},\"id\":\"1359\",\"type\":\"Selection\"},{\"attributes\":{\"graph_layout\":{\"A\":[0.7166431967531526,-0.4374293100659478],\"B\":[-2.7155851066863392,4.144626683345237],\"C\":[-6.820521774493867,5.192152365000552],\"D\":[-5.478452095147554,7.439849619568275],\"E\":[0.9424059055422214,5.77563092462037],\"F\":[2.968171456057755,2.9229184888230653],\"G\":[2.606644645662539,-5.894220069827531],\"H\":[2.638071052130237,-10.0],\"I\":[5.14262272018185,-9.143528701464021]}},\"id\":\"1235\",\"type\":\"StaticLayoutProvider\"},{\"attributes\":{},\"id\":\"1327\",\"type\":\"LinearScale\"},{\"attributes\":{},\"id\":\"1358\",\"type\":\"UnionRenderers\"},{\"attributes\":{},\"id\":\"1325\",\"type\":\"DataRange1d\"},{\"attributes\":{},\"id\":\"1348\",\"type\":\"NodesOnly\"},{\"attributes\":{\"source\":{\"id\":\"1232\"}},\"id\":\"1234\",\"type\":\"CDSView\"},{\"attributes\":{\"data\":{\"name\":[\"A\",\"B\",\"F\",\"G\",\"C\",\"D\",\"E\",\"I\",\"H\"],\"x\":[0.7166431967531526,-2.7155851066863392,2.968171456057755,2.606644645662539,-6.820521774493867,-5.478452095147554,0.9424059055422214,5.14262272018185,2.638071052130237],\"y\":[-0.4374293100659478,4.144626683345237,2.9229184888230653,-5.894220069827531,5.192152365000552,7.439849619568275,5.77563092462037,-9.143528701464021,-10.0]},\"selected\":{\"id\":\"1337\"},\"selection_policy\":{\"id\":\"1338\"}},\"id\":\"1260\",\"type\":\"ColumnDataSource\"}],\"root_ids\":[\"1367\"]},\"title\":\"Bokeh Application\",\"version\":\"2.3.3\"}};\n",
       "  var render_items = [{\"docid\":\"bdaf082c-aa87-413c-837a-e99230797846\",\"root_ids\":[\"1367\"],\"roots\":{\"1367\":\"f19f2350-8d9d-4b39-ae1a-ede409b5707a\"}}];\n",
       "  root.Bokeh.embed.embed_items_notebook(docs_json, render_items);\n",
       "\n",
       "  }\n",
       "  if (root.Bokeh !== undefined) {\n",
       "    embed_document(root);\n",
       "  } else {\n",
       "    var attempts = 0;\n",
       "    var timer = setInterval(function(root) {\n",
       "      if (root.Bokeh !== undefined) {\n",
       "        clearInterval(timer);\n",
       "        embed_document(root);\n",
       "      } else {\n",
       "        attempts++;\n",
       "        if (attempts > 100) {\n",
       "          clearInterval(timer);\n",
       "          console.log(\"Bokeh: ERROR: Unable to run BokehJS code because BokehJS library is missing\");\n",
       "        }\n",
       "      }\n",
       "    }, 10, root)\n",
       "  }\n",
       "})(window);"
      ],
      "application/vnd.bokehjs_exec.v0+json": ""
     },
     "metadata": {
      "application/vnd.bokehjs_exec.v0+json": {
       "id": "1367"
      }
     },
     "output_type": "display_data"
    }
   ],
   "source": [
    "title_0 = 'Community Detection Example 1: Resolution 1'\n",
    "hover_0 = [('Node', '@index'), ('Community', '@community_0')]\n",
    "\n",
    "title_1 = 'Community Detection Example 2: Resolution 0.5'\n",
    "hover_1 = [('Node', '@index'), ('Community', '@community_1')]\n",
    "\n",
    "title_fixed = 'Community Detection Example 3: Fixed Nodes'\n",
    "hover_fixed = [('Node', '@index'), ('Community', '@community_fixed')]\n",
    "\n",
    "# render the plots.\n",
    "# reminder - we set nodeSize earlier in the notebook. Its value is 25.\n",
    "plot_0 = vis.render_plot(graph=G_comm, title=title_0, hover_tooltips=hover_0, node_size=nodeSize, node_color='highlight_0')\n",
    "plot_1 = vis.render_plot(graph=G_comm, title=title_1, hover_tooltips=hover_1, node_size=nodeSize, node_color='highlight_1')\n",
    "plot_fixed = vis.render_plot(graph=G_comm, title=title_fixed, hover_tooltips=hover_fixed, node_size=nodeSize, node_color='highlight_fixed')\n",
    "\n",
    "grid = gridplot([plot_0, plot_1, plot_fixed], ncols=2)\n",
    "show(grid)"
   ]
  },
  {
   "cell_type": "markdown",
   "metadata": {},
   "source": [
    "## Clean up everything. \n",
    "\n",
    "Make sure we know what tables we created, drop them, and close our connection.\n",
    "(This is probably overkill, since everything in this session is ephemeral anyway, but good practice nonetheless)."
   ]
  },
  {
   "cell_type": "code",
   "execution_count": 11,
   "metadata": {
    "ExecuteTime": {
     "end_time": "2021-11-09T22:12:01.226259Z",
     "start_time": "2021-11-09T22:12:00.883687Z"
    }
   },
   "outputs": [],
   "source": [
    "table_list = conn.tableinfo()[\"TableInfo\"][\"Name\"].to_list()\n",
    "\n",
    "for table in table_list:\n",
    "    conn.droptable(name=table, quiet=True)\n",
    "\n",
    "conn.close()"
   ]
  },
  {
   "cell_type": "code",
   "execution_count": null,
   "metadata": {},
   "outputs": [],
   "source": []
  }
 ],
 "metadata": {
  "kernelspec": {
   "display_name": "Python 3 (ipykernel)",
   "language": "python",
   "name": "python3"
  },
  "language_info": {
   "codemirror_mode": {
    "name": "ipython",
    "version": 3
   },
   "file_extension": ".py",
   "mimetype": "text/x-python",
   "name": "python",
   "nbconvert_exporter": "python",
   "pygments_lexer": "ipython3",
   "version": "3.8.12"
  },
  "toc": {
   "base_numbering": 1,
   "nav_menu": {},
   "number_sections": true,
   "sideBar": true,
   "skip_h1_title": false,
   "title_cell": "Table of Contents",
   "title_sidebar": "Contents",
   "toc_cell": false,
   "toc_position": {},
   "toc_section_display": true,
   "toc_window_display": false
  }
 },
 "nbformat": 4,
 "nbformat_minor": 4
}
