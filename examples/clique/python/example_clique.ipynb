{
 "cells": [
  {
   "cell_type": "markdown",
   "id": "de673794-75c8-4a47-9e19-9f30dc6e8163",
   "metadata": {},
   "source": [
    "# Clique Detection Using the `NETWORK` Actionset in SAS Viya and Python"
   ]
  },
  {
   "cell_type": "markdown",
   "id": "88cfbcb9-9c94-4152-93d4-de4be0984f5a",
   "metadata": {},
   "source": [
    "In this demonstration, we load a small representative graph, use our CAS server to calculate the maximal cliques in a graph.\n",
    "\n",
    "Recall that a clique of graph G is an induced subgraph that is a complete graph. Every node in a clique is connected to every other node in that clique. A maximal clique is a clique that is not a subset of the nodes of any larger clique. That is, it is a set C of nodes such that every pair of nodes in C is connected by a link and every node not in C is missing a link to at least one node in C.\n",
    "\n",
    "In the graph G below, we expect to find *four* cliques.\n",
    "\n",
    "----------------\n",
    "\n",
    "The basic flow of this notebook is as follows:\n",
    "1. Load the sample graph into a Pandas DataFrame as a set of links that represent the total graph. \n",
    "2. Connect to our CAS server and load the actionsets we require.\n",
    "3. Upload our sample graph to our CAS server.\n",
    "4. Execute the clique detection and output results into CAS tables.\n",
    "5. Do required data manipulation to render the network graphs that show each clique.\n",
    "6. Prepare and display the network plots showing the cliques.\n",
    "\n",
    "----------------\n",
    "__Prepared by:__\n",
    "Damian Herrick (<i class=\"fa fa-github\" aria-hidden=\"true\"></i>: [dtherrick](www.github.com/dtherrick))"
   ]
  },
  {
   "cell_type": "markdown",
   "id": "bc322515-fd11-4b89-aafd-310d31778e8f",
   "metadata": {},
   "source": [
    "## Imports\n",
    "\n",
    "Our imports are broken out as follows:\n",
    "\n",
    "| Module        | Description                                                                        |\n",
    "|:--------------|:----------------------------------------------------------------------------------:|\n",
    "| `os`          | Allows access to environment variables.                                            |\n",
    "| `swat`        | SAS Python module that orchestrates communicatoin with a CAS server.               |\n",
    "| `pandas`      | Data management module we use for preparation of local data.                       |\n",
    "| `networkx`    | Used to manage graph data structures when plotting.                                |\n",
    "| `bokeh`       | Module used to generate interactive plots of graphs.                               |"
   ]
  },
  {
   "cell_type": "code",
   "execution_count": 22,
   "id": "8e03b08f",
   "metadata": {
    "ExecuteTime": {
     "end_time": "2021-11-09T22:18:44.353111Z",
     "start_time": "2021-11-09T22:18:44.349130Z"
    }
   },
   "outputs": [],
   "source": [
    "import os\n",
    "import sys\n",
    "\n",
    "import swat\n",
    "import pandas as pd\n",
    "import networkx as nx\n",
    "from bokeh.io import output_notebook, show\n",
    "from bokeh.layouts import gridplot\n",
    "from bokeh.palettes import Spectral8\n",
    "\n",
    "sys.path.append(os.path.join(os.path.dirname(os.getcwd()),r\"../../common/python\"))\n",
    "import bokehvis as vis"
   ]
  },
  {
   "cell_type": "markdown",
   "id": "42648761-5206-4f12-86e8-a36384b362db",
   "metadata": {},
   "source": [
    "The call to `output_notebook` is required by `bokeh` to render plots inside Jupyter Notebooks."
   ]
  },
  {
   "cell_type": "code",
   "execution_count": 23,
   "id": "c154167c",
   "metadata": {
    "ExecuteTime": {
     "end_time": "2021-11-09T22:18:45.102095Z",
     "start_time": "2021-11-09T22:18:45.092801Z"
    }
   },
   "outputs": [
    {
     "data": {
      "text/html": [
       "\n",
       "    <div class=\"bk-root\">\n",
       "        <a href=\"https://bokeh.org\" target=\"_blank\" class=\"bk-logo bk-logo-small bk-logo-notebook\"></a>\n",
       "        <span id=\"1595\">Loading BokehJS ...</span>\n",
       "    </div>"
      ]
     },
     "metadata": {},
     "output_type": "display_data"
    },
    {
     "data": {
      "application/javascript": [
       "\n",
       "(function(root) {\n",
       "  function now() {\n",
       "    return new Date();\n",
       "  }\n",
       "\n",
       "  var force = true;\n",
       "\n",
       "  if (typeof root._bokeh_onload_callbacks === \"undefined\" || force === true) {\n",
       "    root._bokeh_onload_callbacks = [];\n",
       "    root._bokeh_is_loading = undefined;\n",
       "  }\n",
       "\n",
       "  var JS_MIME_TYPE = 'application/javascript';\n",
       "  var HTML_MIME_TYPE = 'text/html';\n",
       "  var EXEC_MIME_TYPE = 'application/vnd.bokehjs_exec.v0+json';\n",
       "  var CLASS_NAME = 'output_bokeh rendered_html';\n",
       "\n",
       "  /**\n",
       "   * Render data to the DOM node\n",
       "   */\n",
       "  function render(props, node) {\n",
       "    var script = document.createElement(\"script\");\n",
       "    node.appendChild(script);\n",
       "  }\n",
       "\n",
       "  /**\n",
       "   * Handle when an output is cleared or removed\n",
       "   */\n",
       "  function handleClearOutput(event, handle) {\n",
       "    var cell = handle.cell;\n",
       "\n",
       "    var id = cell.output_area._bokeh_element_id;\n",
       "    var server_id = cell.output_area._bokeh_server_id;\n",
       "    // Clean up Bokeh references\n",
       "    if (id != null && id in Bokeh.index) {\n",
       "      Bokeh.index[id].model.document.clear();\n",
       "      delete Bokeh.index[id];\n",
       "    }\n",
       "\n",
       "    if (server_id !== undefined) {\n",
       "      // Clean up Bokeh references\n",
       "      var cmd = \"from bokeh.io.state import curstate; print(curstate().uuid_to_server['\" + server_id + \"'].get_sessions()[0].document.roots[0]._id)\";\n",
       "      cell.notebook.kernel.execute(cmd, {\n",
       "        iopub: {\n",
       "          output: function(msg) {\n",
       "            var id = msg.content.text.trim();\n",
       "            if (id in Bokeh.index) {\n",
       "              Bokeh.index[id].model.document.clear();\n",
       "              delete Bokeh.index[id];\n",
       "            }\n",
       "          }\n",
       "        }\n",
       "      });\n",
       "      // Destroy server and session\n",
       "      var cmd = \"import bokeh.io.notebook as ion; ion.destroy_server('\" + server_id + \"')\";\n",
       "      cell.notebook.kernel.execute(cmd);\n",
       "    }\n",
       "  }\n",
       "\n",
       "  /**\n",
       "   * Handle when a new output is added\n",
       "   */\n",
       "  function handleAddOutput(event, handle) {\n",
       "    var output_area = handle.output_area;\n",
       "    var output = handle.output;\n",
       "\n",
       "    // limit handleAddOutput to display_data with EXEC_MIME_TYPE content only\n",
       "    if ((output.output_type != \"display_data\") || (!Object.prototype.hasOwnProperty.call(output.data, EXEC_MIME_TYPE))) {\n",
       "      return\n",
       "    }\n",
       "\n",
       "    var toinsert = output_area.element.find(\".\" + CLASS_NAME.split(' ')[0]);\n",
       "\n",
       "    if (output.metadata[EXEC_MIME_TYPE][\"id\"] !== undefined) {\n",
       "      toinsert[toinsert.length - 1].firstChild.textContent = output.data[JS_MIME_TYPE];\n",
       "      // store reference to embed id on output_area\n",
       "      output_area._bokeh_element_id = output.metadata[EXEC_MIME_TYPE][\"id\"];\n",
       "    }\n",
       "    if (output.metadata[EXEC_MIME_TYPE][\"server_id\"] !== undefined) {\n",
       "      var bk_div = document.createElement(\"div\");\n",
       "      bk_div.innerHTML = output.data[HTML_MIME_TYPE];\n",
       "      var script_attrs = bk_div.children[0].attributes;\n",
       "      for (var i = 0; i < script_attrs.length; i++) {\n",
       "        toinsert[toinsert.length - 1].firstChild.setAttribute(script_attrs[i].name, script_attrs[i].value);\n",
       "        toinsert[toinsert.length - 1].firstChild.textContent = bk_div.children[0].textContent\n",
       "      }\n",
       "      // store reference to server id on output_area\n",
       "      output_area._bokeh_server_id = output.metadata[EXEC_MIME_TYPE][\"server_id\"];\n",
       "    }\n",
       "  }\n",
       "\n",
       "  function register_renderer(events, OutputArea) {\n",
       "\n",
       "    function append_mime(data, metadata, element) {\n",
       "      // create a DOM node to render to\n",
       "      var toinsert = this.create_output_subarea(\n",
       "        metadata,\n",
       "        CLASS_NAME,\n",
       "        EXEC_MIME_TYPE\n",
       "      );\n",
       "      this.keyboard_manager.register_events(toinsert);\n",
       "      // Render to node\n",
       "      var props = {data: data, metadata: metadata[EXEC_MIME_TYPE]};\n",
       "      render(props, toinsert[toinsert.length - 1]);\n",
       "      element.append(toinsert);\n",
       "      return toinsert\n",
       "    }\n",
       "\n",
       "    /* Handle when an output is cleared or removed */\n",
       "    events.on('clear_output.CodeCell', handleClearOutput);\n",
       "    events.on('delete.Cell', handleClearOutput);\n",
       "\n",
       "    /* Handle when a new output is added */\n",
       "    events.on('output_added.OutputArea', handleAddOutput);\n",
       "\n",
       "    /**\n",
       "     * Register the mime type and append_mime function with output_area\n",
       "     */\n",
       "    OutputArea.prototype.register_mime_type(EXEC_MIME_TYPE, append_mime, {\n",
       "      /* Is output safe? */\n",
       "      safe: true,\n",
       "      /* Index of renderer in `output_area.display_order` */\n",
       "      index: 0\n",
       "    });\n",
       "  }\n",
       "\n",
       "  // register the mime type if in Jupyter Notebook environment and previously unregistered\n",
       "  if (root.Jupyter !== undefined) {\n",
       "    var events = require('base/js/events');\n",
       "    var OutputArea = require('notebook/js/outputarea').OutputArea;\n",
       "\n",
       "    if (OutputArea.prototype.mime_types().indexOf(EXEC_MIME_TYPE) == -1) {\n",
       "      register_renderer(events, OutputArea);\n",
       "    }\n",
       "  }\n",
       "\n",
       "  \n",
       "  if (typeof (root._bokeh_timeout) === \"undefined\" || force === true) {\n",
       "    root._bokeh_timeout = Date.now() + 5000;\n",
       "    root._bokeh_failed_load = false;\n",
       "  }\n",
       "\n",
       "  var NB_LOAD_WARNING = {'data': {'text/html':\n",
       "     \"<div style='background-color: #fdd'>\\n\"+\n",
       "     \"<p>\\n\"+\n",
       "     \"BokehJS does not appear to have successfully loaded. If loading BokehJS from CDN, this \\n\"+\n",
       "     \"may be due to a slow or bad network connection. Possible fixes:\\n\"+\n",
       "     \"</p>\\n\"+\n",
       "     \"<ul>\\n\"+\n",
       "     \"<li>re-rerun `output_notebook()` to attempt to load from CDN again, or</li>\\n\"+\n",
       "     \"<li>use INLINE resources instead, as so:</li>\\n\"+\n",
       "     \"</ul>\\n\"+\n",
       "     \"<code>\\n\"+\n",
       "     \"from bokeh.resources import INLINE\\n\"+\n",
       "     \"output_notebook(resources=INLINE)\\n\"+\n",
       "     \"</code>\\n\"+\n",
       "     \"</div>\"}};\n",
       "\n",
       "  function display_loaded() {\n",
       "    var el = document.getElementById(\"1595\");\n",
       "    if (el != null) {\n",
       "      el.textContent = \"BokehJS is loading...\";\n",
       "    }\n",
       "    if (root.Bokeh !== undefined) {\n",
       "      if (el != null) {\n",
       "        el.textContent = \"BokehJS \" + root.Bokeh.version + \" successfully loaded.\";\n",
       "      }\n",
       "    } else if (Date.now() < root._bokeh_timeout) {\n",
       "      setTimeout(display_loaded, 100)\n",
       "    }\n",
       "  }\n",
       "\n",
       "\n",
       "  function run_callbacks() {\n",
       "    try {\n",
       "      root._bokeh_onload_callbacks.forEach(function(callback) {\n",
       "        if (callback != null)\n",
       "          callback();\n",
       "      });\n",
       "    } finally {\n",
       "      delete root._bokeh_onload_callbacks\n",
       "    }\n",
       "    console.debug(\"Bokeh: all callbacks have finished\");\n",
       "  }\n",
       "\n",
       "  function load_libs(css_urls, js_urls, callback) {\n",
       "    if (css_urls == null) css_urls = [];\n",
       "    if (js_urls == null) js_urls = [];\n",
       "\n",
       "    root._bokeh_onload_callbacks.push(callback);\n",
       "    if (root._bokeh_is_loading > 0) {\n",
       "      console.debug(\"Bokeh: BokehJS is being loaded, scheduling callback at\", now());\n",
       "      return null;\n",
       "    }\n",
       "    if (js_urls == null || js_urls.length === 0) {\n",
       "      run_callbacks();\n",
       "      return null;\n",
       "    }\n",
       "    console.debug(\"Bokeh: BokehJS not loaded, scheduling load and callback at\", now());\n",
       "    root._bokeh_is_loading = css_urls.length + js_urls.length;\n",
       "\n",
       "    function on_load() {\n",
       "      root._bokeh_is_loading--;\n",
       "      if (root._bokeh_is_loading === 0) {\n",
       "        console.debug(\"Bokeh: all BokehJS libraries/stylesheets loaded\");\n",
       "        run_callbacks()\n",
       "      }\n",
       "    }\n",
       "\n",
       "    function on_error(url) {\n",
       "      console.error(\"failed to load \" + url);\n",
       "    }\n",
       "\n",
       "    for (let i = 0; i < css_urls.length; i++) {\n",
       "      const url = css_urls[i];\n",
       "      const element = document.createElement(\"link\");\n",
       "      element.onload = on_load;\n",
       "      element.onerror = on_error.bind(null, url);\n",
       "      element.rel = \"stylesheet\";\n",
       "      element.type = \"text/css\";\n",
       "      element.href = url;\n",
       "      console.debug(\"Bokeh: injecting link tag for BokehJS stylesheet: \", url);\n",
       "      document.body.appendChild(element);\n",
       "    }\n",
       "\n",
       "    const hashes = {\"https://cdn.bokeh.org/bokeh/release/bokeh-2.3.3.min.js\": \"dM3QQsP+wXdHg42wTqW85BjZQdLNNIXqlPw/BgKoExPmTG7ZLML4EGqLMfqHT6ON\", \"https://cdn.bokeh.org/bokeh/release/bokeh-tables-2.3.3.min.js\": \"8x57I4YuIfu8XyZfFo0XVr2WAT8EK4rh/uDe3wF7YuW2FNUSNEpJbsPaB1nJ2fz2\", \"https://cdn.bokeh.org/bokeh/release/bokeh-widgets-2.3.3.min.js\": \"3QTqdz9LyAm2i0sG5XTePsHec3UHWwVsrOL68SYRoAXsafvfAyqtQ+h440+qIBhS\"};\n",
       "\n",
       "    for (let i = 0; i < js_urls.length; i++) {\n",
       "      const url = js_urls[i];\n",
       "      const element = document.createElement('script');\n",
       "      element.onload = on_load;\n",
       "      element.onerror = on_error.bind(null, url);\n",
       "      element.async = false;\n",
       "      element.src = url;\n",
       "      if (url in hashes) {\n",
       "        element.crossOrigin = \"anonymous\";\n",
       "        element.integrity = \"sha384-\" + hashes[url];\n",
       "      }\n",
       "      console.debug(\"Bokeh: injecting script tag for BokehJS library: \", url);\n",
       "      document.head.appendChild(element);\n",
       "    }\n",
       "  };\n",
       "\n",
       "  function inject_raw_css(css) {\n",
       "    const element = document.createElement(\"style\");\n",
       "    element.appendChild(document.createTextNode(css));\n",
       "    document.body.appendChild(element);\n",
       "  }\n",
       "\n",
       "  \n",
       "  var js_urls = [\"https://cdn.bokeh.org/bokeh/release/bokeh-2.3.3.min.js\", \"https://cdn.bokeh.org/bokeh/release/bokeh-widgets-2.3.3.min.js\", \"https://cdn.bokeh.org/bokeh/release/bokeh-tables-2.3.3.min.js\"];\n",
       "  var css_urls = [];\n",
       "  \n",
       "\n",
       "  var inline_js = [\n",
       "    function(Bokeh) {\n",
       "      Bokeh.set_log_level(\"info\");\n",
       "    },\n",
       "    function(Bokeh) {\n",
       "    \n",
       "    \n",
       "    }\n",
       "  ];\n",
       "\n",
       "  function run_inline_js() {\n",
       "    \n",
       "    if (root.Bokeh !== undefined || force === true) {\n",
       "      \n",
       "    for (var i = 0; i < inline_js.length; i++) {\n",
       "      inline_js[i].call(root, root.Bokeh);\n",
       "    }\n",
       "    if (force === true) {\n",
       "        display_loaded();\n",
       "      }} else if (Date.now() < root._bokeh_timeout) {\n",
       "      setTimeout(run_inline_js, 100);\n",
       "    } else if (!root._bokeh_failed_load) {\n",
       "      console.log(\"Bokeh: BokehJS failed to load within specified timeout.\");\n",
       "      root._bokeh_failed_load = true;\n",
       "    } else if (force !== true) {\n",
       "      var cell = $(document.getElementById(\"1595\")).parents('.cell').data().cell;\n",
       "      cell.output_area.append_execute_result(NB_LOAD_WARNING)\n",
       "    }\n",
       "\n",
       "  }\n",
       "\n",
       "  if (root._bokeh_is_loading === 0) {\n",
       "    console.debug(\"Bokeh: BokehJS loaded, going straight to plotting\");\n",
       "    run_inline_js();\n",
       "  } else {\n",
       "    load_libs(css_urls, js_urls, function() {\n",
       "      console.debug(\"Bokeh: BokehJS plotting callback run at\", now());\n",
       "      run_inline_js();\n",
       "    });\n",
       "  }\n",
       "}(window));"
      ],
      "application/vnd.bokehjs_load.v0+json": "\n(function(root) {\n  function now() {\n    return new Date();\n  }\n\n  var force = true;\n\n  if (typeof root._bokeh_onload_callbacks === \"undefined\" || force === true) {\n    root._bokeh_onload_callbacks = [];\n    root._bokeh_is_loading = undefined;\n  }\n\n  \n\n  \n  if (typeof (root._bokeh_timeout) === \"undefined\" || force === true) {\n    root._bokeh_timeout = Date.now() + 5000;\n    root._bokeh_failed_load = false;\n  }\n\n  var NB_LOAD_WARNING = {'data': {'text/html':\n     \"<div style='background-color: #fdd'>\\n\"+\n     \"<p>\\n\"+\n     \"BokehJS does not appear to have successfully loaded. If loading BokehJS from CDN, this \\n\"+\n     \"may be due to a slow or bad network connection. Possible fixes:\\n\"+\n     \"</p>\\n\"+\n     \"<ul>\\n\"+\n     \"<li>re-rerun `output_notebook()` to attempt to load from CDN again, or</li>\\n\"+\n     \"<li>use INLINE resources instead, as so:</li>\\n\"+\n     \"</ul>\\n\"+\n     \"<code>\\n\"+\n     \"from bokeh.resources import INLINE\\n\"+\n     \"output_notebook(resources=INLINE)\\n\"+\n     \"</code>\\n\"+\n     \"</div>\"}};\n\n  function display_loaded() {\n    var el = document.getElementById(\"1595\");\n    if (el != null) {\n      el.textContent = \"BokehJS is loading...\";\n    }\n    if (root.Bokeh !== undefined) {\n      if (el != null) {\n        el.textContent = \"BokehJS \" + root.Bokeh.version + \" successfully loaded.\";\n      }\n    } else if (Date.now() < root._bokeh_timeout) {\n      setTimeout(display_loaded, 100)\n    }\n  }\n\n\n  function run_callbacks() {\n    try {\n      root._bokeh_onload_callbacks.forEach(function(callback) {\n        if (callback != null)\n          callback();\n      });\n    } finally {\n      delete root._bokeh_onload_callbacks\n    }\n    console.debug(\"Bokeh: all callbacks have finished\");\n  }\n\n  function load_libs(css_urls, js_urls, callback) {\n    if (css_urls == null) css_urls = [];\n    if (js_urls == null) js_urls = [];\n\n    root._bokeh_onload_callbacks.push(callback);\n    if (root._bokeh_is_loading > 0) {\n      console.debug(\"Bokeh: BokehJS is being loaded, scheduling callback at\", now());\n      return null;\n    }\n    if (js_urls == null || js_urls.length === 0) {\n      run_callbacks();\n      return null;\n    }\n    console.debug(\"Bokeh: BokehJS not loaded, scheduling load and callback at\", now());\n    root._bokeh_is_loading = css_urls.length + js_urls.length;\n\n    function on_load() {\n      root._bokeh_is_loading--;\n      if (root._bokeh_is_loading === 0) {\n        console.debug(\"Bokeh: all BokehJS libraries/stylesheets loaded\");\n        run_callbacks()\n      }\n    }\n\n    function on_error(url) {\n      console.error(\"failed to load \" + url);\n    }\n\n    for (let i = 0; i < css_urls.length; i++) {\n      const url = css_urls[i];\n      const element = document.createElement(\"link\");\n      element.onload = on_load;\n      element.onerror = on_error.bind(null, url);\n      element.rel = \"stylesheet\";\n      element.type = \"text/css\";\n      element.href = url;\n      console.debug(\"Bokeh: injecting link tag for BokehJS stylesheet: \", url);\n      document.body.appendChild(element);\n    }\n\n    const hashes = {\"https://cdn.bokeh.org/bokeh/release/bokeh-2.3.3.min.js\": \"dM3QQsP+wXdHg42wTqW85BjZQdLNNIXqlPw/BgKoExPmTG7ZLML4EGqLMfqHT6ON\", \"https://cdn.bokeh.org/bokeh/release/bokeh-tables-2.3.3.min.js\": \"8x57I4YuIfu8XyZfFo0XVr2WAT8EK4rh/uDe3wF7YuW2FNUSNEpJbsPaB1nJ2fz2\", \"https://cdn.bokeh.org/bokeh/release/bokeh-widgets-2.3.3.min.js\": \"3QTqdz9LyAm2i0sG5XTePsHec3UHWwVsrOL68SYRoAXsafvfAyqtQ+h440+qIBhS\"};\n\n    for (let i = 0; i < js_urls.length; i++) {\n      const url = js_urls[i];\n      const element = document.createElement('script');\n      element.onload = on_load;\n      element.onerror = on_error.bind(null, url);\n      element.async = false;\n      element.src = url;\n      if (url in hashes) {\n        element.crossOrigin = \"anonymous\";\n        element.integrity = \"sha384-\" + hashes[url];\n      }\n      console.debug(\"Bokeh: injecting script tag for BokehJS library: \", url);\n      document.head.appendChild(element);\n    }\n  };\n\n  function inject_raw_css(css) {\n    const element = document.createElement(\"style\");\n    element.appendChild(document.createTextNode(css));\n    document.body.appendChild(element);\n  }\n\n  \n  var js_urls = [\"https://cdn.bokeh.org/bokeh/release/bokeh-2.3.3.min.js\", \"https://cdn.bokeh.org/bokeh/release/bokeh-widgets-2.3.3.min.js\", \"https://cdn.bokeh.org/bokeh/release/bokeh-tables-2.3.3.min.js\"];\n  var css_urls = [];\n  \n\n  var inline_js = [\n    function(Bokeh) {\n      Bokeh.set_log_level(\"info\");\n    },\n    function(Bokeh) {\n    \n    \n    }\n  ];\n\n  function run_inline_js() {\n    \n    if (root.Bokeh !== undefined || force === true) {\n      \n    for (var i = 0; i < inline_js.length; i++) {\n      inline_js[i].call(root, root.Bokeh);\n    }\n    if (force === true) {\n        display_loaded();\n      }} else if (Date.now() < root._bokeh_timeout) {\n      setTimeout(run_inline_js, 100);\n    } else if (!root._bokeh_failed_load) {\n      console.log(\"Bokeh: BokehJS failed to load within specified timeout.\");\n      root._bokeh_failed_load = true;\n    } else if (force !== true) {\n      var cell = $(document.getElementById(\"1595\")).parents('.cell').data().cell;\n      cell.output_area.append_execute_result(NB_LOAD_WARNING)\n    }\n\n  }\n\n  if (root._bokeh_is_loading === 0) {\n    console.debug(\"Bokeh: BokehJS loaded, going straight to plotting\");\n    run_inline_js();\n  } else {\n    load_libs(css_urls, js_urls, function() {\n      console.debug(\"Bokeh: BokehJS plotting callback run at\", now());\n      run_inline_js();\n    });\n  }\n}(window));"
     },
     "metadata": {},
     "output_type": "display_data"
    }
   ],
   "source": [
    "output_notebook()"
   ]
  },
  {
   "cell_type": "markdown",
   "id": "5905c7a8-058f-4ae6-a11d-5c9f47f57bd4",
   "metadata": {},
   "source": [
    "## Get the edge list for the sample graph."
   ]
  },
  {
   "cell_type": "code",
   "execution_count": 24,
   "id": "47c1e5e1",
   "metadata": {
    "ExecuteTime": {
     "end_time": "2021-11-09T22:18:45.625677Z",
     "start_time": "2021-11-09T22:18:45.620142Z"
    }
   },
   "outputs": [],
   "source": [
    "colNames = [\"from\", \"to\"]\n",
    "links = [\n",
    "    (0, 1),\n",
    "    (0, 2),\n",
    "    (0, 3),\n",
    "    (0, 4),\n",
    "    (0, 5),\n",
    "    (0, 6),\n",
    "    (1, 2),\n",
    "    (1, 3),\n",
    "    (1, 4),\n",
    "    (2, 3),\n",
    "    (2, 4),\n",
    "    (2, 5),\n",
    "    (2, 6),\n",
    "    (2, 7),\n",
    "    (2, 8),\n",
    "    (3, 4),\n",
    "    (5, 6),\n",
    "    (7, 8),\n",
    "    (8, 9),\n",
    "]\n",
    "\n",
    "dfLinkSetIn = pd.DataFrame(links, columns=colNames)"
   ]
  },
  {
   "cell_type": "markdown",
   "id": "0af08963-bb05-4d7a-9ca2-8962cdd8b539",
   "metadata": {},
   "source": [
    "Let's see what the graph looks like before we start looking for cliques."
   ]
  },
  {
   "cell_type": "code",
   "execution_count": 25,
   "id": "76cedb1d",
   "metadata": {
    "ExecuteTime": {
     "end_time": "2021-11-09T22:18:46.708666Z",
     "start_time": "2021-11-09T22:18:46.647095Z"
    }
   },
   "outputs": [
    {
     "data": {
      "text/html": [
       "\n",
       "\n",
       "\n",
       "\n",
       "\n",
       "\n",
       "  <div class=\"bk-root\" id=\"2be56d60-211f-429a-8fdf-9cc80731a953\" data-root-id=\"1597\"></div>\n"
      ]
     },
     "metadata": {},
     "output_type": "display_data"
    },
    {
     "data": {
      "application/javascript": [
       "(function(root) {\n",
       "  function embed_document(root) {\n",
       "    \n",
       "  var docs_json = {\"c28686a0-7fcb-4e37-83b4-5df0f561bc9c\":{\"defs\":[],\"roots\":{\"references\":[{\"attributes\":{\"renderers\":[{\"id\":\"1600\"},{\"id\":\"1635\"}],\"title\":\"Sample Graph Used for Maximal Clique Detection\",\"toolbar\":{\"id\":\"1633\"},\"x_range\":{\"id\":\"1596\"},\"x_scale\":{\"id\":\"1694\"},\"y_range\":{\"id\":\"1695\"},\"y_scale\":{\"id\":\"1697\"}},\"id\":\"1597\",\"type\":\"Plot\"},{\"attributes\":{\"data\":{\"index\":[0,1,2,3,4,5,6,7,8,9]},\"selected\":{\"id\":\"1712\"},\"selection_policy\":{\"id\":\"1711\"}},\"id\":\"1602\",\"type\":\"ColumnDataSource\"},{\"attributes\":{\"graph_layout\":{\"0\":[5.025110883829013,2.106035551009846],\"1\":[7.381914236978649,0.6574120505094389],\"2\":[2.392591227715627,0.18869162933392528],\"3\":[6.828799998119717,-1.7014873572113585],\"4\":[5.143954368150991,-1.0642170755007134],\"5\":[3.801270500767021,5.037697601957711],\"6\":[1.585805662128429,4.185004643665932],\"7\":[-0.7321152140170328,-3.3988769156785366],\"8\":[-3.4273316636724216,-2.190272107333343],\"9\":[-8.0,-3.819988020752905]}},\"id\":\"1609\",\"type\":\"StaticLayoutProvider\"},{\"attributes\":{},\"id\":\"1711\",\"type\":\"UnionRenderers\"},{\"attributes\":{\"line_alpha\":{\"value\":0.5},\"line_width\":{\"value\":2.0}},\"id\":\"1615\",\"type\":\"MultiLine\"},{\"attributes\":{},\"id\":\"1694\",\"type\":\"LinearScale\"},{\"attributes\":{\"data\":{\"name\":[0,1,2,3,4,5,6,7,8,9],\"x\":[5.025110883829013,7.381914236978649,2.392591227715627,6.828799998119717,5.143954368150991,3.801270500767021,1.585805662128429,-0.7321152140170328,-3.4273316636724216,-8.0],\"y\":[2.106035551009846,0.6574120505094389,0.18869162933392528,-1.7014873572113585,-1.0642170755007134,5.037697601957711,4.185004643665932,-3.3988769156785366,-2.190272107333343,-3.819988020752905]},\"selected\":{\"id\":\"1708\"},\"selection_policy\":{\"id\":\"1707\"}},\"id\":\"1634\",\"type\":\"ColumnDataSource\"},{\"attributes\":{\"data_source\":{\"id\":\"1602\"},\"glyph\":{\"id\":\"1610\"},\"hover_glyph\":{\"id\":\"1620\"},\"muted_glyph\":null,\"view\":{\"id\":\"1604\"}},\"id\":\"1603\",\"type\":\"GlyphRenderer\"},{\"attributes\":{\"fill_color\":{\"value\":\"#f7fbff\"},\"size\":{\"value\":25}},\"id\":\"1610\",\"type\":\"Circle\"},{\"attributes\":{},\"id\":\"1702\",\"type\":\"NodesOnly\"},{\"attributes\":{\"active_multi\":null,\"tools\":[{\"id\":\"1632\"}]},\"id\":\"1633\",\"type\":\"Toolbar\"},{\"attributes\":{},\"id\":\"1630\",\"type\":\"NodesAndLinkedEdges\"},{\"attributes\":{\"source\":{\"id\":\"1602\"}},\"id\":\"1604\",\"type\":\"CDSView\"},{\"attributes\":{},\"id\":\"1710\",\"type\":\"Selection\"},{\"attributes\":{},\"id\":\"1712\",\"type\":\"Selection\"},{\"attributes\":{\"fill_color\":{\"value\":\"#abdda4\"},\"size\":{\"value\":25}},\"id\":\"1620\",\"type\":\"Circle\"},{\"attributes\":{\"end\":10.1,\"start\":-10.1},\"id\":\"1596\",\"type\":\"Range1d\"},{\"attributes\":{\"line_color\":{\"value\":\"#abdda4\"},\"line_width\":{\"value\":4.0}},\"id\":\"1625\",\"type\":\"MultiLine\"},{\"attributes\":{\"callback\":null,\"tooltips\":[[\"Node\",\"@index\"]]},\"id\":\"1632\",\"type\":\"HoverTool\"},{\"attributes\":{},\"id\":\"1697\",\"type\":\"LinearScale\"},{\"attributes\":{\"edge_renderer\":{\"id\":\"1607\"},\"inspection_policy\":{\"id\":\"1630\"},\"layout_provider\":{\"id\":\"1609\"},\"node_renderer\":{\"id\":\"1603\"},\"selection_policy\":{\"id\":\"1702\"}},\"id\":\"1600\",\"type\":\"GraphRenderer\"},{\"attributes\":{\"data\":{\"end\":[1,2,3,4,5,6,2,3,4,3,4,5,6,7,8,4,6,8,9],\"start\":[0,0,0,0,0,0,1,1,1,2,2,2,2,2,2,3,5,7,8]},\"selected\":{\"id\":\"1710\"},\"selection_policy\":{\"id\":\"1709\"}},\"id\":\"1606\",\"type\":\"ColumnDataSource\"},{\"attributes\":{},\"id\":\"1707\",\"type\":\"UnionRenderers\"},{\"attributes\":{\"source\":{\"id\":\"1606\"}},\"id\":\"1608\",\"type\":\"CDSView\"},{\"attributes\":{},\"id\":\"1708\",\"type\":\"Selection\"},{\"attributes\":{},\"id\":\"1709\",\"type\":\"UnionRenderers\"},{\"attributes\":{\"background_fill_color\":{\"value\":\"#f7fbff\"},\"source\":{\"id\":\"1634\"},\"text\":{\"field\":\"name\"},\"text_font_size\":{\"value\":\"13px\"},\"x\":{\"field\":\"x\"},\"x_offset\":{\"value\":-5.0},\"y\":{\"field\":\"y\"},\"y_offset\":{\"value\":-5.0}},\"id\":\"1635\",\"type\":\"LabelSet\"},{\"attributes\":{},\"id\":\"1695\",\"type\":\"DataRange1d\"},{\"attributes\":{\"data_source\":{\"id\":\"1606\"},\"glyph\":{\"id\":\"1615\"},\"hover_glyph\":{\"id\":\"1625\"},\"muted_glyph\":null,\"view\":{\"id\":\"1608\"}},\"id\":\"1607\",\"type\":\"GlyphRenderer\"}],\"root_ids\":[\"1597\"]},\"title\":\"Bokeh Application\",\"version\":\"2.3.3\"}};\n",
       "  var render_items = [{\"docid\":\"c28686a0-7fcb-4e37-83b4-5df0f561bc9c\",\"root_ids\":[\"1597\"],\"roots\":{\"1597\":\"2be56d60-211f-429a-8fdf-9cc80731a953\"}}];\n",
       "  root.Bokeh.embed.embed_items_notebook(docs_json, render_items);\n",
       "\n",
       "  }\n",
       "  if (root.Bokeh !== undefined) {\n",
       "    embed_document(root);\n",
       "  } else {\n",
       "    var attempts = 0;\n",
       "    var timer = setInterval(function(root) {\n",
       "      if (root.Bokeh !== undefined) {\n",
       "        clearInterval(timer);\n",
       "        embed_document(root);\n",
       "      } else {\n",
       "        attempts++;\n",
       "        if (attempts > 100) {\n",
       "          clearInterval(timer);\n",
       "          console.log(\"Bokeh: ERROR: Unable to run BokehJS code because BokehJS library is missing\");\n",
       "        }\n",
       "      }\n",
       "    }, 10, root)\n",
       "  }\n",
       "})(window);"
      ],
      "application/vnd.bokehjs_exec.v0+json": ""
     },
     "metadata": {
      "application/vnd.bokehjs_exec.v0+json": {
       "id": "1597"
      }
     },
     "output_type": "display_data"
    }
   ],
   "source": [
    "G = nx.from_pandas_edgelist(dfLinkSetIn, 'from', 'to')\n",
    "\n",
    "# Choose a title\n",
    "title = 'Sample Graph Used for Maximal Clique Detection'\n",
    "\n",
    "# Define the label for the nodes.\n",
    "hover = [(\"Node\", \"@index\")]\n",
    "\n",
    "# How big are the nodes?\n",
    "nodeSize = 25\n",
    "\n",
    "# send to the utility function to generate the plot.\n",
    "plot = vis.render_plot(graph=G, title=title, hover_tooltips=hover, node_size=nodeSize, center_x=2, center_y=0)\n",
    "\n",
    "# display the graph\n",
    "show(plot)"
   ]
  },
  {
   "cell_type": "markdown",
   "id": "0843cd5b-4ec8-4ecd-ad35-73d279423b61",
   "metadata": {},
   "source": [
    "### Step 2: Connect to CAS, load the actionsets we'll need, and upload our graph to the CAS server."
   ]
  },
  {
   "cell_type": "code",
   "execution_count": 26,
   "id": "c7fb02c3-e5e1-448b-adfb-59bf877081fd",
   "metadata": {
    "ExecuteTime": {
     "end_time": "2021-11-09T22:19:02.974249Z",
     "start_time": "2021-11-09T22:18:48.028623Z"
    }
   },
   "outputs": [
    {
     "name": "stdout",
     "output_type": "stream",
     "text": [
      "NOTE: Added action set 'network'.\n",
      "NOTE: Added action set 'fedsql'.\n"
     ]
    }
   ],
   "source": [
    "host = os.environ['CAS_HOST_ORGRD']\n",
    "port = int(os.environ['CAS_PORT'])\n",
    "\n",
    "# Connect to the server\n",
    "conn = swat.CAS(host, port)\n",
    "\n",
    "# Load the actionsets we need\n",
    "_ = conn.loadactionset('network')\n",
    "_ = conn.loadactionset('fedsql')"
   ]
  },
  {
   "cell_type": "code",
   "execution_count": 27,
   "id": "291db96a",
   "metadata": {
    "ExecuteTime": {
     "end_time": "2021-11-09T22:19:03.050043Z",
     "start_time": "2021-11-09T22:19:02.976768Z"
    }
   },
   "outputs": [
    {
     "name": "stdout",
     "output_type": "stream",
     "text": [
      "NOTE: Cloud Analytic Services made the uploaded file available as table LINKSETIN in caslib CASUSERHDFS(daherr).\n",
      "NOTE: The table LINKSETIN has been created in caslib CASUSERHDFS(daherr) from binary data uploaded to Cloud Analytic Services.\n"
     ]
    }
   ],
   "source": [
    "# Upload the local data into CAS.\n",
    "_ = conn.upload(dfLinkSetIn, casout=dict(name='LinkSetIn'))"
   ]
  },
  {
   "cell_type": "markdown",
   "id": "f08a0217-cd8d-4166-93a1-aa71363de472",
   "metadata": {},
   "source": [
    "## Calculate the maximal cliques in our graph using the `network` actionset."
   ]
  },
  {
   "cell_type": "markdown",
   "id": "09206df6-a2ce-4907-b00e-4647996d0b1b",
   "metadata": {},
   "source": [
    "Since we've loaded our actionset, we can reference it using dot notation from our `connection` object.\n",
    "\n",
    "Note that the Python code below is equivalent to this block of CASL:\n",
    "```\n",
    "proc network\n",
    "   links         = mycas.LinkSetIn\n",
    "   outNodes      = mycas.NodeSetOut;\n",
    "   clique\n",
    "      out        = mycas.Cliques\n",
    "      maxCliques = all;\n",
    "run;\n",
    "```"
   ]
  },
  {
   "cell_type": "code",
   "execution_count": 28,
   "id": "830a289b",
   "metadata": {
    "ExecuteTime": {
     "end_time": "2021-11-09T22:19:03.199375Z",
     "start_time": "2021-11-09T22:19:03.052210Z"
    },
    "tags": []
   },
   "outputs": [
    {
     "name": "stdout",
     "output_type": "stream",
     "text": [
      "NOTE: The number of nodes in the input graph is 10.\n",
      "NOTE: The number of links in the input graph is 19.\n",
      "NOTE: Processing clique enumeration using 16 threads across 1 machines.\n",
      "NOTE: The algorithm found 4 maximal cliques.\n",
      "NOTE: Processing clique enumeration used 0.00 (cpu: 0.00) seconds.\n"
     ]
    },
    {
     "data": {
      "text/html": [
       "<div class=\"cas-results-key\"><b>&#167; OutputCasTables</b></div>\n",
       "<div class=\"cas-results-body\">\n",
       "<div>\n",
       "<style scoped>\n",
       "    .dataframe tbody tr th:only-of-type {\n",
       "        vertical-align: middle;\n",
       "    }\n",
       "\n",
       "    .dataframe tbody tr th {\n",
       "        vertical-align: top;\n",
       "    }\n",
       "\n",
       "    .dataframe thead th {\n",
       "        text-align: right;\n",
       "    }\n",
       "</style>\n",
       "<table border=\"1\" class=\"dataframe\">\n",
       "  <thead>\n",
       "    <tr style=\"text-align: right;\">\n",
       "      <th title=\"\"></th>\n",
       "      <th title=\"CAS Library\">casLib</th>\n",
       "      <th title=\"Name\">Name</th>\n",
       "      <th title=\"Label\">Label</th>\n",
       "      <th title=\"Number of Rows\">Rows</th>\n",
       "      <th title=\"Number of Columns\">Columns</th>\n",
       "      <th title=\"Table\">casTable</th>\n",
       "    </tr>\n",
       "  </thead>\n",
       "  <tbody>\n",
       "    <tr>\n",
       "      <td>0</td>\n",
       "      <td>CASUSERHDFS(daherr)</td>\n",
       "      <td>nodeSetOut</td>\n",
       "      <td></td>\n",
       "      <td>10</td>\n",
       "      <td>1</td>\n",
       "      <td>CASTable('nodeSetOut', caslib='CASUSERHDFS(dah...</td>\n",
       "    </tr>\n",
       "    <tr>\n",
       "      <td>1</td>\n",
       "      <td>CASUSERHDFS(daherr)</td>\n",
       "      <td>cliques</td>\n",
       "      <td></td>\n",
       "      <td>14</td>\n",
       "      <td>2</td>\n",
       "      <td>CASTable('cliques', caslib='CASUSERHDFS(daherr)')</td>\n",
       "    </tr>\n",
       "  </tbody>\n",
       "</table>\n",
       "</div>\n",
       "</div>\n",
       "<div class=\"cas-results-key\"><hr/><b>&#167; ProblemSummary</b></div>\n",
       "<div class=\"cas-results-body\">\n",
       "<div>\n",
       "<style scoped>\n",
       "    .dataframe tbody tr th:only-of-type {\n",
       "        vertical-align: middle;\n",
       "    }\n",
       "\n",
       "    .dataframe tbody tr th {\n",
       "        vertical-align: top;\n",
       "    }\n",
       "\n",
       "    .dataframe thead th {\n",
       "        text-align: right;\n",
       "    }\n",
       "</style>\n",
       "<table border=\"1\" class=\"dataframe\"><caption>Problem Summary</caption>\n",
       "  <thead>\n",
       "    <tr style=\"text-align: right;\">\n",
       "      <th title=\"\"></th>\n",
       "      <th title=\"Name1\">Name1</th>\n",
       "      <th title=\"Label1\">Label1</th>\n",
       "      <th title=\"cValue1\">cValue1</th>\n",
       "      <th title=\"nValue1\">nValue1</th>\n",
       "    </tr>\n",
       "  </thead>\n",
       "  <tbody>\n",
       "    <tr>\n",
       "      <td>0</td>\n",
       "      <td>numNodes</td>\n",
       "      <td>Number of Nodes</td>\n",
       "      <td>10</td>\n",
       "      <td>10.0</td>\n",
       "    </tr>\n",
       "    <tr>\n",
       "      <td>1</td>\n",
       "      <td>numLinks</td>\n",
       "      <td>Number of Links</td>\n",
       "      <td>19</td>\n",
       "      <td>19.0</td>\n",
       "    </tr>\n",
       "    <tr>\n",
       "      <td>2</td>\n",
       "      <td>graphDirection</td>\n",
       "      <td>Graph Direction</td>\n",
       "      <td>Undirected</td>\n",
       "      <td>NaN</td>\n",
       "    </tr>\n",
       "  </tbody>\n",
       "</table>\n",
       "</div>\n",
       "</div>\n",
       "<div class=\"cas-results-key\"><hr/><b>&#167; SolutionSummary</b></div>\n",
       "<div class=\"cas-results-body\">\n",
       "<div>\n",
       "<style scoped>\n",
       "    .dataframe tbody tr th:only-of-type {\n",
       "        vertical-align: middle;\n",
       "    }\n",
       "\n",
       "    .dataframe tbody tr th {\n",
       "        vertical-align: top;\n",
       "    }\n",
       "\n",
       "    .dataframe thead th {\n",
       "        text-align: right;\n",
       "    }\n",
       "</style>\n",
       "<table border=\"1\" class=\"dataframe\"><caption>Solution Summary</caption>\n",
       "  <thead>\n",
       "    <tr style=\"text-align: right;\">\n",
       "      <th title=\"\"></th>\n",
       "      <th title=\"Name1\">Name1</th>\n",
       "      <th title=\"Label1\">Label1</th>\n",
       "      <th title=\"cValue1\">cValue1</th>\n",
       "      <th title=\"nValue1\">nValue1</th>\n",
       "    </tr>\n",
       "  </thead>\n",
       "  <tbody>\n",
       "    <tr>\n",
       "      <td>0</td>\n",
       "      <td>problemType</td>\n",
       "      <td>Problem Type</td>\n",
       "      <td>Clique</td>\n",
       "      <td>NaN</td>\n",
       "    </tr>\n",
       "    <tr>\n",
       "      <td>1</td>\n",
       "      <td>status</td>\n",
       "      <td>Solution Status</td>\n",
       "      <td>OK</td>\n",
       "      <td>NaN</td>\n",
       "    </tr>\n",
       "    <tr>\n",
       "      <td>2</td>\n",
       "      <td>numCliques</td>\n",
       "      <td>Number of Cliques</td>\n",
       "      <td>4</td>\n",
       "      <td>4.000000</td>\n",
       "    </tr>\n",
       "    <tr>\n",
       "      <td>3</td>\n",
       "      <td>cpuTime</td>\n",
       "      <td>CPU Time</td>\n",
       "      <td>0.00</td>\n",
       "      <td>0.000000</td>\n",
       "    </tr>\n",
       "    <tr>\n",
       "      <td>4</td>\n",
       "      <td>realTime</td>\n",
       "      <td>Real Time</td>\n",
       "      <td>0.00</td>\n",
       "      <td>0.003918</td>\n",
       "    </tr>\n",
       "  </tbody>\n",
       "</table>\n",
       "</div>\n",
       "</div>\n",
       "<div class=\"cas-results-key\"><hr/><b>&#167; numCliques</b></div>\n",
       "<div class=\"cas-results-body\">\n",
       "<div>4</div>\n",
       "</div>\n",
       "<div class=\"cas-results-key\"><hr/><b>&#167; solutionStatus</b></div>\n",
       "<div class=\"cas-results-body\">\n",
       "<div>OK</div>\n",
       "</div>\n",
       "<div class=\"cas-results-key\"><hr/><b>&#167; solutionStatusCode</b></div>\n",
       "<div class=\"cas-results-body\">\n",
       "<div>0</div>\n",
       "</div>\n",
       "<div class=\"cas-output-area\"></div>\n",
       "<p class=\"cas-results-performance\"><small><span class=\"cas-elapsed\">elapsed 0.0495s</span> &#183; <span class=\"cas-user\">user 0.055s</span> &#183; <span class=\"cas-sys\">sys 0.119s</span> &#183; <span class=\"cas-memory\">mem 158MB</span></small></p>"
      ],
      "text/plain": [
       "[OutputCasTables]\n",
       "\n",
       "                 casLib        Name Label  Rows  Columns                                           casTable\n",
       " 0  CASUSERHDFS(daherr)  nodeSetOut          10        1  CASTable('nodeSetOut', caslib='CASUSERHDFS(dah...\n",
       " 1  CASUSERHDFS(daherr)     cliques          14        2  CASTable('cliques', caslib='CASUSERHDFS(daherr)')\n",
       "\n",
       "[ProblemSummary]\n",
       "\n",
       " Problem Summary\n",
       " \n",
       "             Name1           Label1       cValue1  nValue1\n",
       " 0        numNodes  Number of Nodes            10     10.0\n",
       " 1        numLinks  Number of Links            19     19.0\n",
       " 2  graphDirection  Graph Direction    Undirected      NaN\n",
       "\n",
       "[SolutionSummary]\n",
       "\n",
       " Solution Summary\n",
       " \n",
       "          Name1             Label1       cValue1   nValue1\n",
       " 0  problemType       Problem Type        Clique       NaN\n",
       " 1       status    Solution Status            OK       NaN\n",
       " 2   numCliques  Number of Cliques             4  4.000000\n",
       " 3      cpuTime           CPU Time          0.00  0.000000\n",
       " 4     realTime          Real Time          0.00  0.003918\n",
       "\n",
       "[numCliques]\n",
       "\n",
       " 4\n",
       "\n",
       "[solutionStatus]\n",
       "\n",
       " 'OK'\n",
       "\n",
       "[solutionStatusCode]\n",
       "\n",
       " 0\n",
       "\n",
       "+ Elapsed: 0.0495s, user: 0.055s, sys: 0.119s, mem: 158mb"
      ]
     },
     "execution_count": 28,
     "metadata": {},
     "output_type": "execute_result"
    }
   ],
   "source": [
    "conn.network.clique(links=dict(name='LinkSetIn'),\n",
    "                    outnodes=dict(name='nodeSetOut'),\n",
    "                    out=dict(name='cliques',),\n",
    "                    maxcliques='ALL')"
   ]
  },
  {
   "cell_type": "markdown",
   "id": "0e71e26b-6b51-41ca-82a2-17e638c4c604",
   "metadata": {},
   "source": [
    "## Gather the results from CAS and prepare the data for plotting."
   ]
  },
  {
   "cell_type": "markdown",
   "id": "30eefd14-77cc-431a-a087-a8c2c08da053",
   "metadata": {},
   "source": [
    "Initially, we want to get a summary count of the cliques. Since the `clique` action doesn't provide a summary of total cliques, and nodes associated with each, so we use a simple `fedsql` groupby call to generate that table."
   ]
  },
  {
   "cell_type": "code",
   "execution_count": 29,
   "id": "cb2dfd28",
   "metadata": {
    "ExecuteTime": {
     "end_time": "2021-11-09T22:19:03.348981Z",
     "start_time": "2021-11-09T22:19:03.205130Z"
    }
   },
   "outputs": [
    {
     "name": "stdout",
     "output_type": "stream",
     "text": [
      "NOTE: Table CLIQUESIZES was created in caslib CASUSERHDFS(daherr) with 4 rows returned.\n"
     ]
    },
    {
     "data": {
      "text/html": [
       "<div class=\"cas-output-area\"></div>\n",
       "<p class=\"cas-results-performance\"><small><span class=\"cas-elapsed\">elapsed 0.11s</span> &#183; <span class=\"cas-user\">user 0.483s</span> &#183; <span class=\"cas-sys\">sys 0.461s</span> &#183; <span class=\"cas-memory\">mem 358MB</span></small></p>"
      ],
      "text/plain": [
       "+ Elapsed: 0.11s, user: 0.483s, sys: 0.461s, mem: 358mb"
      ]
     },
     "execution_count": 29,
     "metadata": {},
     "output_type": "execute_result"
    }
   ],
   "source": [
    "conn.fedsql.execdirect(\n",
    "    query=\"create table cliqueSizes as select clique, count(*) from cliques group by clique\")"
   ]
  },
  {
   "cell_type": "markdown",
   "id": "e072d45a-2a75-4562-8fef-91b2891ef96d",
   "metadata": {},
   "source": [
    "If we want to see the contents of that table, we simply use the `fetch` action provided by `swat` to pull data locally and display in our notebook.\n",
    "\n",
    "The output table confirms that the `network.clique` action found four cliques in our graph."
   ]
  },
  {
   "cell_type": "code",
   "execution_count": 30,
   "id": "81be775d",
   "metadata": {
    "ExecuteTime": {
     "end_time": "2021-11-09T22:19:06.548758Z",
     "start_time": "2021-11-09T22:19:03.350724Z"
    },
    "tags": []
   },
   "outputs": [
    {
     "data": {
      "text/html": [
       "<div class=\"cas-results-key\"><b>&#167; Fetch</b></div>\n",
       "<div class=\"cas-results-body\">\n",
       "<div>\n",
       "<style scoped>\n",
       "    .dataframe tbody tr th:only-of-type {\n",
       "        vertical-align: middle;\n",
       "    }\n",
       "\n",
       "    .dataframe tbody tr th {\n",
       "        vertical-align: top;\n",
       "    }\n",
       "\n",
       "    .dataframe thead th {\n",
       "        text-align: right;\n",
       "    }\n",
       "</style>\n",
       "<table border=\"1\" class=\"dataframe\"><caption>Selected Rows from Table CLIQUESIZES</caption>\n",
       "  <thead>\n",
       "    <tr style=\"text-align: right;\">\n",
       "      <th title=\"\"></th>\n",
       "      <th title=\"clique\">clique</th>\n",
       "      <th title=\"COUNT\">COUNT</th>\n",
       "    </tr>\n",
       "  </thead>\n",
       "  <tbody>\n",
       "    <tr>\n",
       "      <td>0</td>\n",
       "      <td>0.0</td>\n",
       "      <td>5</td>\n",
       "    </tr>\n",
       "    <tr>\n",
       "      <td>1</td>\n",
       "      <td>1.0</td>\n",
       "      <td>4</td>\n",
       "    </tr>\n",
       "    <tr>\n",
       "      <td>2</td>\n",
       "      <td>2.0</td>\n",
       "      <td>3</td>\n",
       "    </tr>\n",
       "    <tr>\n",
       "      <td>3</td>\n",
       "      <td>3.0</td>\n",
       "      <td>2</td>\n",
       "    </tr>\n",
       "  </tbody>\n",
       "</table>\n",
       "</div>\n",
       "</div>\n",
       "<div class=\"cas-output-area\"></div>\n",
       "<p class=\"cas-results-performance\"><small><span class=\"cas-elapsed\">elapsed 0.0235s</span> &#183; <span class=\"cas-user\">user 0.035s</span> &#183; <span class=\"cas-sys\">sys 0.055s</span> &#183; <span class=\"cas-memory\">mem 18MB</span></small></p>"
      ],
      "text/plain": [
       "[Fetch]\n",
       "\n",
       " Selected Rows from Table CLIQUESIZES\n",
       " \n",
       "    clique  COUNT\n",
       " 0     0.0      5\n",
       " 1     1.0      4\n",
       " 2     2.0      3\n",
       " 3     3.0      2\n",
       "\n",
       "+ Elapsed: 0.0235s, user: 0.035s, sys: 0.055s, mem: 18mb"
      ]
     },
     "execution_count": 30,
     "metadata": {},
     "output_type": "execute_result"
    }
   ],
   "source": [
    "conn.fetch(table=dict(name='cliqueSizes'),\n",
    "           sortby=[{'name': 'clique',\n",
    "                    'order': 'ascending'}\n",
    "                   ]\n",
    "           )"
   ]
  },
  {
   "cell_type": "markdown",
   "id": "dfc43a20",
   "metadata": {},
   "source": [
    "CAS has calculated all of the information we need, so let's get anything remote back down to our local machine.\n",
    "\n",
    "Once we have it all we can prepare our plots.\n",
    "\n",
    "Our end product is a 2x2 grid of network plots, each one highlighting a particular clique. We have the following tables in CAS:\n",
    "\n",
    "| Table | Description |\n",
    "|-------|-------------|\n",
    "| `LinkSetIn` | The initial link set that defines our graph. |\n",
    "| `NodeSetOut` | A simple table of nodes. |\n",
    "| `cliques` | A results table that highlights which nodes belong to which cliques. Note this only shows nodes the __belong__ to a clique; nodes outside the clique are not shown |\n",
    "| `cliqueSizes` | The summary table that shows the count of nodes in a particular clique. Useful to get a list of total cliques. |\n",
    "\n",
    "For this exercise, we will use the `networkx` `Graph` that we created earlier. Thus we do not need the `LinkSetIn` or `NodeSetOut` tables.\n",
    "\n",
    "We need to fetch the `cliques` and `cliqueSizes` tables from CAS, and we'll manipulate them so we can add both clique membership and preferred coloring as node attributes to our graph.\n",
    "\n",
    "We fetch the `nodeSetOut` table and convert it to a list of nodes for simplicity.\n",
    "\n",
    "All of this will be used to create mapping dictionaries with node as a key, and the value represents an attribute. Once the mapping dictionaries are ready they are easily added to our `Graph` with the `set_node_attributes` method."
   ]
  },
  {
   "cell_type": "markdown",
   "id": "e3d8fb5c-0c20-4d7e-9739-7f4e4e951c49",
   "metadata": {},
   "source": [
    "----------------------------\n",
    "`clique_count` : We need the clique count list later when we iterate over cliques to highlight each clique in a separate plot. Let's generate this list by making a `CASTable` object, that we then convert to a dictionary. That dictionary has two keys: `clique` and `COUNT`; our list is the keys in the `clique` dictionary."
   ]
  },
  {
   "cell_type": "code",
   "execution_count": 31,
   "id": "020fe29e",
   "metadata": {
    "ExecuteTime": {
     "end_time": "2021-11-09T22:19:11.188074Z",
     "start_time": "2021-11-09T22:19:06.550233Z"
    }
   },
   "outputs": [],
   "source": [
    "clique_count = list(conn.CASTable('cliqueSizes').to_dict()['clique'].keys())"
   ]
  },
  {
   "cell_type": "markdown",
   "id": "40018aab-b007-437f-8709-76713a03aedb",
   "metadata": {},
   "source": [
    "`clique_list`: Now we do the same for the clique list, but we orient the resulting dictionary as `records` per Pandas. This gives us a JSON-like list of dictionaries. This list will then be used later to create our mapping dictionaries."
   ]
  },
  {
   "cell_type": "code",
   "execution_count": 32,
   "id": "5297fc86",
   "metadata": {
    "ExecuteTime": {
     "end_time": "2021-11-09T22:19:11.290745Z",
     "start_time": "2021-11-09T22:19:11.190204Z"
    }
   },
   "outputs": [],
   "source": [
    "clique_list = conn.CASTable('cliques').to_dict(orient='records')"
   ]
  },
  {
   "cell_type": "markdown",
   "id": "30843201-0b92-4fff-b353-244475c0ceae",
   "metadata": {},
   "source": [
    "## Create base maps used to guide the individual plot generation.\n",
    "\n",
    "We'll leverage a few Python conveniences over the next few cells - particularly comprehensions and easy list creation.\n",
    "\n",
    "The results are:\n",
    "* `clique_map`: a dictionary keyed by node label, with all `False` values.\n",
    "* `highlight_map`: a dictionary keyed by node label, with the lightest color in the `Spectral8` palette.\n",
    "\n",
    "When we are creating the attributes for a given clique, member nodes will be assigned `True` in the `clique_map`, and a Yellow from the `Spectral8` palette."
   ]
  },
  {
   "cell_type": "code",
   "execution_count": 37,
   "id": "ac35a932-e0a6-467c-b1b3-32f71a1211c2",
   "metadata": {
    "ExecuteTime": {
     "end_time": "2021-11-09T22:21:39.184963Z",
     "start_time": "2021-11-09T22:21:38.917158Z"
    }
   },
   "outputs": [],
   "source": [
    "node_list = [int(x) for x in list(conn.CASTable('nodeSetOut')['node'])]\n",
    "base_clique = [False]*len(node_list)\n",
    "base_highlight = [Spectral8[-1]]*len(node_list)\n",
    "\n",
    "clique_map = dict(zip(node_list, base_clique))\n",
    "highlight_map = dict(zip(node_list, base_highlight))"
   ]
  },
  {
   "cell_type": "markdown",
   "id": "d6dc4742-d97b-4cbd-923a-9e1e1341fad7",
   "metadata": {},
   "source": [
    "## Assemble and Display the Plots\n",
    "\n",
    "We iterate over clique count, assigning attributes to the network that guide hover labeling and node shading."
   ]
  },
  {
   "cell_type": "code",
   "execution_count": 38,
   "id": "8aa04b7a",
   "metadata": {
    "ExecuteTime": {
     "end_time": "2021-11-09T22:21:41.233448Z",
     "start_time": "2021-11-09T22:21:41.047852Z"
    }
   },
   "outputs": [
    {
     "data": {
      "text/html": [
       "\n",
       "\n",
       "\n",
       "\n",
       "\n",
       "\n",
       "  <div class=\"bk-root\" id=\"f8ac4ff5-2135-4877-8ebd-bff8ebfe4bcc\" data-root-id=\"3898\"></div>\n"
      ]
     },
     "metadata": {},
     "output_type": "display_data"
    },
    {
     "data": {
      "application/javascript": [
       "(function(root) {\n",
       "  function embed_document(root) {\n",
       "    \n",
       "  var docs_json = {\"0a91cd67-914d-4909-b5c1-dd1954183df0\":{\"defs\":[],\"roots\":{\"references\":[{\"attributes\":{\"children\":[{\"id\":\"3897\"},{\"id\":\"3895\"}]},\"id\":\"3898\",\"type\":\"Column\"},{\"attributes\":{\"toolbars\":[{\"id\":\"3688\"},{\"id\":\"3729\"},{\"id\":\"3770\"},{\"id\":\"3811\"}],\"tools\":[{\"id\":\"3687\"},{\"id\":\"3728\"},{\"id\":\"3769\"},{\"id\":\"3810\"}]},\"id\":\"3896\",\"type\":\"ProxyToolbar\"},{\"attributes\":{\"edge_renderer\":{\"id\":\"3703\"},\"inspection_policy\":{\"id\":\"3726\"},\"layout_provider\":{\"id\":\"3705\"},\"node_renderer\":{\"id\":\"3699\"},\"selection_policy\":{\"id\":\"3843\"}},\"id\":\"3696\",\"type\":\"GraphRenderer\"},{\"attributes\":{\"source\":{\"id\":\"3657\"}},\"id\":\"3659\",\"type\":\"CDSView\"},{\"attributes\":{},\"id\":\"3848\",\"type\":\"UnionRenderers\"},{\"attributes\":{\"toolbar\":{\"id\":\"3896\"},\"toolbar_location\":\"above\"},\"id\":\"3897\",\"type\":\"ToolbarBox\"},{\"attributes\":{\"edge_renderer\":{\"id\":\"3662\"},\"inspection_policy\":{\"id\":\"3685\"},\"layout_provider\":{\"id\":\"3664\"},\"node_renderer\":{\"id\":\"3658\"},\"selection_policy\":{\"id\":\"3823\"}},\"id\":\"3655\",\"type\":\"GraphRenderer\"},{\"attributes\":{\"data\":{\"name\":[0,1,2,3,4,5,6,7,8,9],\"x\":[5.025110883829013,7.381914236978649,2.392591227715627,6.828799998119717,5.143954368150991,3.801270500767021,1.585805662128429,-0.7321152140170328,-3.4273316636724216,-8.0],\"y\":[2.106035551009846,0.6574120505094389,0.18869162933392528,-1.7014873572113585,-1.0642170755007134,5.037697601957711,4.185004643665932,-3.3988769156785366,-2.190272107333343,-3.819988020752905]},\"selected\":{\"id\":\"3829\"},\"selection_policy\":{\"id\":\"3828\"}},\"id\":\"3689\",\"type\":\"ColumnDataSource\"},{\"attributes\":{\"data\":{\"end\":[1,2,3,4,5,6,2,3,4,3,4,5,6,7,8,4,6,8,9],\"start\":[0,0,0,0,0,0,1,1,1,2,2,2,2,2,2,3,5,7,8]},\"selected\":{\"id\":\"3831\"},\"selection_policy\":{\"id\":\"3830\"}},\"id\":\"3661\",\"type\":\"ColumnDataSource\"},{\"attributes\":{},\"id\":\"3849\",\"type\":\"Selection\"},{\"attributes\":{\"background_fill_color\":{\"field\":\"highlight\"},\"source\":{\"id\":\"3689\"},\"text\":{\"field\":\"name\"},\"text_font_size\":{\"value\":\"13px\"},\"x\":{\"field\":\"x\"},\"x_offset\":{\"value\":-5.0},\"y\":{\"field\":\"y\"},\"y_offset\":{\"value\":-5.0}},\"id\":\"3690\",\"type\":\"LabelSet\"},{\"attributes\":{\"data_source\":{\"id\":\"3657\"},\"glyph\":{\"id\":\"3665\"},\"hover_glyph\":{\"id\":\"3675\"},\"muted_glyph\":null,\"view\":{\"id\":\"3659\"}},\"id\":\"3658\",\"type\":\"GlyphRenderer\"},{\"attributes\":{\"graph_layout\":{\"0\":[5.025110883829013,2.106035551009846],\"1\":[7.381914236978649,0.6574120505094389],\"2\":[2.392591227715627,0.18869162933392528],\"3\":[6.828799998119717,-1.7014873572113585],\"4\":[5.143954368150991,-1.0642170755007134],\"5\":[3.801270500767021,5.037697601957711],\"6\":[1.585805662128429,4.185004643665932],\"7\":[-0.7321152140170328,-3.3988769156785366],\"8\":[-3.4273316636724216,-2.190272107333343],\"9\":[-8.0,-3.819988020752905]}},\"id\":\"3664\",\"type\":\"StaticLayoutProvider\"},{\"attributes\":{\"source\":{\"id\":\"3702\"}},\"id\":\"3704\",\"type\":\"CDSView\"},{\"attributes\":{\"renderers\":[{\"id\":\"3655\"},{\"id\":\"3690\"}],\"title\":\"Clique 0\",\"toolbar\":{\"id\":\"3688\"},\"toolbar_location\":null,\"x_range\":{\"id\":\"3651\"},\"x_scale\":{\"id\":\"3815\"},\"y_range\":{\"id\":\"3816\"},\"y_scale\":{\"id\":\"3818\"}},\"id\":\"3652\",\"type\":\"Plot\"},{\"attributes\":{\"data\":{\"clique\":[true,true,true,true,true,false,false,false,false,false],\"highlight\":[\"#fee08b\",\"#fee08b\",\"#fee08b\",\"#fee08b\",\"#fee08b\",\"#d53e4f\",\"#d53e4f\",\"#d53e4f\",\"#d53e4f\",\"#d53e4f\"],\"index\":[0,1,2,3,4,5,6,7,8,9]},\"selected\":{\"id\":\"3833\"},\"selection_policy\":{\"id\":\"3832\"}},\"id\":\"3657\",\"type\":\"ColumnDataSource\"},{\"attributes\":{\"data\":{\"name\":[0,1,2,3,4,5,6,7,8,9],\"x\":[5.025110883829013,7.381914236978649,2.392591227715627,6.828799998119717,5.143954368150991,3.801270500767021,1.585805662128429,-0.7321152140170328,-3.4273316636724216,-8.0],\"y\":[2.106035551009846,0.6574120505094389,0.18869162933392528,-1.7014873572113585,-1.0642170755007134,5.037697601957711,4.185004643665932,-3.3988769156785366,-2.190272107333343,-3.819988020752905]},\"selected\":{\"id\":\"3889\"},\"selection_policy\":{\"id\":\"3888\"}},\"id\":\"3812\",\"type\":\"ColumnDataSource\"},{\"attributes\":{\"children\":[[{\"id\":\"3652\"},0,0],[{\"id\":\"3693\"},0,1],[{\"id\":\"3734\"},1,0],[{\"id\":\"3775\"},1,1]]},\"id\":\"3895\",\"type\":\"GridBox\"},{\"attributes\":{\"end\":10.1,\"start\":-10.1},\"id\":\"3651\",\"type\":\"Range1d\"},{\"attributes\":{\"data\":{\"clique\":[true,false,true,false,false,true,true,false,false,false],\"highlight\":[\"#fee08b\",\"#d53e4f\",\"#fee08b\",\"#d53e4f\",\"#d53e4f\",\"#fee08b\",\"#fee08b\",\"#d53e4f\",\"#d53e4f\",\"#d53e4f\"],\"index\":[0,1,2,3,4,5,6,7,8,9]},\"selected\":{\"id\":\"3853\"},\"selection_policy\":{\"id\":\"3852\"}},\"id\":\"3698\",\"type\":\"ColumnDataSource\"},{\"attributes\":{},\"id\":\"3852\",\"type\":\"UnionRenderers\"},{\"attributes\":{\"fill_color\":{\"field\":\"highlight\"},\"size\":{\"value\":40}},\"id\":\"3665\",\"type\":\"Circle\"},{\"attributes\":{\"source\":{\"id\":\"3698\"}},\"id\":\"3700\",\"type\":\"CDSView\"},{\"attributes\":{},\"id\":\"3853\",\"type\":\"Selection\"},{\"attributes\":{\"data_source\":{\"id\":\"3661\"},\"glyph\":{\"id\":\"3670\"},\"hover_glyph\":{\"id\":\"3680\"},\"muted_glyph\":null,\"view\":{\"id\":\"3663\"}},\"id\":\"3662\",\"type\":\"GlyphRenderer\"},{\"attributes\":{\"active_multi\":null,\"tools\":[{\"id\":\"3687\"}]},\"id\":\"3688\",\"type\":\"Toolbar\"},{\"attributes\":{\"source\":{\"id\":\"3661\"}},\"id\":\"3663\",\"type\":\"CDSView\"},{\"attributes\":{\"data_source\":{\"id\":\"3702\"},\"glyph\":{\"id\":\"3711\"},\"hover_glyph\":{\"id\":\"3721\"},\"muted_glyph\":null,\"view\":{\"id\":\"3704\"}},\"id\":\"3703\",\"type\":\"GlyphRenderer\"},{\"attributes\":{\"graph_layout\":{\"0\":[5.025110883829013,2.106035551009846],\"1\":[7.381914236978649,0.6574120505094389],\"2\":[2.392591227715627,0.18869162933392528],\"3\":[6.828799998119717,-1.7014873572113585],\"4\":[5.143954368150991,-1.0642170755007134],\"5\":[3.801270500767021,5.037697601957711],\"6\":[1.585805662128429,4.185004643665932],\"7\":[-0.7321152140170328,-3.3988769156785366],\"8\":[-3.4273316636724216,-2.190272107333343],\"9\":[-8.0,-3.819988020752905]}},\"id\":\"3787\",\"type\":\"StaticLayoutProvider\"},{\"attributes\":{\"graph_layout\":{\"0\":[5.025110883829013,2.106035551009846],\"1\":[7.381914236978649,0.6574120505094389],\"2\":[2.392591227715627,0.18869162933392528],\"3\":[6.828799998119717,-1.7014873572113585],\"4\":[5.143954368150991,-1.0642170755007134],\"5\":[3.801270500767021,5.037697601957711],\"6\":[1.585805662128429,4.185004643665932],\"7\":[-0.7321152140170328,-3.3988769156785366],\"8\":[-3.4273316636724216,-2.190272107333343],\"9\":[-8.0,-3.819988020752905]}},\"id\":\"3746\",\"type\":\"StaticLayoutProvider\"},{\"attributes\":{\"fill_color\":{\"field\":\"highlight\"},\"size\":{\"value\":40}},\"id\":\"3706\",\"type\":\"Circle\"},{\"attributes\":{\"fill_color\":{\"field\":\"highlight\"},\"size\":{\"value\":40}},\"id\":\"3788\",\"type\":\"Circle\"},{\"attributes\":{\"background_fill_color\":{\"field\":\"highlight\"},\"source\":{\"id\":\"3730\"},\"text\":{\"field\":\"name\"},\"text_font_size\":{\"value\":\"13px\"},\"x\":{\"field\":\"x\"},\"x_offset\":{\"value\":-5.0},\"y\":{\"field\":\"y\"},\"y_offset\":{\"value\":-5.0}},\"id\":\"3731\",\"type\":\"LabelSet\"},{\"attributes\":{\"callback\":null,\"tooltips\":[[\"Node\",\"@index\"],[\"Clique\",\"@clique\"]]},\"id\":\"3810\",\"type\":\"HoverTool\"},{\"attributes\":{\"data_source\":{\"id\":\"3739\"},\"glyph\":{\"id\":\"3747\"},\"hover_glyph\":{\"id\":\"3757\"},\"muted_glyph\":null,\"view\":{\"id\":\"3741\"}},\"id\":\"3740\",\"type\":\"GlyphRenderer\"},{\"attributes\":{\"data_source\":{\"id\":\"3698\"},\"glyph\":{\"id\":\"3706\"},\"hover_glyph\":{\"id\":\"3716\"},\"muted_glyph\":null,\"view\":{\"id\":\"3700\"}},\"id\":\"3699\",\"type\":\"GlyphRenderer\"},{\"attributes\":{\"graph_layout\":{\"0\":[5.025110883829013,2.106035551009846],\"1\":[7.381914236978649,0.6574120505094389],\"2\":[2.392591227715627,0.18869162933392528],\"3\":[6.828799998119717,-1.7014873572113585],\"4\":[5.143954368150991,-1.0642170755007134],\"5\":[3.801270500767021,5.037697601957711],\"6\":[1.585805662128429,4.185004643665932],\"7\":[-0.7321152140170328,-3.3988769156785366],\"8\":[-3.4273316636724216,-2.190272107333343],\"9\":[-8.0,-3.819988020752905]}},\"id\":\"3705\",\"type\":\"StaticLayoutProvider\"},{\"attributes\":{\"end\":10.1,\"start\":-10.1},\"id\":\"3692\",\"type\":\"Range1d\"},{\"attributes\":{\"active_multi\":null,\"tools\":[{\"id\":\"3810\"}]},\"id\":\"3811\",\"type\":\"Toolbar\"},{\"attributes\":{\"data\":{\"end\":[1,2,3,4,5,6,2,3,4,3,4,5,6,7,8,4,6,8,9],\"start\":[0,0,0,0,0,0,1,1,1,2,2,2,2,2,2,3,5,7,8]},\"selected\":{\"id\":\"3851\"},\"selection_policy\":{\"id\":\"3850\"}},\"id\":\"3702\",\"type\":\"ColumnDataSource\"},{\"attributes\":{\"fill_color\":{\"value\":\"#abdda4\"},\"size\":{\"value\":40}},\"id\":\"3716\",\"type\":\"Circle\"},{\"attributes\":{},\"id\":\"3808\",\"type\":\"NodesAndLinkedEdges\"},{\"attributes\":{\"line_color\":{\"value\":\"#abdda4\"},\"line_width\":{\"value\":4.0}},\"id\":\"3721\",\"type\":\"MultiLine\"},{\"attributes\":{\"background_fill_color\":{\"field\":\"highlight\"},\"source\":{\"id\":\"3812\"},\"text\":{\"field\":\"name\"},\"text_font_size\":{\"value\":\"13px\"},\"x\":{\"field\":\"x\"},\"x_offset\":{\"value\":-5.0},\"y\":{\"field\":\"y\"},\"y_offset\":{\"value\":-5.0}},\"id\":\"3813\",\"type\":\"LabelSet\"},{\"attributes\":{},\"id\":\"3855\",\"type\":\"LinearScale\"},{\"attributes\":{},\"id\":\"3726\",\"type\":\"NodesAndLinkedEdges\"},{\"attributes\":{},\"id\":\"3856\",\"type\":\"DataRange1d\"},{\"attributes\":{\"callback\":null,\"tooltips\":[[\"Node\",\"@index\"],[\"Clique\",\"@clique\"]]},\"id\":\"3728\",\"type\":\"HoverTool\"},{\"attributes\":{},\"id\":\"3858\",\"type\":\"LinearScale\"},{\"attributes\":{\"active_multi\":null,\"tools\":[{\"id\":\"3728\"}]},\"id\":\"3729\",\"type\":\"Toolbar\"},{\"attributes\":{\"fill_color\":{\"value\":\"#abdda4\"},\"size\":{\"value\":40}},\"id\":\"3675\",\"type\":\"Circle\"},{\"attributes\":{\"line_color\":{\"value\":\"#abdda4\"},\"line_width\":{\"value\":4.0}},\"id\":\"3803\",\"type\":\"MultiLine\"},{\"attributes\":{\"renderers\":[{\"id\":\"3737\"},{\"id\":\"3772\"}],\"title\":\"Clique 2\",\"toolbar\":{\"id\":\"3770\"},\"toolbar_location\":null,\"x_range\":{\"id\":\"3733\"},\"x_scale\":{\"id\":\"3855\"},\"y_range\":{\"id\":\"3856\"},\"y_scale\":{\"id\":\"3858\"}},\"id\":\"3734\",\"type\":\"Plot\"},{\"attributes\":{\"fill_color\":{\"field\":\"highlight\"},\"size\":{\"value\":40}},\"id\":\"3747\",\"type\":\"Circle\"},{\"attributes\":{\"data\":{\"end\":[1,2,3,4,5,6,2,3,4,3,4,5,6,7,8,4,6,8,9],\"start\":[0,0,0,0,0,0,1,1,1,2,2,2,2,2,2,3,5,7,8]},\"selected\":{\"id\":\"3871\"},\"selection_policy\":{\"id\":\"3870\"}},\"id\":\"3743\",\"type\":\"ColumnDataSource\"},{\"attributes\":{\"end\":10.1,\"start\":-10.1},\"id\":\"3733\",\"type\":\"Range1d\"},{\"attributes\":{},\"id\":\"3863\",\"type\":\"NodesOnly\"},{\"attributes\":{\"data\":{\"clique\":[false,false,true,false,false,false,false,true,true,false],\"highlight\":[\"#d53e4f\",\"#d53e4f\",\"#fee08b\",\"#d53e4f\",\"#d53e4f\",\"#d53e4f\",\"#d53e4f\",\"#fee08b\",\"#fee08b\",\"#d53e4f\"],\"index\":[0,1,2,3,4,5,6,7,8,9]},\"selected\":{\"id\":\"3873\"},\"selection_policy\":{\"id\":\"3872\"}},\"id\":\"3739\",\"type\":\"ColumnDataSource\"},{\"attributes\":{\"data\":{\"name\":[0,1,2,3,4,5,6,7,8,9],\"x\":[5.025110883829013,7.381914236978649,2.392591227715627,6.828799998119717,5.143954368150991,3.801270500767021,1.585805662128429,-0.7321152140170328,-3.4273316636724216,-8.0],\"y\":[2.106035551009846,0.6574120505094389,0.18869162933392528,-1.7014873572113585,-1.0642170755007134,5.037697601957711,4.185004643665932,-3.3988769156785366,-2.190272107333343,-3.819988020752905]},\"selected\":{\"id\":\"3869\"},\"selection_policy\":{\"id\":\"3868\"}},\"id\":\"3771\",\"type\":\"ColumnDataSource\"},{\"attributes\":{},\"id\":\"3767\",\"type\":\"NodesAndLinkedEdges\"},{\"attributes\":{\"edge_renderer\":{\"id\":\"3744\"},\"inspection_policy\":{\"id\":\"3767\"},\"layout_provider\":{\"id\":\"3746\"},\"node_renderer\":{\"id\":\"3740\"},\"selection_policy\":{\"id\":\"3863\"}},\"id\":\"3737\",\"type\":\"GraphRenderer\"},{\"attributes\":{\"source\":{\"id\":\"3739\"}},\"id\":\"3741\",\"type\":\"CDSView\"},{\"attributes\":{\"data_source\":{\"id\":\"3743\"},\"glyph\":{\"id\":\"3752\"},\"hover_glyph\":{\"id\":\"3762\"},\"muted_glyph\":null,\"view\":{\"id\":\"3745\"}},\"id\":\"3744\",\"type\":\"GlyphRenderer\"},{\"attributes\":{\"source\":{\"id\":\"3743\"}},\"id\":\"3745\",\"type\":\"CDSView\"},{\"attributes\":{\"line_alpha\":{\"value\":0.5},\"line_width\":{\"value\":2.0}},\"id\":\"3793\",\"type\":\"MultiLine\"},{\"attributes\":{\"line_color\":{\"value\":\"#abdda4\"},\"line_width\":{\"value\":4.0}},\"id\":\"3762\",\"type\":\"MultiLine\"},{\"attributes\":{\"callback\":null,\"tooltips\":[[\"Node\",\"@index\"],[\"Clique\",\"@clique\"]]},\"id\":\"3769\",\"type\":\"HoverTool\"},{\"attributes\":{\"fill_color\":{\"value\":\"#abdda4\"},\"size\":{\"value\":40}},\"id\":\"3757\",\"type\":\"Circle\"},{\"attributes\":{\"fill_color\":{\"value\":\"#abdda4\"},\"size\":{\"value\":40}},\"id\":\"3798\",\"type\":\"Circle\"},{\"attributes\":{\"line_alpha\":{\"value\":0.5},\"line_width\":{\"value\":2.0}},\"id\":\"3752\",\"type\":\"MultiLine\"},{\"attributes\":{},\"id\":\"3878\",\"type\":\"LinearScale\"},{\"attributes\":{},\"id\":\"3830\",\"type\":\"UnionRenderers\"},{\"attributes\":{\"background_fill_color\":{\"field\":\"highlight\"},\"source\":{\"id\":\"3771\"},\"text\":{\"field\":\"name\"},\"text_font_size\":{\"value\":\"13px\"},\"x\":{\"field\":\"x\"},\"x_offset\":{\"value\":-5.0},\"y\":{\"field\":\"y\"},\"y_offset\":{\"value\":-5.0}},\"id\":\"3772\",\"type\":\"LabelSet\"},{\"attributes\":{\"active_multi\":null,\"tools\":[{\"id\":\"3769\"}]},\"id\":\"3770\",\"type\":\"Toolbar\"},{\"attributes\":{},\"id\":\"3831\",\"type\":\"Selection\"},{\"attributes\":{\"line_color\":{\"value\":\"#abdda4\"},\"line_width\":{\"value\":4.0}},\"id\":\"3680\",\"type\":\"MultiLine\"},{\"attributes\":{},\"id\":\"3818\",\"type\":\"LinearScale\"},{\"attributes\":{},\"id\":\"3883\",\"type\":\"NodesOnly\"},{\"attributes\":{},\"id\":\"3816\",\"type\":\"DataRange1d\"},{\"attributes\":{\"renderers\":[{\"id\":\"3778\"},{\"id\":\"3813\"}],\"title\":\"Clique 3\",\"toolbar\":{\"id\":\"3811\"},\"toolbar_location\":null,\"x_range\":{\"id\":\"3774\"},\"x_scale\":{\"id\":\"3875\"},\"y_range\":{\"id\":\"3876\"},\"y_scale\":{\"id\":\"3878\"}},\"id\":\"3775\",\"type\":\"Plot\"},{\"attributes\":{\"data\":{\"name\":[0,1,2,3,4,5,6,7,8,9],\"x\":[5.025110883829013,7.381914236978649,2.392591227715627,6.828799998119717,5.143954368150991,3.801270500767021,1.585805662128429,-0.7321152140170328,-3.4273316636724216,-8.0],\"y\":[2.106035551009846,0.6574120505094389,0.18869162933392528,-1.7014873572113585,-1.0642170755007134,5.037697601957711,4.185004643665932,-3.3988769156785366,-2.190272107333343,-3.819988020752905]},\"selected\":{\"id\":\"3849\"},\"selection_policy\":{\"id\":\"3848\"}},\"id\":\"3730\",\"type\":\"ColumnDataSource\"},{\"attributes\":{\"data\":{\"end\":[1,2,3,4,5,6,2,3,4,3,4,5,6,7,8,4,6,8,9],\"start\":[0,0,0,0,0,0,1,1,1,2,2,2,2,2,2,3,5,7,8]},\"selected\":{\"id\":\"3891\"},\"selection_policy\":{\"id\":\"3890\"}},\"id\":\"3784\",\"type\":\"ColumnDataSource\"},{\"attributes\":{},\"id\":\"3832\",\"type\":\"UnionRenderers\"},{\"attributes\":{\"data\":{\"clique\":[false,false,false,false,false,false,false,false,true,true],\"highlight\":[\"#d53e4f\",\"#d53e4f\",\"#d53e4f\",\"#d53e4f\",\"#d53e4f\",\"#d53e4f\",\"#d53e4f\",\"#d53e4f\",\"#fee08b\",\"#fee08b\"],\"index\":[0,1,2,3,4,5,6,7,8,9]},\"selected\":{\"id\":\"3893\"},\"selection_policy\":{\"id\":\"3892\"}},\"id\":\"3780\",\"type\":\"ColumnDataSource\"},{\"attributes\":{\"end\":10.1,\"start\":-10.1},\"id\":\"3774\",\"type\":\"Range1d\"},{\"attributes\":{},\"id\":\"3815\",\"type\":\"LinearScale\"},{\"attributes\":{},\"id\":\"3868\",\"type\":\"UnionRenderers\"},{\"attributes\":{\"data_source\":{\"id\":\"3780\"},\"glyph\":{\"id\":\"3788\"},\"hover_glyph\":{\"id\":\"3798\"},\"muted_glyph\":null,\"view\":{\"id\":\"3782\"}},\"id\":\"3781\",\"type\":\"GlyphRenderer\"},{\"attributes\":{},\"id\":\"3833\",\"type\":\"Selection\"},{\"attributes\":{\"edge_renderer\":{\"id\":\"3785\"},\"inspection_policy\":{\"id\":\"3808\"},\"layout_provider\":{\"id\":\"3787\"},\"node_renderer\":{\"id\":\"3781\"},\"selection_policy\":{\"id\":\"3883\"}},\"id\":\"3778\",\"type\":\"GraphRenderer\"},{\"attributes\":{},\"id\":\"3869\",\"type\":\"Selection\"},{\"attributes\":{\"source\":{\"id\":\"3780\"}},\"id\":\"3782\",\"type\":\"CDSView\"},{\"attributes\":{\"data_source\":{\"id\":\"3784\"},\"glyph\":{\"id\":\"3793\"},\"hover_glyph\":{\"id\":\"3803\"},\"muted_glyph\":null,\"view\":{\"id\":\"3786\"}},\"id\":\"3785\",\"type\":\"GlyphRenderer\"},{\"attributes\":{\"source\":{\"id\":\"3784\"}},\"id\":\"3786\",\"type\":\"CDSView\"},{\"attributes\":{\"renderers\":[{\"id\":\"3696\"},{\"id\":\"3731\"}],\"title\":\"Clique 1\",\"toolbar\":{\"id\":\"3729\"},\"toolbar_location\":null,\"x_range\":{\"id\":\"3692\"},\"x_scale\":{\"id\":\"3835\"},\"y_range\":{\"id\":\"3836\"},\"y_scale\":{\"id\":\"3838\"}},\"id\":\"3693\",\"type\":\"Plot\"},{\"attributes\":{},\"id\":\"3823\",\"type\":\"NodesOnly\"},{\"attributes\":{},\"id\":\"3851\",\"type\":\"Selection\"},{\"attributes\":{},\"id\":\"3870\",\"type\":\"UnionRenderers\"},{\"attributes\":{},\"id\":\"3871\",\"type\":\"Selection\"},{\"attributes\":{\"line_alpha\":{\"value\":0.5},\"line_width\":{\"value\":2.0}},\"id\":\"3711\",\"type\":\"MultiLine\"},{\"attributes\":{},\"id\":\"3835\",\"type\":\"LinearScale\"},{\"attributes\":{},\"id\":\"3836\",\"type\":\"DataRange1d\"},{\"attributes\":{},\"id\":\"3888\",\"type\":\"UnionRenderers\"},{\"attributes\":{},\"id\":\"3838\",\"type\":\"LinearScale\"},{\"attributes\":{},\"id\":\"3889\",\"type\":\"Selection\"},{\"attributes\":{\"callback\":null,\"tooltips\":[[\"Node\",\"@index\"],[\"Clique\",\"@clique\"]]},\"id\":\"3687\",\"type\":\"HoverTool\"},{\"attributes\":{},\"id\":\"3850\",\"type\":\"UnionRenderers\"},{\"attributes\":{},\"id\":\"3843\",\"type\":\"NodesOnly\"},{\"attributes\":{},\"id\":\"3872\",\"type\":\"UnionRenderers\"},{\"attributes\":{},\"id\":\"3890\",\"type\":\"UnionRenderers\"},{\"attributes\":{},\"id\":\"3873\",\"type\":\"Selection\"},{\"attributes\":{},\"id\":\"3891\",\"type\":\"Selection\"},{\"attributes\":{},\"id\":\"3828\",\"type\":\"UnionRenderers\"},{\"attributes\":{},\"id\":\"3829\",\"type\":\"Selection\"},{\"attributes\":{},\"id\":\"3892\",\"type\":\"UnionRenderers\"},{\"attributes\":{},\"id\":\"3685\",\"type\":\"NodesAndLinkedEdges\"},{\"attributes\":{\"line_alpha\":{\"value\":0.5},\"line_width\":{\"value\":2.0}},\"id\":\"3670\",\"type\":\"MultiLine\"},{\"attributes\":{},\"id\":\"3893\",\"type\":\"Selection\"},{\"attributes\":{},\"id\":\"3875\",\"type\":\"LinearScale\"},{\"attributes\":{},\"id\":\"3876\",\"type\":\"DataRange1d\"}],\"root_ids\":[\"3898\"]},\"title\":\"Bokeh Application\",\"version\":\"2.3.3\"}};\n",
       "  var render_items = [{\"docid\":\"0a91cd67-914d-4909-b5c1-dd1954183df0\",\"root_ids\":[\"3898\"],\"roots\":{\"3898\":\"f8ac4ff5-2135-4877-8ebd-bff8ebfe4bcc\"}}];\n",
       "  root.Bokeh.embed.embed_items_notebook(docs_json, render_items);\n",
       "\n",
       "  }\n",
       "  if (root.Bokeh !== undefined) {\n",
       "    embed_document(root);\n",
       "  } else {\n",
       "    var attempts = 0;\n",
       "    var timer = setInterval(function(root) {\n",
       "      if (root.Bokeh !== undefined) {\n",
       "        clearInterval(timer);\n",
       "        embed_document(root);\n",
       "      } else {\n",
       "        attempts++;\n",
       "        if (attempts > 100) {\n",
       "          clearInterval(timer);\n",
       "          console.log(\"Bokeh: ERROR: Unable to run BokehJS code because BokehJS library is missing\");\n",
       "        }\n",
       "      }\n",
       "    }, 10, root)\n",
       "  }\n",
       "})(window);"
      ],
      "application/vnd.bokehjs_exec.v0+json": ""
     },
     "metadata": {
      "application/vnd.bokehjs_exec.v0+json": {
       "id": "3898"
      }
     },
     "output_type": "display_data"
    }
   ],
   "source": [
    "# node size should be common over all plots.\n",
    "nodeSize = 40\n",
    "\n",
    "# initialize our plot container.\n",
    "plot_list = []\n",
    "\n",
    "# iterate over each of the cliques, and highlight (darken) the clique\n",
    "for i in clique_count:\n",
    "    # create a list of only the nodes that are members of the clique.\n",
    "    subnode_list = [item['node']\n",
    "                    for item in clique_list if item['clique'] == i]\n",
    "    # create a clique and highlight map\n",
    "    this_clique_map = {\n",
    "        k: True if k in subnode_list else v for k, v in clique_map.items()}\n",
    "    this_highlight_map = {\n",
    "        k: Spectral8[-4] if k in subnode_list else v for k, v in highlight_map.items()}\n",
    "    # set our node attributes.\n",
    "    nx.set_node_attributes(G, this_highlight_map, 'highlight')\n",
    "    nx.set_node_attributes(G, this_clique_map, 'clique')\n",
    "    # set the title and hover plot values.\n",
    "    title = f\"Clique {i}\"\n",
    "    hover = [(\"Node\", \"@index\"), (\"Clique\", \"@clique\")]\n",
    "    # render the plot and add it to the list\n",
    "    plot_list.append(vis.render_plot(\n",
    "        graph=G, title=title, hover_tooltips=hover, node_size=nodeSize, node_color='highlight', center_x=2, center_y=0))\n",
    "\n",
    "# now we know the length of the list, define how many columns we want, make our grid, and finally show it.\n",
    "columns = int(len(plot_list) / 2)\n",
    "grid = gridplot(plot_list, ncols=columns)\n",
    "show(grid)"
   ]
  },
  {
   "cell_type": "markdown",
   "id": "738da507-526e-444c-80cc-96738490ce5a",
   "metadata": {},
   "source": [
    "## Clean up everything. \n",
    "\n",
    "Make sure we know what tables we created, drop them, and close our connection.\n",
    "(This is probably overkill, since everything in this session is ephemeral anyway, but good practice nonetheless."
   ]
  },
  {
   "cell_type": "code",
   "execution_count": 39,
   "id": "7f7cf035",
   "metadata": {
    "ExecuteTime": {
     "end_time": "2021-11-09T22:22:01.858638Z",
     "start_time": "2021-11-09T22:22:01.515853Z"
    }
   },
   "outputs": [],
   "source": [
    "table_list = conn.tableinfo()[\"TableInfo\"][\"Name\"].to_list()\n",
    "\n",
    "for table in table_list:\n",
    "    conn.droptable(name=table, quiet=True)\n",
    "\n",
    "conn.close()"
   ]
  },
  {
   "cell_type": "code",
   "execution_count": null,
   "id": "d227c5a4",
   "metadata": {},
   "outputs": [],
   "source": []
  }
 ],
 "metadata": {
  "kernelspec": {
   "display_name": "Python 3 (ipykernel)",
   "language": "python",
   "name": "python3"
  },
  "language_info": {
   "codemirror_mode": {
    "name": "ipython",
    "version": 3
   },
   "file_extension": ".py",
   "mimetype": "text/x-python",
   "name": "python",
   "nbconvert_exporter": "python",
   "pygments_lexer": "ipython3",
   "version": "3.8.12"
  },
  "toc": {
   "base_numbering": 1,
   "nav_menu": {},
   "number_sections": true,
   "sideBar": true,
   "skip_h1_title": false,
   "title_cell": "Table of Contents",
   "title_sidebar": "Contents",
   "toc_cell": false,
   "toc_position": {},
   "toc_section_display": true,
   "toc_window_display": false
  }
 },
 "nbformat": 4,
 "nbformat_minor": 5
}
