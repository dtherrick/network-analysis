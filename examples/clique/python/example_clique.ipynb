{
 "cells": [
  {
   "cell_type": "markdown",
   "id": "de673794-75c8-4a47-9e19-9f30dc6e8163",
   "metadata": {},
   "source": [
    "# Clique Detection Using the `NETWORK` Actionset in SAS Viya and Python"
   ]
  },
  {
   "cell_type": "markdown",
   "id": "88cfbcb9-9c94-4152-93d4-de4be0984f5a",
   "metadata": {},
   "source": [
    "In this demonstration, we load a small representative graph, use our CAS server to calculate the maximal cliques in a graph.\n",
    "\n",
    "Recall that a clique of graph G is an induced subgraph that is a complete graph. Every node in a clique is connected to every other node in that clique. A maximal clique is a clique that is not a subset of the nodes of any larger clique. That is, it is a set C of nodes such that every pair of nodes in C is connected by a link and every node not in C is missing a link to at least one node in C.\n",
    "\n",
    "In the graph G below, we expect to find *four* cliques.\n",
    "\n",
    "----------------\n",
    "\n",
    "The basic flow of this notebook is as follows:\n",
    "1. Load the sample graph into a Pandas DataFrame as a set of links that represent the total graph. \n",
    "2. Connect to our CAS server and load the actionsets we require.\n",
    "3. Upload our sample graph to our CAS server.\n",
    "4. Execute the clique detection and output results into CAS tables.\n",
    "5. Do required data manipulation to render the network graphs that show each clique.\n",
    "6. Prepare and display the network plots showing the cliques.\n",
    "\n",
    "----------------\n",
    "__Prepared by:__\n",
    "Damian Herrick (damian.herrick@sas.com)"
   ]
  },
  {
   "cell_type": "markdown",
   "id": "bc322515-fd11-4b89-aafd-310d31778e8f",
   "metadata": {},
   "source": [
    "#### Imports\n",
    "\n",
    "Our imports are broken out as follows:\n",
    "\n",
    "| Module        | Description                                                                        |\n",
    "|:--------------|:----------------------------------------------------------------------------------:|\n",
    "| `os`          | Allows access to environment variables.                                            |\n",
    "| `swat`        | SAS Python module that orchestrates communicatoin with a CAS server.               |\n",
    "| `pandas`      | Data management module we use for preparation of local data.                       |\n",
    "| `networkx`    | Used to manage graph data structures when plotting.                                |\n",
    "| `bokeh`       | Module used to generate interactive plots of graphs.                               |"
   ]
  },
  {
   "cell_type": "code",
   "execution_count": 1,
   "id": "8e03b08f",
   "metadata": {
    "ExecuteTime": {
     "end_time": "2021-10-22T15:18:49.074883Z",
     "start_time": "2021-10-22T15:18:47.938237Z"
    }
   },
   "outputs": [],
   "source": [
    "import os\n",
    "from typing import Any, List\n",
    "\n",
    "import swat\n",
    "import pandas as pd\n",
    "\n",
    "import networkx as nx\n",
    "from networkx import Graph\n",
    "\n",
    "from bokeh.core.enums import Palette\n",
    "from bokeh.io import output_notebook, show, save\n",
    "from bokeh.layouts import gridplot\n",
    "from bokeh.models import Circle, MultiLine, Range1d\n",
    "from bokeh.models.annotations import LabelSet\n",
    "from bokeh.models.graphs import NodesAndLinkedEdges\n",
    "from bokeh.models.plots import Plot\n",
    "from bokeh.models.sources import ColumnDataSource\n",
    "from bokeh.models.tools import HoverTool\n",
    "from bokeh.palettes import Blues8\n",
    "from bokeh.plotting import from_networkx\n",
    "\n",
    "NX_SPRING_SEED = 96201546"
   ]
  },
  {
   "cell_type": "code",
   "execution_count": 2,
   "id": "f0a076dc",
   "metadata": {
    "ExecuteTime": {
     "end_time": "2021-10-22T15:18:52.392579Z",
     "start_time": "2021-10-22T15:18:52.380400Z"
    }
   },
   "outputs": [],
   "source": [
    "def set_node_colors(\n",
    "    graph: Graph, attr_to_highlight: Any, ref_attr: str, color_palette: Palette\n",
    ") -> None:\n",
    "    \"\"\"set_node_colors: set colors based on binary settings.\n",
    "\n",
    "    Args:\n",
    "        graph (Graph): The input graph.\n",
    "        attr_to_highlight (Any): Value of the attribute to highlight.\n",
    "        ref_attr (str): label of the attribute.\n",
    "        color_palette (Palette): Bokeh palette to use.\n",
    "    \"\"\"\n",
    "    for node in graph.nodes():\n",
    "        graph.nodes[node][\"highlight\"] = color_palette[graph.nodes[node][\"clique\"]]\n",
    "\n",
    "def render_plot(\n",
    "    graph: Graph,\n",
    "    title: str,\n",
    "    hover_tooltips: List,\n",
    "    node_size: int = 15,\n",
    "    node_color: str = Blues8[-1],\n",
    "    node_alpha: float = 1.0,\n",
    "    aspect_ratio: float = None,\n",
    "    width: int = 600,\n",
    "    height: int = 600,\n",
    "    outfile: str = None,\n",
    ") -> Plot:\n",
    "    \"\"\"render_plot :: simple function to plot a graph using bokeh.\n",
    "\n",
    "    Args:\n",
    "        graph (Graph): The input, fully prepared graph.\n",
    "        title (str): Title of the graph we're creating.\n",
    "        hover_tooltips (List): the list of tuples that should display on hover.\n",
    "        node_size (int): Optional, default 15. Set the size of the nodes.\n",
    "        node_color (str): Optional. attribute label with each node's color.\n",
    "        node_alpha (float): Optional. Background color transparency.\n",
    "        aspect_ratio (float): Optional. Defined aspect ratio of the figure.\n",
    "        width (int): Optional, default 600px. Non-negative integer pixel width.\n",
    "        height (int): Optional, default 600px. Non-negative integer pixel height.\n",
    "        outfile (str): Optional. Name of the export file. Defaults to None.\n",
    "\n",
    "    Returns:\n",
    "        Plot: The prepared Bokeh figure ready for display.\n",
    "    \"\"\"\n",
    "    # Create a plot — set dimensions, toolbar, and title\n",
    "    plot = Plot(\n",
    "        x_range=Range1d(-10.1, 10.1),\n",
    "        title=title,\n",
    "        width=width,\n",
    "        height=height,\n",
    "        aspect_ratio=aspect_ratio,\n",
    "    )\n",
    "\n",
    "    plot.xgrid.grid_line_color = None\n",
    "    plot.ygrid.grid_line_color = None\n",
    "\n",
    "    # Create a network graph object with spring layout\n",
    "    nw_graph = from_networkx(\n",
    "        graph, nx.spring_layout, scale=10, center=(2, 0), seed=NX_SPRING_SEED\n",
    "    )\n",
    "\n",
    "    # Set node size and color\n",
    "    nw_graph.node_renderer.glyph = Circle(\n",
    "        size=node_size, fill_color=node_color, fill_alpha=node_alpha\n",
    "    )\n",
    "\n",
    "    # Set edge opacity and width\n",
    "    nw_graph.edge_renderer.glyph = MultiLine(line_alpha=0.5, line_width=2)\n",
    "\n",
    "    # green hover for both nodes and edges\n",
    "    nw_graph.node_renderer.hover_glyph = Circle(size=node_size, fill_color=\"#abdda4\")\n",
    "    nw_graph.edge_renderer.hover_glyph = MultiLine(line_color=\"#abdda4\", line_width=4)\n",
    "\n",
    "    nw_graph.inspection_policy = NodesAndLinkedEdges()\n",
    "\n",
    "    plot.add_tools(HoverTool(tooltips=hover_tooltips))\n",
    "\n",
    "    # Add network graph to the plot\n",
    "    plot.renderers.append(nw_graph)\n",
    "\n",
    "    # Add Labels\n",
    "    x, y = zip(*nw_graph.layout_provider.graph_layout.values())\n",
    "    node_labels = list(graph.nodes())\n",
    "    source = ColumnDataSource(\n",
    "        {\"x\": x, \"y\": y, \"name\": [node_labels[i] for i in range(len(x))]}\n",
    "    )\n",
    "    labels = LabelSet(\n",
    "        x=\"x\",\n",
    "        x_offset=-5,\n",
    "        y=\"y\",\n",
    "        y_offset=-5,\n",
    "        text=\"name\",\n",
    "        source=source,\n",
    "        background_fill_color=node_color,\n",
    "        text_font_size=\"13px\",\n",
    "        background_fill_alpha=node_alpha,\n",
    "    )\n",
    "    plot.renderers.append(labels)\n",
    "\n",
    "    if outfile is not None:\n",
    "        save(plot, filename=outfile)\n",
    "\n",
    "    return plot"
   ]
  },
  {
   "cell_type": "markdown",
   "id": "42648761-5206-4f12-86e8-a36384b362db",
   "metadata": {},
   "source": [
    "The call to `output_notebook` is required by `bokeh` to render plots inside Jupyter Notebooks."
   ]
  },
  {
   "cell_type": "code",
   "execution_count": 3,
   "id": "c154167c",
   "metadata": {
    "ExecuteTime": {
     "end_time": "2021-10-22T15:18:54.414963Z",
     "start_time": "2021-10-22T15:18:54.405646Z"
    }
   },
   "outputs": [
    {
     "data": {
      "text/html": [
       "\n",
       "    <div class=\"bk-root\">\n",
       "        <a href=\"https://bokeh.org\" target=\"_blank\" class=\"bk-logo bk-logo-small bk-logo-notebook\"></a>\n",
       "        <span id=\"1002\">Loading BokehJS ...</span>\n",
       "    </div>"
      ]
     },
     "metadata": {},
     "output_type": "display_data"
    },
    {
     "data": {
      "application/javascript": [
       "\n",
       "(function(root) {\n",
       "  function now() {\n",
       "    return new Date();\n",
       "  }\n",
       "\n",
       "  var force = true;\n",
       "\n",
       "  if (typeof root._bokeh_onload_callbacks === \"undefined\" || force === true) {\n",
       "    root._bokeh_onload_callbacks = [];\n",
       "    root._bokeh_is_loading = undefined;\n",
       "  }\n",
       "\n",
       "  var JS_MIME_TYPE = 'application/javascript';\n",
       "  var HTML_MIME_TYPE = 'text/html';\n",
       "  var EXEC_MIME_TYPE = 'application/vnd.bokehjs_exec.v0+json';\n",
       "  var CLASS_NAME = 'output_bokeh rendered_html';\n",
       "\n",
       "  /**\n",
       "   * Render data to the DOM node\n",
       "   */\n",
       "  function render(props, node) {\n",
       "    var script = document.createElement(\"script\");\n",
       "    node.appendChild(script);\n",
       "  }\n",
       "\n",
       "  /**\n",
       "   * Handle when an output is cleared or removed\n",
       "   */\n",
       "  function handleClearOutput(event, handle) {\n",
       "    var cell = handle.cell;\n",
       "\n",
       "    var id = cell.output_area._bokeh_element_id;\n",
       "    var server_id = cell.output_area._bokeh_server_id;\n",
       "    // Clean up Bokeh references\n",
       "    if (id != null && id in Bokeh.index) {\n",
       "      Bokeh.index[id].model.document.clear();\n",
       "      delete Bokeh.index[id];\n",
       "    }\n",
       "\n",
       "    if (server_id !== undefined) {\n",
       "      // Clean up Bokeh references\n",
       "      var cmd = \"from bokeh.io.state import curstate; print(curstate().uuid_to_server['\" + server_id + \"'].get_sessions()[0].document.roots[0]._id)\";\n",
       "      cell.notebook.kernel.execute(cmd, {\n",
       "        iopub: {\n",
       "          output: function(msg) {\n",
       "            var id = msg.content.text.trim();\n",
       "            if (id in Bokeh.index) {\n",
       "              Bokeh.index[id].model.document.clear();\n",
       "              delete Bokeh.index[id];\n",
       "            }\n",
       "          }\n",
       "        }\n",
       "      });\n",
       "      // Destroy server and session\n",
       "      var cmd = \"import bokeh.io.notebook as ion; ion.destroy_server('\" + server_id + \"')\";\n",
       "      cell.notebook.kernel.execute(cmd);\n",
       "    }\n",
       "  }\n",
       "\n",
       "  /**\n",
       "   * Handle when a new output is added\n",
       "   */\n",
       "  function handleAddOutput(event, handle) {\n",
       "    var output_area = handle.output_area;\n",
       "    var output = handle.output;\n",
       "\n",
       "    // limit handleAddOutput to display_data with EXEC_MIME_TYPE content only\n",
       "    if ((output.output_type != \"display_data\") || (!Object.prototype.hasOwnProperty.call(output.data, EXEC_MIME_TYPE))) {\n",
       "      return\n",
       "    }\n",
       "\n",
       "    var toinsert = output_area.element.find(\".\" + CLASS_NAME.split(' ')[0]);\n",
       "\n",
       "    if (output.metadata[EXEC_MIME_TYPE][\"id\"] !== undefined) {\n",
       "      toinsert[toinsert.length - 1].firstChild.textContent = output.data[JS_MIME_TYPE];\n",
       "      // store reference to embed id on output_area\n",
       "      output_area._bokeh_element_id = output.metadata[EXEC_MIME_TYPE][\"id\"];\n",
       "    }\n",
       "    if (output.metadata[EXEC_MIME_TYPE][\"server_id\"] !== undefined) {\n",
       "      var bk_div = document.createElement(\"div\");\n",
       "      bk_div.innerHTML = output.data[HTML_MIME_TYPE];\n",
       "      var script_attrs = bk_div.children[0].attributes;\n",
       "      for (var i = 0; i < script_attrs.length; i++) {\n",
       "        toinsert[toinsert.length - 1].firstChild.setAttribute(script_attrs[i].name, script_attrs[i].value);\n",
       "        toinsert[toinsert.length - 1].firstChild.textContent = bk_div.children[0].textContent\n",
       "      }\n",
       "      // store reference to server id on output_area\n",
       "      output_area._bokeh_server_id = output.metadata[EXEC_MIME_TYPE][\"server_id\"];\n",
       "    }\n",
       "  }\n",
       "\n",
       "  function register_renderer(events, OutputArea) {\n",
       "\n",
       "    function append_mime(data, metadata, element) {\n",
       "      // create a DOM node to render to\n",
       "      var toinsert = this.create_output_subarea(\n",
       "        metadata,\n",
       "        CLASS_NAME,\n",
       "        EXEC_MIME_TYPE\n",
       "      );\n",
       "      this.keyboard_manager.register_events(toinsert);\n",
       "      // Render to node\n",
       "      var props = {data: data, metadata: metadata[EXEC_MIME_TYPE]};\n",
       "      render(props, toinsert[toinsert.length - 1]);\n",
       "      element.append(toinsert);\n",
       "      return toinsert\n",
       "    }\n",
       "\n",
       "    /* Handle when an output is cleared or removed */\n",
       "    events.on('clear_output.CodeCell', handleClearOutput);\n",
       "    events.on('delete.Cell', handleClearOutput);\n",
       "\n",
       "    /* Handle when a new output is added */\n",
       "    events.on('output_added.OutputArea', handleAddOutput);\n",
       "\n",
       "    /**\n",
       "     * Register the mime type and append_mime function with output_area\n",
       "     */\n",
       "    OutputArea.prototype.register_mime_type(EXEC_MIME_TYPE, append_mime, {\n",
       "      /* Is output safe? */\n",
       "      safe: true,\n",
       "      /* Index of renderer in `output_area.display_order` */\n",
       "      index: 0\n",
       "    });\n",
       "  }\n",
       "\n",
       "  // register the mime type if in Jupyter Notebook environment and previously unregistered\n",
       "  if (root.Jupyter !== undefined) {\n",
       "    var events = require('base/js/events');\n",
       "    var OutputArea = require('notebook/js/outputarea').OutputArea;\n",
       "\n",
       "    if (OutputArea.prototype.mime_types().indexOf(EXEC_MIME_TYPE) == -1) {\n",
       "      register_renderer(events, OutputArea);\n",
       "    }\n",
       "  }\n",
       "\n",
       "  \n",
       "  if (typeof (root._bokeh_timeout) === \"undefined\" || force === true) {\n",
       "    root._bokeh_timeout = Date.now() + 5000;\n",
       "    root._bokeh_failed_load = false;\n",
       "  }\n",
       "\n",
       "  var NB_LOAD_WARNING = {'data': {'text/html':\n",
       "     \"<div style='background-color: #fdd'>\\n\"+\n",
       "     \"<p>\\n\"+\n",
       "     \"BokehJS does not appear to have successfully loaded. If loading BokehJS from CDN, this \\n\"+\n",
       "     \"may be due to a slow or bad network connection. Possible fixes:\\n\"+\n",
       "     \"</p>\\n\"+\n",
       "     \"<ul>\\n\"+\n",
       "     \"<li>re-rerun `output_notebook()` to attempt to load from CDN again, or</li>\\n\"+\n",
       "     \"<li>use INLINE resources instead, as so:</li>\\n\"+\n",
       "     \"</ul>\\n\"+\n",
       "     \"<code>\\n\"+\n",
       "     \"from bokeh.resources import INLINE\\n\"+\n",
       "     \"output_notebook(resources=INLINE)\\n\"+\n",
       "     \"</code>\\n\"+\n",
       "     \"</div>\"}};\n",
       "\n",
       "  function display_loaded() {\n",
       "    var el = document.getElementById(\"1002\");\n",
       "    if (el != null) {\n",
       "      el.textContent = \"BokehJS is loading...\";\n",
       "    }\n",
       "    if (root.Bokeh !== undefined) {\n",
       "      if (el != null) {\n",
       "        el.textContent = \"BokehJS \" + root.Bokeh.version + \" successfully loaded.\";\n",
       "      }\n",
       "    } else if (Date.now() < root._bokeh_timeout) {\n",
       "      setTimeout(display_loaded, 100)\n",
       "    }\n",
       "  }\n",
       "\n",
       "\n",
       "  function run_callbacks() {\n",
       "    try {\n",
       "      root._bokeh_onload_callbacks.forEach(function(callback) {\n",
       "        if (callback != null)\n",
       "          callback();\n",
       "      });\n",
       "    } finally {\n",
       "      delete root._bokeh_onload_callbacks\n",
       "    }\n",
       "    console.debug(\"Bokeh: all callbacks have finished\");\n",
       "  }\n",
       "\n",
       "  function load_libs(css_urls, js_urls, callback) {\n",
       "    if (css_urls == null) css_urls = [];\n",
       "    if (js_urls == null) js_urls = [];\n",
       "\n",
       "    root._bokeh_onload_callbacks.push(callback);\n",
       "    if (root._bokeh_is_loading > 0) {\n",
       "      console.debug(\"Bokeh: BokehJS is being loaded, scheduling callback at\", now());\n",
       "      return null;\n",
       "    }\n",
       "    if (js_urls == null || js_urls.length === 0) {\n",
       "      run_callbacks();\n",
       "      return null;\n",
       "    }\n",
       "    console.debug(\"Bokeh: BokehJS not loaded, scheduling load and callback at\", now());\n",
       "    root._bokeh_is_loading = css_urls.length + js_urls.length;\n",
       "\n",
       "    function on_load() {\n",
       "      root._bokeh_is_loading--;\n",
       "      if (root._bokeh_is_loading === 0) {\n",
       "        console.debug(\"Bokeh: all BokehJS libraries/stylesheets loaded\");\n",
       "        run_callbacks()\n",
       "      }\n",
       "    }\n",
       "\n",
       "    function on_error(url) {\n",
       "      console.error(\"failed to load \" + url);\n",
       "    }\n",
       "\n",
       "    for (let i = 0; i < css_urls.length; i++) {\n",
       "      const url = css_urls[i];\n",
       "      const element = document.createElement(\"link\");\n",
       "      element.onload = on_load;\n",
       "      element.onerror = on_error.bind(null, url);\n",
       "      element.rel = \"stylesheet\";\n",
       "      element.type = \"text/css\";\n",
       "      element.href = url;\n",
       "      console.debug(\"Bokeh: injecting link tag for BokehJS stylesheet: \", url);\n",
       "      document.body.appendChild(element);\n",
       "    }\n",
       "\n",
       "    const hashes = {\"https://cdn.bokeh.org/bokeh/release/bokeh-2.3.3.min.js\": \"dM3QQsP+wXdHg42wTqW85BjZQdLNNIXqlPw/BgKoExPmTG7ZLML4EGqLMfqHT6ON\", \"https://cdn.bokeh.org/bokeh/release/bokeh-tables-2.3.3.min.js\": \"8x57I4YuIfu8XyZfFo0XVr2WAT8EK4rh/uDe3wF7YuW2FNUSNEpJbsPaB1nJ2fz2\", \"https://cdn.bokeh.org/bokeh/release/bokeh-widgets-2.3.3.min.js\": \"3QTqdz9LyAm2i0sG5XTePsHec3UHWwVsrOL68SYRoAXsafvfAyqtQ+h440+qIBhS\"};\n",
       "\n",
       "    for (let i = 0; i < js_urls.length; i++) {\n",
       "      const url = js_urls[i];\n",
       "      const element = document.createElement('script');\n",
       "      element.onload = on_load;\n",
       "      element.onerror = on_error.bind(null, url);\n",
       "      element.async = false;\n",
       "      element.src = url;\n",
       "      if (url in hashes) {\n",
       "        element.crossOrigin = \"anonymous\";\n",
       "        element.integrity = \"sha384-\" + hashes[url];\n",
       "      }\n",
       "      console.debug(\"Bokeh: injecting script tag for BokehJS library: \", url);\n",
       "      document.head.appendChild(element);\n",
       "    }\n",
       "  };\n",
       "\n",
       "  function inject_raw_css(css) {\n",
       "    const element = document.createElement(\"style\");\n",
       "    element.appendChild(document.createTextNode(css));\n",
       "    document.body.appendChild(element);\n",
       "  }\n",
       "\n",
       "  \n",
       "  var js_urls = [\"https://cdn.bokeh.org/bokeh/release/bokeh-2.3.3.min.js\", \"https://cdn.bokeh.org/bokeh/release/bokeh-widgets-2.3.3.min.js\", \"https://cdn.bokeh.org/bokeh/release/bokeh-tables-2.3.3.min.js\"];\n",
       "  var css_urls = [];\n",
       "  \n",
       "\n",
       "  var inline_js = [\n",
       "    function(Bokeh) {\n",
       "      Bokeh.set_log_level(\"info\");\n",
       "    },\n",
       "    function(Bokeh) {\n",
       "    \n",
       "    \n",
       "    }\n",
       "  ];\n",
       "\n",
       "  function run_inline_js() {\n",
       "    \n",
       "    if (root.Bokeh !== undefined || force === true) {\n",
       "      \n",
       "    for (var i = 0; i < inline_js.length; i++) {\n",
       "      inline_js[i].call(root, root.Bokeh);\n",
       "    }\n",
       "    if (force === true) {\n",
       "        display_loaded();\n",
       "      }} else if (Date.now() < root._bokeh_timeout) {\n",
       "      setTimeout(run_inline_js, 100);\n",
       "    } else if (!root._bokeh_failed_load) {\n",
       "      console.log(\"Bokeh: BokehJS failed to load within specified timeout.\");\n",
       "      root._bokeh_failed_load = true;\n",
       "    } else if (force !== true) {\n",
       "      var cell = $(document.getElementById(\"1002\")).parents('.cell').data().cell;\n",
       "      cell.output_area.append_execute_result(NB_LOAD_WARNING)\n",
       "    }\n",
       "\n",
       "  }\n",
       "\n",
       "  if (root._bokeh_is_loading === 0) {\n",
       "    console.debug(\"Bokeh: BokehJS loaded, going straight to plotting\");\n",
       "    run_inline_js();\n",
       "  } else {\n",
       "    load_libs(css_urls, js_urls, function() {\n",
       "      console.debug(\"Bokeh: BokehJS plotting callback run at\", now());\n",
       "      run_inline_js();\n",
       "    });\n",
       "  }\n",
       "}(window));"
      ],
      "application/vnd.bokehjs_load.v0+json": "\n(function(root) {\n  function now() {\n    return new Date();\n  }\n\n  var force = true;\n\n  if (typeof root._bokeh_onload_callbacks === \"undefined\" || force === true) {\n    root._bokeh_onload_callbacks = [];\n    root._bokeh_is_loading = undefined;\n  }\n\n  \n\n  \n  if (typeof (root._bokeh_timeout) === \"undefined\" || force === true) {\n    root._bokeh_timeout = Date.now() + 5000;\n    root._bokeh_failed_load = false;\n  }\n\n  var NB_LOAD_WARNING = {'data': {'text/html':\n     \"<div style='background-color: #fdd'>\\n\"+\n     \"<p>\\n\"+\n     \"BokehJS does not appear to have successfully loaded. If loading BokehJS from CDN, this \\n\"+\n     \"may be due to a slow or bad network connection. Possible fixes:\\n\"+\n     \"</p>\\n\"+\n     \"<ul>\\n\"+\n     \"<li>re-rerun `output_notebook()` to attempt to load from CDN again, or</li>\\n\"+\n     \"<li>use INLINE resources instead, as so:</li>\\n\"+\n     \"</ul>\\n\"+\n     \"<code>\\n\"+\n     \"from bokeh.resources import INLINE\\n\"+\n     \"output_notebook(resources=INLINE)\\n\"+\n     \"</code>\\n\"+\n     \"</div>\"}};\n\n  function display_loaded() {\n    var el = document.getElementById(\"1002\");\n    if (el != null) {\n      el.textContent = \"BokehJS is loading...\";\n    }\n    if (root.Bokeh !== undefined) {\n      if (el != null) {\n        el.textContent = \"BokehJS \" + root.Bokeh.version + \" successfully loaded.\";\n      }\n    } else if (Date.now() < root._bokeh_timeout) {\n      setTimeout(display_loaded, 100)\n    }\n  }\n\n\n  function run_callbacks() {\n    try {\n      root._bokeh_onload_callbacks.forEach(function(callback) {\n        if (callback != null)\n          callback();\n      });\n    } finally {\n      delete root._bokeh_onload_callbacks\n    }\n    console.debug(\"Bokeh: all callbacks have finished\");\n  }\n\n  function load_libs(css_urls, js_urls, callback) {\n    if (css_urls == null) css_urls = [];\n    if (js_urls == null) js_urls = [];\n\n    root._bokeh_onload_callbacks.push(callback);\n    if (root._bokeh_is_loading > 0) {\n      console.debug(\"Bokeh: BokehJS is being loaded, scheduling callback at\", now());\n      return null;\n    }\n    if (js_urls == null || js_urls.length === 0) {\n      run_callbacks();\n      return null;\n    }\n    console.debug(\"Bokeh: BokehJS not loaded, scheduling load and callback at\", now());\n    root._bokeh_is_loading = css_urls.length + js_urls.length;\n\n    function on_load() {\n      root._bokeh_is_loading--;\n      if (root._bokeh_is_loading === 0) {\n        console.debug(\"Bokeh: all BokehJS libraries/stylesheets loaded\");\n        run_callbacks()\n      }\n    }\n\n    function on_error(url) {\n      console.error(\"failed to load \" + url);\n    }\n\n    for (let i = 0; i < css_urls.length; i++) {\n      const url = css_urls[i];\n      const element = document.createElement(\"link\");\n      element.onload = on_load;\n      element.onerror = on_error.bind(null, url);\n      element.rel = \"stylesheet\";\n      element.type = \"text/css\";\n      element.href = url;\n      console.debug(\"Bokeh: injecting link tag for BokehJS stylesheet: \", url);\n      document.body.appendChild(element);\n    }\n\n    const hashes = {\"https://cdn.bokeh.org/bokeh/release/bokeh-2.3.3.min.js\": \"dM3QQsP+wXdHg42wTqW85BjZQdLNNIXqlPw/BgKoExPmTG7ZLML4EGqLMfqHT6ON\", \"https://cdn.bokeh.org/bokeh/release/bokeh-tables-2.3.3.min.js\": \"8x57I4YuIfu8XyZfFo0XVr2WAT8EK4rh/uDe3wF7YuW2FNUSNEpJbsPaB1nJ2fz2\", \"https://cdn.bokeh.org/bokeh/release/bokeh-widgets-2.3.3.min.js\": \"3QTqdz9LyAm2i0sG5XTePsHec3UHWwVsrOL68SYRoAXsafvfAyqtQ+h440+qIBhS\"};\n\n    for (let i = 0; i < js_urls.length; i++) {\n      const url = js_urls[i];\n      const element = document.createElement('script');\n      element.onload = on_load;\n      element.onerror = on_error.bind(null, url);\n      element.async = false;\n      element.src = url;\n      if (url in hashes) {\n        element.crossOrigin = \"anonymous\";\n        element.integrity = \"sha384-\" + hashes[url];\n      }\n      console.debug(\"Bokeh: injecting script tag for BokehJS library: \", url);\n      document.head.appendChild(element);\n    }\n  };\n\n  function inject_raw_css(css) {\n    const element = document.createElement(\"style\");\n    element.appendChild(document.createTextNode(css));\n    document.body.appendChild(element);\n  }\n\n  \n  var js_urls = [\"https://cdn.bokeh.org/bokeh/release/bokeh-2.3.3.min.js\", \"https://cdn.bokeh.org/bokeh/release/bokeh-widgets-2.3.3.min.js\", \"https://cdn.bokeh.org/bokeh/release/bokeh-tables-2.3.3.min.js\"];\n  var css_urls = [];\n  \n\n  var inline_js = [\n    function(Bokeh) {\n      Bokeh.set_log_level(\"info\");\n    },\n    function(Bokeh) {\n    \n    \n    }\n  ];\n\n  function run_inline_js() {\n    \n    if (root.Bokeh !== undefined || force === true) {\n      \n    for (var i = 0; i < inline_js.length; i++) {\n      inline_js[i].call(root, root.Bokeh);\n    }\n    if (force === true) {\n        display_loaded();\n      }} else if (Date.now() < root._bokeh_timeout) {\n      setTimeout(run_inline_js, 100);\n    } else if (!root._bokeh_failed_load) {\n      console.log(\"Bokeh: BokehJS failed to load within specified timeout.\");\n      root._bokeh_failed_load = true;\n    } else if (force !== true) {\n      var cell = $(document.getElementById(\"1002\")).parents('.cell').data().cell;\n      cell.output_area.append_execute_result(NB_LOAD_WARNING)\n    }\n\n  }\n\n  if (root._bokeh_is_loading === 0) {\n    console.debug(\"Bokeh: BokehJS loaded, going straight to plotting\");\n    run_inline_js();\n  } else {\n    load_libs(css_urls, js_urls, function() {\n      console.debug(\"Bokeh: BokehJS plotting callback run at\", now());\n      run_inline_js();\n    });\n  }\n}(window));"
     },
     "metadata": {},
     "output_type": "display_data"
    }
   ],
   "source": [
    "output_notebook()"
   ]
  },
  {
   "cell_type": "markdown",
   "id": "5905c7a8-058f-4ae6-a11d-5c9f47f57bd4",
   "metadata": {},
   "source": [
    "### Step 1: Get the edge list for the sample graph."
   ]
  },
  {
   "cell_type": "code",
   "execution_count": 4,
   "id": "47c1e5e1",
   "metadata": {
    "ExecuteTime": {
     "end_time": "2021-10-22T15:18:56.749265Z",
     "start_time": "2021-10-22T15:18:56.743778Z"
    }
   },
   "outputs": [],
   "source": [
    "colNames = [\"from\", \"to\"]\n",
    "links = [\n",
    "    (0, 1),\n",
    "    (0, 2),\n",
    "    (0, 3),\n",
    "    (0, 4),\n",
    "    (0, 5),\n",
    "    (0, 6),\n",
    "    (1, 2),\n",
    "    (1, 3),\n",
    "    (1, 4),\n",
    "    (2, 3),\n",
    "    (2, 4),\n",
    "    (2, 5),\n",
    "    (2, 6),\n",
    "    (2, 7),\n",
    "    (2, 8),\n",
    "    (3, 4),\n",
    "    (5, 6),\n",
    "    (7, 8),\n",
    "    (8, 9),\n",
    "]\n",
    "\n",
    "dfLinkSetIn = pd.DataFrame(links, columns=colNames)"
   ]
  },
  {
   "cell_type": "code",
   "execution_count": 5,
   "id": "76cedb1d",
   "metadata": {
    "ExecuteTime": {
     "end_time": "2021-10-22T15:18:57.951248Z",
     "start_time": "2021-10-22T15:18:57.947782Z"
    }
   },
   "outputs": [],
   "source": [
    "G = nx.from_pandas_edgelist(dfLinkSetIn, 'from', 'to')"
   ]
  },
  {
   "cell_type": "markdown",
   "id": "0af08963-bb05-4d7a-9ca2-8962cdd8b539",
   "metadata": {},
   "source": [
    "Let's see what the graph looks like before we start looking for cliques."
   ]
  },
  {
   "cell_type": "code",
   "execution_count": 6,
   "id": "3755144a",
   "metadata": {
    "ExecuteTime": {
     "end_time": "2021-10-22T15:18:59.824655Z",
     "start_time": "2021-10-22T15:18:59.772567Z"
    }
   },
   "outputs": [
    {
     "data": {
      "text/html": [
       "\n",
       "\n",
       "\n",
       "\n",
       "\n",
       "\n",
       "  <div class=\"bk-root\" id=\"cd869e8a-8e19-48ce-bbca-e2dfa8b6a33b\" data-root-id=\"1004\"></div>\n"
      ]
     },
     "metadata": {},
     "output_type": "display_data"
    },
    {
     "data": {
      "application/javascript": [
       "(function(root) {\n",
       "  function embed_document(root) {\n",
       "    \n",
       "  var docs_json = {\"84438373-67bd-4e04-888b-9542eb86ccdc\":{\"defs\":[],\"roots\":{\"references\":[{\"attributes\":{\"renderers\":[{\"id\":\"1007\"},{\"id\":\"1042\"}],\"title\":\"Sample Graph Used for Maximal Clique Detection\",\"toolbar\":{\"id\":\"1040\"},\"x_range\":{\"id\":\"1003\"},\"x_scale\":{\"id\":\"1045\"},\"y_range\":{\"id\":\"1047\"},\"y_scale\":{\"id\":\"1046\"}},\"id\":\"1004\",\"type\":\"Plot\"},{\"attributes\":{},\"id\":\"1048\",\"type\":\"NodesOnly\"},{\"attributes\":{\"line_color\":{\"value\":\"#abdda4\"},\"line_width\":{\"value\":4}},\"id\":\"1032\",\"type\":\"MultiLine\"},{\"attributes\":{\"background_fill_color\":{\"value\":\"#f7fbff\"},\"source\":{\"id\":\"1041\"},\"text\":{\"field\":\"name\"},\"text_font_size\":{\"value\":\"13px\"},\"x\":{\"field\":\"x\"},\"x_offset\":{\"value\":-5},\"y\":{\"field\":\"y\"},\"y_offset\":{\"value\":-5}},\"id\":\"1042\",\"type\":\"LabelSet\"},{\"attributes\":{},\"id\":\"1057\",\"type\":\"UnionRenderers\"},{\"attributes\":{},\"id\":\"1059\",\"type\":\"UnionRenderers\"},{\"attributes\":{},\"id\":\"1037\",\"type\":\"NodesAndLinkedEdges\"},{\"attributes\":{},\"id\":\"1060\",\"type\":\"Selection\"},{\"attributes\":{\"end\":10.1,\"start\":-10.1},\"id\":\"1003\",\"type\":\"Range1d\"},{\"attributes\":{\"callback\":null,\"tooltips\":[[\"Node\",\"@index\"]]},\"id\":\"1039\",\"type\":\"HoverTool\"},{\"attributes\":{\"data\":{\"index\":[0,1,2,3,4,5,6,7,8,9]},\"selected\":{\"id\":\"1062\"},\"selection_policy\":{\"id\":\"1061\"}},\"id\":\"1009\",\"type\":\"ColumnDataSource\"},{\"attributes\":{},\"id\":\"1046\",\"type\":\"LinearScale\"},{\"attributes\":{\"source\":{\"id\":\"1013\"}},\"id\":\"1015\",\"type\":\"CDSView\"},{\"attributes\":{\"line_alpha\":{\"value\":0.5},\"line_width\":{\"value\":2}},\"id\":\"1022\",\"type\":\"MultiLine\"},{\"attributes\":{},\"id\":\"1045\",\"type\":\"LinearScale\"},{\"attributes\":{\"active_multi\":null,\"tools\":[{\"id\":\"1039\"}]},\"id\":\"1040\",\"type\":\"Toolbar\"},{\"attributes\":{},\"id\":\"1058\",\"type\":\"Selection\"},{\"attributes\":{\"edge_renderer\":{\"id\":\"1014\"},\"inspection_policy\":{\"id\":\"1037\"},\"layout_provider\":{\"id\":\"1016\"},\"node_renderer\":{\"id\":\"1010\"},\"selection_policy\":{\"id\":\"1048\"}},\"id\":\"1007\",\"type\":\"GraphRenderer\"},{\"attributes\":{\"fill_color\":{\"value\":\"#f7fbff\"},\"size\":{\"value\":25}},\"id\":\"1017\",\"type\":\"Circle\"},{\"attributes\":{\"data_source\":{\"id\":\"1013\"},\"glyph\":{\"id\":\"1022\"},\"hover_glyph\":{\"id\":\"1032\"},\"muted_glyph\":null,\"view\":{\"id\":\"1015\"}},\"id\":\"1014\",\"type\":\"GlyphRenderer\"},{\"attributes\":{},\"id\":\"1061\",\"type\":\"UnionRenderers\"},{\"attributes\":{},\"id\":\"1047\",\"type\":\"DataRange1d\"},{\"attributes\":{},\"id\":\"1062\",\"type\":\"Selection\"},{\"attributes\":{\"data_source\":{\"id\":\"1009\"},\"glyph\":{\"id\":\"1017\"},\"hover_glyph\":{\"id\":\"1027\"},\"muted_glyph\":null,\"view\":{\"id\":\"1011\"}},\"id\":\"1010\",\"type\":\"GlyphRenderer\"},{\"attributes\":{\"source\":{\"id\":\"1009\"}},\"id\":\"1011\",\"type\":\"CDSView\"},{\"attributes\":{\"graph_layout\":{\"0\":[5.025110883829013,2.106035551009846],\"1\":[7.381914236978649,0.6574120505094389],\"2\":[2.392591227715627,0.18869162933392528],\"3\":[6.828799998119717,-1.7014873572113585],\"4\":[5.143954368150991,-1.0642170755007134],\"5\":[3.801270500767021,5.037697601957711],\"6\":[1.585805662128429,4.185004643665932],\"7\":[-0.7321152140170328,-3.3988769156785366],\"8\":[-3.4273316636724216,-2.190272107333343],\"9\":[-8.0,-3.819988020752905]}},\"id\":\"1016\",\"type\":\"StaticLayoutProvider\"},{\"attributes\":{\"fill_color\":{\"value\":\"#abdda4\"},\"size\":{\"value\":25}},\"id\":\"1027\",\"type\":\"Circle\"},{\"attributes\":{\"data\":{\"name\":[0,1,2,3,4,5,6,7,8,9],\"x\":[5.025110883829013,7.381914236978649,2.392591227715627,6.828799998119717,5.143954368150991,3.801270500767021,1.585805662128429,-0.7321152140170328,-3.4273316636724216,-8.0],\"y\":[2.106035551009846,0.6574120505094389,0.18869162933392528,-1.7014873572113585,-1.0642170755007134,5.037697601957711,4.185004643665932,-3.3988769156785366,-2.190272107333343,-3.819988020752905]},\"selected\":{\"id\":\"1058\"},\"selection_policy\":{\"id\":\"1057\"}},\"id\":\"1041\",\"type\":\"ColumnDataSource\"},{\"attributes\":{\"data\":{\"end\":[1,2,3,4,5,6,2,3,4,3,4,5,6,7,8,4,6,8,9],\"start\":[0,0,0,0,0,0,1,1,1,2,2,2,2,2,2,3,5,7,8]},\"selected\":{\"id\":\"1060\"},\"selection_policy\":{\"id\":\"1059\"}},\"id\":\"1013\",\"type\":\"ColumnDataSource\"}],\"root_ids\":[\"1004\"]},\"title\":\"Bokeh Application\",\"version\":\"2.3.3\"}};\n",
       "  var render_items = [{\"docid\":\"84438373-67bd-4e04-888b-9542eb86ccdc\",\"root_ids\":[\"1004\"],\"roots\":{\"1004\":\"cd869e8a-8e19-48ce-bbca-e2dfa8b6a33b\"}}];\n",
       "  root.Bokeh.embed.embed_items_notebook(docs_json, render_items);\n",
       "\n",
       "  }\n",
       "  if (root.Bokeh !== undefined) {\n",
       "    embed_document(root);\n",
       "  } else {\n",
       "    var attempts = 0;\n",
       "    var timer = setInterval(function(root) {\n",
       "      if (root.Bokeh !== undefined) {\n",
       "        clearInterval(timer);\n",
       "        embed_document(root);\n",
       "      } else {\n",
       "        attempts++;\n",
       "        if (attempts > 100) {\n",
       "          clearInterval(timer);\n",
       "          console.log(\"Bokeh: ERROR: Unable to run BokehJS code because BokehJS library is missing\");\n",
       "        }\n",
       "      }\n",
       "    }, 10, root)\n",
       "  }\n",
       "})(window);"
      ],
      "application/vnd.bokehjs_exec.v0+json": ""
     },
     "metadata": {
      "application/vnd.bokehjs_exec.v0+json": {
       "id": "1004"
      }
     },
     "output_type": "display_data"
    }
   ],
   "source": [
    "# Choose a title\n",
    "title = 'Sample Graph Used for Maximal Clique Detection'\n",
    "\n",
    "# Define the label for the nodes.\n",
    "hover = [(\"Node\", \"@index\")]\n",
    "\n",
    "# How big are the nodes?\n",
    "nodeSize = 25\n",
    "\n",
    "# send to the utility function to generate the plot.\n",
    "plot = render_plot(G, title, hover, nodeSize)\n",
    "\n",
    "# display the graph\n",
    "show(plot)"
   ]
  },
  {
   "cell_type": "markdown",
   "id": "0843cd5b-4ec8-4ecd-ad35-73d279423b61",
   "metadata": {},
   "source": [
    "### Step 2: Connect to CAS, load the actionsets we'll need, and upload our graph to the CAS server."
   ]
  },
  {
   "cell_type": "code",
   "execution_count": 7,
   "id": "44f577bf",
   "metadata": {
    "ExecuteTime": {
     "end_time": "2021-10-22T15:20:42.440297Z",
     "start_time": "2021-10-22T15:20:42.174305Z"
    }
   },
   "outputs": [
    {
     "ename": "MissingSectionHeaderError",
     "evalue": "File contains no section headers.\nfile: '../../../common/conf/environment.txt', line: 1\n'CAS_SERVER_HOST=orgrd061.unx.sas.com\\n'",
     "output_type": "error",
     "traceback": [
      "\u001b[0;31m---------------------------------------------------------------------------\u001b[0m",
      "\u001b[0;31mMissingSectionHeaderError\u001b[0m                 Traceback (most recent call last)",
      "\u001b[0;32m/var/folders/hg/lt_w9byx3cd2hd07bpfnmxkm0000gn/T/ipykernel_76210/2715555182.py\u001b[0m in \u001b[0;36m<module>\u001b[0;34m\u001b[0m\n\u001b[1;32m      1\u001b[0m \u001b[0mconfig\u001b[0m \u001b[0;34m=\u001b[0m \u001b[0mconfigparser\u001b[0m\u001b[0;34m.\u001b[0m\u001b[0mConfigParser\u001b[0m\u001b[0;34m(\u001b[0m\u001b[0;34m)\u001b[0m\u001b[0;34m\u001b[0m\u001b[0;34m\u001b[0m\u001b[0m\n\u001b[0;32m----> 2\u001b[0;31m \u001b[0mconfig\u001b[0m\u001b[0;34m.\u001b[0m\u001b[0mread\u001b[0m\u001b[0;34m(\u001b[0m\u001b[0;34m'../../../common/conf/environment.txt'\u001b[0m\u001b[0;34m)\u001b[0m\u001b[0;34m\u001b[0m\u001b[0;34m\u001b[0m\u001b[0m\n\u001b[0m\u001b[1;32m      3\u001b[0m \u001b[0;34m\u001b[0m\u001b[0m\n\u001b[1;32m      4\u001b[0m \u001b[0mhost\u001b[0m \u001b[0;34m=\u001b[0m \u001b[0mconfig\u001b[0m\u001b[0;34m[\u001b[0m\u001b[0;34m'HOST_NAME'\u001b[0m\u001b[0;34m]\u001b[0m\u001b[0;34m\u001b[0m\u001b[0;34m\u001b[0m\u001b[0m\n\u001b[1;32m      5\u001b[0m \u001b[0mport\u001b[0m \u001b[0;34m=\u001b[0m \u001b[0mint\u001b[0m\u001b[0;34m(\u001b[0m\u001b[0mconfig\u001b[0m\u001b[0;34m[\u001b[0m\u001b[0;34m'HOST_PORT'\u001b[0m\u001b[0;34m]\u001b[0m\u001b[0;34m)\u001b[0m\u001b[0;34m\u001b[0m\u001b[0;34m\u001b[0m\u001b[0m\n",
      "\u001b[0;32m~/.pyenv/versions/3.8.12/lib/python3.8/configparser.py\u001b[0m in \u001b[0;36mread\u001b[0;34m(self, filenames, encoding)\u001b[0m\n\u001b[1;32m    695\u001b[0m             \u001b[0;32mtry\u001b[0m\u001b[0;34m:\u001b[0m\u001b[0;34m\u001b[0m\u001b[0;34m\u001b[0m\u001b[0m\n\u001b[1;32m    696\u001b[0m                 \u001b[0;32mwith\u001b[0m \u001b[0mopen\u001b[0m\u001b[0;34m(\u001b[0m\u001b[0mfilename\u001b[0m\u001b[0;34m,\u001b[0m \u001b[0mencoding\u001b[0m\u001b[0;34m=\u001b[0m\u001b[0mencoding\u001b[0m\u001b[0;34m)\u001b[0m \u001b[0;32mas\u001b[0m \u001b[0mfp\u001b[0m\u001b[0;34m:\u001b[0m\u001b[0;34m\u001b[0m\u001b[0;34m\u001b[0m\u001b[0m\n\u001b[0;32m--> 697\u001b[0;31m                     \u001b[0mself\u001b[0m\u001b[0;34m.\u001b[0m\u001b[0m_read\u001b[0m\u001b[0;34m(\u001b[0m\u001b[0mfp\u001b[0m\u001b[0;34m,\u001b[0m \u001b[0mfilename\u001b[0m\u001b[0;34m)\u001b[0m\u001b[0;34m\u001b[0m\u001b[0;34m\u001b[0m\u001b[0m\n\u001b[0m\u001b[1;32m    698\u001b[0m             \u001b[0;32mexcept\u001b[0m \u001b[0mOSError\u001b[0m\u001b[0;34m:\u001b[0m\u001b[0;34m\u001b[0m\u001b[0;34m\u001b[0m\u001b[0m\n\u001b[1;32m    699\u001b[0m                 \u001b[0;32mcontinue\u001b[0m\u001b[0;34m\u001b[0m\u001b[0;34m\u001b[0m\u001b[0m\n",
      "\u001b[0;32m~/.pyenv/versions/3.8.12/lib/python3.8/configparser.py\u001b[0m in \u001b[0;36m_read\u001b[0;34m(self, fp, fpname)\u001b[0m\n\u001b[1;32m   1080\u001b[0m                 \u001b[0;31m# no section header in the file?\u001b[0m\u001b[0;34m\u001b[0m\u001b[0;34m\u001b[0m\u001b[0;34m\u001b[0m\u001b[0m\n\u001b[1;32m   1081\u001b[0m                 \u001b[0;32melif\u001b[0m \u001b[0mcursect\u001b[0m \u001b[0;32mis\u001b[0m \u001b[0;32mNone\u001b[0m\u001b[0;34m:\u001b[0m\u001b[0;34m\u001b[0m\u001b[0;34m\u001b[0m\u001b[0m\n\u001b[0;32m-> 1082\u001b[0;31m                     \u001b[0;32mraise\u001b[0m \u001b[0mMissingSectionHeaderError\u001b[0m\u001b[0;34m(\u001b[0m\u001b[0mfpname\u001b[0m\u001b[0;34m,\u001b[0m \u001b[0mlineno\u001b[0m\u001b[0;34m,\u001b[0m \u001b[0mline\u001b[0m\u001b[0;34m)\u001b[0m\u001b[0;34m\u001b[0m\u001b[0;34m\u001b[0m\u001b[0m\n\u001b[0m\u001b[1;32m   1083\u001b[0m                 \u001b[0;31m# an option line?\u001b[0m\u001b[0;34m\u001b[0m\u001b[0;34m\u001b[0m\u001b[0;34m\u001b[0m\u001b[0m\n\u001b[1;32m   1084\u001b[0m                 \u001b[0;32melse\u001b[0m\u001b[0;34m:\u001b[0m\u001b[0;34m\u001b[0m\u001b[0;34m\u001b[0m\u001b[0m\n",
      "\u001b[0;31mMissingSectionHeaderError\u001b[0m: File contains no section headers.\nfile: '../../../common/conf/environment.txt', line: 1\n'CAS_SERVER_HOST=orgrd061.unx.sas.com\\n'"
     ]
    }
   ],
   "source": [
    "host = os.environ['CAS_HOST_ORGRD']\n",
    "port = int(os.environ['CAS_PORT'])\n",
    "print(f\"{host}:{port}\")"
   ]
  },
  {
   "cell_type": "code",
   "execution_count": null,
   "id": "c7fb02c3-e5e1-448b-adfb-59bf877081fd",
   "metadata": {
    "ExecuteTime": {
     "end_time": "2021-10-22T15:13:53.347915Z",
     "start_time": "2021-10-22T15:13:37.889630Z"
    }
   },
   "outputs": [],
   "source": [
    "# Connect to the server\n",
    "conn = swat.CAS(host, port)\n",
    "\n",
    "# Load the actionsets we need\n",
    "_ = conn.loadactionset('network')\n",
    "_ = conn.loadactionset('fedsql')"
   ]
  },
  {
   "cell_type": "markdown",
   "id": "99a1afc3-69e0-4918-8c65-cb00c84f4dc7",
   "metadata": {},
   "source": [
    "Before we load the data, we should verify which caslib is active. Since we just connected and have not specified, the active library should map to our user ID.\n",
    "\n",
    "Only one caslib can be active at a time. As long as we are happy with the active caslib, we do not need to reference the caslib in subsequent calls to CAS through `swat` methods. Note that this is slightly different from the corrresponding CASL calls we reference."
   ]
  },
  {
   "cell_type": "code",
   "execution_count": null,
   "id": "c160e339-3db9-4711-bdea-436a261a3c0a",
   "metadata": {
    "ExecuteTime": {
     "end_time": "2021-10-22T15:13:53.579440Z",
     "start_time": "2021-10-22T15:13:53.351172Z"
    }
   },
   "outputs": [],
   "source": [
    "conn.getsessopt('caslib')"
   ]
  },
  {
   "cell_type": "code",
   "execution_count": null,
   "id": "291db96a",
   "metadata": {
    "ExecuteTime": {
     "end_time": "2021-10-22T15:13:53.676310Z",
     "start_time": "2021-10-22T15:13:53.582078Z"
    }
   },
   "outputs": [],
   "source": [
    "# Upload the local data into CAS.\n",
    "_ = conn.upload(dfLinkSetIn, casout=dict(name='LinkSetIn'))"
   ]
  },
  {
   "cell_type": "markdown",
   "id": "f08a0217-cd8d-4166-93a1-aa71363de472",
   "metadata": {},
   "source": [
    "### Step 3: Calculate the maximal cliques in our graph using the `network` actionset."
   ]
  },
  {
   "cell_type": "markdown",
   "id": "09206df6-a2ce-4907-b00e-4647996d0b1b",
   "metadata": {},
   "source": [
    "Since we've loaded our actionset, we can reference it using dot notation from our `connection` object.\n",
    "\n",
    "Note that the Python code below is equivalent to this block of CASL:\n",
    "```\n",
    "proc network\n",
    "   links         = mycas.LinkSetIn\n",
    "   outNodes      = mycas.NodeSetOut;\n",
    "   clique\n",
    "      out        = mycas.Cliques\n",
    "      maxCliques = all;\n",
    "run;\n",
    "```"
   ]
  },
  {
   "cell_type": "code",
   "execution_count": null,
   "id": "830a289b",
   "metadata": {
    "ExecuteTime": {
     "end_time": "2021-10-22T15:13:59.270856Z",
     "start_time": "2021-10-22T15:13:59.059810Z"
    },
    "tags": []
   },
   "outputs": [],
   "source": [
    "conn.network.clique(links=dict(name='LinkSetIn'),\n",
    "                    outnodes=dict(name='nodeSetOut'), \n",
    "                    out=dict(name='cliques',), \n",
    "                    maxcliques='ALL')"
   ]
  },
  {
   "cell_type": "markdown",
   "id": "0e71e26b-6b51-41ca-82a2-17e638c4c604",
   "metadata": {},
   "source": [
    "### Step 4: Gather the results from CAS and prepare the data for plotting."
   ]
  },
  {
   "cell_type": "markdown",
   "id": "30eefd14-77cc-431a-a087-a8c2c08da053",
   "metadata": {},
   "source": [
    "Initially, we want to get a summary count of the cliques. Since the `clique` action doesn't provide a summary of total cliques, and nodes associated with each, so we use a simple `fedsql` groupby call to generate that table."
   ]
  },
  {
   "cell_type": "code",
   "execution_count": null,
   "id": "cb2dfd28",
   "metadata": {
    "ExecuteTime": {
     "end_time": "2021-10-22T15:14:18.953016Z",
     "start_time": "2021-10-22T15:14:18.456899Z"
    }
   },
   "outputs": [],
   "source": [
    "conn.fedsql.execdirect(query=\"create table cliqueSizes as select clique, count(*) from cliques group by clique\")"
   ]
  },
  {
   "cell_type": "markdown",
   "id": "e072d45a-2a75-4562-8fef-91b2891ef96d",
   "metadata": {},
   "source": [
    "If we want to see the contents of that table, we simply use the `fetch` action provided by `swat` to pull data locally and display in our notebook.\n",
    "\n",
    "The output table confirms that the `network.clique` action found four cliques in our graph."
   ]
  },
  {
   "cell_type": "code",
   "execution_count": null,
   "id": "81be775d",
   "metadata": {
    "ExecuteTime": {
     "end_time": "2021-10-22T15:14:24.563286Z",
     "start_time": "2021-10-22T15:14:21.324793Z"
    },
    "tags": []
   },
   "outputs": [],
   "source": [
    "conn.fetch(table=dict(name='cliqueSizes'), \n",
    "           sortby=[{'name':'clique', \n",
    "                    'order':'ascending'}\n",
    "                  ]\n",
    "          )"
   ]
  },
  {
   "cell_type": "markdown",
   "id": "dfc43a20",
   "metadata": {},
   "source": [
    "CAS has calculated all of the information we need, so let's get anything remote back down to our local machine.\n",
    "\n",
    "Once we have it all we can prepare our plots.\n",
    "\n",
    "Our end product is a 2x2 grid of network plots, each one highlighting a particular clique. We have the following tables in CAS:\n",
    "\n",
    "| Table | Description |\n",
    "|-------|-------------|\n",
    "| `LinkSetIn` | The initial link set that defines our graph. |\n",
    "| `NodeSetOut` | A simple table of nodes. |\n",
    "| `cliques` | A results table that highlights which nodes belong to which cliques. Note this only shows nodes the __belong__ to a clique; nodes outside the clique are not shown |\n",
    "| `cliqueSizes` | The summary table that shows the count of nodes in a particular clique. Useful to get a list of total cliques. |\n",
    "\n",
    "For this exercise, we will use the `networkx` `Graph` that we created earlier. Thus we do not need the `LinkSetIn` or `NodeSetOut` tables.\n",
    "\n",
    "We need to fetch the `cliques` and `cliqueSizes` tables from CAS, and we'll manipulate them so we can add both clique membership and preferred coloring as node attributes to our graph.\n",
    "\n",
    "We fetch the `nodeSetOut` table and convert it to a list of nodes for simplicity.\n",
    "\n",
    "All of this will be used to create mapping dictionaries with node as a key, and the value represents an attribute. Once the mapping dictionaries are ready they are easily added to our `Graph` with the `set_node_attributes` method."
   ]
  },
  {
   "cell_type": "markdown",
   "id": "e3d8fb5c-0c20-4d7e-9739-7f4e4e951c49",
   "metadata": {},
   "source": [
    "----------------------------\n",
    "`clique_count` : We need the clique count list later when we iterate over cliques to highlight each clique in a separate plot. Let's generate this list by making a `CASTable` object, that we then convert to a dictionary. That dictionary has two keys: `clique` and `COUNT`; our list is the keys in the `clique` dictionary."
   ]
  },
  {
   "cell_type": "code",
   "execution_count": null,
   "id": "020fe29e",
   "metadata": {
    "ExecuteTime": {
     "end_time": "2021-10-22T15:14:36.369565Z",
     "start_time": "2021-10-22T15:14:31.945268Z"
    }
   },
   "outputs": [],
   "source": [
    "clique_count = list(conn.CASTable('cliqueSizes').to_dict()['clique'].keys())"
   ]
  },
  {
   "cell_type": "markdown",
   "id": "40018aab-b007-437f-8709-76713a03aedb",
   "metadata": {},
   "source": [
    "`clique_list`: Now we do the same for the clique list, but we orient the resulting dictionary as `records` per Pandas. This gives us a JSON-like list of dictionaries. This list will then be used later to create our mapping dictionaries."
   ]
  },
  {
   "cell_type": "code",
   "execution_count": null,
   "id": "5297fc86",
   "metadata": {
    "ExecuteTime": {
     "end_time": "2021-10-22T15:14:38.216698Z",
     "start_time": "2021-10-22T15:14:38.108794Z"
    }
   },
   "outputs": [],
   "source": [
    "clique_list = conn.CASTable('cliques').to_dict(orient='records')"
   ]
  },
  {
   "cell_type": "markdown",
   "id": "30843201-0b92-4fff-b353-244475c0ceae",
   "metadata": {},
   "source": [
    "### Step 5: Create base maps used to guide the individual plot generation.\n",
    "\n",
    "We'll leverage a few Python conveniences over the next few cells - particularly comprehensions and easy list creation.\n",
    "\n",
    "The results are:\n",
    "`clique_map`: a dictionary keyed by node label, with all `False` values.\n",
    "`highlight_map`: a dictionary keyed by node label, with the lightest color in the `Blues8` palette.\n",
    "\n",
    "When we are creating the attributes for a given clique, member nodes will be assigned `True` in the `clique_map`, and a darker color from the `Blues8` palette."
   ]
  },
  {
   "cell_type": "code",
   "execution_count": null,
   "id": "ac35a932-e0a6-467c-b1b3-32f71a1211c2",
   "metadata": {
    "ExecuteTime": {
     "end_time": "2021-10-22T15:14:46.272054Z",
     "start_time": "2021-10-22T15:14:46.020909Z"
    }
   },
   "outputs": [],
   "source": [
    "node_list = [int(x) for x in list(conn.CASTable('nodeSetOut')['node'])]\n",
    "base_clique = [False]*len(node_list)\n",
    "base_highlight = [Blues8[-1]]*len(node_list)\n",
    "\n",
    "clique_map = dict(zip(node_list, base_clique))\n",
    "highlight_map = dict(zip(node_list, base_highlight))"
   ]
  },
  {
   "cell_type": "markdown",
   "id": "d6dc4742-d97b-4cbd-923a-9e1e1341fad7",
   "metadata": {},
   "source": [
    "### Step 6: Assemble and Display the Plots\n",
    "\n",
    "We iterate over clique count, assigning attributes to the network that guide hover labeling and node shading."
   ]
  },
  {
   "cell_type": "code",
   "execution_count": null,
   "id": "8aa04b7a",
   "metadata": {
    "ExecuteTime": {
     "end_time": "2021-10-22T15:14:53.095690Z",
     "start_time": "2021-10-22T15:14:52.939362Z"
    }
   },
   "outputs": [],
   "source": [
    "# node size should be common over all plots.\n",
    "nodeSize = 40\n",
    "\n",
    "# initialize our plot container.\n",
    "plot_list = []\n",
    "\n",
    "# iterate over each of the cliques, and highlight (darken) the clique\n",
    "for i in clique_count:\n",
    "    # create a list of only the nodes that are members of the clique.\n",
    "    subnode_list = [item['node'] for item in clique_list if item['clique'] == i]\n",
    "    # create a clique and highlight map\n",
    "    this_clique_map = {k:True if k in subnode_list else v for k,v in clique_map.items()}\n",
    "    this_highlight_map = {k:Blues8[-4] if k in subnode_list else v for k,v in highlight_map.items()}\n",
    "    # set our node attributes.\n",
    "    nx.set_node_attributes(G, this_highlight_map, 'highlight')\n",
    "    nx.set_node_attributes(G, this_clique_map, 'clique')\n",
    "    # set the title and hover plot values.\n",
    "    title = f\"Clique {i}\"\n",
    "    hover = [(\"Node\", \"@index\"), (\"Clique\", \"@clique\")]\n",
    "    # render the plot and add it to the list\n",
    "    plot_list.append(render_plot(G, title, hover, node_size=nodeSize, node_color='highlight'))\n",
    "\n",
    "# now we know the length of the list, define how many columns we want, make our grid, and finally show it.\n",
    "columns = int(len(plot_list) / 2)\n",
    "grid = gridplot(plot_list, ncols=columns)\n",
    "show(grid)"
   ]
  },
  {
   "cell_type": "markdown",
   "id": "738da507-526e-444c-80cc-96738490ce5a",
   "metadata": {},
   "source": [
    "### Step 7: Clean up everything. \n",
    "\n",
    "Make sure we know what tables we created, drop them, and close our connection.\n",
    "(This is probably overkill, since everything in this session is ephemeral anyway, but good practice nonetheless."
   ]
  },
  {
   "cell_type": "code",
   "execution_count": null,
   "id": "68a2b3b6-e0a9-480c-8292-5d444675f2d9",
   "metadata": {
    "ExecuteTime": {
     "end_time": "2021-10-22T15:15:03.889781Z",
     "start_time": "2021-10-22T15:15:03.556553Z"
    }
   },
   "outputs": [],
   "source": [
    "conn.tableinfo()"
   ]
  },
  {
   "cell_type": "code",
   "execution_count": null,
   "id": "7f7cf035",
   "metadata": {
    "ExecuteTime": {
     "end_time": "2021-10-22T15:15:09.266331Z",
     "start_time": "2021-10-22T15:15:09.114086Z"
    }
   },
   "outputs": [],
   "source": [
    "conn.droptable(name='LinkSetIn', quiet=True)\n",
    "conn.droptable(name='nodeSetOut', quiet=True)\n",
    "conn.droptable(name='cliques', quiet=True)\n",
    "conn.droptable(name='cliqueSizes', quiet=True)"
   ]
  },
  {
   "cell_type": "code",
   "execution_count": null,
   "id": "469d90d2",
   "metadata": {
    "ExecuteTime": {
     "end_time": "2021-10-22T15:15:11.525708Z",
     "start_time": "2021-10-22T15:15:11.521121Z"
    }
   },
   "outputs": [],
   "source": [
    "conn.close()"
   ]
  }
 ],
 "metadata": {
  "kernelspec": {
   "display_name": "Python 3 (ipykernel)",
   "language": "python",
   "name": "python3"
  },
  "language_info": {
   "codemirror_mode": {
    "name": "ipython",
    "version": 3
   },
   "file_extension": ".py",
   "mimetype": "text/x-python",
   "name": "python",
   "nbconvert_exporter": "python",
   "pygments_lexer": "ipython3",
   "version": "3.8.12"
  },
  "toc": {
   "base_numbering": 1,
   "nav_menu": {},
   "number_sections": true,
   "sideBar": true,
   "skip_h1_title": false,
   "title_cell": "Table of Contents",
   "title_sidebar": "Contents",
   "toc_cell": false,
   "toc_position": {},
   "toc_section_display": true,
   "toc_window_display": false
  }
 },
 "nbformat": 4,
 "nbformat_minor": 5
}
